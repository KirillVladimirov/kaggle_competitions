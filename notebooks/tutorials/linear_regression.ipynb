{
 "cells": [
  {
   "cell_type": "code",
   "execution_count": 53,
   "metadata": {},
   "outputs": [],
   "source": [
    "import torch\n",
    "from torch.nn import Linear\n",
    "import torch.nn as nn\n",
    "import matplotlib.pyplot as plt\n",
    "import numpy as np"
   ]
  },
  {
   "cell_type": "code",
   "execution_count": 2,
   "metadata": {},
   "outputs": [],
   "source": [
    "w = torch.tensor(3.0, requires_grad=True)\n",
    "b = torch.tensor(1.0, requires_grad=True)"
   ]
  },
  {
   "cell_type": "code",
   "execution_count": 3,
   "metadata": {},
   "outputs": [],
   "source": [
    "def forward(x):\n",
    "    y = w*x + b\n",
    "    return y"
   ]
  },
  {
   "cell_type": "code",
   "execution_count": 6,
   "metadata": {},
   "outputs": [],
   "source": [
    "x = torch.tensor([[4], [7]])"
   ]
  },
  {
   "cell_type": "code",
   "execution_count": 7,
   "metadata": {},
   "outputs": [
    {
     "data": {
      "text/plain": [
       "tensor([[13.],\n",
       "        [22.]], grad_fn=<AddBackward0>)"
      ]
     },
     "execution_count": 7,
     "metadata": {},
     "output_type": "execute_result"
    }
   ],
   "source": [
    "forward(x)"
   ]
  },
  {
   "cell_type": "code",
   "execution_count": null,
   "metadata": {},
   "outputs": [],
   "source": []
  },
  {
   "cell_type": "code",
   "execution_count": 9,
   "metadata": {},
   "outputs": [
    {
     "data": {
      "text/plain": [
       "<torch._C.Generator at 0x126eebcf0>"
      ]
     },
     "execution_count": 9,
     "metadata": {},
     "output_type": "execute_result"
    }
   ],
   "source": [
    "torch.manual_seed(42)"
   ]
  },
  {
   "cell_type": "code",
   "execution_count": 10,
   "metadata": {},
   "outputs": [],
   "source": [
    "model = Linear(in_features=1, out_features=1)"
   ]
  },
  {
   "cell_type": "code",
   "execution_count": 11,
   "metadata": {},
   "outputs": [
    {
     "data": {
      "text/plain": [
       "(Parameter containing:\n",
       " tensor([0.8300], requires_grad=True), Parameter containing:\n",
       " tensor([[0.7645]], requires_grad=True))"
      ]
     },
     "execution_count": 11,
     "metadata": {},
     "output_type": "execute_result"
    }
   ],
   "source": [
    "model.bias, model.weight"
   ]
  },
  {
   "cell_type": "code",
   "execution_count": null,
   "metadata": {},
   "outputs": [],
   "source": []
  },
  {
   "cell_type": "code",
   "execution_count": 12,
   "metadata": {},
   "outputs": [],
   "source": [
    "x = torch.tensor([2.0])"
   ]
  },
  {
   "cell_type": "code",
   "execution_count": 13,
   "metadata": {},
   "outputs": [
    {
     "data": {
      "text/plain": [
       "tensor([2.3591], grad_fn=<AddBackward0>)"
      ]
     },
     "execution_count": 13,
     "metadata": {},
     "output_type": "execute_result"
    }
   ],
   "source": [
    "model(x)"
   ]
  },
  {
   "cell_type": "code",
   "execution_count": null,
   "metadata": {},
   "outputs": [],
   "source": []
  },
  {
   "cell_type": "code",
   "execution_count": 15,
   "metadata": {},
   "outputs": [
    {
     "data": {
      "text/plain": [
       "tensor([[3.8882],\n",
       "        [6.1818]], grad_fn=<AddmmBackward>)"
      ]
     },
     "execution_count": 15,
     "metadata": {},
     "output_type": "execute_result"
    }
   ],
   "source": [
    "x = torch.tensor([[4.], [7.]])\n",
    "model(x)"
   ]
  },
  {
   "cell_type": "code",
   "execution_count": null,
   "metadata": {},
   "outputs": [],
   "source": []
  },
  {
   "cell_type": "code",
   "execution_count": null,
   "metadata": {},
   "outputs": [],
   "source": []
  },
  {
   "cell_type": "code",
   "execution_count": 80,
   "metadata": {},
   "outputs": [],
   "source": [
    "class LR(nn.Module):\n",
    "    def __init__(self, input_size, output_size):\n",
    "        super(LR, self).__init__()\n",
    "        self.linear = Linear(in_features=input_size, out_features=output_size)\n",
    "    \n",
    "    def forward(self, x):\n",
    "        y_hat = self.linear(x)\n",
    "        return y_hat\n",
    "    "
   ]
  },
  {
   "cell_type": "code",
   "execution_count": 59,
   "metadata": {},
   "outputs": [],
   "source": [
    "torch.manual_seed(1)\n",
    "model = LR(1, 1)"
   ]
  },
  {
   "cell_type": "code",
   "execution_count": 60,
   "metadata": {},
   "outputs": [
    {
     "data": {
      "text/plain": [
       "[Parameter containing:\n",
       " tensor([[0.5153]], requires_grad=True), Parameter containing:\n",
       " tensor([-0.4414], requires_grad=True)]"
      ]
     },
     "execution_count": 60,
     "metadata": {},
     "output_type": "execute_result"
    }
   ],
   "source": [
    "list(model.parameters())"
   ]
  },
  {
   "cell_type": "code",
   "execution_count": 61,
   "metadata": {},
   "outputs": [
    {
     "data": {
      "text/plain": [
       "tensor([[1.6197],\n",
       "        [3.1655]], grad_fn=<AddmmBackward>)"
      ]
     },
     "execution_count": 61,
     "metadata": {},
     "output_type": "execute_result"
    }
   ],
   "source": [
    "model.forward(x)"
   ]
  },
  {
   "cell_type": "code",
   "execution_count": null,
   "metadata": {},
   "outputs": [],
   "source": []
  },
  {
   "cell_type": "code",
   "execution_count": 79,
   "metadata": {},
   "outputs": [],
   "source": [
    "X = torch.randn(100, 1)*10\n",
    "y = X + torch.randn(100, 1)*3 + 4"
   ]
  },
  {
   "cell_type": "code",
   "execution_count": 81,
   "metadata": {},
   "outputs": [
    {
     "data": {
      "text/plain": [
       "torch.Size([100, 1])"
      ]
     },
     "execution_count": 81,
     "metadata": {},
     "output_type": "execute_result"
    }
   ],
   "source": [
    "X.size()"
   ]
  },
  {
   "cell_type": "code",
   "execution_count": 82,
   "metadata": {},
   "outputs": [
    {
     "data": {
      "text/plain": [
       "[<matplotlib.lines.Line2D at 0x12e7e8310>]"
      ]
     },
     "execution_count": 82,
     "metadata": {},
     "output_type": "execute_result"
    },
    {
     "data": {
      "image/png": "[encoded data removed]",
      "text/plain": [
       "<Figure size 432x288 with 1 Axes>"
      ]
     },
     "metadata": {
      "needs_background": "light"
     },
     "output_type": "display_data"
    }
   ],
   "source": [
    "plt.plot(X.numpy(), y.numpy(), 'o')"
   ]
  },
  {
   "cell_type": "code",
   "execution_count": 83,
   "metadata": {},
   "outputs": [],
   "source": [
    "torch.manual_seed(42)\n",
    "model = LR(1, 1)"
   ]
  },
  {
   "cell_type": "code",
   "execution_count": 84,
   "metadata": {},
   "outputs": [
    {
     "data": {
      "text/plain": [
       "LR(\n",
       "  (linear): Linear(in_features=1, out_features=1, bias=True)\n",
       ")"
      ]
     },
     "execution_count": 84,
     "metadata": {},
     "output_type": "execute_result"
    }
   ],
   "source": [
    "model"
   ]
  },
  {
   "cell_type": "code",
   "execution_count": null,
   "metadata": {},
   "outputs": [],
   "source": []
  },
  {
   "cell_type": "code",
   "execution_count": 85,
   "metadata": {},
   "outputs": [],
   "source": [
    "def get_params():\n",
    "    [w, b] = model.parameters()\n",
    "    return w[0][0].item(), b[0].item()\n",
    "\n",
    "def plot_fit(title):\n",
    "    plt.title = title\n",
    "    w1, b1 = get_params()\n",
    "    x1 = np.array([-30, 30])\n",
    "    y1 = w1*x1 + b1\n",
    "    plt.plot(x1, y1, 'r')\n",
    "    plt.scatter(X, y)\n",
    "    plt.show()\n",
    "    "
   ]
  },
  {
   "cell_type": "code",
   "execution_count": 86,
   "metadata": {},
   "outputs": [
    {
     "data": {
      "image/png": "[encoded data removed]",
      "text/plain": [
       "<Figure size 432x288 with 1 Axes>"
      ]
     },
     "metadata": {
      "needs_background": "light"
     },
     "output_type": "display_data"
    }
   ],
   "source": [
    "plot_fit(\"Initial model\")"
   ]
  },
  {
   "cell_type": "code",
   "execution_count": 87,
   "metadata": {},
   "outputs": [],
   "source": [
    "criterian = nn.MSELoss()"
   ]
  },
  {
   "cell_type": "code",
   "execution_count": 88,
   "metadata": {},
   "outputs": [],
   "source": [
    "optimizer = torch.optim.SGD(model.parameters(), lr=0.01)"
   ]
  },
  {
   "cell_type": "code",
   "execution_count": 89,
   "metadata": {},
   "outputs": [],
   "source": [
    "epochs = 100"
   ]
  },
  {
   "cell_type": "code",
   "execution_count": 90,
   "metadata": {},
   "outputs": [
    {
     "name": "stdout",
     "output_type": "stream",
     "text": [
      "epoch: 0, loss: 21.599365234375\n",
      "epoch: 1, loss: 19.164339065551758\n",
      "epoch: 2, loss: 17.5546817779541\n",
      "epoch: 3, loss: 16.448509216308594\n",
      "epoch: 4, loss: 15.65141487121582\n",
      "epoch: 5, loss: 15.045916557312012\n",
      "epoch: 6, loss: 14.56093692779541\n",
      "epoch: 7, loss: 14.153402328491211\n",
      "epoch: 8, loss: 13.797136306762695\n",
      "epoch: 9, loss: 13.476174354553223\n",
      "epoch: 10, loss: 13.180706024169922\n",
      "epoch: 11, loss: 12.904650688171387\n",
      "epoch: 12, loss: 12.644180297851562\n",
      "epoch: 13, loss: 12.396830558776855\n",
      "epoch: 14, loss: 12.160968780517578\n",
      "epoch: 15, loss: 11.935468673706055\n",
      "epoch: 16, loss: 11.719512939453125\n",
      "epoch: 17, loss: 11.512481689453125\n",
      "epoch: 18, loss: 11.313871383666992\n",
      "epoch: 19, loss: 11.123261451721191\n",
      "epoch: 20, loss: 10.94028091430664\n",
      "epoch: 21, loss: 10.764595031738281\n",
      "epoch: 22, loss: 10.595895767211914\n",
      "epoch: 23, loss: 10.433894157409668\n",
      "epoch: 24, loss: 10.278319358825684\n",
      "epoch: 25, loss: 10.128911018371582\n",
      "epoch: 26, loss: 9.985422134399414\n",
      "epoch: 27, loss: 9.847618103027344\n",
      "epoch: 28, loss: 9.71527099609375\n",
      "epoch: 29, loss: 9.588167190551758\n",
      "epoch: 30, loss: 9.466095924377441\n",
      "epoch: 31, loss: 9.348858833312988\n",
      "epoch: 32, loss: 9.236263275146484\n",
      "epoch: 33, loss: 9.128127098083496\n",
      "epoch: 34, loss: 9.024272918701172\n",
      "epoch: 35, loss: 8.924530982971191\n",
      "epoch: 36, loss: 8.828739166259766\n",
      "epoch: 37, loss: 8.736740112304688\n",
      "epoch: 38, loss: 8.648383140563965\n",
      "epoch: 39, loss: 8.563526153564453\n",
      "epoch: 40, loss: 8.48202896118164\n",
      "epoch: 41, loss: 8.40375804901123\n",
      "epoch: 42, loss: 8.328587532043457\n",
      "epoch: 43, loss: 8.256393432617188\n",
      "epoch: 44, loss: 8.187058448791504\n",
      "epoch: 45, loss: 8.120469093322754\n",
      "epoch: 46, loss: 8.05651569366455\n",
      "epoch: 47, loss: 7.9950947761535645\n",
      "epoch: 48, loss: 7.936105728149414\n",
      "epoch: 49, loss: 7.879453182220459\n",
      "epoch: 50, loss: 7.825043201446533\n",
      "epoch: 51, loss: 7.772788047790527\n",
      "epoch: 52, loss: 7.722602367401123\n",
      "epoch: 53, loss: 7.674404144287109\n",
      "epoch: 54, loss: 7.628113746643066\n",
      "epoch: 55, loss: 7.5836567878723145\n",
      "epoch: 56, loss: 7.54095983505249\n",
      "epoch: 57, loss: 7.4999542236328125\n",
      "epoch: 58, loss: 7.460571765899658\n",
      "epoch: 59, loss: 7.422749042510986\n",
      "epoch: 60, loss: 7.3864240646362305\n",
      "epoch: 61, loss: 7.351536750793457\n",
      "epoch: 62, loss: 7.318032264709473\n",
      "epoch: 63, loss: 7.285852909088135\n",
      "epoch: 64, loss: 7.254948616027832\n",
      "epoch: 65, loss: 7.2252678871154785\n",
      "epoch: 66, loss: 7.196763038635254\n",
      "epoch: 67, loss: 7.16938591003418\n",
      "epoch: 68, loss: 7.143093585968018\n",
      "epoch: 69, loss: 7.117842197418213\n",
      "epoch: 70, loss: 7.09359073638916\n",
      "epoch: 71, loss: 7.07029914855957\n",
      "epoch: 72, loss: 7.0479302406311035\n",
      "epoch: 73, loss: 7.02644681930542\n",
      "epoch: 74, loss: 7.005814552307129\n",
      "epoch: 75, loss: 6.98599910736084\n",
      "epoch: 76, loss: 6.966968059539795\n",
      "epoch: 77, loss: 6.948690414428711\n",
      "epoch: 78, loss: 6.931137561798096\n",
      "epoch: 79, loss: 6.914278984069824\n",
      "epoch: 80, loss: 6.898087501525879\n",
      "epoch: 81, loss: 6.882537841796875\n",
      "epoch: 82, loss: 6.867603778839111\n",
      "epoch: 83, loss: 6.853261470794678\n",
      "epoch: 84, loss: 6.839486598968506\n",
      "epoch: 85, loss: 6.826257228851318\n",
      "epoch: 86, loss: 6.813551902770996\n",
      "epoch: 87, loss: 6.801349639892578\n",
      "epoch: 88, loss: 6.789629936218262\n",
      "epoch: 89, loss: 6.778375625610352\n",
      "epoch: 90, loss: 6.767565727233887\n",
      "epoch: 91, loss: 6.7571845054626465\n",
      "epoch: 92, loss: 6.747213840484619\n",
      "epoch: 93, loss: 6.737638473510742\n",
      "epoch: 94, loss: 6.728442192077637\n",
      "epoch: 95, loss: 6.71960973739624\n",
      "epoch: 96, loss: 6.711127281188965\n",
      "epoch: 97, loss: 6.702980995178223\n",
      "epoch: 98, loss: 6.695156574249268\n",
      "epoch: 99, loss: 6.6876420974731445\n"
     ]
    }
   ],
   "source": [
    "losses = []\n",
    "for i in range(epochs):\n",
    "    y_hat = model.forward(X)\n",
    "    loss = criterian(y_hat, y)\n",
    "    print(f\"epoch: {i}, loss: {loss.item()}\")\n",
    "    losses.append(loss)\n",
    "    optimizer.zero_grad()\n",
    "    loss.backward()\n",
    "    optimizer.step()"
   ]
  },
  {
   "cell_type": "code",
   "execution_count": 91,
   "metadata": {},
   "outputs": [
    {
     "data": {
      "text/plain": [
       "[<matplotlib.lines.Line2D at 0x12ee1f510>]"
      ]
     },
     "execution_count": 91,
     "metadata": {},
     "output_type": "execute_result"
    },
    {
     "data": {
      "image/png": "[encoded data removed]",
      "text/plain": [
       "<Figure size 432x288 with 1 Axes>"
      ]
     },
     "metadata": {
      "needs_background": "light"
     },
     "output_type": "display_data"
    }
   ],
   "source": [
    "plt.plot(range(epochs), losses)\n"
   ]
  },
  {
   "cell_type": "code",
   "execution_count": 92,
   "metadata": {},
   "outputs": [
    {
     "data": {
      "image/png": "[encoded data removed]",
      "text/plain": [
       "<Figure size 432x288 with 1 Axes>"
      ]
     },
     "metadata": {
      "needs_background": "light"
     },
     "output_type": "display_data"
    }
   ],
   "source": [
    "plot_fit(\"Training model\")"
   ]
  },
  {
   "cell_type": "code",
   "execution_count": null,
   "metadata": {},
   "outputs": [],
   "source": []
  },
  {
   "cell_type": "code",
   "execution_count": null,
   "metadata": {},
   "outputs": [],
   "source": []
  },
  {
   "cell_type": "code",
   "execution_count": null,
   "metadata": {},
   "outputs": [],
   "source": []
  },
  {
   "cell_type": "code",
   "execution_count": null,
   "metadata": {},
   "outputs": [],
   "source": []
  },
  {
   "cell_type": "code",
   "execution_count": null,
   "metadata": {},
   "outputs": [],
   "source": []
  },
  {
   "cell_type": "code",
   "execution_count": null,
   "metadata": {},
   "outputs": [],
   "source": []
  },
  {
   "cell_type": "code",
   "execution_count": null,
   "metadata": {},
   "outputs": [],
   "source": []
  }
 ],
 "metadata": {
  "kernelspec": {
   "display_name": "Python 3",
   "language": "python",
   "name": "python3"
  },
  "language_info": {
   "codemirror_mode": {
    "name": "ipython",
    "version": 3
   },
   "file_extension": ".py",
   "mimetype": "text/x-python",
   "name": "python",
   "nbconvert_exporter": "python",
   "pygments_lexer": "ipython3",
   "version": "3.7.4"
  }
 },
 "nbformat": 4,
 "nbformat_minor": 4
}
