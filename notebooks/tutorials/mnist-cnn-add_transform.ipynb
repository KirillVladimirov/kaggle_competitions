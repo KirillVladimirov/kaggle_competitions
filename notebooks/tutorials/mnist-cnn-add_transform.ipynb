{
 "cells": [
  {
   "cell_type": "code",
   "execution_count": 1,
   "metadata": {},
   "outputs": [],
   "source": [
    "import torch\n",
    "from tqdm import tqdm\n",
    "import torch.nn.functional as F\n",
    "import torch.nn as nn\n",
    "from torchvision import datasets, transforms\n",
    "import numpy as np\n",
    "import matplotlib.pyplot as plt\n",
    "from torchsummary import summary\n",
    "import numbers\n",
    "\n",
    "from PIL import Image"
   ]
  },
  {
   "cell_type": "code",
   "execution_count": 2,
   "metadata": {},
   "outputs": [],
   "source": [
    "class RandomRotation:\n",
    "    def __init__(self, degrees, resample=False, expand=False, center=None):\n",
    "        if isinstance(degrees, numbers.Number):\n",
    "            if degrees < 0:\n",
    "                raise ValueError(\"If degrees is a single number, it must be positive.\")\n",
    "            self.degrees = (-degrees, degrees)\n",
    "        else:\n",
    "            if len(degrees) != 2:\n",
    "                raise ValueError(\"If degrees is a sequence, it must be of len 2.\")\n",
    "            self.degrees = degrees\n",
    "\n",
    "        self.resample = resample\n",
    "        self.expand = expand\n",
    "        self.center = center\n",
    "\n",
    "    @staticmethod\n",
    "    def get_params(degrees):\n",
    "        angle = np.random.uniform(degrees[0], degrees[1])\n",
    "        return angle\n",
    "\n",
    "    def __call__(self, img):        \n",
    "        def rotate(img, angle, resample=False, expand=False, center=None):\n",
    "            return img.rotate(angle, resample, expand, center)\n",
    "\n",
    "        angle = self.get_params(self.degrees)\n",
    "        return rotate(img, angle, self.resample, self.expand, self.center)"
   ]
  },
  {
   "cell_type": "code",
   "execution_count": 3,
   "metadata": {},
   "outputs": [],
   "source": [
    "class RandomShift(object):\n",
    "    def __init__(self, shift):\n",
    "        self.shift = shift\n",
    "        \n",
    "    @staticmethod\n",
    "    def get_params(shift):\n",
    "        hshift, vshift = np.random.uniform(-shift, shift, size=2)\n",
    "        return hshift, vshift \n",
    "    \n",
    "    def __call__(self, img):\n",
    "        hshift, vshift = self.get_params(self.shift)\n",
    "        return img.transform(img.size, Image.AFFINE, (1,0,hshift,0,1,vshift), resample=Image.BICUBIC, fill=1)"
   ]
  },
  {
   "cell_type": "code",
   "execution_count": 4,
   "metadata": {},
   "outputs": [],
   "source": [
    "training_dataset = datasets.MNIST(root='data', train=True, download=True, transform=transforms.Compose([\n",
    "    RandomRotation(degrees=20), \n",
    "    RandomShift(3),\n",
    "    transforms.ToTensor(), \n",
    "    transforms.Normalize(mean=(0.5,), std=(0.5,))\n",
    "]))\n",
    "\n",
    "validation_dataset = datasets.MNIST(root='data', train=False, download=True, transform=transforms.Compose([\n",
    "    transforms.ToTensor(), \n",
    "    transforms.Normalize(mean=(0.5,), std=(0.5,))\n",
    "]))"
   ]
  },
  {
   "cell_type": "code",
   "execution_count": 5,
   "metadata": {},
   "outputs": [
    {
     "data": {
      "text/plain": [
       "(Dataset MNIST\n",
       "     Number of datapoints: 60000\n",
       "     Root location: data\n",
       "     Split: Train\n",
       "     StandardTransform\n",
       " Transform: Compose(\n",
       "                <__main__.RandomRotation object at 0x1222712d0>\n",
       "                <__main__.RandomShift object at 0x122271310>\n",
       "                ToTensor()\n",
       "                Normalize(mean=(0.5,), std=(0.5,))\n",
       "            ), Dataset MNIST\n",
       "     Number of datapoints: 10000\n",
       "     Root location: data\n",
       "     Split: Test\n",
       "     StandardTransform\n",
       " Transform: Compose(\n",
       "                ToTensor()\n",
       "                Normalize(mean=(0.5,), std=(0.5,))\n",
       "            ))"
      ]
     },
     "execution_count": 5,
     "metadata": {},
     "output_type": "execute_result"
    }
   ],
   "source": [
    "training_dataset, validation_dataset"
   ]
  },
  {
   "cell_type": "code",
   "execution_count": 6,
   "metadata": {},
   "outputs": [],
   "source": [
    "training_loader = torch.utils.data.DataLoader(dataset=training_dataset, batch_size=100, shuffle=True)\n",
    "validation_loader = torch.utils.data.DataLoader(dataset=validation_dataset, batch_size=100, shuffle=True)"
   ]
  },
  {
   "cell_type": "code",
   "execution_count": 7,
   "metadata": {},
   "outputs": [],
   "source": [
    "class Model(nn.Module):\n",
    "    \n",
    "    def __init__(self):\n",
    "        super().__init__()\n",
    "        self.conv1 = nn.Conv2d(1, 20, 5, 1)\n",
    "        self.conv2 = nn.Conv2d(20, 50, 5, 1)\n",
    "        self.fc1 = nn.Linear(4*4*50, 500)\n",
    "        self.dropout1 = nn.Dropout(0.5)\n",
    "        self.fc2 = nn.Linear(500, 10)\n",
    "    \n",
    "    def forward(self, x):\n",
    "        x = F.relu(self.conv1(x))\n",
    "        x = F.max_pool2d(x, 2, 2)\n",
    "        x = F.relu(self.conv2(x))\n",
    "        x = F.max_pool2d(x, 2, 2)\n",
    "        x = x.view(-1, 4*4*50)\n",
    "        x = F.relu(self.fc1(x))\n",
    "        x = self.dropout1(x)\n",
    "        x = self.fc2(x)\n",
    "        return x\n",
    "    "
   ]
  },
  {
   "cell_type": "code",
   "execution_count": 8,
   "metadata": {},
   "outputs": [
    {
     "data": {
      "text/plain": [
       "Model(\n",
       "  (conv1): Conv2d(1, 20, kernel_size=(5, 5), stride=(1, 1))\n",
       "  (conv2): Conv2d(20, 50, kernel_size=(5, 5), stride=(1, 1))\n",
       "  (fc1): Linear(in_features=800, out_features=500, bias=True)\n",
       "  (dropout1): Dropout(p=0.5, inplace=False)\n",
       "  (fc2): Linear(in_features=500, out_features=10, bias=True)\n",
       ")"
      ]
     },
     "execution_count": 8,
     "metadata": {},
     "output_type": "execute_result"
    }
   ],
   "source": [
    "model = Model()\n",
    "model"
   ]
  },
  {
   "cell_type": "code",
   "execution_count": 9,
   "metadata": {},
   "outputs": [],
   "source": [
    "criterion = nn.CrossEntropyLoss()\n",
    "optimizer = torch.optim.Adam(model.parameters(), lr = 0.0001)"
   ]
  },
  {
   "cell_type": "code",
   "execution_count": 10,
   "metadata": {},
   "outputs": [
    {
     "name": "stdout",
     "output_type": "stream",
     "text": [
      "epoch : 1\n",
      "training loss: 1.0947, acc 65.1950 \n",
      "validation loss: 0.2193, validation acc 94.2200 \n",
      "epoch : 2\n",
      "training loss: 0.3931, acc 88.1300 \n",
      "validation loss: 0.1180, validation acc 96.8400 \n",
      "epoch : 3\n",
      "training loss: 0.2679, acc 92.1067 \n",
      "validation loss: 0.0922, validation acc 97.3300 \n",
      "epoch : 4\n",
      "training loss: 0.2145, acc 93.4033 \n",
      "validation loss: 0.0722, validation acc 97.8900 \n",
      "epoch : 5\n",
      "training loss: 0.1770, acc 94.7267 \n",
      "validation loss: 0.0658, validation acc 98.0100 \n",
      "epoch : 6\n",
      "training loss: 0.1529, acc 95.3967 \n",
      "validation loss: 0.0560, validation acc 98.2500 \n",
      "epoch : 7\n",
      "training loss: 0.1379, acc 95.8517 \n",
      "validation loss: 0.0504, validation acc 98.4100 \n",
      "epoch : 8\n",
      "training loss: 0.1278, acc 96.1383 \n",
      "validation loss: 0.0476, validation acc 98.3900 \n",
      "epoch : 9\n",
      "training loss: 0.1158, acc 96.4167 \n",
      "validation loss: 0.0477, validation acc 98.5100 \n",
      "epoch : 10\n",
      "training loss: 0.1082, acc 96.6667 \n",
      "validation loss: 0.0422, validation acc 98.6800 \n",
      "epoch : 11\n",
      "training loss: 0.1017, acc 96.9017 \n",
      "validation loss: 0.0396, validation acc 98.7300 \n",
      "epoch : 12\n",
      "training loss: 0.0948, acc 97.1217 \n",
      "validation loss: 0.0383, validation acc 98.8400 \n",
      "epoch : 13\n",
      "training loss: 0.0891, acc 97.3050 \n",
      "validation loss: 0.0377, validation acc 98.8400 \n",
      "epoch : 14\n",
      "training loss: 0.0860, acc 97.3100 \n",
      "validation loss: 0.0354, validation acc 98.7700 \n",
      "epoch : 15\n",
      "training loss: 0.0830, acc 97.4683 \n",
      "validation loss: 0.0342, validation acc 98.8300 \n",
      "epoch : 16\n",
      "training loss: 0.0818, acc 97.4683 \n",
      "validation loss: 0.0330, validation acc 99.0100 \n",
      "epoch : 17\n",
      "training loss: 0.0744, acc 97.6483 \n",
      "validation loss: 0.0309, validation acc 98.9400 \n",
      "epoch : 18\n",
      "training loss: 0.0737, acc 97.6850 \n",
      "validation loss: 0.0306, validation acc 98.9100 \n",
      "epoch : 19\n",
      "training loss: 0.0722, acc 97.7833 \n",
      "validation loss: 0.0291, validation acc 99.1100 \n",
      "epoch : 20\n",
      "training loss: 0.0692, acc 97.8833 \n",
      "validation loss: 0.0288, validation acc 99.0100 \n",
      "epoch : 21\n",
      "training loss: 0.0662, acc 97.9983 \n",
      "validation loss: 0.0280, validation acc 99.1000 \n",
      "epoch : 22\n",
      "training loss: 0.0632, acc 98.0083 \n",
      "validation loss: 0.0274, validation acc 99.0700 \n",
      "epoch : 23\n",
      "training loss: 0.0613, acc 98.1800 \n",
      "validation loss: 0.0283, validation acc 99.1000 \n",
      "epoch : 24\n",
      "training loss: 0.0619, acc 98.0567 \n",
      "validation loss: 0.0285, validation acc 99.1000 \n",
      "epoch : 25\n",
      "training loss: 0.0609, acc 98.0883 \n",
      "validation loss: 0.0291, validation acc 99.1200 \n",
      "CPU times: user 2h 38min 44s, sys: 3min 58s, total: 2h 42min 42s\n",
      "Wall time: 26min 8s\n"
     ]
    }
   ],
   "source": [
    "%%time\n",
    "epochs = 25\n",
    "running_loss_history = []\n",
    "running_corrects_history = []\n",
    "val_running_loss_history = []\n",
    "val_running_corrects_history = []\n",
    " \n",
    "for e in range(epochs):\n",
    "  \n",
    "    running_loss = 0.0\n",
    "    running_corrects = 0.0\n",
    "    val_running_loss = 0.0\n",
    "    val_running_corrects = 0.0\n",
    "  \n",
    "    for inputs, labels in training_loader:\n",
    "        outputs = model(inputs)\n",
    "        loss = criterion(outputs, labels)\n",
    "    \n",
    "        optimizer.zero_grad()\n",
    "        loss.backward()\n",
    "        optimizer.step()\n",
    "\n",
    "        _, preds = torch.max(outputs, 1)\n",
    "        running_loss += loss.item()\n",
    "        running_corrects += torch.sum(preds == labels.data)\n",
    " \n",
    "    else:\n",
    "        with torch.no_grad():\n",
    "            for val_inputs, val_labels in validation_loader:\n",
    "                val_outputs = model(val_inputs)\n",
    "                val_loss = criterion(val_outputs, val_labels)\n",
    "        \n",
    "                _, val_preds = torch.max(val_outputs, 1)\n",
    "                val_running_loss += val_loss.item()\n",
    "                val_running_corrects += torch.sum(val_preds == val_labels.data)\n",
    "      \n",
    "        epoch_loss = running_loss/len(training_loader)\n",
    "        epoch_acc = running_corrects.float()/ len(training_loader)\n",
    "        running_loss_history.append(epoch_loss)\n",
    "        running_corrects_history.append(epoch_acc)\n",
    "\n",
    "        val_epoch_loss = val_running_loss/len(validation_loader)\n",
    "        val_epoch_acc = val_running_corrects.float()/ len(validation_loader)\n",
    "        val_running_loss_history.append(val_epoch_loss)\n",
    "        val_running_corrects_history.append(val_epoch_acc)\n",
    "        print('epoch :', (e+1))\n",
    "        print('training loss: {:.4f}, acc {:.4f} '.format(epoch_loss, epoch_acc.item()))\n",
    "        print('validation loss: {:.4f}, validation acc {:.4f} '.format(val_epoch_loss, val_epoch_acc.item()))"
   ]
  },
  {
   "cell_type": "code",
   "execution_count": 11,
   "metadata": {},
   "outputs": [
    {
     "data": {
      "text/plain": [
       "<matplotlib.legend.Legend at 0x121b86ed0>"
      ]
     },
     "execution_count": 11,
     "metadata": {},
     "output_type": "execute_result"
    },
    {
     "data": {
      "image/png": "[encoded data removed]",
      "text/plain": [
       "<Figure size 432x288 with 1 Axes>"
      ]
     },
     "metadata": {
      "needs_background": "light"
     },
     "output_type": "display_data"
    }
   ],
   "source": [
    "plt.plot(running_loss_history, label='training loss')\n",
    "plt.plot(val_running_loss_history, label='validation loss')\n",
    "plt.legend()"
   ]
  },
  {
   "cell_type": "code",
   "execution_count": 12,
   "metadata": {},
   "outputs": [
    {
     "data": {
      "text/plain": [
       "<matplotlib.legend.Legend at 0x1259ad450>"
      ]
     },
     "execution_count": 12,
     "metadata": {},
     "output_type": "execute_result"
    },
    {
     "data": {
      "image/png": "[encoded data removed]",
      "text/plain": [
       "<Figure size 432x288 with 1 Axes>"
      ]
     },
     "metadata": {
      "needs_background": "light"
     },
     "output_type": "display_data"
    }
   ],
   "source": [
    "plt.plot(running_corrects_history, label='training accuracy')\n",
    "plt.plot(val_running_corrects_history, label='validation accuracy')\n",
    "plt.legend()"
   ]
  },
  {
   "cell_type": "code",
   "execution_count": null,
   "metadata": {},
   "outputs": [],
   "source": []
  },
  {
   "cell_type": "code",
   "execution_count": null,
   "metadata": {},
   "outputs": [],
   "source": []
  }
 ],
 "metadata": {
  "kernelspec": {
   "display_name": "Python 3",
   "language": "python",
   "name": "python3"
  },
  "language_info": {
   "codemirror_mode": {
    "name": "ipython",
    "version": 3
   },
   "file_extension": ".py",
   "mimetype": "text/x-python",
   "name": "python",
   "nbconvert_exporter": "python",
   "pygments_lexer": "ipython3",
   "version": "3.7.4"
  }
 },
 "nbformat": 4,
 "nbformat_minor": 4
}
