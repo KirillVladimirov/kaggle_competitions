{
 "cells": [
  {
   "cell_type": "code",
   "execution_count": 234,
   "metadata": {},
   "outputs": [],
   "source": [
    "import torch\n",
    "from tqdm import tqdm\n",
    "import torch.nn.functional as F\n",
    "import torch.nn as nn\n",
    "from torchvision import datasets, transforms\n",
    "from torch.autograd import Variable\n",
    "import numpy as np\n",
    "import matplotlib.pyplot as plt\n",
    "from torchsummary import summary\n",
    "import numbers\n",
    "\n",
    "from PIL import Image\n",
    "import math\n"
   ]
  },
  {
   "cell_type": "code",
   "execution_count": 235,
   "metadata": {},
   "outputs": [],
   "source": [
    "class RandomRotation:\n",
    "    def __init__(self, degrees, resample=False, expand=False, center=None):\n",
    "        if isinstance(degrees, numbers.Number):\n",
    "            if degrees < 0:\n",
    "                raise ValueError(\"If degrees is a single number, it must be positive.\")\n",
    "            self.degrees = (-degrees, degrees)\n",
    "        else:\n",
    "            if len(degrees) != 2:\n",
    "                raise ValueError(\"If degrees is a sequence, it must be of len 2.\")\n",
    "            self.degrees = degrees\n",
    "\n",
    "        self.resample = resample\n",
    "        self.expand = expand\n",
    "        self.center = center\n",
    "\n",
    "    @staticmethod\n",
    "    def get_params(degrees):\n",
    "        angle = np.random.uniform(degrees[0], degrees[1])\n",
    "        return angle\n",
    "\n",
    "    def __call__(self, img):        \n",
    "        def rotate(img, angle, resample=False, expand=False, center=None):\n",
    "            return img.rotate(angle, resample, expand, center)\n",
    "\n",
    "        angle = self.get_params(self.degrees)\n",
    "        return rotate(img, angle, self.resample, self.expand, self.center)"
   ]
  },
  {
   "cell_type": "code",
   "execution_count": 236,
   "metadata": {},
   "outputs": [],
   "source": [
    "class RandomShift(object):\n",
    "    def __init__(self, shift):\n",
    "        self.shift = shift\n",
    "        \n",
    "    @staticmethod\n",
    "    def get_params(shift):\n",
    "        hshift, vshift = np.random.uniform(-shift, shift, size=2)\n",
    "        return hshift, vshift \n",
    "    \n",
    "    def __call__(self, img):\n",
    "        hshift, vshift = self.get_params(self.shift)\n",
    "        return img.transform(img.size, Image.AFFINE, (1,0,hshift,0,1,vshift), resample=Image.BICUBIC, fill=1)"
   ]
  },
  {
   "cell_type": "code",
   "execution_count": 237,
   "metadata": {},
   "outputs": [],
   "source": [
    "training_dataset = datasets.MNIST(root='data', train=True, download=True, transform=transforms.Compose([\n",
    "    RandomRotation(degrees=20), \n",
    "    RandomShift(3),\n",
    "    transforms.ToTensor(), \n",
    "    transforms.Normalize(mean=(0.5,), std=(0.5,))\n",
    "]))\n",
    "\n",
    "validation_dataset = datasets.MNIST(root='data', train=False, download=True, transform=transforms.Compose([\n",
    "    transforms.ToTensor(), \n",
    "    transforms.Normalize(mean=(0.5,), std=(0.5,))\n",
    "]))"
   ]
  },
  {
   "cell_type": "code",
   "execution_count": 238,
   "metadata": {},
   "outputs": [
    {
     "data": {
      "text/plain": [
       "(Dataset MNIST\n",
       "     Number of datapoints: 60000\n",
       "     Root location: data\n",
       "     Split: Train\n",
       "     StandardTransform\n",
       " Transform: Compose(\n",
       "                <__main__.RandomRotation object at 0x137214390>\n",
       "                <__main__.RandomShift object at 0x13d0d1c90>\n",
       "                ToTensor()\n",
       "                Normalize(mean=(0.5,), std=(0.5,))\n",
       "            ), Dataset MNIST\n",
       "     Number of datapoints: 10000\n",
       "     Root location: data\n",
       "     Split: Test\n",
       "     StandardTransform\n",
       " Transform: Compose(\n",
       "                ToTensor()\n",
       "                Normalize(mean=(0.5,), std=(0.5,))\n",
       "            ))"
      ]
     },
     "execution_count": 238,
     "metadata": {},
     "output_type": "execute_result"
    }
   ],
   "source": [
    "training_dataset, validation_dataset"
   ]
  },
  {
   "cell_type": "code",
   "execution_count": 239,
   "metadata": {},
   "outputs": [],
   "source": [
    "training_loader = torch.utils.data.DataLoader(dataset=training_dataset, batch_size=100, shuffle=True)\n",
    "validation_loader = torch.utils.data.DataLoader(dataset=validation_dataset, batch_size=100, shuffle=True)"
   ]
  },
  {
   "cell_type": "code",
   "execution_count": 12,
   "metadata": {},
   "outputs": [],
   "source": [
    "class Model(nn.Module):\n",
    "    \n",
    "    def __init__(self):\n",
    "        super().__init__()    \n",
    "        self.features1 = nn.Sequential(\n",
    "            nn.Conv2d(1, 20, 5, 1),        \n",
    "            nn.ReLU(),\n",
    "            nn.AvgPool2d(2, stride=2),  \n",
    "            nn.Conv2d(20, 50, 5, 1),\n",
    "            nn.BatchNorm2d(50)           \n",
    "        )\n",
    "        self.features2 = nn.Sequential(\n",
    "            nn.ReLU(),\n",
    "            nn.AvgPool2d(2, stride=2)  \n",
    "        )\n",
    "        self.classifier = nn.Sequential(\n",
    "            nn.Linear(4*4*50, 500),        \n",
    "            nn.ReLU(),\n",
    "            nn.Linear(500, 10)         \n",
    "        )\n",
    "    def forward(self, x):\n",
    "        x = self.features1(x)\n",
    "        x = self.features2(x)\n",
    "        x = x.view(x.size(0), -1)\n",
    "        x = self.classifier(x)\n",
    "        return x\n",
    "    "
   ]
  },
  {
   "cell_type": "code",
   "execution_count": 13,
   "metadata": {},
   "outputs": [
    {
     "data": {
      "text/plain": [
       "Model(\n",
       "  (features1): Sequential(\n",
       "    (0): Conv2d(1, 20, kernel_size=(5, 5), stride=(1, 1))\n",
       "    (1): ReLU()\n",
       "    (2): AvgPool2d(kernel_size=2, stride=2, padding=0)\n",
       "    (3): Conv2d(20, 50, kernel_size=(5, 5), stride=(1, 1))\n",
       "    (4): BatchNorm2d(50, eps=1e-05, momentum=0.1, affine=True, track_running_stats=True)\n",
       "  )\n",
       "  (features2): Sequential(\n",
       "    (0): ReLU()\n",
       "    (1): AvgPool2d(kernel_size=2, stride=2, padding=0)\n",
       "  )\n",
       "  (classifier): Sequential(\n",
       "    (0): Linear(in_features=800, out_features=500, bias=True)\n",
       "    (1): ReLU()\n",
       "    (2): Linear(in_features=500, out_features=10, bias=True)\n",
       "  )\n",
       ")"
      ]
     },
     "execution_count": 13,
     "metadata": {},
     "output_type": "execute_result"
    }
   ],
   "source": [
    "model = Model()\n",
    "model"
   ]
  },
  {
   "cell_type": "code",
   "execution_count": 14,
   "metadata": {},
   "outputs": [],
   "source": [
    "criterion = nn.CrossEntropyLoss()\n",
    "optimizer = torch.optim.Adam(model.parameters(), lr = 0.0001)"
   ]
  },
  {
   "cell_type": "code",
   "execution_count": 15,
   "metadata": {},
   "outputs": [
    {
     "name": "stdout",
     "output_type": "stream",
     "text": [
      "epoch : 1\n",
      "training loss: 0.6267, acc 82.7733 \n",
      "validation loss: 0.0912, validation acc 97.7700 \n",
      "epoch : 2\n",
      "training loss: 0.1883, acc 94.6567 \n",
      "validation loss: 0.0597, validation acc 98.4200 \n",
      "epoch : 3\n",
      "training loss: 0.1358, acc 96.0200 \n",
      "validation loss: 0.0476, validation acc 98.6700 \n",
      "epoch : 4\n",
      "training loss: 0.1150, acc 96.6183 \n",
      "validation loss: 0.0413, validation acc 98.7900 \n",
      "epoch : 5\n",
      "training loss: 0.0968, acc 97.0717 \n",
      "validation loss: 0.0363, validation acc 98.8500 \n",
      "epoch : 6\n",
      "training loss: 0.0893, acc 97.3083 \n",
      "validation loss: 0.0363, validation acc 98.9900 \n",
      "epoch : 7\n",
      "training loss: 0.0782, acc 97.6150 \n",
      "validation loss: 0.0368, validation acc 98.9300 \n",
      "epoch : 8\n",
      "training loss: 0.0722, acc 97.7883 \n",
      "validation loss: 0.0330, validation acc 98.9600 \n",
      "epoch : 9\n",
      "training loss: 0.0666, acc 97.9883 \n",
      "validation loss: 0.0271, validation acc 99.2100 \n",
      "epoch : 10\n",
      "training loss: 0.0638, acc 97.9967 \n",
      "validation loss: 0.0312, validation acc 99.0400 \n",
      "epoch : 11\n",
      "training loss: 0.0602, acc 98.1333 \n",
      "validation loss: 0.0288, validation acc 99.1000 \n",
      "epoch : 12\n",
      "training loss: 0.0572, acc 98.1917 \n",
      "validation loss: 0.0281, validation acc 99.1200 \n",
      "epoch : 13\n",
      "training loss: 0.0548, acc 98.3117 \n",
      "validation loss: 0.0269, validation acc 99.1400 \n",
      "epoch : 14\n",
      "training loss: 0.0533, acc 98.3367 \n",
      "validation loss: 0.0237, validation acc 99.2900 \n",
      "epoch : 15\n",
      "training loss: 0.0503, acc 98.4767 \n",
      "validation loss: 0.0274, validation acc 99.1000 \n",
      "epoch : 16\n",
      "training loss: 0.0483, acc 98.4700 \n",
      "validation loss: 0.0224, validation acc 99.2800 \n",
      "epoch : 17\n",
      "training loss: 0.0476, acc 98.5483 \n",
      "validation loss: 0.0220, validation acc 99.3300 \n",
      "epoch : 18\n",
      "training loss: 0.0459, acc 98.5983 \n",
      "validation loss: 0.0228, validation acc 99.2500 \n",
      "epoch : 19\n",
      "training loss: 0.0459, acc 98.5867 \n",
      "validation loss: 0.0201, validation acc 99.4300 \n",
      "epoch : 20\n",
      "training loss: 0.0433, acc 98.6350 \n",
      "validation loss: 0.0248, validation acc 99.1500 \n",
      "epoch : 21\n",
      "training loss: 0.0430, acc 98.6633 \n",
      "validation loss: 0.0197, validation acc 99.3900 \n",
      "epoch : 22\n",
      "training loss: 0.0412, acc 98.7033 \n",
      "validation loss: 0.0191, validation acc 99.3900 \n",
      "epoch : 23\n",
      "training loss: 0.0395, acc 98.7283 \n",
      "validation loss: 0.0189, validation acc 99.4300 \n",
      "epoch : 24\n",
      "training loss: 0.0395, acc 98.7783 \n",
      "validation loss: 0.0205, validation acc 99.3500 \n",
      "epoch : 25\n",
      "training loss: 0.0371, acc 98.8583 \n",
      "validation loss: 0.0200, validation acc 99.4000 \n",
      "CPU times: user 3h 24s, sys: 3min 33s, total: 3h 3min 57s\n",
      "Wall time: 28min 43s\n"
     ]
    }
   ],
   "source": [
    "%%time\n",
    "epochs = 25\n",
    "running_loss_history = []\n",
    "running_corrects_history = []\n",
    "val_running_loss_history = []\n",
    "val_running_corrects_history = []\n",
    " \n",
    "for e in range(epochs):\n",
    "  \n",
    "    running_loss = 0.0\n",
    "    running_corrects = 0.0\n",
    "    val_running_loss = 0.0\n",
    "    val_running_corrects = 0.0\n",
    "  \n",
    "    for inputs, labels in training_loader:\n",
    "        outputs = model(inputs)\n",
    "        loss = criterion(outputs, labels)\n",
    "    \n",
    "        optimizer.zero_grad()\n",
    "        loss.backward()\n",
    "        optimizer.step()\n",
    "\n",
    "        _, preds = torch.max(outputs, 1)\n",
    "        running_loss += loss.item()\n",
    "        running_corrects += torch.sum(preds == labels.data)\n",
    " \n",
    "    else:\n",
    "        with torch.no_grad():\n",
    "            for val_inputs, val_labels in validation_loader:\n",
    "                val_outputs = model(val_inputs)\n",
    "                val_loss = criterion(val_outputs, val_labels)\n",
    "        \n",
    "                _, val_preds = torch.max(val_outputs, 1)\n",
    "                val_running_loss += val_loss.item()\n",
    "                val_running_corrects += torch.sum(val_preds == val_labels.data)\n",
    "      \n",
    "        epoch_loss = running_loss/len(training_loader)\n",
    "        epoch_acc = running_corrects.float()/ len(training_loader)\n",
    "        running_loss_history.append(epoch_loss)\n",
    "        running_corrects_history.append(epoch_acc)\n",
    "\n",
    "        val_epoch_loss = val_running_loss/len(validation_loader)\n",
    "        val_epoch_acc = val_running_corrects.float()/ len(validation_loader)\n",
    "        val_running_loss_history.append(val_epoch_loss)\n",
    "        val_running_corrects_history.append(val_epoch_acc)\n",
    "        print('epoch :', (e+1))\n",
    "        print('training loss: {:.4f}, acc {:.4f} '.format(epoch_loss, epoch_acc.item()))\n",
    "        print('validation loss: {:.4f}, validation acc {:.4f} '.format(val_epoch_loss, val_epoch_acc.item()))"
   ]
  },
  {
   "cell_type": "code",
   "execution_count": 16,
   "metadata": {},
   "outputs": [
    {
     "data": {
      "text/plain": [
       "<matplotlib.legend.Legend at 0x12e25e690>"
      ]
     },
     "execution_count": 16,
     "metadata": {},
     "output_type": "execute_result"
    },
    {
     "data": {
      "image/png": "[encoded data removed]",
      "text/plain": [
       "<Figure size 432x288 with 1 Axes>"
      ]
     },
     "metadata": {
      "needs_background": "light"
     },
     "output_type": "display_data"
    }
   ],
   "source": [
    "plt.plot(running_loss_history, label='training loss')\n",
    "plt.plot(val_running_loss_history, label='validation loss')\n",
    "plt.legend()"
   ]
  },
  {
   "cell_type": "code",
   "execution_count": 17,
   "metadata": {},
   "outputs": [
    {
     "data": {
      "text/plain": [
       "<matplotlib.legend.Legend at 0x12e1d4bd0>"
      ]
     },
     "execution_count": 17,
     "metadata": {},
     "output_type": "execute_result"
    },
    {
     "data": {
      "image/png": "[encoded data removed]",
      "text/plain": [
       "<Figure size 432x288 with 1 Axes>"
      ]
     },
     "metadata": {
      "needs_background": "light"
     },
     "output_type": "display_data"
    }
   ],
   "source": [
    "plt.plot(running_corrects_history, label='training accuracy')\n",
    "plt.plot(val_running_corrects_history, label='validation accuracy')\n",
    "plt.legend()"
   ]
  },
  {
   "cell_type": "code",
   "execution_count": null,
   "metadata": {},
   "outputs": [],
   "source": []
  },
  {
   "cell_type": "code",
   "execution_count": null,
   "metadata": {},
   "outputs": [],
   "source": []
  },
  {
   "cell_type": "code",
   "execution_count": 65,
   "metadata": {},
   "outputs": [],
   "source": [
    "# Experiment parameters\n",
    "lr_find_epochs = 5\n",
    "start_lr = 1e-7\n",
    "end_lr = 0.9\n",
    "\n",
    "model = Model()\n",
    "\n",
    "criterion = nn.CrossEntropyLoss()\n",
    "optimizer = torch.optim.SGD(model.parameters(), lr = start_lr)\n",
    "\n",
    "# LR function lambda\n",
    "\n",
    "lr_lambda = lambda x: math.exp(x * math.log(end_lr / start_lr) / (lr_find_epochs * len(training_loader)))\n",
    "scheduler = torch.optim.lr_scheduler.LambdaLR(optimizer, lr_lambda)"
   ]
  },
  {
   "cell_type": "code",
   "execution_count": 66,
   "metadata": {},
   "outputs": [
    {
     "name": "stdout",
     "output_type": "stream",
     "text": [
      "epoch 0\n",
      "epoch 1\n",
      "epoch 2\n",
      "epoch 3\n",
      "epoch 4\n",
      "CPU times: user 33min 47s, sys: 51.3 s, total: 34min 38s\n",
      "Wall time: 5min 36s\n"
     ]
    }
   ],
   "source": [
    "%%time\n",
    "\n",
    "# Run the experiment \n",
    "\n",
    "lr_find_loss = []\n",
    "lr_find_lr = []\n",
    "\n",
    "iter = 0\n",
    "\n",
    "smoothing = 0.05\n",
    "\n",
    "for i in range(lr_find_epochs):\n",
    "    print(\"epoch {}\".format(i))\n",
    "    for inputs, labels in training_loader:\n",
    "\n",
    "        # Training mode and zero gradients\n",
    "        model.train()\n",
    "        optimizer.zero_grad()\n",
    "\n",
    "        # Get outputs to calc loss\n",
    "        outputs = model(inputs)\n",
    "        loss = criterion(outputs, labels)\n",
    "\n",
    "        # Backward pass\n",
    "        loss.backward()\n",
    "        optimizer.step()\n",
    "\n",
    "        # Update LR\n",
    "        scheduler.step()\n",
    "        lr_step = optimizer.state_dict()[\"param_groups\"][0][\"lr\"]\n",
    "        lr_find_lr.append(lr_step)\n",
    "\n",
    "        # smooth the loss\n",
    "        if iter==0:\n",
    "            lr_find_loss.append(loss)\n",
    "        else:\n",
    "            loss = smoothing  * loss + (1 - smoothing) * lr_find_loss[-1]\n",
    "            lr_find_loss.append(loss)\n",
    "     \n",
    "    iter += 1"
   ]
  },
  {
   "cell_type": "code",
   "execution_count": 67,
   "metadata": {},
   "outputs": [
    {
     "data": {
      "text/plain": [
       "3000"
      ]
     },
     "execution_count": 67,
     "metadata": {},
     "output_type": "execute_result"
    }
   ],
   "source": [
    "len(lr_find_loss)"
   ]
  },
  {
   "cell_type": "code",
   "execution_count": 77,
   "metadata": {},
   "outputs": [
    {
     "data": {
      "image/png": "[encoded data removed]",
      "text/plain": [
       "<Figure size 432x288 with 1 Axes>"
      ]
     },
     "metadata": {
      "needs_background": "light"
     },
     "output_type": "display_data"
    }
   ],
   "source": [
    "plt.ylabel(\"loss\")\n",
    "plt.xlabel(\"learning rate [log]\")\n",
    "plt.xscale(\"log\")\n",
    "axes = plt.gca()\n",
    "# axes.set_xlim([0.03/6, 0.03])\n",
    "# axes.set_ylim([ymin,ymax])\n",
    "plt.plot(lr_find_lr, lr_find_loss)\n",
    "plt.grid(True)\n",
    "plt.show()"
   ]
  },
  {
   "cell_type": "code",
   "execution_count": 69,
   "metadata": {},
   "outputs": [
    {
     "data": {
      "image/png": "[encoded data removed]",
      "text/plain": [
       "<Figure size 432x288 with 1 Axes>"
      ]
     },
     "metadata": {
      "needs_background": "light"
     },
     "output_type": "display_data"
    }
   ],
   "source": [
    "plt.ylabel(\"lr\")\n",
    "plt.xlabel(\"step\")\n",
    "# plt.yscale(\"log\")\n",
    "plt.plot(range(len(lr_find_lr)), lr_find_lr)\n",
    "plt.grid(True)\n",
    "plt.show()"
   ]
  },
  {
   "cell_type": "code",
   "execution_count": null,
   "metadata": {},
   "outputs": [],
   "source": []
  },
  {
   "cell_type": "code",
   "execution_count": 78,
   "metadata": {},
   "outputs": [],
   "source": [
    "def cyclical_lr(stepsize, min_lr=3e-4, max_lr=3e-3):\n",
    "\n",
    "    # Scaler: we can adapt this if we do not want the triangular CLR\n",
    "    scaler = lambda x: 1.\n",
    "\n",
    "    # Lambda function to calculate the LR\n",
    "    lr_lambda = lambda it: min_lr + (max_lr - min_lr) * relative(it, stepsize)\n",
    "\n",
    "    # Additional function to see where on the cycle we are\n",
    "    def relative(it, stepsize):\n",
    "        cycle = math.floor(1 + it / (2 * stepsize))\n",
    "        x = abs(it / stepsize - 2 * cycle + 1)\n",
    "        return max(0, (1 - x)) * scaler(cycle)\n",
    "\n",
    "    return lr_lambda"
   ]
  },
  {
   "cell_type": "code",
   "execution_count": null,
   "metadata": {},
   "outputs": [],
   "source": []
  },
  {
   "cell_type": "code",
   "execution_count": 79,
   "metadata": {},
   "outputs": [],
   "source": [
    "model = Model()\n",
    "end_lr = 0.03\n",
    "factor = 6\n",
    "criterion = nn.CrossEntropyLoss()\n",
    "optimizer = torch.optim.SGD(model.parameters(), lr=1.)\n",
    "step_size = 4*len(training_loader)\n",
    "clr = cyclical_lr(step_size, min_lr=end_lr/factor, max_lr=end_lr)\n",
    "scheduler = torch.optim.lr_scheduler.LambdaLR(optimizer, [clr])"
   ]
  },
  {
   "cell_type": "code",
   "execution_count": 80,
   "metadata": {},
   "outputs": [
    {
     "name": "stderr",
     "output_type": "stream",
     "text": [
      "/Users/kirillvladimirov/PycharmProjects/cv_projects/venv/lib/python3.7/site-packages/torch/optim/lr_scheduler.py:100: UserWarning: Detected call of `lr_scheduler.step()` before `optimizer.step()`. In PyTorch 1.1.0 and later, you should call them in the opposite order: `optimizer.step()` before `lr_scheduler.step()`.  Failure to do this will result in PyTorch skipping the first value of the learning rate schedule.See more details at https://pytorch.org/docs/stable/optim.html#how-to-adjust-learning-rate\n",
      "  \"https://pytorch.org/docs/stable/optim.html#how-to-adjust-learning-rate\", UserWarning)\n"
     ]
    },
    {
     "name": "stdout",
     "output_type": "stream",
     "text": [
      "epoch : 1\n",
      "training loss: 1.4361, acc 59.6283 \n",
      "validation loss: 0.3302, validation acc 94.3800 \n",
      "epoch : 2\n",
      "training loss: 0.4201, acc 88.6500 \n",
      "validation loss: 0.1112, validation acc 97.3900 \n",
      "epoch : 3\n",
      "training loss: 0.2251, acc 93.6250 \n",
      "validation loss: 0.0725, validation acc 98.2000 \n",
      "epoch : 4\n",
      "training loss: 0.1627, acc 95.2417 \n",
      "validation loss: 0.0535, validation acc 98.5300 \n",
      "epoch : 5\n",
      "training loss: 0.1270, acc 96.3267 \n",
      "validation loss: 0.0412, validation acc 98.7800 \n",
      "epoch : 6\n",
      "training loss: 0.1066, acc 96.8850 \n",
      "validation loss: 0.0371, validation acc 99.0600 \n",
      "epoch : 7\n",
      "training loss: 0.0929, acc 97.2383 \n",
      "validation loss: 0.0329, validation acc 99.1400 \n",
      "epoch : 8\n",
      "training loss: 0.0843, acc 97.4800 \n",
      "validation loss: 0.0311, validation acc 99.1300 \n",
      "epoch : 9\n",
      "training loss: 0.0824, acc 97.5800 \n",
      "validation loss: 0.0322, validation acc 99.1700 \n",
      "epoch : 10\n",
      "training loss: 0.0836, acc 97.4683 \n",
      "validation loss: 0.0347, validation acc 99.0100 \n",
      "epoch : 11\n",
      "training loss: 0.0816, acc 97.5917 \n",
      "validation loss: 0.0308, validation acc 99.1300 \n",
      "epoch : 12\n",
      "training loss: 0.0780, acc 97.5933 \n",
      "validation loss: 0.0392, validation acc 98.7800 \n",
      "epoch : 13\n",
      "training loss: 0.0744, acc 97.7350 \n",
      "validation loss: 0.0257, validation acc 99.2600 \n",
      "epoch : 14\n",
      "training loss: 0.0679, acc 97.9367 \n",
      "validation loss: 0.0253, validation acc 99.3400 \n",
      "epoch : 15\n",
      "training loss: 0.0593, acc 98.1950 \n",
      "validation loss: 0.0270, validation acc 99.1900 \n",
      "epoch : 16\n",
      "training loss: 0.0576, acc 98.2550 \n",
      "validation loss: 0.0241, validation acc 99.3200 \n",
      "epoch : 17\n",
      "training loss: 0.0573, acc 98.2583 \n",
      "validation loss: 0.0231, validation acc 99.3800 \n",
      "epoch : 18\n",
      "training loss: 0.0575, acc 98.2283 \n",
      "validation loss: 0.0262, validation acc 99.2700 \n",
      "epoch : 19\n",
      "training loss: 0.0598, acc 98.2333 \n",
      "validation loss: 0.0239, validation acc 99.2900 \n",
      "epoch : 20\n",
      "training loss: 0.0588, acc 98.2050 \n",
      "validation loss: 0.0362, validation acc 98.8300 \n",
      "epoch : 21\n",
      "training loss: 0.0575, acc 98.2550 \n",
      "validation loss: 0.0231, validation acc 99.2800 \n",
      "epoch : 22\n",
      "training loss: 0.0541, acc 98.3067 \n",
      "validation loss: 0.0256, validation acc 99.3200 \n",
      "epoch : 23\n",
      "training loss: 0.0494, acc 98.4833 \n",
      "validation loss: 0.0233, validation acc 99.3600 \n",
      "epoch : 24\n",
      "training loss: 0.0459, acc 98.5883 \n",
      "validation loss: 0.0207, validation acc 99.4300 \n",
      "epoch : 25\n",
      "training loss: 0.0454, acc 98.5883 \n",
      "validation loss: 0.0202, validation acc 99.4000 \n",
      "CPU times: user 2h 55min 30s, sys: 4min 13s, total: 2h 59min 43s\n",
      "Wall time: 29min 31s\n"
     ]
    }
   ],
   "source": [
    "%%time\n",
    "epochs = 25\n",
    "running_loss_history = []\n",
    "running_corrects_history = []\n",
    "val_running_loss_history = []\n",
    "val_running_corrects_history = []\n",
    " \n",
    "for e in range(epochs):\n",
    "  \n",
    "    running_loss = 0.0\n",
    "    running_corrects = 0.0\n",
    "    val_running_loss = 0.0\n",
    "    val_running_corrects = 0.0\n",
    "  \n",
    "    for inputs, labels in training_loader:\n",
    "        optimizer.zero_grad()\n",
    "        \n",
    "        outputs = model(inputs)\n",
    "        loss = criterion(outputs, labels)\n",
    "        \n",
    "        scheduler.step()\n",
    "        loss.backward()\n",
    "        optimizer.step()\n",
    "\n",
    "        _, preds = torch.max(outputs, 1)\n",
    "        running_loss += loss.item()\n",
    "        running_corrects += torch.sum(preds == labels.data)\n",
    " \n",
    "    else:\n",
    "        with torch.no_grad():\n",
    "            for val_inputs, val_labels in validation_loader:\n",
    "                val_outputs = model(val_inputs)\n",
    "                val_loss = criterion(val_outputs, val_labels)\n",
    "        \n",
    "                _, val_preds = torch.max(val_outputs, 1)\n",
    "                val_running_loss += val_loss.item()\n",
    "                val_running_corrects += torch.sum(val_preds == val_labels.data)\n",
    "      \n",
    "        epoch_loss = running_loss/len(training_loader)\n",
    "        epoch_acc = running_corrects.float()/ len(training_loader)\n",
    "        running_loss_history.append(epoch_loss)\n",
    "        running_corrects_history.append(epoch_acc)\n",
    "\n",
    "        val_epoch_loss = val_running_loss/len(validation_loader)\n",
    "        val_epoch_acc = val_running_corrects.float()/ len(validation_loader)\n",
    "        val_running_loss_history.append(val_epoch_loss)\n",
    "        val_running_corrects_history.append(val_epoch_acc)\n",
    "        print('epoch :', (e+1))\n",
    "        print('training loss: {:.4f}, acc {:.4f} '.format(epoch_loss, epoch_acc.item()))\n",
    "        print('validation loss: {:.4f}, validation acc {:.4f} '.format(val_epoch_loss, val_epoch_acc.item()))"
   ]
  },
  {
   "cell_type": "code",
   "execution_count": 83,
   "metadata": {},
   "outputs": [
    {
     "data": {
      "text/plain": [
       "<matplotlib.legend.Legend at 0x1365df990>"
      ]
     },
     "execution_count": 83,
     "metadata": {},
     "output_type": "execute_result"
    },
    {
     "data": {
      "image/png": "[encoded data removed]",
      "text/plain": [
       "<Figure size 432x288 with 1 Axes>"
      ]
     },
     "metadata": {
      "needs_background": "light"
     },
     "output_type": "display_data"
    }
   ],
   "source": [
    "plt.plot(running_loss_history, label='training loss')\n",
    "plt.plot(val_running_loss_history, label='validation loss')\n",
    "plt.legend()"
   ]
  },
  {
   "cell_type": "code",
   "execution_count": 84,
   "metadata": {},
   "outputs": [
    {
     "data": {
      "text/plain": [
       "<matplotlib.legend.Legend at 0x13663ed50>"
      ]
     },
     "execution_count": 84,
     "metadata": {},
     "output_type": "execute_result"
    },
    {
     "data": {
      "image/png": "[encoded data removed]",
      "text/plain": [
       "<Figure size 432x288 with 1 Axes>"
      ]
     },
     "metadata": {
      "needs_background": "light"
     },
     "output_type": "display_data"
    }
   ],
   "source": [
    "plt.plot(running_corrects_history, label='training accuracy')\n",
    "plt.plot(val_running_corrects_history, label='validation accuracy')\n",
    "plt.legend()"
   ]
  },
  {
   "cell_type": "code",
   "execution_count": null,
   "metadata": {},
   "outputs": [],
   "source": []
  },
  {
   "cell_type": "markdown",
   "metadata": {},
   "source": [
    "## Tutorial cnn"
   ]
  },
  {
   "cell_type": "markdown",
   "metadata": {},
   "source": [
    "https://github.com/yunjey/pytorch-tutorial/blob/master/tutorials/02-intermediate/convolutional_neural_network/main.py#L35-L56"
   ]
  },
  {
   "cell_type": "code",
   "execution_count": 241,
   "metadata": {},
   "outputs": [],
   "source": [
    "class ConvNet(nn.Module):\n",
    "    def __init__(self, num_classes=10):\n",
    "        super(ConvNet, self).__init__()\n",
    "        self.layer1 = nn.Sequential(\n",
    "            nn.Conv2d(1, 16, kernel_size=5, stride=1, padding=2),\n",
    "            nn.BatchNorm2d(16),\n",
    "            nn.ReLU(),\n",
    "            nn.MaxPool2d(kernel_size=2, stride=2))\n",
    "        self.layer2 = nn.Sequential(\n",
    "            nn.Conv2d(16, 32, kernel_size=5, stride=1, padding=2),\n",
    "            nn.BatchNorm2d(32),\n",
    "            nn.ReLU(),\n",
    "            nn.MaxPool2d(kernel_size=2, stride=2))\n",
    "        self.fc = nn.Linear(7*7*32, num_classes)\n",
    "        nn.init.xavier_uniform_(self.fc.weight)\n",
    "        nn.init.zeros_(self.fc.bias)\n",
    "        \n",
    "    def forward(self, x):\n",
    "        out = self.layer1(x)\n",
    "        out = self.layer2(out)\n",
    "        out = out.reshape(out.size(0), -1)\n",
    "        out = self.fc(out)\n",
    "        return out\n"
   ]
  },
  {
   "cell_type": "code",
   "execution_count": 93,
   "metadata": {},
   "outputs": [],
   "source": [
    "# Experiment parameters\n",
    "lr_find_epochs = 5\n",
    "start_lr = 1e-7\n",
    "end_lr = 0.9\n",
    "\n",
    "model = ConvNet()\n",
    "\n",
    "criterion = nn.CrossEntropyLoss()\n",
    "optimizer = torch.optim.SGD(model.parameters(), lr = start_lr)\n",
    "\n",
    "# LR function lambda\n",
    "\n",
    "lr_lambda = lambda x: math.exp(x * math.log(end_lr / start_lr) / (lr_find_epochs * len(training_loader)))\n",
    "scheduler = torch.optim.lr_scheduler.LambdaLR(optimizer, lr_lambda)"
   ]
  },
  {
   "cell_type": "code",
   "execution_count": 94,
   "metadata": {},
   "outputs": [
    {
     "name": "stdout",
     "output_type": "stream",
     "text": [
      "epoch 0\n",
      "epoch 1\n",
      "epoch 2\n",
      "epoch 3\n",
      "epoch 4\n",
      "CPU times: user 44min 30s, sys: 42.6 s, total: 45min 13s\n",
      "Wall time: 6min 40s\n"
     ]
    }
   ],
   "source": [
    "%%time\n",
    "\n",
    "# Run the experiment \n",
    "\n",
    "lr_find_loss = []\n",
    "lr_find_lr = []\n",
    "\n",
    "iter = 0\n",
    "\n",
    "smoothing = 0.05\n",
    "\n",
    "for i in range(lr_find_epochs):\n",
    "    print(\"epoch {}\".format(i))\n",
    "    for inputs, labels in training_loader:\n",
    "\n",
    "        # Training mode and zero gradients\n",
    "        model.train()\n",
    "        optimizer.zero_grad()\n",
    "\n",
    "        # Get outputs to calc loss\n",
    "        outputs = model(inputs)\n",
    "        loss = criterion(outputs, labels)\n",
    "\n",
    "        # Backward pass\n",
    "        loss.backward()\n",
    "        optimizer.step()\n",
    "\n",
    "        # Update LR\n",
    "        scheduler.step()\n",
    "        lr_step = optimizer.state_dict()[\"param_groups\"][0][\"lr\"]\n",
    "        lr_find_lr.append(lr_step)\n",
    "\n",
    "        # smooth the loss\n",
    "        if iter==0:\n",
    "            lr_find_loss.append(loss)\n",
    "        else:\n",
    "            loss = smoothing  * loss + (1 - smoothing) * lr_find_loss[-1]\n",
    "            lr_find_loss.append(loss)\n",
    "     \n",
    "    iter += 1"
   ]
  },
  {
   "cell_type": "code",
   "execution_count": 98,
   "metadata": {},
   "outputs": [
    {
     "data": {
      "image/png": "[encoded data removed]",
      "text/plain": [
       "<Figure size 432x288 with 1 Axes>"
      ]
     },
     "metadata": {
      "needs_background": "light"
     },
     "output_type": "display_data"
    }
   ],
   "source": [
    "plt.ylabel(\"loss\")\n",
    "plt.xlabel(\"learning rate [log]\")\n",
    "plt.xscale(\"log\")\n",
    "axes = plt.gca()\n",
    "# axes.set_xlim([0.03/6, 0.03])\n",
    "# axes.set_ylim([ymin,ymax])\n",
    "plt.plot(lr_find_lr, lr_find_loss)\n",
    "plt.grid(True)\n",
    "plt.show()"
   ]
  },
  {
   "cell_type": "code",
   "execution_count": 96,
   "metadata": {},
   "outputs": [
    {
     "data": {
      "image/png": "[encoded data removed]",
      "text/plain": [
       "<Figure size 432x288 with 1 Axes>"
      ]
     },
     "metadata": {
      "needs_background": "light"
     },
     "output_type": "display_data"
    }
   ],
   "source": [
    "plt.ylabel(\"lr\")\n",
    "plt.xlabel(\"step\")\n",
    "# plt.yscale(\"log\")\n",
    "plt.plot(range(len(lr_find_lr)), lr_find_lr)\n",
    "plt.grid(True)\n",
    "plt.show()"
   ]
  },
  {
   "cell_type": "code",
   "execution_count": null,
   "metadata": {},
   "outputs": [],
   "source": []
  },
  {
   "cell_type": "code",
   "execution_count": 86,
   "metadata": {},
   "outputs": [],
   "source": [
    "model = ConvNet()\n",
    "end_lr = 0.03\n",
    "factor = 6\n",
    "criterion = nn.CrossEntropyLoss()\n",
    "optimizer = torch.optim.Adam(model.parameters(), lr=1.)\n",
    "step_size = 4*len(training_loader)\n",
    "clr = cyclical_lr(step_size, min_lr=end_lr/factor, max_lr=end_lr)\n",
    "scheduler = torch.optim.lr_scheduler.LambdaLR(optimizer, [clr])"
   ]
  },
  {
   "cell_type": "code",
   "execution_count": 87,
   "metadata": {},
   "outputs": [
    {
     "name": "stderr",
     "output_type": "stream",
     "text": [
      "/Users/kirillvladimirov/PycharmProjects/cv_projects/venv/lib/python3.7/site-packages/torch/optim/lr_scheduler.py:100: UserWarning: Detected call of `lr_scheduler.step()` before `optimizer.step()`. In PyTorch 1.1.0 and later, you should call them in the opposite order: `optimizer.step()` before `lr_scheduler.step()`.  Failure to do this will result in PyTorch skipping the first value of the learning rate schedule.See more details at https://pytorch.org/docs/stable/optim.html#how-to-adjust-learning-rate\n",
      "  \"https://pytorch.org/docs/stable/optim.html#how-to-adjust-learning-rate\", UserWarning)\n"
     ]
    },
    {
     "name": "stdout",
     "output_type": "stream",
     "text": [
      "epoch : 1\n",
      "training loss: 0.3334, acc 90.1150 \n",
      "validation loss: 0.0597, validation acc 98.0700 \n",
      "epoch : 2\n",
      "training loss: 0.1170, acc 96.3317 \n",
      "validation loss: 0.0613, validation acc 98.1300 \n",
      "epoch : 3\n",
      "training loss: 0.1071, acc 96.6850 \n",
      "validation loss: 0.0478, validation acc 98.5300 \n",
      "epoch : 4\n",
      "training loss: 0.0985, acc 96.9383 \n",
      "validation loss: 0.0561, validation acc 98.1100 \n",
      "epoch : 5\n",
      "training loss: 0.0990, acc 97.0050 \n",
      "validation loss: 0.0507, validation acc 98.3600 \n",
      "epoch : 6\n",
      "training loss: 0.0755, acc 97.7367 \n",
      "validation loss: 0.0321, validation acc 98.9800 \n",
      "epoch : 7\n",
      "training loss: 0.0610, acc 98.1283 \n",
      "validation loss: 0.0296, validation acc 99.1000 \n",
      "epoch : 8\n",
      "training loss: 0.0512, acc 98.4517 \n",
      "validation loss: 0.0237, validation acc 99.2600 \n",
      "epoch : 9\n",
      "training loss: 0.0495, acc 98.4917 \n",
      "validation loss: 0.0279, validation acc 99.0900 \n",
      "epoch : 10\n",
      "training loss: 0.0683, acc 97.9400 \n",
      "validation loss: 0.0348, validation acc 98.8900 \n",
      "epoch : 11\n",
      "training loss: 0.0846, acc 97.4483 \n",
      "validation loss: 0.0418, validation acc 98.7900 \n",
      "epoch : 12\n",
      "training loss: 0.0993, acc 97.0217 \n",
      "validation loss: 0.0413, validation acc 98.6800 \n",
      "epoch : 13\n",
      "training loss: 0.0948, acc 97.2517 \n",
      "validation loss: 0.0399, validation acc 98.8500 \n",
      "epoch : 14\n",
      "training loss: 0.0730, acc 97.8483 \n",
      "validation loss: 0.0292, validation acc 99.0100 \n",
      "epoch : 15\n",
      "training loss: 0.0593, acc 98.1917 \n",
      "validation loss: 0.0263, validation acc 99.1500 \n",
      "epoch : 16\n",
      "training loss: 0.0504, acc 98.4600 \n",
      "validation loss: 0.0254, validation acc 99.2000 \n",
      "epoch : 17\n",
      "training loss: 0.0448, acc 98.6150 \n",
      "validation loss: 0.0259, validation acc 99.3100 \n",
      "epoch : 18\n",
      "training loss: 0.0559, acc 98.3300 \n",
      "validation loss: 0.0298, validation acc 99.0000 \n",
      "epoch : 19\n",
      "training loss: 0.0735, acc 97.8100 \n",
      "validation loss: 0.0409, validation acc 98.7700 \n",
      "epoch : 20\n",
      "training loss: 0.0933, acc 97.3550 \n",
      "validation loss: 0.0566, validation acc 98.5900 \n",
      "epoch : 21\n",
      "training loss: 0.0961, acc 97.3133 \n",
      "validation loss: 0.0419, validation acc 98.6500 \n",
      "epoch : 22\n",
      "training loss: 0.0690, acc 97.9917 \n",
      "validation loss: 0.0432, validation acc 98.9300 \n",
      "epoch : 23\n",
      "training loss: 0.0579, acc 98.2667 \n",
      "validation loss: 0.0297, validation acc 99.1400 \n",
      "epoch : 24\n",
      "training loss: 0.0495, acc 98.5367 \n",
      "validation loss: 0.0265, validation acc 99.2000 \n",
      "epoch : 25\n",
      "training loss: 0.0460, acc 98.6033 \n",
      "validation loss: 0.0257, validation acc 99.2400 \n",
      "CPU times: user 3h 44min 52s, sys: 5min 36s, total: 3h 50min 28s\n",
      "Wall time: 35min 37s\n"
     ]
    }
   ],
   "source": [
    "%%time\n",
    "epochs = 25\n",
    "running_loss_history = []\n",
    "running_corrects_history = []\n",
    "val_running_loss_history = []\n",
    "val_running_corrects_history = []\n",
    " \n",
    "for e in range(epochs):\n",
    "  \n",
    "    running_loss = 0.0\n",
    "    running_corrects = 0.0\n",
    "    val_running_loss = 0.0\n",
    "    val_running_corrects = 0.0\n",
    "    model.train()\n",
    "    \n",
    "    for inputs, labels in training_loader:\n",
    "        optimizer.zero_grad()\n",
    "        \n",
    "        outputs = model(inputs)\n",
    "        loss = criterion(outputs, labels)\n",
    "        \n",
    "        scheduler.step()\n",
    "        loss.backward()\n",
    "        optimizer.step()\n",
    "\n",
    "        _, preds = torch.max(outputs, 1)\n",
    "        running_loss += loss.item()\n",
    "        running_corrects += torch.sum(preds == labels.data)\n",
    " \n",
    "    else:\n",
    "        model.eval()\n",
    "        with torch.no_grad():\n",
    "            for val_inputs, val_labels in validation_loader:\n",
    "                val_outputs = model(val_inputs)\n",
    "                val_loss = criterion(val_outputs, val_labels)\n",
    "        \n",
    "                _, val_preds = torch.max(val_outputs, 1)\n",
    "                val_running_loss += val_loss.item()\n",
    "                val_running_corrects += torch.sum(val_preds == val_labels.data)\n",
    "      \n",
    "        epoch_loss = running_loss/len(training_loader)\n",
    "        epoch_acc = running_corrects.float()/ len(training_loader)\n",
    "        running_loss_history.append(epoch_loss)\n",
    "        running_corrects_history.append(epoch_acc)\n",
    "\n",
    "        val_epoch_loss = val_running_loss/len(validation_loader)\n",
    "        val_epoch_acc = val_running_corrects.float()/ len(validation_loader)\n",
    "        val_running_loss_history.append(val_epoch_loss)\n",
    "        val_running_corrects_history.append(val_epoch_acc)\n",
    "        print('epoch :', (e+1))\n",
    "        print('training loss: {:.4f}, acc {:.4f} '.format(epoch_loss, epoch_acc.item()))\n",
    "        print('validation loss: {:.4f}, validation acc {:.4f} '.format(val_epoch_loss, val_epoch_acc.item()))"
   ]
  },
  {
   "cell_type": "code",
   "execution_count": 90,
   "metadata": {},
   "outputs": [
    {
     "data": {
      "text/plain": [
       "<matplotlib.legend.Legend at 0x133698ad0>"
      ]
     },
     "execution_count": 90,
     "metadata": {},
     "output_type": "execute_result"
    },
    {
     "data": {
      "image/png": "[encoded data removed]",
      "text/plain": [
       "<Figure size 432x288 with 1 Axes>"
      ]
     },
     "metadata": {
      "needs_background": "light"
     },
     "output_type": "display_data"
    }
   ],
   "source": [
    "plt.plot(running_loss_history, label='training loss')\n",
    "plt.plot(val_running_loss_history, label='validation loss')\n",
    "plt.legend()"
   ]
  },
  {
   "cell_type": "code",
   "execution_count": 91,
   "metadata": {},
   "outputs": [
    {
     "data": {
      "text/plain": [
       "<matplotlib.legend.Legend at 0x136459190>"
      ]
     },
     "execution_count": 91,
     "metadata": {},
     "output_type": "execute_result"
    },
    {
     "data": {
      "image/png": "[encoded data removed]",
      "text/plain": [
       "<Figure size 432x288 with 1 Axes>"
      ]
     },
     "metadata": {
      "needs_background": "light"
     },
     "output_type": "display_data"
    }
   ],
   "source": [
    "plt.plot(running_corrects_history, label='training accuracy')\n",
    "plt.plot(val_running_corrects_history, label='validation accuracy')\n",
    "plt.legend()"
   ]
  },
  {
   "cell_type": "code",
   "execution_count": null,
   "metadata": {},
   "outputs": [],
   "source": []
  },
  {
   "cell_type": "code",
   "execution_count": null,
   "metadata": {},
   "outputs": [],
   "source": []
  },
  {
   "cell_type": "code",
   "execution_count": 99,
   "metadata": {},
   "outputs": [
    {
     "data": {
      "text/plain": [
       "1600"
      ]
     },
     "execution_count": 99,
     "metadata": {},
     "output_type": "execute_result"
    }
   ],
   "source": [
    "64 * 5 * 5"
   ]
  },
  {
   "cell_type": "code",
   "execution_count": 240,
   "metadata": {},
   "outputs": [
    {
     "name": "stdout",
     "output_type": "stream",
     "text": [
      "CPU times: user 55 µs, sys: 17 µs, total: 72 µs\n",
      "Wall time: 83.2 µs\n"
     ]
    }
   ],
   "source": [
    "%%time\n",
    "\n",
    "class CNN(nn.Module):\n",
    "    def __init__(self):\n",
    "        super(CNN, self).__init__()\n",
    "        # 28X28\n",
    "        self.layer1 = nn.Sequential(\n",
    "            nn.Conv2d(1, 16, kernel_size=5, stride=1, padding=2),\n",
    "            nn.BatchNorm2d(16),\n",
    "            nn.ReLU(),\n",
    "            nn.MaxPool2d(kernel_size=2, stride=2))\n",
    "        # 14X14\n",
    "        self.layer2 = nn.Sequential(\n",
    "            nn.Conv2d(16, 32, kernel_size=5, stride=1, padding=2),\n",
    "            nn.BatchNorm2d(32),\n",
    "            nn.ReLU(),\n",
    "            nn.MaxPool2d(kernel_size=2, stride=2))\n",
    "        # 7X7\n",
    "#         self.layer3 = nn.Sequential(\n",
    "#             nn.Conv2d(32, 64, kernel_size=3, stride=1, padding=0),\n",
    "#             nn.BatchNorm2d(64),\n",
    "#             nn.ReLU(),\n",
    "#             nn.MaxPool2d(kernel_size=2, stride=2))\n",
    "        # 5X5\n",
    "        self.fc_layers = nn.Sequential(\n",
    "            nn.Linear(32 * 7 * 7, 256),\n",
    "            nn.LeakyReLU(),\n",
    "            nn.Dropout(0.3),\n",
    "            nn.Linear(256, 10)\n",
    "        )\n",
    "        \n",
    "    def forward(self, x):\n",
    "        out = self.layer1(x)\n",
    "        out = self.layer2(out)\n",
    "#         out = self.layer3(out)\n",
    "        out = out.view(out.size(0), -1)\n",
    "        out = self.fc_layers(out)\n",
    "        return out\n",
    "    \n",
    "   "
   ]
  },
  {
   "cell_type": "code",
   "execution_count": 122,
   "metadata": {},
   "outputs": [],
   "source": [
    "model = CNN()\n",
    "end_lr = 0.001\n",
    "factor = 6\n",
    "criterion = nn.CrossEntropyLoss()\n",
    "optimizer = torch.optim.Adam(model.parameters(), lr=1.)\n",
    "step_size = 4*len(training_loader)\n",
    "clr = cyclical_lr(step_size, min_lr=end_lr/factor, max_lr=end_lr)\n",
    "scheduler = torch.optim.lr_scheduler.LambdaLR(optimizer, [clr])"
   ]
  },
  {
   "cell_type": "code",
   "execution_count": 123,
   "metadata": {},
   "outputs": [
    {
     "name": "stdout",
     "output_type": "stream",
     "text": [
      "epoch : 1\n",
      "training loss: 0.5153, acc 84.4033 \n",
      "validation loss: 0.0616, validation acc 98.1400 \n",
      "epoch : 2\n",
      "training loss: 0.1564, acc 95.2317 \n",
      "validation loss: 0.0421, validation acc 98.5600 \n",
      "epoch : 3\n",
      "training loss: 0.1172, acc 96.3467 \n",
      "validation loss: 0.0313, validation acc 98.9800 \n",
      "epoch : 4\n",
      "training loss: 0.1037, acc 96.7850 \n",
      "validation loss: 0.0395, validation acc 98.7900 \n",
      "epoch : 5\n",
      "training loss: 0.0881, acc 97.2917 \n",
      "validation loss: 0.0305, validation acc 99.0300 \n",
      "epoch : 6\n",
      "training loss: 0.0681, acc 97.8567 \n",
      "validation loss: 0.0320, validation acc 99.0700 \n",
      "epoch : 7\n",
      "training loss: 0.0582, acc 98.2583 \n",
      "validation loss: 0.0214, validation acc 99.2800 \n",
      "epoch : 8\n",
      "training loss: 0.0495, acc 98.3967 \n",
      "validation loss: 0.0221, validation acc 99.2200 \n",
      "epoch : 9\n",
      "training loss: 0.0498, acc 98.4250 \n",
      "validation loss: 0.0181, validation acc 99.4300 \n",
      "epoch : 10\n",
      "training loss: 0.0535, acc 98.3133 \n",
      "validation loss: 0.0224, validation acc 99.3200 \n",
      "epoch : 11\n",
      "training loss: 0.0612, acc 98.0733 \n",
      "validation loss: 0.0449, validation acc 98.4600 \n",
      "epoch : 12\n",
      "training loss: 0.0676, acc 97.9050 \n",
      "validation loss: 0.0482, validation acc 98.5600 \n",
      "epoch : 13\n",
      "training loss: 0.0623, acc 98.1067 \n",
      "validation loss: 0.0204, validation acc 99.3900 \n",
      "epoch : 14\n",
      "training loss: 0.0503, acc 98.5100 \n",
      "validation loss: 0.0240, validation acc 99.2800 \n",
      "epoch : 15\n",
      "training loss: 0.0408, acc 98.7250 \n",
      "validation loss: 0.0154, validation acc 99.4800 \n",
      "CPU times: user 2h 17min 27s, sys: 3min 24s, total: 2h 20min 51s\n",
      "Wall time: 22min 11s\n"
     ]
    }
   ],
   "source": [
    "%%time\n",
    "epochs = 15\n",
    "running_loss_history = []\n",
    "running_corrects_history = []\n",
    "val_running_loss_history = []\n",
    "val_running_corrects_history = []\n",
    " \n",
    "for e in range(epochs):\n",
    "  \n",
    "    running_loss = 0.0\n",
    "    running_corrects = 0.0\n",
    "    val_running_loss = 0.0\n",
    "    val_running_corrects = 0.0\n",
    "    model.train()\n",
    "    \n",
    "    for inputs, labels in training_loader:\n",
    "        optimizer.zero_grad()\n",
    "        \n",
    "        outputs = model(inputs)\n",
    "        loss = criterion(outputs, labels)\n",
    "        \n",
    "        scheduler.step()\n",
    "        loss.backward()\n",
    "        optimizer.step()\n",
    "\n",
    "        _, preds = torch.max(outputs, 1)\n",
    "        running_loss += loss.item()\n",
    "        running_corrects += torch.sum(preds == labels.data)\n",
    " \n",
    "    else:\n",
    "        model.eval()\n",
    "        with torch.no_grad():\n",
    "            for val_inputs, val_labels in validation_loader:\n",
    "                val_outputs = model(val_inputs)\n",
    "                val_loss = criterion(val_outputs, val_labels)\n",
    "        \n",
    "                _, val_preds = torch.max(val_outputs, 1)\n",
    "                val_running_loss += val_loss.item()\n",
    "                val_running_corrects += torch.sum(val_preds == val_labels.data)\n",
    "      \n",
    "        epoch_loss = running_loss/len(training_loader)\n",
    "        epoch_acc = running_corrects.float()/ len(training_loader)\n",
    "        running_loss_history.append(epoch_loss)\n",
    "        running_corrects_history.append(epoch_acc)\n",
    "\n",
    "        val_epoch_loss = val_running_loss/len(validation_loader)\n",
    "        val_epoch_acc = val_running_corrects.float()/ len(validation_loader)\n",
    "        val_running_loss_history.append(val_epoch_loss)\n",
    "        val_running_corrects_history.append(val_epoch_acc)\n",
    "        print('epoch :', (e+1))\n",
    "        print('training loss: {:.4f}, acc {:.4f} '.format(epoch_loss, epoch_acc.item()))\n",
    "        print('validation loss: {:.4f}, validation acc {:.4f} '.format(val_epoch_loss, val_epoch_acc.item()))"
   ]
  },
  {
   "cell_type": "code",
   "execution_count": 125,
   "metadata": {},
   "outputs": [
    {
     "data": {
      "text/plain": [
       "<matplotlib.legend.Legend at 0x131433d90>"
      ]
     },
     "execution_count": 125,
     "metadata": {},
     "output_type": "execute_result"
    },
    {
     "data": {
      "image/png": "[encoded data removed]",
      "text/plain": [
       "<Figure size 432x288 with 1 Axes>"
      ]
     },
     "metadata": {
      "needs_background": "light"
     },
     "output_type": "display_data"
    }
   ],
   "source": [
    "plt.plot(running_loss_history, label='training loss')\n",
    "plt.plot(val_running_loss_history, label='validation loss')\n",
    "plt.legend()"
   ]
  },
  {
   "cell_type": "code",
   "execution_count": 126,
   "metadata": {},
   "outputs": [
    {
     "data": {
      "text/plain": [
       "<matplotlib.legend.Legend at 0x12ee6e510>"
      ]
     },
     "execution_count": 126,
     "metadata": {},
     "output_type": "execute_result"
    },
    {
     "data": {
      "image/png": "[encoded data removed]",
      "text/plain": [
       "<Figure size 432x288 with 1 Axes>"
      ]
     },
     "metadata": {
      "needs_background": "light"
     },
     "output_type": "display_data"
    }
   ],
   "source": [
    "plt.plot(running_corrects_history, label='training accuracy')\n",
    "plt.plot(val_running_corrects_history, label='validation accuracy')\n",
    "plt.legend()"
   ]
  },
  {
   "cell_type": "code",
   "execution_count": null,
   "metadata": {},
   "outputs": [],
   "source": []
  },
  {
   "cell_type": "markdown",
   "metadata": {},
   "source": [
    "## Digit recognizer using Deep Neural Networks"
   ]
  },
  {
   "cell_type": "markdown",
   "metadata": {},
   "source": [
    "https://www.kaggle.com/juiyangchang/cnn-with-pytorch-0-995-accuracy"
   ]
  },
  {
   "cell_type": "code",
   "execution_count": 168,
   "metadata": {},
   "outputs": [],
   "source": [
    "class CNN(nn.Module):\n",
    "    def __init__(self):\n",
    "        super(CNN, self).__init__()\n",
    "        self.cnn_layers = nn.Sequential(\n",
    "            nn.Conv2d(1, 32, kernel_size=3, stride=1, padding=1),\n",
    "            nn.BatchNorm2d(32),\n",
    "            nn.ReLU(inplace=True),\n",
    "            nn.Conv2d(32, 32, kernel_size=3, stride=1, padding=1),\n",
    "            nn.BatchNorm2d(32),\n",
    "            nn.ReLU(inplace=True),\n",
    "            nn.MaxPool2d(kernel_size=2, stride=2),\n",
    "            nn.Dropout(0.2),\n",
    "            \n",
    "            nn.Conv2d(32, 64, kernel_size=3, stride=1, padding=1),\n",
    "            nn.BatchNorm2d(64),\n",
    "            nn.ReLU(inplace=True),\n",
    "            nn.Conv2d(64, 64, kernel_size=3, stride=1, padding=1),\n",
    "            nn.BatchNorm2d(64),\n",
    "            nn.ReLU(inplace=True),\n",
    "            nn.MaxPool2d(kernel_size=2, stride=2),\n",
    "            nn.Dropout(0.2)\n",
    "        )\n",
    "\n",
    "        self.fc_layers = nn.Sequential(\n",
    "            nn.Linear(64 * 7 * 7, 512),\n",
    "            nn.BatchNorm1d(512),\n",
    "            nn.LeakyReLU(inplace=True),\n",
    "            nn.Dropout(0.3),\n",
    "            \n",
    "            nn.Linear(512, 256),\n",
    "            nn.BatchNorm1d(256),\n",
    "            nn.LeakyReLU(inplace=True),\n",
    "            nn.Dropout(0.3),\n",
    "            \n",
    "            nn.Linear(256, 10)\n",
    "        )\n",
    "        \n",
    "        for m in self.cnn_layers.children():\n",
    "            if isinstance(m, nn.Conv2d):\n",
    "                n = m.kernel_size[0] * m.kernel_size[1] * m.out_channels\n",
    "                m.weight.data.normal_(0, math.sqrt(2. / n))\n",
    "            elif isinstance(m, nn.BatchNorm2d):\n",
    "                m.weight.data.fill_(1)\n",
    "                m.bias.data.zero_()\n",
    "        \n",
    "        for m in self.fc_layers.children():\n",
    "            if isinstance(m, nn.Linear):\n",
    "                nn.init.xavier_uniform(m.weight)\n",
    "            elif isinstance(m, nn.BatchNorm1d):\n",
    "                m.weight.data.fill_(1)\n",
    "                m.bias.data.zero_()\n",
    "        \n",
    "    def forward(self, x):\n",
    "        out = self.cnn_layers(x)\n",
    "        out = out.view(out.size(0), -1)\n",
    "        out = self.fc_layers(out)\n",
    "        return out"
   ]
  },
  {
   "cell_type": "code",
   "execution_count": 254,
   "metadata": {},
   "outputs": [],
   "source": [
    "model = Model()\n",
    "criterion = nn.CrossEntropyLoss()\n",
    "optimizer = torch.optim.Adam(model.parameters(), lr=0.003)\n",
    "scheduler = torch.optim.lr_scheduler.StepLR(optimizer, step_size=4, gamma=0.1)"
   ]
  },
  {
   "cell_type": "code",
   "execution_count": 255,
   "metadata": {},
   "outputs": [
    {
     "data": {
      "text/plain": [
       "Model(\n",
       "  (features1): Sequential(\n",
       "    (0): Conv2d(1, 20, kernel_size=(5, 5), stride=(1, 1))\n",
       "    (1): ReLU()\n",
       "    (2): AvgPool2d(kernel_size=2, stride=2, padding=0)\n",
       "    (3): Conv2d(20, 50, kernel_size=(5, 5), stride=(1, 1))\n",
       "    (4): BatchNorm2d(50, eps=1e-05, momentum=0.1, affine=True, track_running_stats=True)\n",
       "  )\n",
       "  (features2): Sequential(\n",
       "    (0): ReLU()\n",
       "    (1): AvgPool2d(kernel_size=2, stride=2, padding=0)\n",
       "  )\n",
       "  (classifier): Sequential(\n",
       "    (0): Linear(in_features=800, out_features=500, bias=True)\n",
       "    (1): ReLU()\n",
       "    (2): Linear(in_features=500, out_features=10, bias=True)\n",
       "  )\n",
       ")"
      ]
     },
     "execution_count": 255,
     "metadata": {},
     "output_type": "execute_result"
    }
   ],
   "source": [
    "model"
   ]
  },
  {
   "cell_type": "code",
   "execution_count": 256,
   "metadata": {},
   "outputs": [
    {
     "name": "stdout",
     "output_type": "stream",
     "text": [
      "----------------------------------------------------------------\n",
      "        Layer (type)               Output Shape         Param #\n",
      "================================================================\n",
      "            Conv2d-1           [-1, 20, 24, 24]             520\n",
      "              ReLU-2           [-1, 20, 24, 24]               0\n",
      "         AvgPool2d-3           [-1, 20, 12, 12]               0\n",
      "            Conv2d-4             [-1, 50, 8, 8]          25,050\n",
      "       BatchNorm2d-5             [-1, 50, 8, 8]             100\n",
      "              ReLU-6             [-1, 50, 8, 8]               0\n",
      "         AvgPool2d-7             [-1, 50, 4, 4]               0\n",
      "            Linear-8                  [-1, 500]         400,500\n",
      "              ReLU-9                  [-1, 500]               0\n",
      "           Linear-10                   [-1, 10]           5,010\n",
      "================================================================\n",
      "Total params: 431,180\n",
      "Trainable params: 431,180\n",
      "Non-trainable params: 0\n",
      "----------------------------------------------------------------\n",
      "Input size (MB): 0.00\n",
      "Forward/backward pass size (MB): 0.28\n",
      "Params size (MB): 1.64\n",
      "Estimated Total Size (MB): 1.93\n",
      "----------------------------------------------------------------\n"
     ]
    }
   ],
   "source": [
    "summary(model, (1, 28, 28))"
   ]
  },
  {
   "cell_type": "code",
   "execution_count": 257,
   "metadata": {},
   "outputs": [],
   "source": [
    "def train(model):\n",
    "    running_loss = 0.0\n",
    "    running_corrects = 0.0\n",
    "    val_running_loss = 0.0\n",
    "    val_running_corrects = 0.0\n",
    "#     model = model.train()\n",
    "    \n",
    "    for inputs, labels in training_loader:\n",
    "        optimizer.zero_grad()\n",
    "        \n",
    "        outputs = model(inputs)\n",
    "        loss = criterion(outputs, labels)\n",
    "        \n",
    "        scheduler.step()\n",
    "        loss.backward()\n",
    "        optimizer.step()\n",
    "\n",
    "        _, preds = torch.max(outputs, 1)\n",
    "        running_loss += loss.item()\n",
    "        running_corrects += torch.sum(preds == labels.data)\n",
    "\n",
    "    else:\n",
    "        epoch_loss = running_loss/len(training_loader)\n",
    "        epoch_acc = running_corrects.float()/ len(training_loader)\n",
    "    \n",
    "    return epoch_loss, epoch_acc\n",
    "\n",
    "\n",
    "\n",
    "# def train(model):\n",
    "#     epoch_loss = 0.0\n",
    "#     epoch_corrects = 0.0\n",
    "    \n",
    "#     model.train()\n",
    "#     scheduler.step()\n",
    "\n",
    "#     for inputs, labels in training_loader:\n",
    "#         inputs, labels = Variable(inputs), Variable(labels)\n",
    "        \n",
    "#         optimizer.zero_grad()\n",
    "#         output = model(inputs)\n",
    "#         loss = criterion(output, labels)\n",
    "        \n",
    "#         loss.backward()\n",
    "#         optimizer.step()\n",
    "        \n",
    "#         epoch_loss += loss.item()\n",
    "# #         pred = outputs.data.max(1, keepdim=True)[1]\n",
    "#         preds = torch.max(outputs, 1)[1]\n",
    "#         epoch_corrects += torch.sum(preds == labels.data)\n",
    "        \n",
    "#     return epoch_loss/len(training_loader), epoch_corrects.float()/len(training_loader)"
   ]
  },
  {
   "cell_type": "code",
   "execution_count": 258,
   "metadata": {},
   "outputs": [],
   "source": [
    "def evaluate(model):\n",
    "    loss = 0.0\n",
    "    corrects = 0.0\n",
    "    \n",
    "#     model = model.eval()\n",
    "    with torch.no_grad():\n",
    "        for inputs, labels in validation_loader:\n",
    "            inputs, labels = Variable(inputs), Variable(labels)\n",
    "            outputs = model(inputs)\n",
    "\n",
    "            loss += F.cross_entropy(outputs, labels, reduction='mean').item()\n",
    "            pred = outputs.data.max(1, keepdim=True)[1]\n",
    "            corrects += pred.eq(labels.data.view_as(pred)).cpu().sum()\n",
    "               \n",
    "    return loss/len(validation_loader), corrects.float()/len(validation_loader)"
   ]
  },
  {
   "cell_type": "code",
   "execution_count": 259,
   "metadata": {},
   "outputs": [
    {
     "name": "stdout",
     "output_type": "stream",
     "text": [
      "epoch : 1\n",
      "training loss: 1.6728, training acc 46.5417 \n",
      "validation loss: 1.3732, validation acc 64.8400 \n",
      "epoch : 2\n",
      "training loss: 1.6703, training acc 46.6467 \n",
      "validation loss: 1.3737, validation acc 64.7400 \n",
      "epoch : 3\n",
      "training loss: 1.6696, training acc 46.4567 \n",
      "validation loss: 1.3737, validation acc 64.7200 \n",
      "epoch : 4\n",
      "training loss: 1.6675, training acc 46.7233 \n",
      "validation loss: 1.3735, validation acc 64.8100 \n",
      "epoch : 5\n",
      "training loss: 1.6703, training acc 46.8867 \n",
      "validation loss: 1.3738, validation acc 64.7100 \n",
      "epoch : 6\n",
      "training loss: 1.6722, training acc 46.4333 \n",
      "validation loss: 1.3740, validation acc 64.6200 \n",
      "epoch : 7\n",
      "training loss: 1.6698, training acc 46.8683 \n",
      "validation loss: 1.3741, validation acc 64.7700 \n",
      "epoch : 8\n",
      "training loss: 1.6711, training acc 46.5567 \n",
      "validation loss: 1.3736, validation acc 64.8800 \n",
      "epoch : 9\n",
      "training loss: 1.6688, training acc 46.8733 \n",
      "validation loss: 1.3733, validation acc 64.7400 \n",
      "epoch : 10\n",
      "training loss: 1.6703, training acc 46.4383 \n",
      "validation loss: 1.3738, validation acc 64.9300 \n",
      "epoch : 11\n",
      "training loss: 1.6699, training acc 46.7250 \n",
      "validation loss: 1.3737, validation acc 64.8200 \n",
      "epoch : 12\n",
      "training loss: 1.6683, training acc 46.7617 \n",
      "validation loss: 1.3737, validation acc 64.9100 \n",
      "epoch : 13\n",
      "training loss: 1.6721, training acc 46.4967 \n",
      "validation loss: 1.3731, validation acc 64.7400 \n",
      "epoch : 14\n",
      "training loss: 1.6675, training acc 46.8067 \n",
      "validation loss: 1.3739, validation acc 64.7500 \n",
      "epoch : 15\n",
      "training loss: 1.6722, training acc 46.6917 \n",
      "validation loss: 1.3741, validation acc 64.6200 \n",
      "CPU times: user 1h 48min 54s, sys: 2min 3s, total: 1h 50min 57s\n",
      "Wall time: 17min 14s\n"
     ]
    }
   ],
   "source": [
    "%%time\n",
    "n_epochs = 15\n",
    "\n",
    "epoch_loss_history = []\n",
    "epoch_corrects_history = []\n",
    "val_loss_history = []\n",
    "val_corrects_history = []\n",
    "\n",
    "for epoch in range(n_epochs):\n",
    "    epoch_loss, epoch_corrects = train(model)\n",
    "    val_loss, val_corrects = evaluate(model)\n",
    "    \n",
    "    epoch_loss_history.append(epoch_loss)\n",
    "    epoch_corrects_history.append(epoch_corrects)\n",
    "    val_running_loss_history.append(val_loss)\n",
    "    val_running_corrects_history.append(val_corrects)\n",
    "    \n",
    "    print('epoch :', (epoch+1))\n",
    "    print('training loss: {:.4f}, training acc {:.4f} '.format(epoch_loss, epoch_corrects.item()))\n",
    "    print('validation loss: {:.4f}, validation acc {:.4f} '.format(val_loss, val_corrects.item()))"
   ]
  },
  {
   "cell_type": "code",
   "execution_count": 201,
   "metadata": {},
   "outputs": [
    {
     "data": {
      "text/plain": [
       "<matplotlib.legend.Legend at 0x136211e50>"
      ]
     },
     "execution_count": 201,
     "metadata": {},
     "output_type": "execute_result"
    },
    {
     "data": {
      "image/png": "[encoded data removed]",
      "text/plain": [
       "<Figure size 432x288 with 1 Axes>"
      ]
     },
     "metadata": {
      "needs_background": "light"
     },
     "output_type": "display_data"
    }
   ],
   "source": [
    "plt.plot(epoch_loss_history, label='training loss')\n",
    "plt.plot(val_running_loss_history, label='validation loss')\n",
    "plt.legend()"
   ]
  },
  {
   "cell_type": "code",
   "execution_count": 202,
   "metadata": {},
   "outputs": [
    {
     "data": {
      "text/plain": [
       "<matplotlib.legend.Legend at 0x13a9e0f90>"
      ]
     },
     "execution_count": 202,
     "metadata": {},
     "output_type": "execute_result"
    },
    {
     "data": {
      "image/png": "[encoded data removed]",
      "text/plain": [
       "<Figure size 432x288 with 1 Axes>"
      ]
     },
     "metadata": {
      "needs_background": "light"
     },
     "output_type": "display_data"
    }
   ],
   "source": [
    "plt.plot(running_corrects_history, label='training accuracy')\n",
    "plt.plot(val_running_corrects_history, label='validation accuracy')\n",
    "plt.legend()"
   ]
  },
  {
   "cell_type": "code",
   "execution_count": null,
   "metadata": {},
   "outputs": [],
   "source": []
  },
  {
   "cell_type": "code",
   "execution_count": null,
   "metadata": {},
   "outputs": [],
   "source": []
  },
  {
   "cell_type": "code",
   "execution_count": null,
   "metadata": {},
   "outputs": [],
   "source": []
  },
  {
   "cell_type": "code",
   "execution_count": null,
   "metadata": {},
   "outputs": [],
   "source": []
  },
  {
   "cell_type": "code",
   "execution_count": null,
   "metadata": {},
   "outputs": [],
   "source": []
  },
  {
   "cell_type": "code",
   "execution_count": null,
   "metadata": {},
   "outputs": [],
   "source": []
  },
  {
   "cell_type": "code",
   "execution_count": null,
   "metadata": {},
   "outputs": [],
   "source": []
  },
  {
   "cell_type": "code",
   "execution_count": null,
   "metadata": {},
   "outputs": [],
   "source": []
  },
  {
   "cell_type": "code",
   "execution_count": null,
   "metadata": {},
   "outputs": [],
   "source": []
  },
  {
   "cell_type": "code",
   "execution_count": null,
   "metadata": {},
   "outputs": [],
   "source": []
  },
  {
   "cell_type": "code",
   "execution_count": null,
   "metadata": {},
   "outputs": [],
   "source": []
  },
  {
   "cell_type": "code",
   "execution_count": null,
   "metadata": {},
   "outputs": [],
   "source": []
  },
  {
   "cell_type": "code",
   "execution_count": null,
   "metadata": {},
   "outputs": [],
   "source": []
  },
  {
   "cell_type": "code",
   "execution_count": null,
   "metadata": {},
   "outputs": [],
   "source": []
  },
  {
   "cell_type": "code",
   "execution_count": null,
   "metadata": {},
   "outputs": [],
   "source": []
  },
  {
   "cell_type": "code",
   "execution_count": null,
   "metadata": {},
   "outputs": [],
   "source": []
  },
  {
   "cell_type": "code",
   "execution_count": null,
   "metadata": {},
   "outputs": [],
   "source": []
  },
  {
   "cell_type": "code",
   "execution_count": null,
   "metadata": {},
   "outputs": [],
   "source": []
  },
  {
   "cell_type": "code",
   "execution_count": null,
   "metadata": {},
   "outputs": [],
   "source": []
  },
  {
   "cell_type": "code",
   "execution_count": null,
   "metadata": {},
   "outputs": [],
   "source": []
  },
  {
   "cell_type": "code",
   "execution_count": null,
   "metadata": {},
   "outputs": [],
   "source": []
  },
  {
   "cell_type": "code",
   "execution_count": null,
   "metadata": {},
   "outputs": [],
   "source": []
  }
 ],
 "metadata": {
  "kernelspec": {
   "display_name": "Python 3",
   "language": "python",
   "name": "python3"
  },
  "language_info": {
   "codemirror_mode": {
    "name": "ipython",
    "version": 3
   },
   "file_extension": ".py",
   "mimetype": "text/x-python",
   "name": "python",
   "nbconvert_exporter": "python",
   "pygments_lexer": "ipython3",
   "version": "3.7.4"
  }
 },
 "nbformat": 4,
 "nbformat_minor": 4
}
