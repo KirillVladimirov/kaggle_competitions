{
 "cells": [
  {
   "cell_type": "code",
   "execution_count": 116,
   "metadata": {},
   "outputs": [],
   "source": [
    "import torch\n",
    "import matplotlib.pyplot as plt\n",
    "import numpy as np\n",
    "import torch.nn.functional as F\n",
    "from torch import nn\n",
    "from torchvision import datasets, transforms\n",
    "from torchsummary import summary"
   ]
  },
  {
   "cell_type": "code",
   "execution_count": 82,
   "metadata": {},
   "outputs": [],
   "source": [
    "transform = transforms.Compose([\n",
    "    transforms.ToTensor(),\n",
    "    transforms.Normalize((0.5,), (0.5,))\n",
    "])\n",
    "training_dataset = datasets.MNIST(root='data', train=True, download=True, transform=transform)\n",
    "validation_dataset = datasets.MNIST(root='data', train=False, download=True, transform=transform)"
   ]
  },
  {
   "cell_type": "code",
   "execution_count": 83,
   "metadata": {},
   "outputs": [
    {
     "data": {
      "text/plain": [
       "(Dataset MNIST\n",
       "     Number of datapoints: 60000\n",
       "     Root location: data\n",
       "     Split: Train\n",
       "     StandardTransform\n",
       " Transform: Compose(\n",
       "                ToTensor()\n",
       "                Normalize(mean=(0.5,), std=(0.5,))\n",
       "            ), Dataset MNIST\n",
       "     Number of datapoints: 10000\n",
       "     Root location: data\n",
       "     Split: Test\n",
       "     StandardTransform\n",
       " Transform: Compose(\n",
       "                ToTensor()\n",
       "                Normalize(mean=(0.5,), std=(0.5,))\n",
       "            ))"
      ]
     },
     "execution_count": 83,
     "metadata": {},
     "output_type": "execute_result"
    }
   ],
   "source": [
    "training_dataset, validation_dataset"
   ]
  },
  {
   "cell_type": "code",
   "execution_count": 84,
   "metadata": {},
   "outputs": [],
   "source": [
    "training_loader = torch.utils.data.DataLoader(dataset=training_dataset, batch_size=100, shuffle=True)\n",
    "validation_loader = torch.utils.data.DataLoader(dataset=validation_dataset, batch_size=100, shuffle=True)"
   ]
  },
  {
   "cell_type": "code",
   "execution_count": 85,
   "metadata": {},
   "outputs": [],
   "source": [
    "def im_convert(tensor):\n",
    "    image = tensor.clone().detach().numpy()\n",
    "    image = image.transpose(1, 2, 0)\n",
    "    image = image * np.array([0.5, 0.5, 0.5]) + np.array([0.5, 0.5, 0.5])\n",
    "    image = image.clip(0, 1)\n",
    "    return image"
   ]
  },
  {
   "cell_type": "code",
   "execution_count": 86,
   "metadata": {},
   "outputs": [
    {
     "data": {
      "image/png": "[encoded data removed]",
      "text/plain": [
       "<Figure size 1800x288 with 20 Axes>"
      ]
     },
     "metadata": {
      "needs_background": "light"
     },
     "output_type": "display_data"
    }
   ],
   "source": [
    "dataiter = iter(training_loader)\n",
    "images, labels = dataiter.next()\n",
    "fig = plt.figure(figsize=(25, 4))\n",
    "\n",
    "for idx in np.arange(20):\n",
    "    ax = fig.add_subplot(2, 10, idx+1)\n",
    "    plt.imshow(im_convert(images[idx]))\n",
    "    ax.set_title(labels[idx].item())"
   ]
  },
  {
   "cell_type": "code",
   "execution_count": null,
   "metadata": {},
   "outputs": [],
   "source": []
  },
  {
   "cell_type": "code",
   "execution_count": 102,
   "metadata": {},
   "outputs": [],
   "source": [
    "class Model(nn.Module):\n",
    "    def __init__(self, D_in, H1, H2, D_out):\n",
    "        super().__init__()\n",
    "        self.linear1 = nn.Linear(D_in, H1)\n",
    "        nn.init.kaiming_uniform(self.linear1.weight)\n",
    "        self.linear2 = nn.Linear(H1, H2)\n",
    "        nn.init.kaiming_uniform(self.linear2.weight)\n",
    "        self.linear3 = nn.Linear(H2, D_out)\n",
    "        nn.init.kaiming_uniform(self.linear3.weight)\n",
    "\n",
    "    def forward(self, x):\n",
    "        x = F.relu(self.linear1(x))\n",
    "        x = F.relu(self.linear2(x))\n",
    "        return self.linear3(x)\n",
    "    "
   ]
  },
  {
   "cell_type": "code",
   "execution_count": 103,
   "metadata": {},
   "outputs": [
    {
     "name": "stderr",
     "output_type": "stream",
     "text": [
      "/Users/kirillvladimirov/PycharmProjects/cv_projects/venv/lib/python3.7/site-packages/ipykernel_launcher.py:5: UserWarning: nn.init.kaiming_uniform is now deprecated in favor of nn.init.kaiming_uniform_.\n",
      "  \"\"\"\n",
      "/Users/kirillvladimirov/PycharmProjects/cv_projects/venv/lib/python3.7/site-packages/ipykernel_launcher.py:7: UserWarning: nn.init.kaiming_uniform is now deprecated in favor of nn.init.kaiming_uniform_.\n",
      "  import sys\n",
      "/Users/kirillvladimirov/PycharmProjects/cv_projects/venv/lib/python3.7/site-packages/ipykernel_launcher.py:9: UserWarning: nn.init.kaiming_uniform is now deprecated in favor of nn.init.kaiming_uniform_.\n",
      "  if __name__ == '__main__':\n"
     ]
    }
   ],
   "source": [
    "model = Model(784, 125, 65, 10)"
   ]
  },
  {
   "cell_type": "code",
   "execution_count": 104,
   "metadata": {},
   "outputs": [
    {
     "data": {
      "text/plain": [
       "Model(\n",
       "  (linear1): Linear(in_features=784, out_features=125, bias=True)\n",
       "  (linear2): Linear(in_features=125, out_features=65, bias=True)\n",
       "  (linear3): Linear(in_features=65, out_features=10, bias=True)\n",
       ")"
      ]
     },
     "execution_count": 104,
     "metadata": {},
     "output_type": "execute_result"
    }
   ],
   "source": [
    "model"
   ]
  },
  {
   "cell_type": "code",
   "execution_count": 105,
   "metadata": {},
   "outputs": [],
   "source": [
    "criterian = nn.CrossEntropyLoss()\n",
    "optimizer = torch.optim.Adam(model.parameters(), lr=0.01)"
   ]
  },
  {
   "cell_type": "code",
   "execution_count": 106,
   "metadata": {},
   "outputs": [
    {
     "name": "stdout",
     "output_type": "stream",
     "text": [
      "epoch: 0:\n",
      "training loss: 0.004809431074559689, training accuracy: 86.2750015258789\n",
      "validation loss: 0.0023391617640852926, validation accuracy: 92.75\n",
      "epoch: 1:\n",
      "training loss: 0.0024101137104133763, training accuracy: 92.7683334350586\n",
      "validation loss: 0.002115806778520346, validation accuracy: 93.91000366210938\n",
      "epoch: 2:\n",
      "training loss: 0.002212853837075333, training accuracy: 93.41500091552734\n",
      "validation loss: 0.0020957384986802934, validation accuracy: 93.69000244140625\n",
      "epoch: 3:\n",
      "training loss: 0.001987308822913716, training accuracy: 94.163330078125\n",
      "validation loss: 0.002342448081821203, validation accuracy: 93.26000213623047\n",
      "epoch: 4:\n",
      "training loss: 0.0018804975852525483, training accuracy: 94.38166809082031\n",
      "validation loss: 0.0019867717012763022, validation accuracy: 94.08000183105469\n",
      "epoch: 5:\n",
      "training loss: 0.0018182579872508843, training accuracy: 94.73332977294922\n",
      "validation loss: 0.001846825160831213, validation accuracy: 94.80000305175781\n",
      "epoch: 6:\n",
      "training loss: 0.0017425554252540072, training accuracy: 94.94833374023438\n",
      "validation loss: 0.0020155142830684783, validation accuracy: 94.29000091552734\n",
      "epoch: 7:\n",
      "training loss: 0.0017988116831208268, training accuracy: 94.77999877929688\n",
      "validation loss: 0.0018358824882656335, validation accuracy: 94.79000091552734\n",
      "epoch: 8:\n",
      "training loss: 0.0017867322533080974, training accuracy: 94.83833312988281\n",
      "validation loss: 0.0020149305496364833, validation accuracy: 94.22000122070312\n",
      "epoch: 9:\n",
      "training loss: 0.0017188963699464996, training accuracy: 95.1050033569336\n",
      "validation loss: 0.0015972844436764717, validation accuracy: 95.55999755859375\n",
      "epoch: 10:\n",
      "training loss: 0.0017436332222384712, training accuracy: 95.16000366210938\n",
      "validation loss: 0.0023263846747577192, validation accuracy: 93.4800033569336\n",
      "epoch: 11:\n",
      "training loss: 0.0017078856279763082, training accuracy: 95.16666412353516\n",
      "validation loss: 0.0020130116671323774, validation accuracy: 94.76000213623047\n",
      "epoch: 12:\n",
      "training loss: 0.001708299969167759, training accuracy: 95.23999786376953\n",
      "validation loss: 0.0024355887092649938, validation accuracy: 93.44000244140625\n",
      "epoch: 13:\n",
      "training loss: 0.0016593929040400932, training accuracy: 95.42500305175781\n",
      "validation loss: 0.0020289066299796106, validation accuracy: 94.56999969482422\n",
      "epoch: 14:\n",
      "training loss: 0.0016196269411128015, training accuracy: 95.45500183105469\n",
      "validation loss: 0.001769498504512012, validation accuracy: 95.45999908447266\n",
      "epoch: 15:\n",
      "training loss: 0.0016258621096145363, training accuracy: 95.44999694824219\n",
      "validation loss: 0.0017114636743441225, validation accuracy: 95.45999908447266\n",
      "epoch: 16:\n",
      "training loss: 0.0016396162809959303, training accuracy: 95.38333129882812\n",
      "validation loss: 0.001857783282920718, validation accuracy: 95.16000366210938\n",
      "epoch: 17:\n",
      "training loss: 0.001556056859344244, training accuracy: 95.70333099365234\n",
      "validation loss: 0.002052527579292655, validation accuracy: 94.69999694824219\n",
      "epoch: 18:\n",
      "training loss: 0.001580169296171516, training accuracy: 95.62999725341797\n",
      "validation loss: 0.002006985812075436, validation accuracy: 95.0\n",
      "epoch: 19:\n",
      "training loss: 0.0016071357816147308, training accuracy: 95.63999938964844\n",
      "validation loss: 0.0016156065363436937, validation accuracy: 96.0199966430664\n",
      "CPU times: user 27min 48s, sys: 40.6 s, total: 28min 29s\n",
      "Wall time: 4min 38s\n"
     ]
    }
   ],
   "source": [
    "%%time\n",
    "\n",
    "epochs = 20\n",
    "train_loss_history = []\n",
    "train_correct_history = []\n",
    "valid_loss_history = []\n",
    "valid_correct_history = []\n",
    "\n",
    "for i in range(epochs):\n",
    "    current_train_loss = 0.0\n",
    "    current_train_correct = 0.0\n",
    "    current_valid_loss = 0.0\n",
    "    current_valid_correct = 0.0\n",
    "    \n",
    "    for images, labels in training_loader:\n",
    "        images = images.view(images.shape[0], -1)\n",
    "        y_hat = model(images)\n",
    "        loss = criterian(y_hat, labels)\n",
    "        \n",
    "        optimizer.zero_grad()\n",
    "        loss.backward()\n",
    "        optimizer.step()\n",
    "        \n",
    "        _, preds = torch.max(y_hat, 1)\n",
    "        current_train_loss += loss.item()\n",
    "        current_train_correct += torch.sum(preds == labels.data)\n",
    "    else:\n",
    "        print(f\"epoch: {i}:\")\n",
    "        with torch.no_grad():\n",
    "            for val_images, val_labels in validation_loader:\n",
    "                val_images = val_images.view(images.shape[0], -1)\n",
    "                y_val = model(val_images)\n",
    "                val_loss = criterian(y_val, val_labels)\n",
    "                \n",
    "                _, preds = torch.max(y_val, 1)\n",
    "                current_valid_loss += val_loss.item()\n",
    "                current_valid_correct += torch.sum(preds == val_labels.data)\n",
    "        \n",
    "        epoch_loss = current_train_loss/len(training_loader.dataset)\n",
    "        epoch_acc = current_train_correct.float()/len(training_loader)\n",
    "        train_loss_history.append(epoch_loss)\n",
    "        train_correct_history.append(epoch_acc)\n",
    "        print(f\"training loss: {epoch_loss}, training accuracy: {epoch_acc}\")\n",
    "        epoch_loss = current_valid_loss/len(validation_loader.dataset)\n",
    "        epoch_acc = current_valid_correct.float()/len(validation_loader)\n",
    "        valid_loss_history.append(epoch_loss)\n",
    "        valid_correct_history.append(epoch_acc)\n",
    "        print(f\"validation loss: {epoch_loss}, validation accuracy: {epoch_acc}\")"
   ]
  },
  {
   "cell_type": "code",
   "execution_count": 107,
   "metadata": {},
   "outputs": [
    {
     "data": {
      "text/plain": [
       "<matplotlib.legend.Legend at 0x12bbc7390>"
      ]
     },
     "execution_count": 107,
     "metadata": {},
     "output_type": "execute_result"
    },
    {
     "data": {
      "image/png": "[encoded data removed]",
      "text/plain": [
       "<Figure size 432x288 with 1 Axes>"
      ]
     },
     "metadata": {
      "needs_background": "light"
     },
     "output_type": "display_data"
    }
   ],
   "source": [
    "plt.plot(train_loss_history, label=\"train_loss_history\")\n",
    "plt.plot(valid_loss_history, label=\"valid_loss_history\")\n",
    "plt.legend()"
   ]
  },
  {
   "cell_type": "code",
   "execution_count": 108,
   "metadata": {},
   "outputs": [
    {
     "data": {
      "text/plain": [
       "<matplotlib.legend.Legend at 0x12bc6aa90>"
      ]
     },
     "execution_count": 108,
     "metadata": {},
     "output_type": "execute_result"
    },
    {
     "data": {
      "image/png": "[encoded data removed]",
      "text/plain": [
       "<Figure size 432x288 with 1 Axes>"
      ]
     },
     "metadata": {
      "needs_background": "light"
     },
     "output_type": "display_data"
    }
   ],
   "source": [
    "plt.plot(train_correct_history, label=\"train_correct_history\")\n",
    "plt.plot(valid_correct_history, label=\"valid_correct_history\")\n",
    "plt.legend()"
   ]
  },
  {
   "cell_type": "code",
   "execution_count": null,
   "metadata": {},
   "outputs": [],
   "source": []
  },
  {
   "cell_type": "code",
   "execution_count": 115,
   "metadata": {},
   "outputs": [
    {
     "name": "stdout",
     "output_type": "stream",
     "text": [
      "----------------------------------------------------------------\n",
      "        Layer (type)               Output Shape         Param #\n",
      "================================================================\n",
      "            Linear-1                  [-1, 125]          98,125\n",
      "            Linear-2                   [-1, 65]           8,190\n",
      "            Linear-3                   [-1, 10]             660\n",
      "================================================================\n",
      "Total params: 106,975\n",
      "Trainable params: 106,975\n",
      "Non-trainable params: 0\n",
      "----------------------------------------------------------------\n",
      "Input size (MB): 0.00\n",
      "Forward/backward pass size (MB): 0.00\n",
      "Params size (MB): 0.41\n",
      "Estimated Total Size (MB): 0.41\n",
      "----------------------------------------------------------------\n"
     ]
    }
   ],
   "source": [
    "summary(model, (784, ))"
   ]
  },
  {
   "cell_type": "code",
   "execution_count": null,
   "metadata": {},
   "outputs": [],
   "source": []
  }
 ],
 "metadata": {
  "kernelspec": {
   "display_name": "Python 3",
   "language": "python",
   "name": "python3"
  },
  "language_info": {
   "codemirror_mode": {
    "name": "ipython",
    "version": 3
   },
   "file_extension": ".py",
   "mimetype": "text/x-python",
   "name": "python",
   "nbconvert_exporter": "python",
   "pygments_lexer": "ipython3",
   "version": "3.7.4"
  }
 },
 "nbformat": 4,
 "nbformat_minor": 4
}
