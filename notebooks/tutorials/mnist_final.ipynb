{
 "cells": [
  {
   "cell_type": "code",
   "execution_count": 4,
   "metadata": {},
   "outputs": [],
   "source": [
    "import torch\n",
    "import torch.nn.functional as F\n",
    "import torch.nn as nn\n",
    "from torch.autograd import Variable\n",
    "from torchvision import datasets, transforms\n",
    "from torchsummary import summary\n",
    "\n",
    "import numpy as np\n",
    "import matplotlib.pyplot as plt\n",
    "import numbers\n",
    "\n",
    "from PIL import Image\n",
    "import math\n",
    "from tqdm import tqdm"
   ]
  },
  {
   "cell_type": "code",
   "execution_count": 10,
   "metadata": {},
   "outputs": [],
   "source": [
    "model_file_root = '../../models/'\n",
    "model_file_ext = '.pt'\n",
    "torch.manual_seed(42)"
   ]
  },
  {
   "cell_type": "code",
   "execution_count": 5,
   "metadata": {},
   "outputs": [],
   "source": [
    "class RandomRotation:\n",
    "    def __init__(self, degrees, resample=False, expand=False, center=None):\n",
    "        if isinstance(degrees, numbers.Number):\n",
    "            if degrees < 0:\n",
    "                raise ValueError(\"If degrees is a single number, it must be positive.\")\n",
    "            self.degrees = (-degrees, degrees)\n",
    "        else:\n",
    "            if len(degrees) != 2:\n",
    "                raise ValueError(\"If degrees is a sequence, it must be of len 2.\")\n",
    "            self.degrees = degrees\n",
    "\n",
    "        self.resample = resample\n",
    "        self.expand = expand\n",
    "        self.center = center\n",
    "\n",
    "    @staticmethod\n",
    "    def get_params(degrees):\n",
    "        angle = np.random.uniform(degrees[0], degrees[1])\n",
    "        return angle\n",
    "\n",
    "    def __call__(self, img):        \n",
    "        def rotate(img, angle, resample=False, expand=False, center=None):\n",
    "            return img.rotate(angle, resample, expand, center)\n",
    "\n",
    "        angle = self.get_params(self.degrees)\n",
    "        return rotate(img, angle, self.resample, self.expand, self.center)"
   ]
  },
  {
   "cell_type": "code",
   "execution_count": 6,
   "metadata": {},
   "outputs": [],
   "source": [
    "class RandomShift(object):\n",
    "    def __init__(self, shift):\n",
    "        self.shift = shift\n",
    "        \n",
    "    @staticmethod\n",
    "    def get_params(shift):\n",
    "        hshift, vshift = np.random.uniform(-shift, shift, size=2)\n",
    "        return hshift, vshift \n",
    "    \n",
    "    def __call__(self, img):\n",
    "        hshift, vshift = self.get_params(self.shift)\n",
    "        return img.transform(img.size, Image.AFFINE, (1,0,hshift,0,1,vshift), resample=Image.BICUBIC, fill=1)"
   ]
  },
  {
   "cell_type": "code",
   "execution_count": 7,
   "metadata": {},
   "outputs": [],
   "source": [
    "training_dataset = datasets.MNIST(root='data', train=True, download=True, transform=transforms.Compose([\n",
    "    RandomRotation(degrees=20), \n",
    "    RandomShift(3),\n",
    "    transforms.ToTensor(), \n",
    "    transforms.Normalize(mean=(0.5,), std=(0.5,))\n",
    "]))\n",
    "\n",
    "validation_dataset = datasets.MNIST(root='data', train=False, download=True, transform=transforms.Compose([\n",
    "    transforms.ToTensor(), \n",
    "    transforms.Normalize(mean=(0.5,), std=(0.5,))\n",
    "]))"
   ]
  },
  {
   "cell_type": "code",
   "execution_count": 8,
   "metadata": {},
   "outputs": [
    {
     "data": {
      "text/plain": [
       "(Dataset MNIST\n",
       "     Number of datapoints: 60000\n",
       "     Root location: data\n",
       "     Split: Train\n",
       "     StandardTransform\n",
       " Transform: Compose(\n",
       "                <__main__.RandomRotation object at 0x12a4d7e90>\n",
       "                <__main__.RandomShift object at 0x12a4d7ed0>\n",
       "                ToTensor()\n",
       "                Normalize(mean=(0.5,), std=(0.5,))\n",
       "            ), Dataset MNIST\n",
       "     Number of datapoints: 10000\n",
       "     Root location: data\n",
       "     Split: Test\n",
       "     StandardTransform\n",
       " Transform: Compose(\n",
       "                ToTensor()\n",
       "                Normalize(mean=(0.5,), std=(0.5,))\n",
       "            ))"
      ]
     },
     "execution_count": 8,
     "metadata": {},
     "output_type": "execute_result"
    }
   ],
   "source": [
    "training_dataset, validation_dataset"
   ]
  },
  {
   "cell_type": "code",
   "execution_count": 9,
   "metadata": {},
   "outputs": [],
   "source": [
    "training_loader = torch.utils.data.DataLoader(dataset=training_dataset, batch_size=100, shuffle=True)\n",
    "validation_loader = torch.utils.data.DataLoader(dataset=validation_dataset, batch_size=100, shuffle=True)"
   ]
  },
  {
   "cell_type": "markdown",
   "metadata": {},
   "source": [
    "## 1. Simple Conv Net"
   ]
  },
  {
   "cell_type": "code",
   "execution_count": 12,
   "metadata": {},
   "outputs": [],
   "source": [
    "class SimpleConvNet(nn.Module):\n",
    "    \n",
    "    def __init__(self):\n",
    "        super(SimpleConvNet, self).__init__()    \n",
    "        self.conv_layers = nn.Sequential(\n",
    "            nn.Conv2d(1, 20, 5, 1),        \n",
    "            nn.ReLU(),\n",
    "            nn.AvgPool2d(2, stride=2),  \n",
    "            nn.Conv2d(20, 50, 5, 1),\n",
    "            nn.BatchNorm2d(50),\n",
    "            nn.ReLU(),\n",
    "            nn.AvgPool2d(2, stride=2)  \n",
    "        )\n",
    "        self.full_conn_layers = nn.Sequential(\n",
    "            nn.Linear(4*4*50, 500),        \n",
    "            nn.ReLU(),\n",
    "            nn.Linear(500, 10)         \n",
    "        )\n",
    "    def forward(self, x):\n",
    "        x = self.conv_layers(x)\n",
    "        x = x.view(x.size(0), -1)\n",
    "        x = self.full_conn_layers(x)\n",
    "        return x\n",
    "    "
   ]
  },
  {
   "cell_type": "code",
   "execution_count": 13,
   "metadata": {},
   "outputs": [],
   "source": [
    "model = SimpleConvNet()\n",
    "epochs = 15\n",
    "criterion = nn.CrossEntropyLoss()\n",
    "optimizer = torch.optim.Adam(model.parameters(), lr = 0.0001)"
   ]
  },
  {
   "cell_type": "code",
   "execution_count": 14,
   "metadata": {},
   "outputs": [
    {
     "name": "stdout",
     "output_type": "stream",
     "text": [
      "epoch : 1\n",
      "training loss: 0.6453, acc 81.9650 \n",
      "validation loss: 0.0914, validation acc 97.8400 \n",
      "epoch : 2\n",
      "training loss: 0.1862, acc 94.6600 \n",
      "validation loss: 0.0628, validation acc 98.3100 \n",
      "epoch : 3\n",
      "training loss: 0.1325, acc 96.0933 \n",
      "validation loss: 0.0549, validation acc 98.3900 \n",
      "epoch : 4\n",
      "training loss: 0.1090, acc 96.7850 \n",
      "validation loss: 0.0389, validation acc 98.9100 \n",
      "epoch : 5\n",
      "training loss: 0.0939, acc 97.2383 \n",
      "validation loss: 0.0364, validation acc 98.9300 \n",
      "epoch : 6\n",
      "training loss: 0.0852, acc 97.5500 \n",
      "validation loss: 0.0311, validation acc 99.2100 \n",
      "epoch : 7\n",
      "training loss: 0.0774, acc 97.6017 \n",
      "validation loss: 0.0306, validation acc 99.1000 \n",
      "epoch : 8\n",
      "training loss: 0.0700, acc 97.8967 \n",
      "validation loss: 0.0297, validation acc 99.1500 \n",
      "epoch : 9\n",
      "training loss: 0.0642, acc 98.0217 \n",
      "validation loss: 0.0272, validation acc 99.1900 \n",
      "epoch : 10\n",
      "training loss: 0.0600, acc 98.0900 \n",
      "validation loss: 0.0250, validation acc 99.2400 \n",
      "epoch : 11\n",
      "training loss: 0.0559, acc 98.2867 \n",
      "validation loss: 0.0244, validation acc 99.2800 \n",
      "epoch : 12\n",
      "training loss: 0.0544, acc 98.3533 \n",
      "validation loss: 0.0245, validation acc 99.3000 \n",
      "epoch : 13\n",
      "training loss: 0.0526, acc 98.3533 \n",
      "validation loss: 0.0251, validation acc 99.2400 \n",
      "epoch : 14\n",
      "training loss: 0.0504, acc 98.4150 \n",
      "validation loss: 0.0278, validation acc 99.1600 \n",
      "epoch : 15\n",
      "training loss: 0.0481, acc 98.4933 \n",
      "validation loss: 0.0221, validation acc 99.3100 \n"
     ]
    }
   ],
   "source": [
    "running_loss_history = []\n",
    "running_corrects_history = []\n",
    "val_running_loss_history = []\n",
    "val_running_corrects_history = []\n",
    " \n",
    "for e in range(epochs):\n",
    "  \n",
    "    running_loss = 0.0\n",
    "    running_corrects = 0.0\n",
    "    val_running_loss = 0.0\n",
    "    val_running_corrects = 0.0\n",
    "  \n",
    "    for inputs, labels in training_loader:\n",
    "        outputs = model(inputs)\n",
    "        loss = criterion(outputs, labels)\n",
    "    \n",
    "        optimizer.zero_grad()\n",
    "        loss.backward()\n",
    "        optimizer.step()\n",
    "\n",
    "        _, preds = torch.max(outputs, 1)\n",
    "        running_loss += loss.item()\n",
    "        running_corrects += torch.sum(preds == labels.data)\n",
    " \n",
    "    else:\n",
    "        with torch.no_grad():\n",
    "            for val_inputs, val_labels in validation_loader:\n",
    "                val_outputs = model(val_inputs)\n",
    "                val_loss = criterion(val_outputs, val_labels)\n",
    "        \n",
    "                _, val_preds = torch.max(val_outputs, 1)\n",
    "                val_running_loss += val_loss.item()\n",
    "                val_running_corrects += torch.sum(val_preds == val_labels.data)\n",
    "      \n",
    "        epoch_loss = running_loss/len(training_loader)\n",
    "        epoch_acc = running_corrects.float()/ len(training_loader)\n",
    "        running_loss_history.append(epoch_loss)\n",
    "        running_corrects_history.append(epoch_acc)\n",
    "\n",
    "        val_epoch_loss = val_running_loss/len(validation_loader)\n",
    "        val_epoch_acc = val_running_corrects.float()/ len(validation_loader)\n",
    "        val_running_loss_history.append(val_epoch_loss)\n",
    "        val_running_corrects_history.append(val_epoch_acc)\n",
    "        print('epoch :', (e+1))\n",
    "        print('training loss: {:.4f}, acc {:.4f} '.format(epoch_loss, epoch_acc.item()))\n",
    "        print('validation loss: {:.4f}, validation acc {:.4f} '.format(val_epoch_loss, val_epoch_acc.item()))"
   ]
  },
  {
   "cell_type": "code",
   "execution_count": 15,
   "metadata": {},
   "outputs": [
    {
     "data": {
      "text/plain": [
       "<matplotlib.legend.Legend at 0x12ea1d5d0>"
      ]
     },
     "execution_count": 15,
     "metadata": {},
     "output_type": "execute_result"
    },
    {
     "data": {
      "image/png": "[encoded data removed]",
      "text/plain": [
       "<Figure size 432x288 with 1 Axes>"
      ]
     },
     "metadata": {
      "needs_background": "light"
     },
     "output_type": "display_data"
    }
   ],
   "source": [
    "plt.plot(running_loss_history, label='training loss')\n",
    "plt.plot(val_running_loss_history, label='validation loss')\n",
    "plt.legend()"
   ]
  },
  {
   "cell_type": "code",
   "execution_count": 16,
   "metadata": {},
   "outputs": [
    {
     "data": {
      "text/plain": [
       "<matplotlib.legend.Legend at 0x12f7d13d0>"
      ]
     },
     "execution_count": 16,
     "metadata": {},
     "output_type": "execute_result"
    },
    {
     "data": {
      "image/png": "[encoded data removed]",
      "text/plain": [
       "<Figure size 432x288 with 1 Axes>"
      ]
     },
     "metadata": {
      "needs_background": "light"
     },
     "output_type": "display_data"
    }
   ],
   "source": [
    "plt.plot(running_corrects_history, label='training accuracy')\n",
    "plt.plot(val_running_corrects_history, label='validation accuracy')\n",
    "plt.legend()"
   ]
  },
  {
   "cell_type": "code",
   "execution_count": null,
   "metadata": {},
   "outputs": [],
   "source": [
    "path = model_file_root+'SimpleConvNet'+model_file_ext\n",
    "torch.save(model.state_dict(), path)\n",
    "\n",
    "\n",
    "# model = SimpleConvNet(*args, **kwargs)\n",
    "# model.load_state_dict(torch.load(PATH))\n",
    "# model.eval()"
   ]
  },
  {
   "cell_type": "markdown",
   "metadata": {},
   "source": [
    "## 2. Simple Conv Net with decay learning rate"
   ]
  },
  {
   "cell_type": "code",
   "execution_count": 51,
   "metadata": {},
   "outputs": [],
   "source": [
    "class SimpleConvNetLR(nn.Module):\n",
    "    \n",
    "    def __init__(self):\n",
    "        super(SimpleConvNetLR, self).__init__()    \n",
    "        self.conv_layers = nn.Sequential(\n",
    "            nn.Conv2d(1, 20, 5, 1),        \n",
    "            nn.ReLU(),\n",
    "            nn.AvgPool2d(2, stride=2),  \n",
    "            nn.Conv2d(20, 50, 5, 1),\n",
    "            nn.BatchNorm2d(50),\n",
    "            nn.ReLU(),\n",
    "            nn.AvgPool2d(2, stride=2)  \n",
    "        )\n",
    "        self.full_conn_layers = nn.Sequential(\n",
    "            nn.Linear(4*4*50, 500),        \n",
    "            nn.ReLU(),\n",
    "            nn.Linear(500, 10)         \n",
    "        )\n",
    "    def forward(self, x):\n",
    "        x = self.conv_layers(x)\n",
    "        x = x.view(x.size(0), -1)\n",
    "        x = self.full_conn_layers(x)\n",
    "        return x\n",
    "    "
   ]
  },
  {
   "cell_type": "code",
   "execution_count": 52,
   "metadata": {},
   "outputs": [],
   "source": [
    "model = SimpleConvNetLR()\n",
    "epochs = 20\n",
    "criterion = nn.CrossEntropyLoss()\n",
    "optimizer = torch.optim.Adam(model.parameters(), lr = 0.01)\n",
    "scheduler = torch.optim.lr_scheduler.StepLR(optimizer, step_size=4, gamma=0.1)"
   ]
  },
  {
   "cell_type": "code",
   "execution_count": 53,
   "metadata": {},
   "outputs": [
    {
     "name": "stdout",
     "output_type": "stream",
     "text": [
      "epoch : 1 LR: [0.01]\n",
      "training loss: 0.2957, acc 91.2717 \n",
      "validation loss: 0.0547, validation acc 98.3000 \n",
      "epoch : 2 LR: [0.01]\n",
      "training loss: 0.0995, acc 96.9150 \n",
      "validation loss: 0.0349, validation acc 98.9000 \n",
      "epoch : 3 LR: [0.01]\n",
      "training loss: 0.0754, acc 97.7200 \n",
      "validation loss: 0.0419, validation acc 98.7000 \n",
      "epoch : 4 LR: [0.01]\n",
      "training loss: 0.0694, acc 97.8667 \n",
      "validation loss: 0.0400, validation acc 98.7500 \n",
      "epoch : 5 LR: [0.001]\n",
      "training loss: 0.0445, acc 98.6150 \n",
      "validation loss: 0.0183, validation acc 99.4200 \n",
      "epoch : 6 LR: [0.001]\n",
      "training loss: 0.0358, acc 98.8200 \n",
      "validation loss: 0.0177, validation acc 99.4400 \n",
      "epoch : 7 LR: [0.001]\n",
      "training loss: 0.0331, acc 98.9933 \n",
      "validation loss: 0.0171, validation acc 99.4500 \n",
      "epoch : 8 LR: [0.001]\n",
      "training loss: 0.0319, acc 99.0150 \n",
      "validation loss: 0.0174, validation acc 99.4600 \n",
      "epoch : 9 LR: [0.00010000000000000002]\n",
      "training loss: 0.0295, acc 99.0700 \n",
      "validation loss: 0.0159, validation acc 99.4700 \n",
      "epoch : 10 LR: [0.00010000000000000002]\n",
      "training loss: 0.0281, acc 99.1183 \n",
      "validation loss: 0.0161, validation acc 99.4600 \n",
      "epoch : 11 LR: [0.00010000000000000002]\n",
      "training loss: 0.0274, acc 99.1267 \n",
      "validation loss: 0.0153, validation acc 99.5100 \n",
      "epoch : 12 LR: [0.00010000000000000002]\n",
      "training loss: 0.0266, acc 99.1683 \n",
      "validation loss: 0.0151, validation acc 99.5000 \n",
      "epoch : 13 LR: [1.0000000000000003e-05]\n",
      "training loss: 0.0261, acc 99.1850 \n",
      "validation loss: 0.0153, validation acc 99.5100 \n",
      "epoch : 14 LR: [1.0000000000000003e-05]\n",
      "training loss: 0.0266, acc 99.1400 \n",
      "validation loss: 0.0155, validation acc 99.5200 \n",
      "epoch : 15 LR: [1.0000000000000003e-05]\n",
      "training loss: 0.0267, acc 99.1767 \n",
      "validation loss: 0.0149, validation acc 99.5000 \n",
      "epoch : 16 LR: [1.0000000000000003e-05]\n",
      "training loss: 0.0263, acc 99.1367 \n",
      "validation loss: 0.0156, validation acc 99.4600 \n",
      "epoch : 17 LR: [1.0000000000000002e-06]\n",
      "training loss: 0.0265, acc 99.1517 \n",
      "validation loss: 0.0159, validation acc 99.4400 \n",
      "epoch : 18 LR: [1.0000000000000002e-06]\n",
      "training loss: 0.0270, acc 99.1350 \n",
      "validation loss: 0.0152, validation acc 99.5100 \n",
      "epoch : 19 LR: [1.0000000000000002e-06]\n",
      "training loss: 0.0264, acc 99.2400 \n",
      "validation loss: 0.0155, validation acc 99.5100 \n",
      "epoch : 20 LR: [1.0000000000000002e-06]\n",
      "training loss: 0.0268, acc 99.1450 \n",
      "validation loss: 0.0157, validation acc 99.4900 \n"
     ]
    }
   ],
   "source": [
    "running_loss_history = []\n",
    "running_corrects_history = []\n",
    "val_running_loss_history = []\n",
    "val_running_corrects_history = []\n",
    " \n",
    "for e in range(epochs):\n",
    "  \n",
    "    running_loss = 0.0\n",
    "    running_corrects = 0.0\n",
    "    val_running_loss = 0.0\n",
    "    val_running_corrects = 0.0\n",
    "  \n",
    "    print('epoch :', (e+1), 'LR:', scheduler.get_lr())\n",
    "    for inputs, labels in training_loader:\n",
    "        outputs = model(inputs)\n",
    "        loss = criterion(outputs, labels)\n",
    "    \n",
    "        optimizer.zero_grad()\n",
    "        loss.backward()\n",
    "        optimizer.step()\n",
    "\n",
    "        _, preds = torch.max(outputs, 1)\n",
    "        running_loss += loss.item()\n",
    "        running_corrects += torch.sum(preds == labels.data)\n",
    " \n",
    "    else:\n",
    "        with torch.no_grad():\n",
    "            for val_inputs, val_labels in validation_loader:\n",
    "                val_outputs = model(val_inputs)\n",
    "                val_loss = criterion(val_outputs, val_labels)\n",
    "        \n",
    "                _, val_preds = torch.max(val_outputs, 1)\n",
    "                val_running_loss += val_loss.item()\n",
    "                val_running_corrects += torch.sum(val_preds == val_labels.data)\n",
    "      \n",
    "        epoch_loss = running_loss/len(training_loader)\n",
    "        epoch_acc = running_corrects.float()/ len(training_loader)\n",
    "        running_loss_history.append(epoch_loss)\n",
    "        running_corrects_history.append(epoch_acc)\n",
    "\n",
    "        val_epoch_loss = val_running_loss/len(validation_loader)\n",
    "        val_epoch_acc = val_running_corrects.float()/ len(validation_loader)\n",
    "        val_running_loss_history.append(val_epoch_loss)\n",
    "        val_running_corrects_history.append(val_epoch_acc)\n",
    "        \n",
    "        print('training loss: {:.4f}, acc {:.4f} '.format(epoch_loss, epoch_acc.item()))\n",
    "        print('validation loss: {:.4f}, validation acc {:.4f} '.format(val_epoch_loss, val_epoch_acc.item()))\n",
    "        scheduler.step()\n"
   ]
  },
  {
   "cell_type": "code",
   "execution_count": 54,
   "metadata": {},
   "outputs": [
    {
     "data": {
      "text/plain": [
       "<matplotlib.legend.Legend at 0x12f10b710>"
      ]
     },
     "execution_count": 54,
     "metadata": {},
     "output_type": "execute_result"
    },
    {
     "data": {
      "image/png": "[encoded data removed]",
      "text/plain": [
       "<Figure size 432x288 with 1 Axes>"
      ]
     },
     "metadata": {
      "needs_background": "light"
     },
     "output_type": "display_data"
    }
   ],
   "source": [
    "plt.plot(running_loss_history, label='training loss')\n",
    "plt.plot(val_running_loss_history, label='validation loss')\n",
    "plt.legend()"
   ]
  },
  {
   "cell_type": "code",
   "execution_count": 55,
   "metadata": {},
   "outputs": [
    {
     "data": {
      "text/plain": [
       "<matplotlib.legend.Legend at 0x130260710>"
      ]
     },
     "execution_count": 55,
     "metadata": {},
     "output_type": "execute_result"
    },
    {
     "data": {
      "image/png": "[encoded data removed]",
      "text/plain": [
       "<Figure size 432x288 with 1 Axes>"
      ]
     },
     "metadata": {
      "needs_background": "light"
     },
     "output_type": "display_data"
    }
   ],
   "source": [
    "plt.plot(running_corrects_history, label='training accuracy')\n",
    "plt.plot(val_running_corrects_history, label='validation accuracy')\n",
    "plt.legend()"
   ]
  },
  {
   "cell_type": "code",
   "execution_count": 56,
   "metadata": {},
   "outputs": [],
   "source": [
    "path = model_file_root+'SimpleConvNetLR'+model_file_ext\n",
    "torch.save(model.state_dict(), path)\n",
    "\n",
    "\n",
    "# model = SimpleConvNet(*args, **kwargs)\n",
    "# model.load_state_dict(torch.load(PATH))\n",
    "# model.eval()"
   ]
  },
  {
   "cell_type": "code",
   "execution_count": null,
   "metadata": {},
   "outputs": [],
   "source": []
  },
  {
   "cell_type": "markdown",
   "metadata": {},
   "source": [
    "## 2. Simple Conv Net with cyrcle learning rate"
   ]
  },
  {
   "cell_type": "code",
   "execution_count": 105,
   "metadata": {},
   "outputs": [],
   "source": [
    "class SimpleConvNetCLR(nn.Module):\n",
    "    \n",
    "    def __init__(self):\n",
    "        super(SimpleConvNetCLR, self).__init__()    \n",
    "        self.conv_layers = nn.Sequential(\n",
    "            nn.Conv2d(1, 20, 5, 1),        \n",
    "            nn.ReLU(),\n",
    "            nn.AvgPool2d(2, stride=2),  \n",
    "            nn.Conv2d(20, 50, 5, 1),\n",
    "            nn.BatchNorm2d(50),\n",
    "            nn.ReLU(),\n",
    "            nn.AvgPool2d(2, stride=2)  \n",
    "        )\n",
    "        self.full_conn_layers = nn.Sequential(\n",
    "            nn.Linear(4*4*50, 500),        \n",
    "            nn.ReLU(),\n",
    "            nn.Linear(500, 10)         \n",
    "        )\n",
    "    def forward(self, x):\n",
    "        x = self.conv_layers(x)\n",
    "        x = x.view(x.size(0), -1)\n",
    "        x = self.full_conn_layers(x)\n",
    "        return x\n",
    "    "
   ]
  },
  {
   "cell_type": "code",
   "execution_count": 106,
   "metadata": {},
   "outputs": [],
   "source": [
    "model = SimpleConvNetCLR()\n",
    "epochs = 10\n",
    "criterion = nn.CrossEntropyLoss()\n",
    "optimizer = torch.optim.Adam(model.parameters(), lr = 0.01)\n",
    "scheduler = torch.optim.lr_scheduler.CyclicLR(\n",
    "    optimizer,\n",
    "    base_lr=1e-5, \n",
    "    max_lr=0.01,\n",
    "    step_size_up=100,\n",
    "    mode=\"exp_range\", \n",
    "    gamma=0.998,\n",
    "    cycle_momentum=False,\n",
    "    last_epoch=-1,\n",
    ")"
   ]
  },
  {
   "cell_type": "code",
   "execution_count": 107,
   "metadata": {},
   "outputs": [
    {
     "name": "stdout",
     "output_type": "stream",
     "text": [
      "epoch : 1\n",
      "training loss: 0.2322, acc 92.6000 \n",
      "validation loss: 0.0357, validation acc 98.8300 \n",
      "epoch : 2\n",
      "training loss: 0.0693, acc 97.8567 \n",
      "validation loss: 0.0266, validation acc 99.1900 \n",
      "epoch : 3\n",
      "training loss: 0.0526, acc 98.3650 \n",
      "validation loss: 0.0228, validation acc 99.2900 \n",
      "epoch : 4\n",
      "training loss: 0.0459, acc 98.5533 \n",
      "validation loss: 0.0220, validation acc 99.2900 \n",
      "epoch : 5\n",
      "training loss: 0.0438, acc 98.6150 \n",
      "validation loss: 0.0214, validation acc 99.3800 \n",
      "epoch : 6\n",
      "training loss: 0.0417, acc 98.7550 \n",
      "validation loss: 0.0215, validation acc 99.3100 \n",
      "epoch : 7\n",
      "training loss: 0.0406, acc 98.7267 \n",
      "validation loss: 0.0216, validation acc 99.3000 \n",
      "epoch : 8\n",
      "training loss: 0.0417, acc 98.6850 \n",
      "validation loss: 0.0216, validation acc 99.2900 \n",
      "epoch : 9\n",
      "training loss: 0.0407, acc 98.7133 \n",
      "validation loss: 0.0215, validation acc 99.3300 \n",
      "epoch : 10\n",
      "training loss: 0.0417, acc 98.7133 \n",
      "validation loss: 0.0213, validation acc 99.2900 \n",
      "CPU times: user 1h 13min 36s, sys: 48.7 s, total: 1h 14min 24s\n",
      "Wall time: 11min 19s\n"
     ]
    }
   ],
   "source": [
    "%%time\n",
    "\n",
    "running_loss_history = []\n",
    "running_corrects_history = []\n",
    "val_running_loss_history = []\n",
    "val_running_corrects_history = []\n",
    "lr_history = []\n",
    "\n",
    "for e in range(epochs):\n",
    "  \n",
    "    running_loss = 0.0\n",
    "    running_corrects = 0.0\n",
    "    val_running_loss = 0.0\n",
    "    val_running_corrects = 0.0\n",
    "  \n",
    "    print('epoch :', (e+1))\n",
    "    for inputs, labels in training_loader:\n",
    "        lr_history.append(scheduler.get_lr())\n",
    "        outputs = model(inputs)\n",
    "        loss = criterion(outputs, labels)\n",
    "    \n",
    "        optimizer.zero_grad()\n",
    "        loss.backward()\n",
    "        optimizer.step()\n",
    "        scheduler.step()\n",
    "        \n",
    "        _, preds = torch.max(outputs, 1)\n",
    "        running_loss += loss.item()\n",
    "        running_corrects += torch.sum(preds == labels.data)\n",
    " \n",
    "    else:\n",
    "        with torch.no_grad():\n",
    "            for val_inputs, val_labels in validation_loader:\n",
    "                val_outputs = model(val_inputs)\n",
    "                val_loss = criterion(val_outputs, val_labels)\n",
    "        \n",
    "                _, val_preds = torch.max(val_outputs, 1)\n",
    "                val_running_loss += val_loss.item()\n",
    "                val_running_corrects += torch.sum(val_preds == val_labels.data)\n",
    "\n",
    "        epoch_loss = running_loss/len(training_loader)\n",
    "        epoch_acc = running_corrects.float()/ len(training_loader)\n",
    "        running_loss_history.append(epoch_loss)\n",
    "        running_corrects_history.append(epoch_acc)\n",
    "\n",
    "        val_epoch_loss = val_running_loss/len(validation_loader)\n",
    "        val_epoch_acc = val_running_corrects.float()/ len(validation_loader)\n",
    "        val_running_loss_history.append(val_epoch_loss)\n",
    "        val_running_corrects_history.append(val_epoch_acc)\n",
    "        \n",
    "        print('training loss: {:.4f}, acc {:.4f} '.format(epoch_loss, epoch_acc.item()))\n",
    "        print('validation loss: {:.4f}, validation acc {:.4f} '.format(val_epoch_loss, val_epoch_acc.item()))\n"
   ]
  },
  {
   "cell_type": "code",
   "execution_count": 108,
   "metadata": {},
   "outputs": [
    {
     "data": {
      "text/plain": [
       "<matplotlib.legend.Legend at 0x1385d04d0>"
      ]
     },
     "execution_count": 108,
     "metadata": {},
     "output_type": "execute_result"
    },
    {
     "data": {
      "image/png": "[encoded data removed]",
      "text/plain": [
       "<Figure size 432x288 with 1 Axes>"
      ]
     },
     "metadata": {
      "needs_background": "light"
     },
     "output_type": "display_data"
    }
   ],
   "source": [
    "plt.plot(lr_history, label='lr_history')\n",
    "plt.legend()"
   ]
  },
  {
   "cell_type": "code",
   "execution_count": 104,
   "metadata": {},
   "outputs": [
    {
     "data": {
      "text/plain": [
       "6.0708251442253465e-06"
      ]
     },
     "execution_count": 104,
     "metadata": {},
     "output_type": "execute_result"
    }
   ],
   "source": []
  },
  {
   "cell_type": "code",
   "execution_count": 97,
   "metadata": {},
   "outputs": [
    {
     "data": {
      "text/plain": [
       "<matplotlib.legend.Legend at 0x1383583d0>"
      ]
     },
     "execution_count": 97,
     "metadata": {},
     "output_type": "execute_result"
    },
    {
     "data": {
      "image/png": "[encoded data removed]",
      "text/plain": [
       "<Figure size 432x288 with 1 Axes>"
      ]
     },
     "metadata": {
      "needs_background": "light"
     },
     "output_type": "display_data"
    }
   ],
   "source": [
    "plt.plot(running_loss_history, label='training loss')\n",
    "plt.plot(val_running_loss_history, label='validation loss')\n",
    "plt.legend()"
   ]
  },
  {
   "cell_type": "code",
   "execution_count": 98,
   "metadata": {},
   "outputs": [
    {
     "data": {
      "text/plain": [
       "<matplotlib.legend.Legend at 0x1376f3a50>"
      ]
     },
     "execution_count": 98,
     "metadata": {},
     "output_type": "execute_result"
    },
    {
     "data": {
      "image/png": "[encoded data removed]",
      "text/plain": [
       "<Figure size 432x288 with 1 Axes>"
      ]
     },
     "metadata": {
      "needs_background": "light"
     },
     "output_type": "display_data"
    }
   ],
   "source": [
    "plt.plot(running_corrects_history, label='training accuracy')\n",
    "plt.plot(val_running_corrects_history, label='validation accuracy')\n",
    "plt.legend()"
   ]
  },
  {
   "cell_type": "code",
   "execution_count": 84,
   "metadata": {},
   "outputs": [],
   "source": [
    "path = model_file_root+'SimpleConvNetCLR'+model_file_ext\n",
    "torch.save(model.state_dict(), path)\n",
    "\n",
    "# model = SimpleConvNet(*args, **kwargs)\n",
    "# model.load_state_dict(torch.load(PATH))\n",
    "# model.eval()"
   ]
  },
  {
   "cell_type": "code",
   "execution_count": null,
   "metadata": {},
   "outputs": [],
   "source": []
  },
  {
   "cell_type": "markdown",
   "metadata": {},
   "source": [
    "## 2. Simple Conv Net with plato learning rate"
   ]
  },
  {
   "cell_type": "code",
   "execution_count": 130,
   "metadata": {},
   "outputs": [],
   "source": [
    "class SimpleConvNetPLR(nn.Module):\n",
    "    \n",
    "    def __init__(self):\n",
    "        super(SimpleConvNetPLR, self).__init__()    \n",
    "        self.conv_layers = nn.Sequential(\n",
    "            nn.Conv2d(1, 20, 5, 1),        \n",
    "            nn.ReLU(),\n",
    "            nn.AvgPool2d(2, stride=2),  \n",
    "            nn.Conv2d(20, 50, 5, 1),\n",
    "            nn.BatchNorm2d(50),\n",
    "            nn.ReLU(),\n",
    "            nn.AvgPool2d(2, stride=2)  \n",
    "        )\n",
    "        self.full_conn_layers = nn.Sequential(\n",
    "            nn.Linear(4*4*50, 500),        \n",
    "            nn.ReLU(),\n",
    "            nn.Linear(500, 10)         \n",
    "        )\n",
    "    def forward(self, x):\n",
    "        x = self.conv_layers(x)\n",
    "        x = x.view(x.size(0), -1)\n",
    "        x = self.full_conn_layers(x)\n",
    "        return x\n",
    "    "
   ]
  },
  {
   "cell_type": "code",
   "execution_count": 131,
   "metadata": {},
   "outputs": [],
   "source": [
    "model = SimpleConvNetPLR()\n",
    "epochs = 20\n",
    "criterion = nn.CrossEntropyLoss()\n",
    "optimizer = torch.optim.Adam(model.parameters(), lr = 0.01)\n",
    "scheduler = torch.optim.lr_scheduler.ReduceLROnPlateau(\n",
    "    optimizer,\n",
    "    factor=0.3,\n",
    "    mode=\"max\",\n",
    "    verbose=True,\n",
    "    patience=1\n",
    ")"
   ]
  },
  {
   "cell_type": "code",
   "execution_count": 119,
   "metadata": {},
   "outputs": [
    {
     "name": "stdout",
     "output_type": "stream",
     "text": [
      "epoch : 1\n",
      "training loss: 0.2707, acc 91.8217 \n",
      "validation loss: 0.0429, validation acc 98.6500 \n",
      "epoch : 2\n",
      "training loss: 0.0955, acc 97.0300 \n",
      "validation loss: 0.0402, validation acc 98.8900 \n",
      "epoch : 3\n",
      "training loss: 0.0753, acc 97.6917 \n",
      "validation loss: 0.0293, validation acc 99.1200 \n",
      "epoch : 4\n",
      "training loss: 0.0671, acc 97.9400 \n",
      "validation loss: 0.0327, validation acc 98.9500 \n",
      "epoch : 5\n",
      "training loss: 0.0662, acc 97.9700 \n",
      "validation loss: 0.0367, validation acc 98.8600 \n",
      "Epoch     4: reducing learning rate of group 0 to 3.0000e-03.\n",
      "epoch : 6\n",
      "training loss: 0.0388, acc 98.8133 \n",
      "validation loss: 0.0211, validation acc 99.3900 \n",
      "epoch : 7\n",
      "training loss: 0.0345, acc 98.9400 \n",
      "validation loss: 0.0198, validation acc 99.4500 \n",
      "epoch : 8\n",
      "training loss: 0.0316, acc 99.0267 \n",
      "validation loss: 0.0197, validation acc 99.3900 \n",
      "epoch : 9\n",
      "training loss: 0.0325, acc 99.0050 \n",
      "validation loss: 0.0213, validation acc 99.2900 \n",
      "Epoch     8: reducing learning rate of group 0 to 9.0000e-04.\n",
      "epoch : 10\n",
      "training loss: 0.0242, acc 99.2600 \n",
      "validation loss: 0.0162, validation acc 99.5100 \n",
      "epoch : 11\n",
      "training loss: 0.0246, acc 99.2200 \n",
      "validation loss: 0.0167, validation acc 99.5300 \n",
      "epoch : 12\n",
      "training loss: 0.0230, acc 99.2600 \n",
      "validation loss: 0.0164, validation acc 99.5200 \n",
      "epoch : 13\n",
      "training loss: 0.0228, acc 99.3150 \n",
      "validation loss: 0.0160, validation acc 99.4800 \n",
      "Epoch    12: reducing learning rate of group 0 to 2.7000e-04.\n",
      "epoch : 14\n",
      "training loss: 0.0203, acc 99.3333 \n",
      "validation loss: 0.0164, validation acc 99.5100 \n",
      "epoch : 15\n",
      "training loss: 0.0191, acc 99.4050 \n",
      "validation loss: 0.0164, validation acc 99.4900 \n",
      "Epoch    14: reducing learning rate of group 0 to 8.1000e-05.\n",
      "epoch : 16\n",
      "training loss: 0.0199, acc 99.3550 \n",
      "validation loss: 0.0155, validation acc 99.5200 \n",
      "epoch : 17\n",
      "training loss: 0.0189, acc 99.3917 \n",
      "validation loss: 0.0163, validation acc 99.5100 \n",
      "Epoch    16: reducing learning rate of group 0 to 2.4300e-05.\n",
      "epoch : 18\n",
      "training loss: 0.0183, acc 99.4233 \n",
      "validation loss: 0.0155, validation acc 99.5500 \n",
      "epoch : 19\n",
      "training loss: 0.0188, acc 99.3983 \n",
      "validation loss: 0.0156, validation acc 99.5300 \n",
      "epoch : 20\n",
      "training loss: 0.0180, acc 99.4250 \n",
      "validation loss: 0.0153, validation acc 99.5800 \n",
      "CPU times: user 2h 28min 35s, sys: 3min 10s, total: 2h 31min 45s\n",
      "Wall time: 23min 41s\n"
     ]
    }
   ],
   "source": [
    "%%time\n",
    "\n",
    "running_loss_history = []\n",
    "running_corrects_history = []\n",
    "val_running_loss_history = []\n",
    "val_running_corrects_history = []\n",
    "\n",
    "for e in range(epochs):\n",
    "  \n",
    "    running_loss = 0.0\n",
    "    running_corrects = 0.0\n",
    "    val_running_loss = 0.0\n",
    "    val_running_corrects = 0.0\n",
    "  \n",
    "    print('epoch :', (e+1))\n",
    "    for inputs, labels in training_loader:\n",
    "        outputs = model(inputs)\n",
    "        loss = criterion(outputs, labels)\n",
    "    \n",
    "        optimizer.zero_grad()\n",
    "        loss.backward()\n",
    "        optimizer.step()\n",
    "        \n",
    "        _, preds = torch.max(outputs, 1)\n",
    "        running_loss += loss.item()\n",
    "        running_corrects += torch.sum(preds == labels.data)\n",
    " \n",
    "    else:\n",
    "        with torch.no_grad():\n",
    "            for val_inputs, val_labels in validation_loader:\n",
    "                val_outputs = model(val_inputs)\n",
    "                val_loss = criterion(val_outputs, val_labels)\n",
    "        \n",
    "                _, val_preds = torch.max(val_outputs, 1)\n",
    "                val_running_loss += val_loss.item()\n",
    "                val_running_corrects += torch.sum(val_preds == val_labels.data)\n",
    "\n",
    "        epoch_loss = running_loss/len(training_loader)\n",
    "        epoch_acc = running_corrects.float()/ len(training_loader)\n",
    "        running_loss_history.append(epoch_loss)\n",
    "        running_corrects_history.append(epoch_acc)\n",
    "\n",
    "        val_epoch_loss = val_running_loss/len(validation_loader)\n",
    "        val_epoch_acc = val_running_corrects.float()/ len(validation_loader)\n",
    "        val_running_loss_history.append(val_epoch_loss)\n",
    "        val_running_corrects_history.append(val_epoch_acc)\n",
    "        \n",
    "        print('training loss: {:.4f}, acc {:.4f} '.format(epoch_loss, epoch_acc.item()))\n",
    "        print('validation loss: {:.4f}, validation acc {:.4f} '.format(val_epoch_loss, val_epoch_acc.item()))\n",
    "        scheduler.step(val_epoch_acc)\n",
    "        "
   ]
  },
  {
   "cell_type": "code",
   "execution_count": 122,
   "metadata": {},
   "outputs": [
    {
     "data": {
      "text/plain": [
       "<matplotlib.legend.Legend at 0x137908d50>"
      ]
     },
     "execution_count": 122,
     "metadata": {},
     "output_type": "execute_result"
    },
    {
     "data": {
      "image/png": "[encoded data removed]",
      "text/plain": [
       "<Figure size 432x288 with 1 Axes>"
      ]
     },
     "metadata": {
      "needs_background": "light"
     },
     "output_type": "display_data"
    }
   ],
   "source": [
    "plt.plot(running_loss_history, label='training loss')\n",
    "plt.plot(val_running_loss_history, label='validation loss')\n",
    "plt.legend()"
   ]
  },
  {
   "cell_type": "code",
   "execution_count": 123,
   "metadata": {},
   "outputs": [
    {
     "data": {
      "text/plain": [
       "<matplotlib.legend.Legend at 0x13825c3d0>"
      ]
     },
     "execution_count": 123,
     "metadata": {},
     "output_type": "execute_result"
    },
    {
     "data": {
      "image/png": "[encoded data removed]",
      "text/plain": [
       "<Figure size 432x288 with 1 Axes>"
      ]
     },
     "metadata": {
      "needs_background": "light"
     },
     "output_type": "display_data"
    }
   ],
   "source": [
    "plt.plot(running_corrects_history, label='training accuracy')\n",
    "plt.plot(val_running_corrects_history, label='validation accuracy')\n",
    "plt.legend()"
   ]
  },
  {
   "cell_type": "code",
   "execution_count": null,
   "metadata": {},
   "outputs": [],
   "source": []
  },
  {
   "cell_type": "code",
   "execution_count": 124,
   "metadata": {},
   "outputs": [],
   "source": [
    "path = model_file_root+'SimpleConvNetPLR'+model_file_ext\n",
    "torch.save(model.state_dict(), path)\n",
    "\n",
    "# model = SimpleConvNet(*args, **kwargs)\n",
    "# model.load_state_dict(torch.load(PATH))\n",
    "# model.eval()"
   ]
  },
  {
   "cell_type": "code",
   "execution_count": 132,
   "metadata": {},
   "outputs": [],
   "source": [
    "def train(model):\n",
    "    running_loss = 0.0\n",
    "    running_corrects = 0.0\n",
    "    val_running_loss = 0.0\n",
    "    val_running_corrects = 0.0\n",
    "    model.train()\n",
    "    \n",
    "    for inputs, labels in training_loader:\n",
    "        optimizer.zero_grad()\n",
    "        \n",
    "        outputs = model(inputs)\n",
    "        loss = criterion(outputs, labels)\n",
    "        \n",
    "        loss.backward()\n",
    "        optimizer.step()\n",
    "\n",
    "        _, preds = torch.max(outputs, 1)\n",
    "        running_loss += loss.item()\n",
    "        running_corrects += torch.sum(preds == labels.data)\n",
    "\n",
    "    else:\n",
    "        epoch_loss = running_loss/len(training_loader)\n",
    "        epoch_acc = running_corrects.float()/ len(training_loader)\n",
    "    \n",
    "    return epoch_loss, epoch_acc"
   ]
  },
  {
   "cell_type": "code",
   "execution_count": 133,
   "metadata": {},
   "outputs": [],
   "source": [
    "def evaluate(model):\n",
    "    loss = 0.0\n",
    "    corrects = 0.0\n",
    "    \n",
    "    model.eval()\n",
    "    with torch.no_grad():\n",
    "        for inputs, labels in validation_loader:\n",
    "            inputs, labels = Variable(inputs), Variable(labels)\n",
    "            outputs = model(inputs)\n",
    "\n",
    "            loss += F.cross_entropy(outputs, labels, reduction='mean').item()\n",
    "            pred = outputs.data.max(1, keepdim=True)[1]\n",
    "            corrects += pred.eq(labels.data.view_as(pred)).cpu().sum()\n",
    "               \n",
    "    return loss/len(validation_loader), corrects.float()/len(validation_loader)"
   ]
  },
  {
   "cell_type": "code",
   "execution_count": 134,
   "metadata": {},
   "outputs": [
    {
     "name": "stdout",
     "output_type": "stream",
     "text": [
      "epoch : 1\n",
      "training loss: 0.2862, training acc 91.5483 \n",
      "validation loss: 0.0524, validation acc 98.4100 \n",
      "epoch : 2\n",
      "training loss: 0.0963, training acc 97.0250 \n",
      "validation loss: 0.0329, validation acc 98.9100 \n",
      "epoch : 3\n",
      "training loss: 0.0762, training acc 97.6100 \n",
      "validation loss: 0.0275, validation acc 99.1000 \n",
      "epoch : 4\n",
      "training loss: 0.0668, training acc 97.9467 \n",
      "validation loss: 0.0256, validation acc 99.1800 \n",
      "epoch : 5\n",
      "training loss: 0.0627, training acc 98.1700 \n",
      "validation loss: 0.0226, validation acc 99.2000 \n",
      "epoch : 6\n",
      "training loss: 0.0598, training acc 98.1267 \n",
      "validation loss: 0.0223, validation acc 99.2800 \n",
      "epoch : 7\n",
      "training loss: 0.0566, training acc 98.2850 \n",
      "validation loss: 0.0258, validation acc 99.1800 \n",
      "epoch : 8\n",
      "training loss: 0.0532, training acc 98.4567 \n",
      "validation loss: 0.0250, validation acc 99.2600 \n",
      "Epoch     7: reducing learning rate of group 0 to 3.0000e-03.\n",
      "epoch : 9\n",
      "training loss: 0.0335, training acc 98.9867 \n",
      "validation loss: 0.0172, validation acc 99.4900 \n",
      "epoch : 10\n",
      "training loss: 0.0303, training acc 99.0967 \n",
      "validation loss: 0.0171, validation acc 99.4100 \n"
     ]
    },
    {
     "ename": "KeyboardInterrupt",
     "evalue": "",
     "output_type": "error",
     "traceback": [
      "\u001b[0;31m---------------------------------------------------------------------------\u001b[0m",
      "\u001b[0;31mKeyboardInterrupt\u001b[0m                         Traceback (most recent call last)",
      "\u001b[0;32m<timed exec>\u001b[0m in \u001b[0;36m<module>\u001b[0;34m\u001b[0m\n",
      "\u001b[0;32m<ipython-input-132-202204598793>\u001b[0m in \u001b[0;36mtrain\u001b[0;34m(model)\u001b[0m\n\u001b[1;32m      6\u001b[0m     \u001b[0mmodel\u001b[0m\u001b[0;34m.\u001b[0m\u001b[0mtrain\u001b[0m\u001b[0;34m(\u001b[0m\u001b[0;34m)\u001b[0m\u001b[0;34m\u001b[0m\u001b[0;34m\u001b[0m\u001b[0m\n\u001b[1;32m      7\u001b[0m \u001b[0;34m\u001b[0m\u001b[0m\n\u001b[0;32m----> 8\u001b[0;31m     \u001b[0;32mfor\u001b[0m \u001b[0minputs\u001b[0m\u001b[0;34m,\u001b[0m \u001b[0mlabels\u001b[0m \u001b[0;32min\u001b[0m \u001b[0mtraining_loader\u001b[0m\u001b[0;34m:\u001b[0m\u001b[0;34m\u001b[0m\u001b[0;34m\u001b[0m\u001b[0m\n\u001b[0m\u001b[1;32m      9\u001b[0m         \u001b[0moptimizer\u001b[0m\u001b[0;34m.\u001b[0m\u001b[0mzero_grad\u001b[0m\u001b[0;34m(\u001b[0m\u001b[0;34m)\u001b[0m\u001b[0;34m\u001b[0m\u001b[0;34m\u001b[0m\u001b[0m\n\u001b[1;32m     10\u001b[0m \u001b[0;34m\u001b[0m\u001b[0m\n",
      "\u001b[0;32m~/PycharmProjects/cv_projects/venv/lib/python3.7/site-packages/torch/utils/data/dataloader.py\u001b[0m in \u001b[0;36m__next__\u001b[0;34m(self)\u001b[0m\n\u001b[1;32m    344\u001b[0m     \u001b[0;32mdef\u001b[0m \u001b[0m__next__\u001b[0m\u001b[0;34m(\u001b[0m\u001b[0mself\u001b[0m\u001b[0;34m)\u001b[0m\u001b[0;34m:\u001b[0m\u001b[0;34m\u001b[0m\u001b[0;34m\u001b[0m\u001b[0m\n\u001b[1;32m    345\u001b[0m         \u001b[0mindex\u001b[0m \u001b[0;34m=\u001b[0m \u001b[0mself\u001b[0m\u001b[0;34m.\u001b[0m\u001b[0m_next_index\u001b[0m\u001b[0;34m(\u001b[0m\u001b[0;34m)\u001b[0m  \u001b[0;31m# may raise StopIteration\u001b[0m\u001b[0;34m\u001b[0m\u001b[0;34m\u001b[0m\u001b[0m\n\u001b[0;32m--> 346\u001b[0;31m         \u001b[0mdata\u001b[0m \u001b[0;34m=\u001b[0m \u001b[0mself\u001b[0m\u001b[0;34m.\u001b[0m\u001b[0m_dataset_fetcher\u001b[0m\u001b[0;34m.\u001b[0m\u001b[0mfetch\u001b[0m\u001b[0;34m(\u001b[0m\u001b[0mindex\u001b[0m\u001b[0;34m)\u001b[0m  \u001b[0;31m# may raise StopIteration\u001b[0m\u001b[0;34m\u001b[0m\u001b[0;34m\u001b[0m\u001b[0m\n\u001b[0m\u001b[1;32m    347\u001b[0m         \u001b[0;32mif\u001b[0m \u001b[0mself\u001b[0m\u001b[0;34m.\u001b[0m\u001b[0m_pin_memory\u001b[0m\u001b[0;34m:\u001b[0m\u001b[0;34m\u001b[0m\u001b[0;34m\u001b[0m\u001b[0m\n\u001b[1;32m    348\u001b[0m             \u001b[0mdata\u001b[0m \u001b[0;34m=\u001b[0m \u001b[0m_utils\u001b[0m\u001b[0;34m.\u001b[0m\u001b[0mpin_memory\u001b[0m\u001b[0;34m.\u001b[0m\u001b[0mpin_memory\u001b[0m\u001b[0;34m(\u001b[0m\u001b[0mdata\u001b[0m\u001b[0;34m)\u001b[0m\u001b[0;34m\u001b[0m\u001b[0;34m\u001b[0m\u001b[0m\n",
      "\u001b[0;32m~/PycharmProjects/cv_projects/venv/lib/python3.7/site-packages/torch/utils/data/_utils/fetch.py\u001b[0m in \u001b[0;36mfetch\u001b[0;34m(self, possibly_batched_index)\u001b[0m\n\u001b[1;32m     42\u001b[0m     \u001b[0;32mdef\u001b[0m \u001b[0mfetch\u001b[0m\u001b[0;34m(\u001b[0m\u001b[0mself\u001b[0m\u001b[0;34m,\u001b[0m \u001b[0mpossibly_batched_index\u001b[0m\u001b[0;34m)\u001b[0m\u001b[0;34m:\u001b[0m\u001b[0;34m\u001b[0m\u001b[0;34m\u001b[0m\u001b[0m\n\u001b[1;32m     43\u001b[0m         \u001b[0;32mif\u001b[0m \u001b[0mself\u001b[0m\u001b[0;34m.\u001b[0m\u001b[0mauto_collation\u001b[0m\u001b[0;34m:\u001b[0m\u001b[0;34m\u001b[0m\u001b[0;34m\u001b[0m\u001b[0m\n\u001b[0;32m---> 44\u001b[0;31m             \u001b[0mdata\u001b[0m \u001b[0;34m=\u001b[0m \u001b[0;34m[\u001b[0m\u001b[0mself\u001b[0m\u001b[0;34m.\u001b[0m\u001b[0mdataset\u001b[0m\u001b[0;34m[\u001b[0m\u001b[0midx\u001b[0m\u001b[0;34m]\u001b[0m \u001b[0;32mfor\u001b[0m \u001b[0midx\u001b[0m \u001b[0;32min\u001b[0m \u001b[0mpossibly_batched_index\u001b[0m\u001b[0;34m]\u001b[0m\u001b[0;34m\u001b[0m\u001b[0;34m\u001b[0m\u001b[0m\n\u001b[0m\u001b[1;32m     45\u001b[0m         \u001b[0;32melse\u001b[0m\u001b[0;34m:\u001b[0m\u001b[0;34m\u001b[0m\u001b[0;34m\u001b[0m\u001b[0m\n\u001b[1;32m     46\u001b[0m             \u001b[0mdata\u001b[0m \u001b[0;34m=\u001b[0m \u001b[0mself\u001b[0m\u001b[0;34m.\u001b[0m\u001b[0mdataset\u001b[0m\u001b[0;34m[\u001b[0m\u001b[0mpossibly_batched_index\u001b[0m\u001b[0;34m]\u001b[0m\u001b[0;34m\u001b[0m\u001b[0;34m\u001b[0m\u001b[0m\n",
      "\u001b[0;32m~/PycharmProjects/cv_projects/venv/lib/python3.7/site-packages/torch/utils/data/_utils/fetch.py\u001b[0m in \u001b[0;36m<listcomp>\u001b[0;34m(.0)\u001b[0m\n\u001b[1;32m     42\u001b[0m     \u001b[0;32mdef\u001b[0m \u001b[0mfetch\u001b[0m\u001b[0;34m(\u001b[0m\u001b[0mself\u001b[0m\u001b[0;34m,\u001b[0m \u001b[0mpossibly_batched_index\u001b[0m\u001b[0;34m)\u001b[0m\u001b[0;34m:\u001b[0m\u001b[0;34m\u001b[0m\u001b[0;34m\u001b[0m\u001b[0m\n\u001b[1;32m     43\u001b[0m         \u001b[0;32mif\u001b[0m \u001b[0mself\u001b[0m\u001b[0;34m.\u001b[0m\u001b[0mauto_collation\u001b[0m\u001b[0;34m:\u001b[0m\u001b[0;34m\u001b[0m\u001b[0;34m\u001b[0m\u001b[0m\n\u001b[0;32m---> 44\u001b[0;31m             \u001b[0mdata\u001b[0m \u001b[0;34m=\u001b[0m \u001b[0;34m[\u001b[0m\u001b[0mself\u001b[0m\u001b[0;34m.\u001b[0m\u001b[0mdataset\u001b[0m\u001b[0;34m[\u001b[0m\u001b[0midx\u001b[0m\u001b[0;34m]\u001b[0m \u001b[0;32mfor\u001b[0m \u001b[0midx\u001b[0m \u001b[0;32min\u001b[0m \u001b[0mpossibly_batched_index\u001b[0m\u001b[0;34m]\u001b[0m\u001b[0;34m\u001b[0m\u001b[0;34m\u001b[0m\u001b[0m\n\u001b[0m\u001b[1;32m     45\u001b[0m         \u001b[0;32melse\u001b[0m\u001b[0;34m:\u001b[0m\u001b[0;34m\u001b[0m\u001b[0;34m\u001b[0m\u001b[0m\n\u001b[1;32m     46\u001b[0m             \u001b[0mdata\u001b[0m \u001b[0;34m=\u001b[0m \u001b[0mself\u001b[0m\u001b[0;34m.\u001b[0m\u001b[0mdataset\u001b[0m\u001b[0;34m[\u001b[0m\u001b[0mpossibly_batched_index\u001b[0m\u001b[0;34m]\u001b[0m\u001b[0;34m\u001b[0m\u001b[0;34m\u001b[0m\u001b[0m\n",
      "\u001b[0;32m~/PycharmProjects/cv_projects/venv/lib/python3.7/site-packages/torchvision/datasets/mnist.py\u001b[0m in \u001b[0;36m__getitem__\u001b[0;34m(self, index)\u001b[0m\n\u001b[1;32m     93\u001b[0m \u001b[0;34m\u001b[0m\u001b[0m\n\u001b[1;32m     94\u001b[0m         \u001b[0;32mif\u001b[0m \u001b[0mself\u001b[0m\u001b[0;34m.\u001b[0m\u001b[0mtransform\u001b[0m \u001b[0;32mis\u001b[0m \u001b[0;32mnot\u001b[0m \u001b[0;32mNone\u001b[0m\u001b[0;34m:\u001b[0m\u001b[0;34m\u001b[0m\u001b[0;34m\u001b[0m\u001b[0m\n\u001b[0;32m---> 95\u001b[0;31m             \u001b[0mimg\u001b[0m \u001b[0;34m=\u001b[0m \u001b[0mself\u001b[0m\u001b[0;34m.\u001b[0m\u001b[0mtransform\u001b[0m\u001b[0;34m(\u001b[0m\u001b[0mimg\u001b[0m\u001b[0;34m)\u001b[0m\u001b[0;34m\u001b[0m\u001b[0;34m\u001b[0m\u001b[0m\n\u001b[0m\u001b[1;32m     96\u001b[0m \u001b[0;34m\u001b[0m\u001b[0m\n\u001b[1;32m     97\u001b[0m         \u001b[0;32mif\u001b[0m \u001b[0mself\u001b[0m\u001b[0;34m.\u001b[0m\u001b[0mtarget_transform\u001b[0m \u001b[0;32mis\u001b[0m \u001b[0;32mnot\u001b[0m \u001b[0;32mNone\u001b[0m\u001b[0;34m:\u001b[0m\u001b[0;34m\u001b[0m\u001b[0;34m\u001b[0m\u001b[0m\n",
      "\u001b[0;32m~/PycharmProjects/cv_projects/venv/lib/python3.7/site-packages/torchvision/transforms/transforms.py\u001b[0m in \u001b[0;36m__call__\u001b[0;34m(self, img)\u001b[0m\n\u001b[1;32m     68\u001b[0m     \u001b[0;32mdef\u001b[0m \u001b[0m__call__\u001b[0m\u001b[0;34m(\u001b[0m\u001b[0mself\u001b[0m\u001b[0;34m,\u001b[0m \u001b[0mimg\u001b[0m\u001b[0;34m)\u001b[0m\u001b[0;34m:\u001b[0m\u001b[0;34m\u001b[0m\u001b[0;34m\u001b[0m\u001b[0m\n\u001b[1;32m     69\u001b[0m         \u001b[0;32mfor\u001b[0m \u001b[0mt\u001b[0m \u001b[0;32min\u001b[0m \u001b[0mself\u001b[0m\u001b[0;34m.\u001b[0m\u001b[0mtransforms\u001b[0m\u001b[0;34m:\u001b[0m\u001b[0;34m\u001b[0m\u001b[0;34m\u001b[0m\u001b[0m\n\u001b[0;32m---> 70\u001b[0;31m             \u001b[0mimg\u001b[0m \u001b[0;34m=\u001b[0m \u001b[0mt\u001b[0m\u001b[0;34m(\u001b[0m\u001b[0mimg\u001b[0m\u001b[0;34m)\u001b[0m\u001b[0;34m\u001b[0m\u001b[0;34m\u001b[0m\u001b[0m\n\u001b[0m\u001b[1;32m     71\u001b[0m         \u001b[0;32mreturn\u001b[0m \u001b[0mimg\u001b[0m\u001b[0;34m\u001b[0m\u001b[0;34m\u001b[0m\u001b[0m\n\u001b[1;32m     72\u001b[0m \u001b[0;34m\u001b[0m\u001b[0m\n",
      "\u001b[0;32m<ipython-input-6-83de632f61b7>\u001b[0m in \u001b[0;36m__call__\u001b[0;34m(self, img)\u001b[0m\n\u001b[1;32m     10\u001b[0m     \u001b[0;32mdef\u001b[0m \u001b[0m__call__\u001b[0m\u001b[0;34m(\u001b[0m\u001b[0mself\u001b[0m\u001b[0;34m,\u001b[0m \u001b[0mimg\u001b[0m\u001b[0;34m)\u001b[0m\u001b[0;34m:\u001b[0m\u001b[0;34m\u001b[0m\u001b[0;34m\u001b[0m\u001b[0m\n\u001b[1;32m     11\u001b[0m         \u001b[0mhshift\u001b[0m\u001b[0;34m,\u001b[0m \u001b[0mvshift\u001b[0m \u001b[0;34m=\u001b[0m \u001b[0mself\u001b[0m\u001b[0;34m.\u001b[0m\u001b[0mget_params\u001b[0m\u001b[0;34m(\u001b[0m\u001b[0mself\u001b[0m\u001b[0;34m.\u001b[0m\u001b[0mshift\u001b[0m\u001b[0;34m)\u001b[0m\u001b[0;34m\u001b[0m\u001b[0;34m\u001b[0m\u001b[0m\n\u001b[0;32m---> 12\u001b[0;31m         \u001b[0;32mreturn\u001b[0m \u001b[0mimg\u001b[0m\u001b[0;34m.\u001b[0m\u001b[0mtransform\u001b[0m\u001b[0;34m(\u001b[0m\u001b[0mimg\u001b[0m\u001b[0;34m.\u001b[0m\u001b[0msize\u001b[0m\u001b[0;34m,\u001b[0m \u001b[0mImage\u001b[0m\u001b[0;34m.\u001b[0m\u001b[0mAFFINE\u001b[0m\u001b[0;34m,\u001b[0m \u001b[0;34m(\u001b[0m\u001b[0;36m1\u001b[0m\u001b[0;34m,\u001b[0m\u001b[0;36m0\u001b[0m\u001b[0;34m,\u001b[0m\u001b[0mhshift\u001b[0m\u001b[0;34m,\u001b[0m\u001b[0;36m0\u001b[0m\u001b[0;34m,\u001b[0m\u001b[0;36m1\u001b[0m\u001b[0;34m,\u001b[0m\u001b[0mvshift\u001b[0m\u001b[0;34m)\u001b[0m\u001b[0;34m,\u001b[0m \u001b[0mresample\u001b[0m\u001b[0;34m=\u001b[0m\u001b[0mImage\u001b[0m\u001b[0;34m.\u001b[0m\u001b[0mBICUBIC\u001b[0m\u001b[0;34m,\u001b[0m \u001b[0mfill\u001b[0m\u001b[0;34m=\u001b[0m\u001b[0;36m1\u001b[0m\u001b[0;34m)\u001b[0m\u001b[0;34m\u001b[0m\u001b[0;34m\u001b[0m\u001b[0m\n\u001b[0m",
      "\u001b[0;32m~/PycharmProjects/cv_projects/venv/lib/python3.7/site-packages/PIL/Image.py\u001b[0m in \u001b[0;36mtransform\u001b[0;34m(self, size, method, data, resample, fill, fillcolor)\u001b[0m\n\u001b[1;32m   2297\u001b[0m             \u001b[0;32mraise\u001b[0m \u001b[0mValueError\u001b[0m\u001b[0;34m(\u001b[0m\u001b[0;34m\"missing method data\"\u001b[0m\u001b[0;34m)\u001b[0m\u001b[0;34m\u001b[0m\u001b[0;34m\u001b[0m\u001b[0m\n\u001b[1;32m   2298\u001b[0m \u001b[0;34m\u001b[0m\u001b[0m\n\u001b[0;32m-> 2299\u001b[0;31m         \u001b[0mim\u001b[0m \u001b[0;34m=\u001b[0m \u001b[0mnew\u001b[0m\u001b[0;34m(\u001b[0m\u001b[0mself\u001b[0m\u001b[0;34m.\u001b[0m\u001b[0mmode\u001b[0m\u001b[0;34m,\u001b[0m \u001b[0msize\u001b[0m\u001b[0;34m,\u001b[0m \u001b[0mfillcolor\u001b[0m\u001b[0;34m)\u001b[0m\u001b[0;34m\u001b[0m\u001b[0;34m\u001b[0m\u001b[0m\n\u001b[0m\u001b[1;32m   2300\u001b[0m         \u001b[0;32mif\u001b[0m \u001b[0mmethod\u001b[0m \u001b[0;34m==\u001b[0m \u001b[0mMESH\u001b[0m\u001b[0;34m:\u001b[0m\u001b[0;34m\u001b[0m\u001b[0;34m\u001b[0m\u001b[0m\n\u001b[1;32m   2301\u001b[0m             \u001b[0;31m# list of quads\u001b[0m\u001b[0;34m\u001b[0m\u001b[0;34m\u001b[0m\u001b[0;34m\u001b[0m\u001b[0m\n",
      "\u001b[0;32m~/PycharmProjects/cv_projects/venv/lib/python3.7/site-packages/PIL/Image.py\u001b[0m in \u001b[0;36mnew\u001b[0;34m(mode, size, color)\u001b[0m\n\u001b[1;32m   2487\u001b[0m     \u001b[0;32mif\u001b[0m \u001b[0mcolor\u001b[0m \u001b[0;32mis\u001b[0m \u001b[0;32mNone\u001b[0m\u001b[0;34m:\u001b[0m\u001b[0;34m\u001b[0m\u001b[0;34m\u001b[0m\u001b[0m\n\u001b[1;32m   2488\u001b[0m         \u001b[0;31m# don't initialize\u001b[0m\u001b[0;34m\u001b[0m\u001b[0;34m\u001b[0m\u001b[0;34m\u001b[0m\u001b[0m\n\u001b[0;32m-> 2489\u001b[0;31m         \u001b[0;32mreturn\u001b[0m \u001b[0mImage\u001b[0m\u001b[0;34m(\u001b[0m\u001b[0;34m)\u001b[0m\u001b[0;34m.\u001b[0m\u001b[0m_new\u001b[0m\u001b[0;34m(\u001b[0m\u001b[0mcore\u001b[0m\u001b[0;34m.\u001b[0m\u001b[0mnew\u001b[0m\u001b[0;34m(\u001b[0m\u001b[0mmode\u001b[0m\u001b[0;34m,\u001b[0m \u001b[0msize\u001b[0m\u001b[0;34m)\u001b[0m\u001b[0;34m)\u001b[0m\u001b[0;34m\u001b[0m\u001b[0;34m\u001b[0m\u001b[0m\n\u001b[0m\u001b[1;32m   2490\u001b[0m \u001b[0;34m\u001b[0m\u001b[0m\n\u001b[1;32m   2491\u001b[0m     \u001b[0;32mif\u001b[0m \u001b[0misStringType\u001b[0m\u001b[0;34m(\u001b[0m\u001b[0mcolor\u001b[0m\u001b[0;34m)\u001b[0m\u001b[0;34m:\u001b[0m\u001b[0;34m\u001b[0m\u001b[0;34m\u001b[0m\u001b[0m\n",
      "\u001b[0;32m~/PycharmProjects/cv_projects/venv/lib/python3.7/site-packages/PIL/Image.py\u001b[0m in \u001b[0;36m__init__\u001b[0;34m(self)\u001b[0m\n\u001b[1;32m    545\u001b[0m     \u001b[0m_close_exclusive_fp_after_loading\u001b[0m \u001b[0;34m=\u001b[0m \u001b[0;32mTrue\u001b[0m\u001b[0;34m\u001b[0m\u001b[0;34m\u001b[0m\u001b[0m\n\u001b[1;32m    546\u001b[0m \u001b[0;34m\u001b[0m\u001b[0m\n\u001b[0;32m--> 547\u001b[0;31m     \u001b[0;32mdef\u001b[0m \u001b[0m__init__\u001b[0m\u001b[0;34m(\u001b[0m\u001b[0mself\u001b[0m\u001b[0;34m)\u001b[0m\u001b[0;34m:\u001b[0m\u001b[0;34m\u001b[0m\u001b[0;34m\u001b[0m\u001b[0m\n\u001b[0m\u001b[1;32m    548\u001b[0m         \u001b[0;31m# FIXME: take \"new\" parameters / other image?\u001b[0m\u001b[0;34m\u001b[0m\u001b[0;34m\u001b[0m\u001b[0;34m\u001b[0m\u001b[0m\n\u001b[1;32m    549\u001b[0m         \u001b[0;31m# FIXME: turn mode and size into delegating properties?\u001b[0m\u001b[0;34m\u001b[0m\u001b[0;34m\u001b[0m\u001b[0;34m\u001b[0m\u001b[0m\n",
      "\u001b[0;31mKeyboardInterrupt\u001b[0m: "
     ]
    }
   ],
   "source": [
    "%%time\n",
    "n_epochs = 15\n",
    "\n",
    "epoch_loss_history = []\n",
    "epoch_corrects_history = []\n",
    "val_loss_history = []\n",
    "val_corrects_history = []\n",
    "\n",
    "for epoch in range(n_epochs):\n",
    "    epoch_loss, epoch_corrects = train(model)\n",
    "    val_loss, val_corrects = evaluate(model)\n",
    "    \n",
    "    epoch_loss_history.append(epoch_loss)\n",
    "    epoch_corrects_history.append(epoch_corrects)\n",
    "    val_loss_history.append(val_loss)\n",
    "    val_corrects_history.append(val_corrects)\n",
    "    \n",
    "    print('epoch :', (epoch+1))\n",
    "    print('training loss: {:.4f}, training acc {:.4f} '.format(epoch_loss, epoch_corrects.item()))\n",
    "    print('validation loss: {:.4f}, validation acc {:.4f} '.format(val_loss, val_corrects.item()))\n",
    "    scheduler.step(val_corrects)\n",
    "    "
   ]
  },
  {
   "cell_type": "code",
   "execution_count": 135,
   "metadata": {},
   "outputs": [
    {
     "data": {
      "text/plain": [
       "<matplotlib.legend.Legend at 0x1380ec650>"
      ]
     },
     "execution_count": 135,
     "metadata": {},
     "output_type": "execute_result"
    },
    {
     "data": {
      "image/png": "[encoded data removed]",
      "text/plain": [
       "<Figure size 432x288 with 1 Axes>"
      ]
     },
     "metadata": {
      "needs_background": "light"
     },
     "output_type": "display_data"
    }
   ],
   "source": [
    "plt.plot(running_loss_history, label='training loss')\n",
    "plt.plot(val_running_loss_history, label='validation loss')\n",
    "plt.legend()"
   ]
  },
  {
   "cell_type": "code",
   "execution_count": 136,
   "metadata": {},
   "outputs": [
    {
     "data": {
      "text/plain": [
       "<matplotlib.legend.Legend at 0x13b117550>"
      ]
     },
     "execution_count": 136,
     "metadata": {},
     "output_type": "execute_result"
    },
    {
     "data": {
      "image/png": "[encoded data removed]",
      "text/plain": [
       "<Figure size 432x288 with 1 Axes>"
      ]
     },
     "metadata": {
      "needs_background": "light"
     },
     "output_type": "display_data"
    }
   ],
   "source": [
    "plt.plot(running_corrects_history, label='training accuracy')\n",
    "plt.plot(val_running_corrects_history, label='validation accuracy')\n",
    "plt.legend()"
   ]
  },
  {
   "cell_type": "code",
   "execution_count": null,
   "metadata": {},
   "outputs": [],
   "source": []
  },
  {
   "cell_type": "code",
   "execution_count": null,
   "metadata": {},
   "outputs": [],
   "source": []
  },
  {
   "cell_type": "markdown",
   "metadata": {},
   "source": [
    "## 2. Conv2Class2Net"
   ]
  },
  {
   "cell_type": "code",
   "execution_count": 141,
   "metadata": {},
   "outputs": [],
   "source": [
    "class Conv2Class2Net(nn.Module):\n",
    "    def __init__(self):\n",
    "        super(Conv2Class2Net, self).__init__()\n",
    "        self.cnn_layers = nn.Sequential(\n",
    "            nn.Conv2d(1, 32, kernel_size=3, stride=1, padding=1),\n",
    "            nn.BatchNorm2d(32),\n",
    "            nn.ReLU(inplace=True),\n",
    "            nn.Conv2d(32, 32, kernel_size=3, stride=1, padding=1),\n",
    "            nn.BatchNorm2d(32),\n",
    "            nn.ReLU(inplace=True),\n",
    "            nn.MaxPool2d(kernel_size=2, stride=2),\n",
    "            nn.Dropout(0.2),\n",
    "            \n",
    "            nn.Conv2d(32, 64, kernel_size=3, stride=1, padding=1),\n",
    "            nn.BatchNorm2d(64),\n",
    "            nn.ReLU(inplace=True),\n",
    "            nn.Conv2d(64, 64, kernel_size=3, stride=1, padding=1),\n",
    "            nn.BatchNorm2d(64),\n",
    "            nn.ReLU(inplace=True),\n",
    "            nn.MaxPool2d(kernel_size=2, stride=2),\n",
    "            nn.Dropout(0.2)\n",
    "        )\n",
    "\n",
    "        self.fc_layers = nn.Sequential(\n",
    "            nn.Linear(64 * 7 * 7, 512),\n",
    "            nn.BatchNorm1d(512),\n",
    "            nn.LeakyReLU(inplace=True),\n",
    "            nn.Dropout(0.3),\n",
    "            \n",
    "            nn.Linear(512, 256),\n",
    "            nn.BatchNorm1d(256),\n",
    "            nn.LeakyReLU(inplace=True),\n",
    "            nn.Dropout(0.3),\n",
    "            \n",
    "            nn.Linear(256, 10)\n",
    "        )\n",
    "        \n",
    "        for m in self.cnn_layers.children():\n",
    "            if isinstance(m, nn.Conv2d):\n",
    "                n = m.kernel_size[0] * m.kernel_size[1] * m.out_channels\n",
    "                m.weight.data.normal_(0, math.sqrt(2. / n))\n",
    "            elif isinstance(m, nn.BatchNorm2d):\n",
    "                m.weight.data.fill_(1)\n",
    "                m.bias.data.zero_()\n",
    "        \n",
    "        for m in self.fc_layers.children():\n",
    "            if isinstance(m, nn.Linear):\n",
    "                nn.init.xavier_uniform_(m.weight)\n",
    "            elif isinstance(m, nn.BatchNorm1d):\n",
    "                m.weight.data.fill_(1)\n",
    "                m.bias.data.zero_()\n",
    "        \n",
    "    def forward(self, x):\n",
    "        out = self.cnn_layers(x)\n",
    "        out = out.view(out.size(0), -1)\n",
    "        out = self.fc_layers(out)\n",
    "        return out"
   ]
  },
  {
   "cell_type": "code",
   "execution_count": 142,
   "metadata": {},
   "outputs": [],
   "source": [
    "model = Conv2Class2Net()\n",
    "epochs = 20\n",
    "criterion = nn.CrossEntropyLoss()\n",
    "optimizer = torch.optim.Adam(model.parameters(), lr = 0.01)\n",
    "scheduler = torch.optim.lr_scheduler.ReduceLROnPlateau(\n",
    "    optimizer,\n",
    "    factor=0.3,\n",
    "    mode=\"max\",\n",
    "    verbose=True,\n",
    "    patience=1\n",
    ")"
   ]
  },
  {
   "cell_type": "code",
   "execution_count": 143,
   "metadata": {},
   "outputs": [
    {
     "name": "stdout",
     "output_type": "stream",
     "text": [
      "----------------------------------------------------------------\n",
      "        Layer (type)               Output Shape         Param #\n",
      "================================================================\n",
      "            Conv2d-1           [-1, 32, 28, 28]             320\n",
      "       BatchNorm2d-2           [-1, 32, 28, 28]              64\n",
      "              ReLU-3           [-1, 32, 28, 28]               0\n",
      "            Conv2d-4           [-1, 32, 28, 28]           9,248\n",
      "       BatchNorm2d-5           [-1, 32, 28, 28]              64\n",
      "              ReLU-6           [-1, 32, 28, 28]               0\n",
      "         MaxPool2d-7           [-1, 32, 14, 14]               0\n",
      "           Dropout-8           [-1, 32, 14, 14]               0\n",
      "            Conv2d-9           [-1, 64, 14, 14]          18,496\n",
      "      BatchNorm2d-10           [-1, 64, 14, 14]             128\n",
      "             ReLU-11           [-1, 64, 14, 14]               0\n",
      "           Conv2d-12           [-1, 64, 14, 14]          36,928\n",
      "      BatchNorm2d-13           [-1, 64, 14, 14]             128\n",
      "             ReLU-14           [-1, 64, 14, 14]               0\n",
      "        MaxPool2d-15             [-1, 64, 7, 7]               0\n",
      "          Dropout-16             [-1, 64, 7, 7]               0\n",
      "           Linear-17                  [-1, 512]       1,606,144\n",
      "      BatchNorm1d-18                  [-1, 512]           1,024\n",
      "        LeakyReLU-19                  [-1, 512]               0\n",
      "          Dropout-20                  [-1, 512]               0\n",
      "           Linear-21                  [-1, 256]         131,328\n",
      "      BatchNorm1d-22                  [-1, 256]             512\n",
      "        LeakyReLU-23                  [-1, 256]               0\n",
      "          Dropout-24                  [-1, 256]               0\n",
      "           Linear-25                   [-1, 10]           2,570\n",
      "================================================================\n",
      "Total params: 1,806,954\n",
      "Trainable params: 1,806,954\n",
      "Non-trainable params: 0\n",
      "----------------------------------------------------------------\n",
      "Input size (MB): 0.00\n",
      "Forward/backward pass size (MB): 1.89\n",
      "Params size (MB): 6.89\n",
      "Estimated Total Size (MB): 8.79\n",
      "----------------------------------------------------------------\n"
     ]
    }
   ],
   "source": [
    "summary(model, (1, 28, 28))"
   ]
  },
  {
   "cell_type": "code",
   "execution_count": 144,
   "metadata": {},
   "outputs": [
    {
     "name": "stdout",
     "output_type": "stream",
     "text": [
      "epoch : 1\n",
      "training loss: 0.2465, training acc 92.3367 \n",
      "validation loss: 0.0300, validation acc 99.0200 \n",
      "epoch : 2\n",
      "training loss: 0.1106, training acc 96.6683 \n",
      "validation loss: 0.0337, validation acc 98.9100 \n",
      "epoch : 3\n",
      "training loss: 0.0903, training acc 97.2633 \n",
      "validation loss: 0.0304, validation acc 99.0100 \n",
      "Epoch     2: reducing learning rate of group 0 to 3.0000e-03.\n",
      "epoch : 4\n",
      "training loss: 0.0610, training acc 98.1917 \n",
      "validation loss: 0.0140, validation acc 99.5400 \n",
      "epoch : 5\n",
      "training loss: 0.0512, training acc 98.4183 \n",
      "validation loss: 0.0182, validation acc 99.4700 \n",
      "epoch : 6\n",
      "training loss: 0.0509, training acc 98.4733 \n",
      "validation loss: 0.0146, validation acc 99.5100 \n",
      "Epoch     5: reducing learning rate of group 0 to 9.0000e-04.\n",
      "epoch : 7\n",
      "training loss: 0.0420, training acc 98.7500 \n",
      "validation loss: 0.0118, validation acc 99.5600 \n",
      "epoch : 8\n",
      "training loss: 0.0381, training acc 98.8533 \n",
      "validation loss: 0.0134, validation acc 99.6400 \n",
      "epoch : 9\n",
      "training loss: 0.0369, training acc 98.8950 \n",
      "validation loss: 0.0125, validation acc 99.6200 \n",
      "epoch : 10\n",
      "training loss: 0.0345, training acc 98.9383 \n",
      "validation loss: 0.0103, validation acc 99.6600 \n",
      "epoch : 11\n",
      "training loss: 0.0359, training acc 98.8967 \n",
      "validation loss: 0.0115, validation acc 99.6400 \n",
      "epoch : 12\n",
      "training loss: 0.0329, training acc 98.9617 \n",
      "validation loss: 0.0104, validation acc 99.6900 \n",
      "epoch : 13\n",
      "training loss: 0.0336, training acc 99.0017 \n",
      "validation loss: 0.0102, validation acc 99.6600 \n",
      "epoch : 14\n",
      "training loss: 0.0305, training acc 99.0833 \n",
      "validation loss: 0.0107, validation acc 99.6500 \n",
      "Epoch    13: reducing learning rate of group 0 to 2.7000e-04.\n",
      "epoch : 15\n",
      "training loss: 0.0294, training acc 99.0917 \n",
      "validation loss: 0.0101, validation acc 99.6800 \n",
      "epoch : 16\n",
      "training loss: 0.0276, training acc 99.1317 \n",
      "validation loss: 0.0092, validation acc 99.7100 \n",
      "epoch : 17\n",
      "training loss: 0.0289, training acc 99.1100 \n",
      "validation loss: 0.0097, validation acc 99.7200 \n",
      "epoch : 18\n",
      "training loss: 0.0277, training acc 99.1167 \n",
      "validation loss: 0.0092, validation acc 99.7200 \n",
      "epoch : 19\n",
      "training loss: 0.0262, training acc 99.1867 \n",
      "validation loss: 0.0107, validation acc 99.6600 \n",
      "Epoch    18: reducing learning rate of group 0 to 8.1000e-05.\n",
      "epoch : 20\n",
      "training loss: 0.0265, training acc 99.1683 \n",
      "validation loss: 0.0100, validation acc 99.6400 \n",
      "CPU times: user 5h 55min 57s, sys: 17min 10s, total: 6h 13min 7s\n",
      "Wall time: 5h 22min 16s\n"
     ]
    }
   ],
   "source": [
    "%%time\n",
    "n_epochs = 20\n",
    "\n",
    "epoch_loss_history = []\n",
    "epoch_corrects_history = []\n",
    "val_loss_history = []\n",
    "val_corrects_history = []\n",
    "\n",
    "for epoch in range(n_epochs):\n",
    "    epoch_loss, epoch_corrects = train(model)\n",
    "    val_loss, val_corrects = evaluate(model)\n",
    "    \n",
    "    epoch_loss_history.append(epoch_loss)\n",
    "    epoch_corrects_history.append(epoch_corrects)\n",
    "    val_loss_history.append(val_loss)\n",
    "    val_corrects_history.append(val_corrects)\n",
    "    \n",
    "    print('epoch :', (epoch+1))\n",
    "    print('training loss: {:.4f}, training acc {:.4f} '.format(epoch_loss, epoch_corrects.item()))\n",
    "    print('validation loss: {:.4f}, validation acc {:.4f} '.format(val_loss, val_corrects.item()))\n",
    "    \n",
    "    path = f\"{model_file_root}Conv2Class2Net_{epoch}{model_file_ext}\"\n",
    "    torch.save(model.state_dict(), path)\n",
    "\n",
    "    scheduler.step(val_corrects)"
   ]
  },
  {
   "cell_type": "code",
   "execution_count": 155,
   "metadata": {},
   "outputs": [
    {
     "data": {
      "text/plain": [
       "<matplotlib.legend.Legend at 0x137c4ff90>"
      ]
     },
     "execution_count": 155,
     "metadata": {},
     "output_type": "execute_result"
    },
    {
     "data": {
      "image/png": "[encoded data removed]",
      "text/plain": [
       "<Figure size 432x288 with 1 Axes>"
      ]
     },
     "metadata": {
      "needs_background": "light"
     },
     "output_type": "display_data"
    }
   ],
   "source": [
    "plt.plot(epoch_loss_history, label='training loss')\n",
    "plt.plot(val_corrects_history, label='validation loss')\n",
    "plt.legend()"
   ]
  },
  {
   "cell_type": "code",
   "execution_count": 156,
   "metadata": {},
   "outputs": [
    {
     "data": {
      "text/plain": [
       "<matplotlib.legend.Legend at 0x138101650>"
      ]
     },
     "execution_count": 156,
     "metadata": {},
     "output_type": "execute_result"
    },
    {
     "data": {
      "image/png": "[encoded data removed]",
      "text/plain": [
       "<Figure size 432x288 with 1 Axes>"
      ]
     },
     "metadata": {
      "needs_background": "light"
     },
     "output_type": "display_data"
    }
   ],
   "source": [
    "plt.plot(epoch_corrects_history, label='training accuracy')\n",
    "plt.plot(val_corrects_history, label='validation accuracy')\n",
    "plt.legend()"
   ]
  },
  {
   "cell_type": "code",
   "execution_count": null,
   "metadata": {},
   "outputs": [],
   "source": []
  },
  {
   "cell_type": "code",
   "execution_count": 159,
   "metadata": {},
   "outputs": [
    {
     "data": {
      "text/plain": [
       "Conv2Class2Net(\n",
       "  (cnn_layers): Sequential(\n",
       "    (0): Conv2d(1, 32, kernel_size=(3, 3), stride=(1, 1), padding=(1, 1))\n",
       "    (1): BatchNorm2d(32, eps=1e-05, momentum=0.1, affine=True, track_running_stats=True)\n",
       "    (2): ReLU(inplace=True)\n",
       "    (3): Conv2d(32, 32, kernel_size=(3, 3), stride=(1, 1), padding=(1, 1))\n",
       "    (4): BatchNorm2d(32, eps=1e-05, momentum=0.1, affine=True, track_running_stats=True)\n",
       "    (5): ReLU(inplace=True)\n",
       "    (6): MaxPool2d(kernel_size=2, stride=2, padding=0, dilation=1, ceil_mode=False)\n",
       "    (7): Dropout(p=0.2, inplace=False)\n",
       "    (8): Conv2d(32, 64, kernel_size=(3, 3), stride=(1, 1), padding=(1, 1))\n",
       "    (9): BatchNorm2d(64, eps=1e-05, momentum=0.1, affine=True, track_running_stats=True)\n",
       "    (10): ReLU(inplace=True)\n",
       "    (11): Conv2d(64, 64, kernel_size=(3, 3), stride=(1, 1), padding=(1, 1))\n",
       "    (12): BatchNorm2d(64, eps=1e-05, momentum=0.1, affine=True, track_running_stats=True)\n",
       "    (13): ReLU(inplace=True)\n",
       "    (14): MaxPool2d(kernel_size=2, stride=2, padding=0, dilation=1, ceil_mode=False)\n",
       "    (15): Dropout(p=0.2, inplace=False)\n",
       "  )\n",
       "  (fc_layers): Sequential(\n",
       "    (0): Linear(in_features=3136, out_features=512, bias=True)\n",
       "    (1): BatchNorm1d(512, eps=1e-05, momentum=0.1, affine=True, track_running_stats=True)\n",
       "    (2): LeakyReLU(negative_slope=0.01, inplace=True)\n",
       "    (3): Dropout(p=0.3, inplace=False)\n",
       "    (4): Linear(in_features=512, out_features=256, bias=True)\n",
       "    (5): BatchNorm1d(256, eps=1e-05, momentum=0.1, affine=True, track_running_stats=True)\n",
       "    (6): LeakyReLU(negative_slope=0.01, inplace=True)\n",
       "    (7): Dropout(p=0.3, inplace=False)\n",
       "    (8): Linear(in_features=256, out_features=10, bias=True)\n",
       "  )\n",
       ")"
      ]
     },
     "execution_count": 159,
     "metadata": {},
     "output_type": "execute_result"
    }
   ],
   "source": [
    "path = model_file_root+'Conv2Class2Net_16'+model_file_ext\n",
    "# torch.save(model.state_dict(), path)\n",
    "\n",
    "model = Conv2Class2Net()\n",
    "model.load_state_dict(torch.load(path))\n",
    "model.eval()"
   ]
  },
  {
   "cell_type": "code",
   "execution_count": 160,
   "metadata": {},
   "outputs": [
    {
     "name": "stdout",
     "output_type": "stream",
     "text": [
      "----------------------------------------------------------------\n",
      "        Layer (type)               Output Shape         Param #\n",
      "================================================================\n",
      "            Conv2d-1           [-1, 32, 28, 28]             320\n",
      "       BatchNorm2d-2           [-1, 32, 28, 28]              64\n",
      "              ReLU-3           [-1, 32, 28, 28]               0\n",
      "            Conv2d-4           [-1, 32, 28, 28]           9,248\n",
      "       BatchNorm2d-5           [-1, 32, 28, 28]              64\n",
      "              ReLU-6           [-1, 32, 28, 28]               0\n",
      "         MaxPool2d-7           [-1, 32, 14, 14]               0\n",
      "           Dropout-8           [-1, 32, 14, 14]               0\n",
      "            Conv2d-9           [-1, 64, 14, 14]          18,496\n",
      "      BatchNorm2d-10           [-1, 64, 14, 14]             128\n",
      "             ReLU-11           [-1, 64, 14, 14]               0\n",
      "           Conv2d-12           [-1, 64, 14, 14]          36,928\n",
      "      BatchNorm2d-13           [-1, 64, 14, 14]             128\n",
      "             ReLU-14           [-1, 64, 14, 14]               0\n",
      "        MaxPool2d-15             [-1, 64, 7, 7]               0\n",
      "          Dropout-16             [-1, 64, 7, 7]               0\n",
      "           Linear-17                  [-1, 512]       1,606,144\n",
      "      BatchNorm1d-18                  [-1, 512]           1,024\n",
      "        LeakyReLU-19                  [-1, 512]               0\n",
      "          Dropout-20                  [-1, 512]               0\n",
      "           Linear-21                  [-1, 256]         131,328\n",
      "      BatchNorm1d-22                  [-1, 256]             512\n",
      "        LeakyReLU-23                  [-1, 256]               0\n",
      "          Dropout-24                  [-1, 256]               0\n",
      "           Linear-25                   [-1, 10]           2,570\n",
      "================================================================\n",
      "Total params: 1,806,954\n",
      "Trainable params: 1,806,954\n",
      "Non-trainable params: 0\n",
      "----------------------------------------------------------------\n",
      "Input size (MB): 0.00\n",
      "Forward/backward pass size (MB): 1.89\n",
      "Params size (MB): 6.89\n",
      "Estimated Total Size (MB): 8.79\n",
      "----------------------------------------------------------------\n"
     ]
    }
   ],
   "source": [
    "summary(model, (1, 28, 28))"
   ]
  },
  {
   "cell_type": "code",
   "execution_count": 161,
   "metadata": {},
   "outputs": [
    {
     "name": "stdout",
     "output_type": "stream",
     "text": [
      "validation loss: 0.0097, validation acc 99.7200 \n"
     ]
    }
   ],
   "source": [
    "val_loss, val_corrects = evaluate(model)\n",
    "print('validation loss: {:.4f}, validation acc {:.4f} '.format(val_loss, val_corrects.item()))"
   ]
  },
  {
   "cell_type": "code",
   "execution_count": null,
   "metadata": {},
   "outputs": [],
   "source": []
  },
  {
   "cell_type": "code",
   "execution_count": null,
   "metadata": {},
   "outputs": [],
   "source": []
  }
 ],
 "metadata": {
  "kernelspec": {
   "display_name": "Python 3",
   "language": "python",
   "name": "python3"
  },
  "language_info": {
   "codemirror_mode": {
    "name": "ipython",
    "version": 3
   },
   "file_extension": ".py",
   "mimetype": "text/x-python",
   "name": "python",
   "nbconvert_exporter": "python",
   "pygments_lexer": "ipython3",
   "version": "3.7.4"
  }
 },
 "nbformat": 4,
 "nbformat_minor": 4
}
