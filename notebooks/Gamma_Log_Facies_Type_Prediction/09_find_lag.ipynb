{
 "cells": [
  {
   "cell_type": "code",
   "execution_count": 1,
   "metadata": {},
   "outputs": [
    {
     "name": "stderr",
     "output_type": "stream",
     "text": [
      "/Users/kirillvladimirov/PycharmProjects/cv_projects/venv/lib/python3.7/site-packages/eli5/base_utils.py:28: DeprecationWarning: inspect.getargspec() is deprecated since Python 3.0, use inspect.signature() or inspect.getfullargspec()\n",
      "  init_args = inspect.getargspec(class_.__init__)\n",
      "/Users/kirillvladimirov/PycharmProjects/cv_projects/venv/lib/python3.7/site-packages/eli5/base_utils.py:36: DeprecationWarning: The usage of `cmp` is deprecated and will be removed on or after 2021-06-01.  Please use `eq` and `order` instead.\n",
      "  return attr.s(class_, these=these, init=False, slots=True, **attrs_kwargs)  # type: ignore\n",
      "Using TensorFlow backend.\n",
      "/Users/kirillvladimirov/PycharmProjects/cv_projects/venv/lib/python3.7/site-packages/botocore/awsrequest.py:624: DeprecationWarning: Using or importing the ABCs from 'collections' instead of from 'collections.abc' is deprecated, and in 3.8 it will stop working\n",
      "  class HeadersDict(collections.MutableMapping):\n"
     ]
    }
   ],
   "source": [
    "from tpot import TPOTClassifier\n",
    "\n",
    "import os\n",
    "from tqdm import tqdm_notebook as tqdm\n",
    "\n",
    "# Ignore  the warnings\n",
    "import warnings\n",
    "warnings.filterwarnings('always')\n",
    "warnings.filterwarnings('ignore')\n",
    "\n",
    "import numpy as np\n",
    "import pandas as pd\n",
    "\n",
    "import warnings\n",
    "import matplotlib.pyplot as plt\n",
    "from matplotlib.pyplot import subplots\n",
    "import matplotlib.patches as patches\n",
    "import seaborn as sns\n",
    "from pylab import rcParams\n",
    "\n",
    "%matplotlib inline \n",
    "plt.style.use('seaborn')\n",
    "sns.set(style='whitegrid',color_codes=True)\n",
    "\n",
    "# classifiaction \n",
    "from sklearn.tree import DecisionTreeClassifier\n",
    "from sklearn.ensemble import RandomForestClassifier \n",
    "from sklearn.ensemble import GradientBoostingClassifier\n",
    "from sklearn.linear_model import LogisticRegression\n",
    "from sklearn.neighbors import KNeighborsClassifier\n",
    "from sklearn.naive_bayes import GaussianNB\n",
    "import xgboost as xgb\n",
    "import catboost as ctb\n",
    "\n",
    "# for classification\n",
    "from sklearn.metrics import accuracy_score\n",
    "\n",
    "# model selection\n",
    "from sklearn.model_selection import train_test_split, cross_val_score, StratifiedKFold\n",
    "from sklearn.model_selection import GridSearchCV\n",
    "\n",
    "# Hp optimization imports\n",
    "from hyperopt import STATUS_OK, Trials, fmin, hp, tpe\n",
    "import mlflow\n",
    "\n",
    "import re\n",
    "import eli5\n",
    "import gc\n",
    "import random    \n",
    "import math\n",
    "import psutil\n",
    "import pickle\n",
    "import datetime\n",
    "from time import time\n",
    "\n",
    "# save/load models\n",
    "from joblib import dump\n",
    "from joblib import load\n",
    "\n",
    "import timeit \n",
    "from sklearn.preprocessing import StandardScaler"
   ]
  },
  {
   "cell_type": "code",
   "execution_count": 2,
   "metadata": {},
   "outputs": [],
   "source": [
    "root = \"../../data/raw/Gamma_Log_Facies_Type_Prediction/\"\n",
    "models_root = \"../../models/Gamma_Log_Facies_Type_Prediction/\"\n",
    "RANDOM_STATE = 42\n",
    "np.random.seed(RANDOM_STATE)\n",
    "pd.set_option('max_columns', 150)\n",
    "# rcParams['figure.figsize'] = 16,8"
   ]
  },
  {
   "cell_type": "code",
   "execution_count": 3,
   "metadata": {},
   "outputs": [
    {
     "name": "stdout",
     "output_type": "stream",
     "text": [
      "CPU times: user 2.82 s, sys: 400 ms, total: 3.22 s\n",
      "Wall time: 3.25 s\n"
     ]
    }
   ],
   "source": [
    "%%time\n",
    "full_train_df = pd.read_csv(root + \"Train_File.csv\")\n",
    "full_test_df = pd.read_csv(root + \"Test_File.csv\")\n",
    "submit_df = pd.read_csv(root + \"Submission_File.csv\")\n"
   ]
  },
  {
   "cell_type": "code",
   "execution_count": null,
   "metadata": {},
   "outputs": [],
   "source": [
    "def create_lags(df):\n",
    "    for i in range(0, 25):\n",
    "        df[\"lag_forward_{}\".format(i)] = df.GR.shift(i)\n",
    "        df[\"lag_backward_{}\".format(i)] = df.GR.shift(-i)\n",
    "    return df"
   ]
  },
  {
   "cell_type": "code",
   "execution_count": 19,
   "metadata": {},
   "outputs": [],
   "source": [
    "train_df_ts = full_train_df[full_train_df[\"well_id\"] < 100]\n",
    "valid_df_ts = full_train_df[full_train_df[\"well_id\"].isin(list(range(100,120)))]"
   ]
  },
  {
   "cell_type": "code",
   "execution_count": 6,
   "metadata": {},
   "outputs": [
    {
     "data": {
      "text/html": [
       "<div>\n",
       "<style scoped>\n",
       "    .dataframe tbody tr th:only-of-type {\n",
       "        vertical-align: middle;\n",
       "    }\n",
       "\n",
       "    .dataframe tbody tr th {\n",
       "        vertical-align: top;\n",
       "    }\n",
       "\n",
       "    .dataframe thead th {\n",
       "        text-align: right;\n",
       "    }\n",
       "</style>\n",
       "<table border=\"1\" class=\"dataframe\">\n",
       "  <thead>\n",
       "    <tr style=\"text-align: right;\">\n",
       "      <th></th>\n",
       "      <th>row_id</th>\n",
       "      <th>well_id</th>\n",
       "      <th>GR</th>\n",
       "      <th>label</th>\n",
       "    </tr>\n",
       "  </thead>\n",
       "  <tbody>\n",
       "    <tr>\n",
       "      <th>0</th>\n",
       "      <td>0</td>\n",
       "      <td>0</td>\n",
       "      <td>143.510000</td>\n",
       "      <td>0</td>\n",
       "    </tr>\n",
       "    <tr>\n",
       "      <th>1</th>\n",
       "      <td>1</td>\n",
       "      <td>0</td>\n",
       "      <td>112.790928</td>\n",
       "      <td>0</td>\n",
       "    </tr>\n",
       "    <tr>\n",
       "      <th>2</th>\n",
       "      <td>2</td>\n",
       "      <td>0</td>\n",
       "      <td>123.531856</td>\n",
       "      <td>0</td>\n",
       "    </tr>\n",
       "    <tr>\n",
       "      <th>3</th>\n",
       "      <td>3</td>\n",
       "      <td>0</td>\n",
       "      <td>111.692784</td>\n",
       "      <td>0</td>\n",
       "    </tr>\n",
       "    <tr>\n",
       "      <th>4</th>\n",
       "      <td>4</td>\n",
       "      <td>0</td>\n",
       "      <td>123.613712</td>\n",
       "      <td>0</td>\n",
       "    </tr>\n",
       "  </tbody>\n",
       "</table>\n",
       "</div>"
      ],
      "text/plain": [
       "   row_id  well_id          GR  label\n",
       "0       0        0  143.510000      0\n",
       "1       1        0  112.790928      0\n",
       "2       2        0  123.531856      0\n",
       "3       3        0  111.692784      0\n",
       "4       4        0  123.613712      0"
      ]
     },
     "execution_count": 6,
     "metadata": {},
     "output_type": "execute_result"
    }
   ],
   "source": [
    "train_df_ts.head()"
   ]
  },
  {
   "cell_type": "code",
   "execution_count": 13,
   "metadata": {},
   "outputs": [
    {
     "name": "stdout",
     "output_type": "stream",
     "text": [
      "   GR  label         max        mean         min  row_id         t+1  well_id\n",
      "0 NaN    NaN         NaN         NaN         NaN     NaN         NaN      NaN\n",
      "1 NaN    NaN         NaN         NaN         NaN     NaN         NaN      NaN\n",
      "2 NaN    NaN         NaN         NaN         NaN     NaN  143.510000      NaN\n",
      "3 NaN    NaN         NaN         NaN         NaN     NaN  112.790928      NaN\n",
      "4 NaN    NaN  143.510000  126.610928  112.790928     NaN  123.531856      NaN\n",
      "5 NaN    NaN  123.531856  116.005190  111.692784     NaN  111.692784      NaN\n",
      "6 NaN    NaN  123.613712  119.612784  111.692784     NaN  123.613712      NaN\n",
      "7 NaN    NaN  123.613712  118.573712  111.692784     NaN  120.414641      NaN\n",
      "8 NaN    NaN  123.613712  122.391307  120.414641     NaN  123.145569      NaN\n",
      "9 NaN    NaN  123.145569  119.258902  114.216497     NaN  114.216497      NaN\n"
     ]
    }
   ],
   "source": [
    "width = 3\n",
    "shifted = train_df_ts.GR.shift(width - 1)\n",
    "window = shifted.rolling(window=width)\n",
    "dataframe = pd.concat([window.min(), window.mean(), window.max(), shifted], axis=1)\n",
    "dataframe.columns = ['min', 'mean', 'max', 't+1']\n",
    "dataframe = pd.concat([dataframe, train_df_ts])\n",
    "print(dataframe.head(10))"
   ]
  },
  {
   "cell_type": "code",
   "execution_count": null,
   "metadata": {},
   "outputs": [],
   "source": [
    "train_df_ts.head()"
   ]
  },
  {
   "cell_type": "code",
   "execution_count": 14,
   "metadata": {},
   "outputs": [
    {
     "data": {
      "text/plain": [
       "Rolling [window=3,center=False,axis=0]"
      ]
     },
     "execution_count": 14,
     "metadata": {},
     "output_type": "execute_result"
    }
   ],
   "source": [
    "window"
   ]
  },
  {
   "cell_type": "code",
   "execution_count": 22,
   "metadata": {},
   "outputs": [
    {
     "name": "stdout",
     "output_type": "stream",
     "text": [
      "   row_id  well_id          GR  label  row_id  well_id          GR  label  \\\n",
      "0     0.0      0.0  143.510000    0.0     0.0      0.0  143.510000    0.0   \n",
      "1     0.0      0.0  112.790928    0.0     0.5      0.0  128.150464    0.0   \n",
      "2     0.0      0.0  112.790928    0.0     1.0      0.0  126.610928    0.0   \n",
      "3     0.0      0.0  111.692784    0.0     1.5      0.0  122.881392    0.0   \n",
      "4     0.0      0.0  111.692784    0.0     2.0      0.0  123.027856    0.0   \n",
      "\n",
      "   row_id  well_id      GR  label  row_id  well_id          GR  label  \n",
      "0     0.0      0.0  143.51    0.0     1.0      0.0  112.790928    0.0  \n",
      "1     1.0      0.0  143.51    0.0     2.0      0.0  123.531856    0.0  \n",
      "2     2.0      0.0  143.51    0.0     3.0      0.0  111.692784    0.0  \n",
      "3     3.0      0.0  143.51    0.0     4.0      0.0  123.613712    0.0  \n",
      "4     4.0      0.0  143.51    0.0     5.0      0.0  120.414641    0.0  \n"
     ]
    }
   ],
   "source": [
    "window = train_df_ts.expanding()\n",
    "dataframe = pd.concat([window.min(), window.mean(), window.max(), train_df_ts.shift(-1)], axis=1)\n",
    "# dataframe.columns = ['min', 'mean', 'max', 't+1']\n",
    "print(dataframe.head(5))"
   ]
  },
  {
   "cell_type": "code",
   "execution_count": null,
   "metadata": {},
   "outputs": [],
   "source": [
    "train_df_ts = train_df_ts.groupby(\"well_id\").apply(create_lags)\n",
    "train_df_ts = train_df_ts.fillna(0)\n",
    "\n",
    "valid_df_ts = valid_df_ts.groupby(\"well_id\").apply(create_lags)\n",
    "valid_df_ts = valid_df_ts.fillna(0)"
   ]
  },
  {
   "cell_type": "code",
   "execution_count": null,
   "metadata": {},
   "outputs": [],
   "source": []
  },
  {
   "cell_type": "code",
   "execution_count": null,
   "metadata": {},
   "outputs": [],
   "source": []
  },
  {
   "cell_type": "code",
   "execution_count": null,
   "metadata": {},
   "outputs": [],
   "source": [
    "X_train, y_train, X_test, y_test = train_df_ts.drop([\"label\"], axis=1), train_df_ts[\"label\"], \\\n",
    "            valid_df_ts.drop([\"label\"], axis=1), valid_df_ts[\"label\"]"
   ]
  },
  {
   "cell_type": "code",
   "execution_count": null,
   "metadata": {},
   "outputs": [],
   "source": [
    "dataframe = concat([temps.shift(3), temps.shift(2), temps.shift(1), temps], axis=1)\n",
    "dataframe.columns = ['t-3', 't-2', 't-1', 't+1']"
   ]
  },
  {
   "cell_type": "code",
   "execution_count": null,
   "metadata": {},
   "outputs": [],
   "source": []
  },
  {
   "cell_type": "code",
   "execution_count": null,
   "metadata": {},
   "outputs": [],
   "source": []
  },
  {
   "cell_type": "code",
   "execution_count": null,
   "metadata": {},
   "outputs": [],
   "source": [
    "mlflow.set_experiment(\"xgboost_cls_feature_selecting\")\n",
    "\n",
    "class HyperoptHPOptimizer:\n",
    "    \n",
    "    def __init__(self, hyperparameters_space, max_evals):\n",
    "        self.trials = Trials()\n",
    "        self.max_evals = max_evals\n",
    "        self.hyperparameters_space = hyperparameters_space\n",
    "        self.skf = StratifiedKFold(n_splits=3, shuffle=False, random_state=RANDOM_STATE)\n",
    "    \n",
    "    def get_loss(self, hyperparameters):\n",
    "        # MLflow will track and save hyperparameters, loss, and scores. \n",
    "        with mlflow.start_run(run_name='hyperopt_param'):\n",
    "            params = {\n",
    "                'min_child_weight': 8,\n",
    "                'gamma': 3,\n",
    "                'subsample': 1,\n",
    "                'colsample_bytree': 0.6,\n",
    "                'eta': 0.3,\n",
    "                'max_depth':  4,\n",
    "                'random_state': RANDOM_STATE, \n",
    "                'verbosity': 1, \n",
    "                'n_jobs': -1, \n",
    "                'n_estimators': 10, \n",
    "                'learning_rate': 0.1, \n",
    "            }\n",
    "            cols = [col for col, is_use in hyperparameters.items() if is_use == 1]\n",
    "            for k, v in hyperparameters.items():\n",
    "                mlflow.log_param(k, v)\n",
    "            model = xgb.XGBClassifier(**params)\n",
    "            model.fit(X_train[cols], y_train)\n",
    "            y_pred = model.predict(X_test[cols])\n",
    "            loss = accuracy_score(y_test, y_pred)\n",
    "            # Log the various losses and metrics (on train and validation)\n",
    "            mlflow.log_metric(\"accuracy\", loss)\n",
    "            # Use the last validation loss from the history object to optimize\n",
    "            return {\n",
    "                'loss': -loss, \n",
    "                'status': STATUS_OK,\n",
    "                'eval_time': time()\n",
    "            }\n",
    "\n",
    "    def optimize(self):\n",
    "        \"\"\"\n",
    "        This is the optimization function that given a space of \n",
    "        hyperparameters and a scoring function, finds the best hyperparameters.\n",
    "        \"\"\"\n",
    "        # Use the fmin function from Hyperopt to find the best hyperparameters\n",
    "        # Here we use the tree-parzen estimator method. \n",
    "        best = fmin(self.get_loss, self.hyperparameters_space, algo=tpe.suggest, \n",
    "                    trials=self.trials,  max_evals=self.max_evals)\n",
    "        return best\n",
    "\n",
    "\n",
    "\n",
    "MAX_EVALS = 200\n",
    "\n",
    "HYPERPARAMETERS_SPACE = {col: hp.choice(col, [0, 1]) for col in X_train.columns.values}\n",
    "\n",
    "hp_optimizer = HyperoptHPOptimizer(hyperparameters_space=HYPERPARAMETERS_SPACE, max_evals=MAX_EVALS)\n",
    "optimal_hyperparameters = hp_optimizer.optimize()\n",
    "print(optimal_hyperparameters)"
   ]
  },
  {
   "cell_type": "code",
   "execution_count": null,
   "metadata": {},
   "outputs": [],
   "source": []
  },
  {
   "cell_type": "code",
   "execution_count": null,
   "metadata": {},
   "outputs": [],
   "source": []
  },
  {
   "cell_type": "code",
   "execution_count": null,
   "metadata": {},
   "outputs": [],
   "source": []
  },
  {
   "cell_type": "code",
   "execution_count": null,
   "metadata": {},
   "outputs": [],
   "source": []
  },
  {
   "cell_type": "code",
   "execution_count": null,
   "metadata": {},
   "outputs": [],
   "source": []
  },
  {
   "cell_type": "code",
   "execution_count": null,
   "metadata": {},
   "outputs": [],
   "source": []
  },
  {
   "cell_type": "code",
   "execution_count": null,
   "metadata": {},
   "outputs": [],
   "source": []
  },
  {
   "cell_type": "code",
   "execution_count": null,
   "metadata": {},
   "outputs": [],
   "source": []
  },
  {
   "cell_type": "code",
   "execution_count": null,
   "metadata": {},
   "outputs": [],
   "source": []
  },
  {
   "cell_type": "code",
   "execution_count": null,
   "metadata": {},
   "outputs": [],
   "source": []
  },
  {
   "cell_type": "code",
   "execution_count": null,
   "metadata": {},
   "outputs": [],
   "source": []
  },
  {
   "cell_type": "code",
   "execution_count": null,
   "metadata": {},
   "outputs": [],
   "source": []
  }
 ],
 "metadata": {
  "kernelspec": {
   "display_name": "Python 3",
   "language": "python",
   "name": "python3"
  },
  "language_info": {
   "codemirror_mode": {
    "name": "ipython",
    "version": 3
   },
   "file_extension": ".py",
   "mimetype": "text/x-python",
   "name": "python",
   "nbconvert_exporter": "python",
   "pygments_lexer": "ipython3",
   "version": "3.7.4"
  }
 },
 "nbformat": 4,
 "nbformat_minor": 4
}
