{
 "cells": [
  {
   "cell_type": "code",
   "execution_count": 3,
   "metadata": {},
   "outputs": [
    {
     "name": "stderr",
     "output_type": "stream",
     "text": [
      "Using TensorFlow backend.\n",
      "/Users/kirillvladimirov/PycharmProjects/cv_projects/venv/lib/python3.7/site-packages/eli5/base_utils.py:28: DeprecationWarning: inspect.getargspec() is deprecated since Python 3.0, use inspect.signature() or inspect.getfullargspec()\n",
      "  init_args = inspect.getargspec(class_.__init__)\n",
      "/Users/kirillvladimirov/PycharmProjects/cv_projects/venv/lib/python3.7/site-packages/eli5/base_utils.py:36: DeprecationWarning: The usage of `cmp` is deprecated and will be removed on or after 2021-06-01.  Please use `eq` and `order` instead.\n",
      "  return attr.s(class_, these=these, init=False, slots=True, **attrs_kwargs)  # type: ignore\n"
     ]
    }
   ],
   "source": [
    "from keras.preprocessing.sequence import TimeseriesGenerator\n",
    "import numpy as np\n",
    "\n",
    "import warnings\n",
    "warnings.filterwarnings('ignore')\n",
    "\n",
    "import torch\n",
    "from torch.utils.data import TensorDataset\n",
    "from torch.utils.data import DataLoader\n",
    "from torch.utils.data import Dataset\n",
    "\n",
    "import torch.nn.functional as F\n",
    "import torch.nn as nn\n",
    "from torch.autograd import Variable\n",
    "\n",
    "import torchvision\n",
    "from torchvision import transforms\n",
    "from torchsummary import summary\n",
    "\n",
    "from albumentations import (\n",
    "    ToFloat, \n",
    "    CLAHE, \n",
    "    RandomRotate90, \n",
    "    Transpose, \n",
    "    ShiftScaleRotate, \n",
    "    Blur, \n",
    "    OpticalDistortion, \n",
    "    GridDistortion, \n",
    "    HueSaturationValue, \n",
    "    IAAAdditiveGaussianNoise, \n",
    "    GaussNoise, \n",
    "    MotionBlur, \n",
    "    MedianBlur, \n",
    "    IAAPiecewiseAffine, \n",
    "    IAASharpen, \n",
    "    IAAEmboss, \n",
    "    RandomContrast, \n",
    "    RandomBrightness, \n",
    "    Flip, \n",
    "    OneOf, \n",
    "    Compose\n",
    ")\n",
    "\n",
    "import numpy as np\n",
    "import pandas as pd\n",
    "import matplotlib.pyplot as plt\n",
    "from pylab import rcParams\n",
    "import numbers\n",
    "from sklearn.model_selection import train_test_split\n",
    "\n",
    "from PIL import Image\n",
    "import math\n",
    "from tqdm import tqdm\n",
    "\n",
    "import os\n",
    "from tqdm import tqdm_notebook as tqdm\n",
    "\n",
    "# Ignore  the warnings\n",
    "import warnings\n",
    "warnings.filterwarnings('always')\n",
    "warnings.filterwarnings('ignore')\n",
    "\n",
    "import numpy as np\n",
    "import pandas as pd\n",
    "\n",
    "import warnings\n",
    "import matplotlib.pyplot as plt\n",
    "from matplotlib.pyplot import subplots\n",
    "import matplotlib.patches as patches\n",
    "import seaborn as sns\n",
    "from pylab import rcParams\n",
    "\n",
    "%matplotlib inline \n",
    "plt.style.use('seaborn')\n",
    "sns.set(style='whitegrid',color_codes=True)\n",
    "\n",
    "# classifiaction \n",
    "from sklearn.tree import DecisionTreeClassifier\n",
    "from sklearn.ensemble import RandomForestClassifier \n",
    "from sklearn.ensemble import GradientBoostingClassifier\n",
    "from sklearn.linear_model import LogisticRegression\n",
    "from sklearn.neighbors import KNeighborsClassifier\n",
    "from sklearn.naive_bayes import GaussianNB\n",
    "import xgboost as xgb\n",
    "import catboost as ctb\n",
    "\n",
    "# for classification\n",
    "from sklearn.metrics import accuracy_score\n",
    "\n",
    "# model selection\n",
    "from sklearn.model_selection import train_test_split, cross_val_score, StratifiedKFold\n",
    "from sklearn.model_selection import GridSearchCV\n",
    "\n",
    "# Hp optimization imports\n",
    "from hyperopt import STATUS_OK, Trials, fmin, hp, tpe\n",
    "import mlflow\n",
    "\n",
    "import re\n",
    "import eli5\n",
    "import gc\n",
    "import random    \n",
    "import math\n",
    "import psutil\n",
    "import pickle\n",
    "import datetime\n",
    "from time import time\n",
    "\n",
    "# save/load models\n",
    "from joblib import dump\n",
    "from joblib import load\n",
    "\n",
    "\n",
    "import numpy\n",
    "from keras.optimizers import Adam\n",
    "from keras.datasets import imdb\n",
    "from keras.models import Sequential\n",
    "from keras.layers import Dense\n",
    "from keras.layers import LSTM\n",
    "from keras.layers.embeddings import Embedding\n",
    "from keras.preprocessing import sequence\n",
    "from keras.models import Sequential\n",
    "from keras.layers import Dense, LSTM, InputLayer, Bidirectional, TimeDistributed, Embedding, Activation\n",
    "from keras.optimizers import Adam\n",
    "# fix random seed for reproducibility\n",
    "numpy.random.seed(7)\n",
    "from keras.callbacks.callbacks import EarlyStopping, ModelCheckpoint\n",
    "from sklearn.preprocessing import StandardScaler\n",
    "from sklearn.preprocessing import LabelEncoder, OrdinalEncoder\n",
    "from sklearn.model_selection import StratifiedKFold, KFold, RepeatedKFold, train_test_split, GroupKFold, GroupShuffleSplit\n",
    "\n",
    "from numpy import zeros, newaxis"
   ]
  },
  {
   "cell_type": "code",
   "execution_count": 2,
   "metadata": {},
   "outputs": [
    {
     "data": {
      "text/plain": [
       "0.22944289410146546"
      ]
     },
     "execution_count": 2,
     "metadata": {},
     "output_type": "execute_result"
    }
   ],
   "source": [
    "from sklearn.metrics import log_loss\n",
    "y_true = [0, 0, 1, 1, 1]\n",
    "y_pred = [[.9, .1], [.8, .2], [.3, .7], [.01, .99], [.4, .7]]\n",
    "log_loss(y_true, y_pred)"
   ]
  },
  {
   "cell_type": "code",
   "execution_count": 4,
   "metadata": {},
   "outputs": [
    {
     "data": {
      "text/plain": [
       "-0.5108256237659907"
      ]
     },
     "execution_count": 4,
     "metadata": {},
     "output_type": "execute_result"
    }
   ],
   "source": [
    "np.log(0.6)"
   ]
  },
  {
   "cell_type": "code",
   "execution_count": 2,
   "metadata": {},
   "outputs": [],
   "source": [
    "from numpy import array\n",
    "from keras.preprocessing.text import one_hot\n",
    "from keras.preprocessing.sequence import pad_sequences\n",
    "from keras.models import Sequential\n",
    "from keras.layers.core import Activation, Dropout, Dense\n",
    "from keras.layers import Flatten, LSTM\n",
    "from keras.layers import GlobalMaxPooling1D\n",
    "from keras.models import Model\n",
    "from keras.layers.embeddings import Embedding\n",
    "from sklearn.model_selection import train_test_split\n",
    "from keras.preprocessing.text import Tokenizer\n",
    "from keras.layers import Input\n",
    "from keras.layers.merge import Concatenate\n",
    "from keras.layers import Bidirectional\n",
    "from keras.models import load_model\n",
    "\n",
    "import pandas as pd\n",
    "import numpy as np\n",
    "import re\n",
    "\n",
    "import matplotlib.pyplot as plt"
   ]
  },
  {
   "cell_type": "code",
   "execution_count": 3,
   "metadata": {},
   "outputs": [],
   "source": [
    "root = \"../../data/raw/Gamma_Log_Facies_Type_Prediction/\"\n",
    "models_root = \"../../models/Gamma_Log_Facies_Type_Prediction/\"\n",
    "RANDOM_STATE = 42\n",
    "np.random.seed(RANDOM_STATE)\n",
    "pd.set_option('max_columns', 150)\n",
    "# rcParams['figure.figsize'] = 16,8"
   ]
  },
  {
   "cell_type": "code",
   "execution_count": 4,
   "metadata": {},
   "outputs": [],
   "source": [
    "def show_history(history, metric='mse'):\n",
    "    plt.plot(history.history[metric])\n",
    "    plt.plot(history.history[f'val_{metric}'])\n",
    "    plt.title('model accuracy')\n",
    "    plt.ylabel('accuracy')\n",
    "    plt.xlabel('epoch')\n",
    "    plt.legend(['train', 'test'], loc='upper left')\n",
    "    plt.show()\n",
    "    # summarize history for loss\n",
    "    plt.plot(history.history['loss'])\n",
    "    plt.plot(history.history['val_loss'])\n",
    "    plt.title('model loss')\n",
    "    plt.ylabel('loss')\n",
    "    plt.xlabel('epoch')\n",
    "    plt.legend(['train', 'test'], loc='upper left')\n",
    "    plt.show()"
   ]
  },
  {
   "cell_type": "code",
   "execution_count": 5,
   "metadata": {},
   "outputs": [],
   "source": [
    "def to_categorical(sequences, categories):\n",
    "    cat_sequences = []\n",
    "    for s in sequences:\n",
    "        cats = []\n",
    "        for item in s:\n",
    "            cats.append(np.zeros(categories))\n",
    "            cats[-1][item] = 1.0\n",
    "        cat_sequences.append(cats)\n",
    "    return np.array(cat_sequences)"
   ]
  },
  {
   "cell_type": "code",
   "execution_count": 6,
   "metadata": {},
   "outputs": [
    {
     "name": "stdout",
     "output_type": "stream",
     "text": [
      "CPU times: user 2.95 s, sys: 381 ms, total: 3.33 s\n",
      "Wall time: 3.34 s\n"
     ]
    }
   ],
   "source": [
    "%%time\n",
    "full_train_df = pd.read_csv(root + \"Train_File.csv\")\n",
    "full_test_df = pd.read_csv(root + \"Test_File.csv\")\n",
    "submit_df = pd.read_csv(root + \"Submission_File.csv\")\n"
   ]
  },
  {
   "cell_type": "code",
   "execution_count": 7,
   "metadata": {},
   "outputs": [],
   "source": [
    "scaler = StandardScaler()\n",
    "full_train_df[[\"GR\"]] = scaler.fit_transform(full_train_df[[\"GR\"]])\n",
    "full_test_df[[\"GR\"]] = scaler.transform(full_test_df[[\"GR\"]])"
   ]
  },
  {
   "cell_type": "code",
   "execution_count": 8,
   "metadata": {},
   "outputs": [
    {
     "data": {
      "text/plain": [
       "((4400000, 4), (2200000, 4), (2200000, 2))"
      ]
     },
     "execution_count": 8,
     "metadata": {},
     "output_type": "execute_result"
    }
   ],
   "source": [
    "full_train_df.shape, full_test_df.shape, submit_df.shape"
   ]
  },
  {
   "cell_type": "code",
   "execution_count": 9,
   "metadata": {},
   "outputs": [],
   "source": [
    "train = np.array([x.values[:,2:3].T for group, x in full_train_df.groupby('well_id')], dtype='float32')\n",
    "target = np.array([x.values[:,3:].T for group, x in full_train_df.groupby('well_id')], dtype='float32')\n",
    "test = np.array([x.values[:,3:4].T for group, x in full_test_df.groupby('well_id')], dtype='float32')"
   ]
  },
  {
   "cell_type": "code",
   "execution_count": 10,
   "metadata": {},
   "outputs": [
    {
     "data": {
      "text/plain": [
       "((4000, 1, 1100), (4000, 1, 1100), (2000, 1, 1100))"
      ]
     },
     "execution_count": 10,
     "metadata": {},
     "output_type": "execute_result"
    }
   ],
   "source": [
    "train.shape, target.shape, test.shape"
   ]
  },
  {
   "cell_type": "code",
   "execution_count": 11,
   "metadata": {},
   "outputs": [],
   "source": [
    "train_X = train.reshape(train.shape[0], train.shape[2])\n",
    "train_y = target.reshape(target.shape[0], target.shape[2])\n",
    "test_X = test.reshape(test.shape[0], test.shape[2])"
   ]
  },
  {
   "cell_type": "code",
   "execution_count": 12,
   "metadata": {},
   "outputs": [
    {
     "data": {
      "text/plain": [
       "((4000, 1100), (4000, 1100), (2000, 1100))"
      ]
     },
     "execution_count": 12,
     "metadata": {},
     "output_type": "execute_result"
    }
   ],
   "source": [
    "train_X.shape, train_y.shape, test_X.shape"
   ]
  },
  {
   "cell_type": "code",
   "execution_count": 13,
   "metadata": {},
   "outputs": [],
   "source": [
    "train_y = train_y.astype(int)\n",
    "train_y_cat = to_categorical(train_y, 5)"
   ]
  },
  {
   "cell_type": "code",
   "execution_count": 14,
   "metadata": {},
   "outputs": [],
   "source": [
    "# train_y_cat = train_y_cat[:, :, :, newaxis]\n",
    "train_X = train_X[:, :, newaxis]\n",
    "test_X = test_X[:, :, newaxis]"
   ]
  },
  {
   "cell_type": "code",
   "execution_count": 15,
   "metadata": {},
   "outputs": [
    {
     "data": {
      "text/plain": [
       "((4000, 1100, 1), (4000, 1100, 5), (2000, 1100, 1))"
      ]
     },
     "execution_count": 15,
     "metadata": {},
     "output_type": "execute_result"
    }
   ],
   "source": [
    "train_X.shape, train_y_cat.shape, test_X.shape"
   ]
  },
  {
   "cell_type": "code",
   "execution_count": null,
   "metadata": {},
   "outputs": [],
   "source": []
  },
  {
   "cell_type": "code",
   "execution_count": 21,
   "metadata": {},
   "outputs": [],
   "source": [
    "# cv =     0.95559\n",
    "# public = 0.95448\n",
    "\n",
    "model = Sequential()\n",
    "model.add(Bidirectional(LSTM(256, input_shape=(1100, 1), return_sequences=True)))\n",
    "model.add(Dropout(0.2))\n",
    "model.add(TimeDistributed(Dense(5)))\n",
    "model.add(Activation('softmax'))\n",
    "\n",
    "learning_rate = 0.001\n",
    "epochs = 80\n",
    "decay_rate = learning_rate / epochs\n",
    "es = EarlyStopping(monitor='val_loss', mode='min', verbose=1, patience=5)\n",
    "mc = ModelCheckpoint(models_root+'k02_baseline_best_model.h5', monitor='val_accuracy', mode='max', verbose=1, save_best_only=True)\n",
    "adam = Adam(learning_rate, decay=decay_rate)\n",
    "model.compile(loss='categorical_crossentropy', optimizer=adam, metrics=['accuracy'])"
   ]
  },
  {
   "cell_type": "code",
   "execution_count": null,
   "metadata": {},
   "outputs": [],
   "source": []
  },
  {
   "cell_type": "code",
   "execution_count": 22,
   "metadata": {},
   "outputs": [
    {
     "name": "stdout",
     "output_type": "stream",
     "text": [
      "Train on 3200 samples, validate on 800 samples\n",
      "Epoch 1/80\n",
      "3200/3200 [==============================] - 259s 81ms/step - loss: 1.0445 - accuracy: 0.6124 - val_loss: 0.8735 - val_accuracy: 0.6517\n",
      "\n",
      "Epoch 00001: val_accuracy improved from -inf to 0.65171, saving model to ../../models/Gamma_Log_Facies_Type_Prediction/k02_baseline_best_model.h5\n",
      "Epoch 2/80\n",
      "3200/3200 [==============================] - 264s 83ms/step - loss: 0.8583 - accuracy: 0.6623 - val_loss: 0.8032 - val_accuracy: 0.6929\n",
      "\n",
      "Epoch 00002: val_accuracy improved from 0.65171 to 0.69288, saving model to ../../models/Gamma_Log_Facies_Type_Prediction/k02_baseline_best_model.h5\n",
      "Epoch 3/80\n",
      "3200/3200 [==============================] - 288s 90ms/step - loss: 0.7562 - accuracy: 0.7191 - val_loss: 0.7006 - val_accuracy: 0.7372\n",
      "\n",
      "Epoch 00003: val_accuracy improved from 0.69288 to 0.73717, saving model to ../../models/Gamma_Log_Facies_Type_Prediction/k02_baseline_best_model.h5\n",
      "Epoch 4/80\n",
      "3200/3200 [==============================] - 290s 91ms/step - loss: 0.6314 - accuracy: 0.7710 - val_loss: 0.5262 - val_accuracy: 0.8171\n",
      "\n",
      "Epoch 00004: val_accuracy improved from 0.73717 to 0.81706, saving model to ../../models/Gamma_Log_Facies_Type_Prediction/k02_baseline_best_model.h5\n",
      "Epoch 5/80\n",
      "3200/3200 [==============================] - 295s 92ms/step - loss: 0.4688 - accuracy: 0.8409 - val_loss: 0.4041 - val_accuracy: 0.8645\n",
      "\n",
      "Epoch 00005: val_accuracy improved from 0.81706 to 0.86452, saving model to ../../models/Gamma_Log_Facies_Type_Prediction/k02_baseline_best_model.h5\n",
      "Epoch 6/80\n",
      "3200/3200 [==============================] - 292s 91ms/step - loss: 0.3761 - accuracy: 0.8725 - val_loss: 0.3308 - val_accuracy: 0.8889\n",
      "\n",
      "Epoch 00006: val_accuracy improved from 0.86452 to 0.88886, saving model to ../../models/Gamma_Log_Facies_Type_Prediction/k02_baseline_best_model.h5\n",
      "Epoch 7/80\n",
      "3200/3200 [==============================] - 282s 88ms/step - loss: 0.3214 - accuracy: 0.8909 - val_loss: 0.2970 - val_accuracy: 0.9005\n",
      "\n",
      "Epoch 00007: val_accuracy improved from 0.88886 to 0.90052, saving model to ../../models/Gamma_Log_Facies_Type_Prediction/k02_baseline_best_model.h5\n",
      "Epoch 8/80\n",
      "3200/3200 [==============================] - 279s 87ms/step - loss: 0.2932 - accuracy: 0.9007 - val_loss: 0.2710 - val_accuracy: 0.9093\n",
      "\n",
      "Epoch 00008: val_accuracy improved from 0.90052 to 0.90930, saving model to ../../models/Gamma_Log_Facies_Type_Prediction/k02_baseline_best_model.h5\n",
      "Epoch 9/80\n",
      "3200/3200 [==============================] - 278s 87ms/step - loss: 0.2675 - accuracy: 0.9095 - val_loss: 0.2479 - val_accuracy: 0.9159\n",
      "\n",
      "Epoch 00009: val_accuracy improved from 0.90930 to 0.91588, saving model to ../../models/Gamma_Log_Facies_Type_Prediction/k02_baseline_best_model.h5\n",
      "Epoch 10/80\n",
      "3200/3200 [==============================] - 260s 81ms/step - loss: 0.2548 - accuracy: 0.9136 - val_loss: 0.2395 - val_accuracy: 0.9196\n",
      "\n",
      "Epoch 00010: val_accuracy improved from 0.91588 to 0.91961, saving model to ../../models/Gamma_Log_Facies_Type_Prediction/k02_baseline_best_model.h5\n",
      "Epoch 11/80\n",
      "3200/3200 [==============================] - 252s 79ms/step - loss: 0.2401 - accuracy: 0.9184 - val_loss: 0.2295 - val_accuracy: 0.9224\n",
      "\n",
      "Epoch 00011: val_accuracy improved from 0.91961 to 0.92243, saving model to ../../models/Gamma_Log_Facies_Type_Prediction/k02_baseline_best_model.h5\n",
      "Epoch 12/80\n",
      "3200/3200 [==============================] - 278s 87ms/step - loss: 0.2287 - accuracy: 0.9220 - val_loss: 0.2164 - val_accuracy: 0.9264\n",
      "\n",
      "Epoch 00012: val_accuracy improved from 0.92243 to 0.92638, saving model to ../../models/Gamma_Log_Facies_Type_Prediction/k02_baseline_best_model.h5\n",
      "Epoch 13/80\n",
      "3200/3200 [==============================] - 265s 83ms/step - loss: 0.2179 - accuracy: 0.9257 - val_loss: 0.2061 - val_accuracy: 0.9306\n",
      "\n",
      "Epoch 00013: val_accuracy improved from 0.92638 to 0.93063, saving model to ../../models/Gamma_Log_Facies_Type_Prediction/k02_baseline_best_model.h5\n",
      "Epoch 14/80\n",
      "3200/3200 [==============================] - 270s 84ms/step - loss: 0.2122 - accuracy: 0.9275 - val_loss: 0.2036 - val_accuracy: 0.9304\n",
      "\n",
      "Epoch 00014: val_accuracy did not improve from 0.93063\n",
      "Epoch 15/80\n",
      "3200/3200 [==============================] - 272s 85ms/step - loss: 0.2081 - accuracy: 0.9290 - val_loss: 0.2004 - val_accuracy: 0.9318\n",
      "\n",
      "Epoch 00015: val_accuracy improved from 0.93063 to 0.93177, saving model to ../../models/Gamma_Log_Facies_Type_Prediction/k02_baseline_best_model.h5\n",
      "Epoch 16/80\n",
      "3200/3200 [==============================] - 255s 80ms/step - loss: 0.2005 - accuracy: 0.9314 - val_loss: 0.1910 - val_accuracy: 0.9353\n",
      "\n",
      "Epoch 00016: val_accuracy improved from 0.93177 to 0.93534, saving model to ../../models/Gamma_Log_Facies_Type_Prediction/k02_baseline_best_model.h5\n",
      "Epoch 17/80\n",
      "3200/3200 [==============================] - 282s 88ms/step - loss: 0.1959 - accuracy: 0.9326 - val_loss: 0.1917 - val_accuracy: 0.9342\n",
      "\n",
      "Epoch 00017: val_accuracy did not improve from 0.93534\n",
      "Epoch 18/80\n",
      "3200/3200 [==============================] - 296s 92ms/step - loss: 0.1911 - accuracy: 0.9343 - val_loss: 0.1827 - val_accuracy: 0.9368\n",
      "\n",
      "Epoch 00018: val_accuracy improved from 0.93534 to 0.93685, saving model to ../../models/Gamma_Log_Facies_Type_Prediction/k02_baseline_best_model.h5\n",
      "Epoch 19/80\n",
      "3200/3200 [==============================] - 288s 90ms/step - loss: 0.1858 - accuracy: 0.9363 - val_loss: 0.1783 - val_accuracy: 0.9393\n",
      "\n",
      "Epoch 00019: val_accuracy improved from 0.93685 to 0.93931, saving model to ../../models/Gamma_Log_Facies_Type_Prediction/k02_baseline_best_model.h5\n",
      "Epoch 20/80\n",
      "3200/3200 [==============================] - 310s 97ms/step - loss: 0.1807 - accuracy: 0.9378 - val_loss: 0.1775 - val_accuracy: 0.9391\n",
      "\n",
      "Epoch 00020: val_accuracy did not improve from 0.93931\n",
      "Epoch 21/80\n",
      "3200/3200 [==============================] - 254s 79ms/step - loss: 0.1785 - accuracy: 0.9385 - val_loss: 0.1714 - val_accuracy: 0.9413\n",
      "\n",
      "Epoch 00021: val_accuracy improved from 0.93931 to 0.94133, saving model to ../../models/Gamma_Log_Facies_Type_Prediction/k02_baseline_best_model.h5\n",
      "Epoch 22/80\n",
      "3200/3200 [==============================] - 278s 87ms/step - loss: 0.1727 - accuracy: 0.9405 - val_loss: 0.1694 - val_accuracy: 0.9421\n",
      "\n",
      "Epoch 00022: val_accuracy improved from 0.94133 to 0.94209, saving model to ../../models/Gamma_Log_Facies_Type_Prediction/k02_baseline_best_model.h5\n",
      "Epoch 23/80\n",
      "3200/3200 [==============================] - 267s 83ms/step - loss: 0.1708 - accuracy: 0.9413 - val_loss: 0.1664 - val_accuracy: 0.9431\n",
      "\n",
      "Epoch 00023: val_accuracy improved from 0.94209 to 0.94307, saving model to ../../models/Gamma_Log_Facies_Type_Prediction/k02_baseline_best_model.h5\n",
      "Epoch 24/80\n",
      "3200/3200 [==============================] - 261s 82ms/step - loss: 0.1666 - accuracy: 0.9426 - val_loss: 0.1646 - val_accuracy: 0.9435\n",
      "\n",
      "Epoch 00024: val_accuracy improved from 0.94307 to 0.94350, saving model to ../../models/Gamma_Log_Facies_Type_Prediction/k02_baseline_best_model.h5\n",
      "Epoch 25/80\n",
      "3200/3200 [==============================] - 247s 77ms/step - loss: 0.1639 - accuracy: 0.9436 - val_loss: 0.1621 - val_accuracy: 0.9446\n",
      "\n",
      "Epoch 00025: val_accuracy improved from 0.94350 to 0.94458, saving model to ../../models/Gamma_Log_Facies_Type_Prediction/k02_baseline_best_model.h5\n",
      "Epoch 26/80\n",
      "3200/3200 [==============================] - 265s 83ms/step - loss: 0.1617 - accuracy: 0.9445 - val_loss: 0.1618 - val_accuracy: 0.9439\n",
      "\n",
      "Epoch 00026: val_accuracy did not improve from 0.94458\n",
      "Epoch 27/80\n",
      "3200/3200 [==============================] - 250s 78ms/step - loss: 0.1602 - accuracy: 0.9450 - val_loss: 0.1625 - val_accuracy: 0.9438\n",
      "\n",
      "Epoch 00027: val_accuracy did not improve from 0.94458\n",
      "Epoch 28/80\n",
      "3200/3200 [==============================] - 260s 81ms/step - loss: 0.1591 - accuracy: 0.9451 - val_loss: 0.1595 - val_accuracy: 0.9454\n",
      "\n",
      "Epoch 00028: val_accuracy improved from 0.94458 to 0.94537, saving model to ../../models/Gamma_Log_Facies_Type_Prediction/k02_baseline_best_model.h5\n",
      "Epoch 29/80\n",
      "3200/3200 [==============================] - 256s 80ms/step - loss: 0.1582 - accuracy: 0.9456 - val_loss: 0.1562 - val_accuracy: 0.9464\n",
      "\n",
      "Epoch 00029: val_accuracy improved from 0.94537 to 0.94636, saving model to ../../models/Gamma_Log_Facies_Type_Prediction/k02_baseline_best_model.h5\n",
      "Epoch 30/80\n",
      "3200/3200 [==============================] - 249s 78ms/step - loss: 0.1535 - accuracy: 0.9471 - val_loss: 0.1526 - val_accuracy: 0.9479\n",
      "\n",
      "Epoch 00030: val_accuracy improved from 0.94636 to 0.94786, saving model to ../../models/Gamma_Log_Facies_Type_Prediction/k02_baseline_best_model.h5\n",
      "Epoch 31/80\n",
      "3200/3200 [==============================] - 248s 78ms/step - loss: 0.1506 - accuracy: 0.9482 - val_loss: 0.1526 - val_accuracy: 0.9479\n",
      "\n",
      "Epoch 00031: val_accuracy improved from 0.94786 to 0.94786, saving model to ../../models/Gamma_Log_Facies_Type_Prediction/k02_baseline_best_model.h5\n",
      "Epoch 32/80\n",
      "3200/3200 [==============================] - 254s 79ms/step - loss: 0.1492 - accuracy: 0.9487 - val_loss: 0.1496 - val_accuracy: 0.9487\n",
      "\n",
      "Epoch 00032: val_accuracy improved from 0.94786 to 0.94873, saving model to ../../models/Gamma_Log_Facies_Type_Prediction/k02_baseline_best_model.h5\n",
      "Epoch 33/80\n",
      "3200/3200 [==============================] - 246s 77ms/step - loss: 0.1482 - accuracy: 0.9490 - val_loss: 0.1497 - val_accuracy: 0.9486\n",
      "\n",
      "Epoch 00033: val_accuracy did not improve from 0.94873\n",
      "Epoch 34/80\n",
      "3200/3200 [==============================] - 264s 82ms/step - loss: 0.1468 - accuracy: 0.9495 - val_loss: 0.1475 - val_accuracy: 0.9493\n",
      "\n",
      "Epoch 00034: val_accuracy improved from 0.94873 to 0.94929, saving model to ../../models/Gamma_Log_Facies_Type_Prediction/k02_baseline_best_model.h5\n",
      "Epoch 35/80\n",
      "3200/3200 [==============================] - 245s 77ms/step - loss: 0.1426 - accuracy: 0.9509 - val_loss: 0.1447 - val_accuracy: 0.9505\n",
      "\n",
      "Epoch 00035: val_accuracy improved from 0.94929 to 0.95053, saving model to ../../models/Gamma_Log_Facies_Type_Prediction/k02_baseline_best_model.h5\n",
      "Epoch 36/80\n",
      "3200/3200 [==============================] - 260s 81ms/step - loss: 0.1415 - accuracy: 0.9515 - val_loss: 0.1421 - val_accuracy: 0.9514\n",
      "\n",
      "Epoch 00036: val_accuracy improved from 0.95053 to 0.95138, saving model to ../../models/Gamma_Log_Facies_Type_Prediction/k02_baseline_best_model.h5\n",
      "Epoch 37/80\n",
      "3200/3200 [==============================] - 257s 80ms/step - loss: 0.1396 - accuracy: 0.9520 - val_loss: 0.1416 - val_accuracy: 0.9513\n",
      "\n",
      "Epoch 00037: val_accuracy did not improve from 0.95138\n",
      "Epoch 38/80\n",
      "3200/3200 [==============================] - 263s 82ms/step - loss: 0.1371 - accuracy: 0.9529 - val_loss: 0.1419 - val_accuracy: 0.9514\n",
      "\n",
      "Epoch 00038: val_accuracy improved from 0.95138 to 0.95140, saving model to ../../models/Gamma_Log_Facies_Type_Prediction/k02_baseline_best_model.h5\n",
      "Epoch 39/80\n",
      "3200/3200 [==============================] - 255s 80ms/step - loss: 0.1370 - accuracy: 0.9529 - val_loss: 0.1422 - val_accuracy: 0.9514\n",
      "\n",
      "Epoch 00039: val_accuracy did not improve from 0.95140\n",
      "Epoch 40/80\n",
      "3200/3200 [==============================] - 256s 80ms/step - loss: 0.1357 - accuracy: 0.9534 - val_loss: 0.1396 - val_accuracy: 0.9525\n",
      "\n",
      "Epoch 00040: val_accuracy improved from 0.95140 to 0.95251, saving model to ../../models/Gamma_Log_Facies_Type_Prediction/k02_baseline_best_model.h5\n",
      "Epoch 41/80\n",
      "3200/3200 [==============================] - 248s 78ms/step - loss: 0.1342 - accuracy: 0.9538 - val_loss: 0.1394 - val_accuracy: 0.9521\n",
      "\n",
      "Epoch 00041: val_accuracy did not improve from 0.95251\n",
      "Epoch 42/80\n",
      "3200/3200 [==============================] - 285s 89ms/step - loss: 0.1337 - accuracy: 0.9541 - val_loss: 0.1375 - val_accuracy: 0.9530\n",
      "\n",
      "Epoch 00042: val_accuracy improved from 0.95251 to 0.95297, saving model to ../../models/Gamma_Log_Facies_Type_Prediction/k02_baseline_best_model.h5\n",
      "Epoch 43/80\n",
      "3200/3200 [==============================] - 249s 78ms/step - loss: 0.1306 - accuracy: 0.9551 - val_loss: 0.1390 - val_accuracy: 0.9525\n",
      "\n",
      "Epoch 00043: val_accuracy did not improve from 0.95297\n",
      "Epoch 44/80\n",
      "3200/3200 [==============================] - 255s 80ms/step - loss: 0.1291 - accuracy: 0.9557 - val_loss: 0.1345 - val_accuracy: 0.9535\n",
      "\n",
      "Epoch 00044: val_accuracy improved from 0.95297 to 0.95353, saving model to ../../models/Gamma_Log_Facies_Type_Prediction/k02_baseline_best_model.h5\n",
      "Epoch 45/80\n",
      "3200/3200 [==============================] - 269s 84ms/step - loss: 0.1310 - accuracy: 0.9549 - val_loss: 0.1359 - val_accuracy: 0.9537\n",
      "\n",
      "Epoch 00045: val_accuracy improved from 0.95353 to 0.95366, saving model to ../../models/Gamma_Log_Facies_Type_Prediction/k02_baseline_best_model.h5\n",
      "Epoch 46/80\n",
      "3200/3200 [==============================] - 251s 78ms/step - loss: 0.1275 - accuracy: 0.9561 - val_loss: 0.1367 - val_accuracy: 0.9530\n",
      "\n",
      "Epoch 00046: val_accuracy did not improve from 0.95366\n",
      "Epoch 47/80\n",
      "3200/3200 [==============================] - 255s 80ms/step - loss: 0.1255 - accuracy: 0.9568 - val_loss: 0.1332 - val_accuracy: 0.9545\n",
      "\n",
      "Epoch 00047: val_accuracy improved from 0.95366 to 0.95446, saving model to ../../models/Gamma_Log_Facies_Type_Prediction/k02_baseline_best_model.h5\n",
      "Epoch 48/80\n",
      "3200/3200 [==============================] - 262s 82ms/step - loss: 0.1229 - accuracy: 0.9578 - val_loss: 0.1335 - val_accuracy: 0.9539\n",
      "\n",
      "Epoch 00048: val_accuracy did not improve from 0.95446\n",
      "Epoch 49/80\n",
      "3200/3200 [==============================] - 267s 84ms/step - loss: 0.1233 - accuracy: 0.9575 - val_loss: 0.1302 - val_accuracy: 0.9553\n",
      "\n",
      "Epoch 00049: val_accuracy improved from 0.95446 to 0.95530, saving model to ../../models/Gamma_Log_Facies_Type_Prediction/k02_baseline_best_model.h5\n",
      "Epoch 50/80\n",
      "3200/3200 [==============================] - 257s 80ms/step - loss: 0.1214 - accuracy: 0.9584 - val_loss: 0.1324 - val_accuracy: 0.9542\n",
      "\n",
      "Epoch 00050: val_accuracy did not improve from 0.95530\n",
      "Epoch 51/80\n",
      "3200/3200 [==============================] - 243s 76ms/step - loss: 0.1207 - accuracy: 0.9585 - val_loss: 0.1326 - val_accuracy: 0.9546\n",
      "\n",
      "Epoch 00051: val_accuracy did not improve from 0.95530\n",
      "Epoch 52/80\n",
      "3200/3200 [==============================] - 258s 81ms/step - loss: 0.1190 - accuracy: 0.9592 - val_loss: 0.1326 - val_accuracy: 0.9547\n",
      "\n",
      "Epoch 00052: val_accuracy did not improve from 0.95530\n",
      "Epoch 53/80\n",
      "3200/3200 [==============================] - 249s 78ms/step - loss: 0.1170 - accuracy: 0.9598 - val_loss: 0.1309 - val_accuracy: 0.9550\n",
      "\n",
      "Epoch 00053: val_accuracy did not improve from 0.95530\n",
      "Epoch 54/80\n",
      "3200/3200 [==============================] - 257s 80ms/step - loss: 0.1168 - accuracy: 0.9598 - val_loss: 0.1317 - val_accuracy: 0.9556\n",
      "\n",
      "Epoch 00054: val_accuracy improved from 0.95530 to 0.95559, saving model to ../../models/Gamma_Log_Facies_Type_Prediction/k02_baseline_best_model.h5\n",
      "Epoch 00054: early stopping\n",
      "CPU times: user 15h 5min 40s, sys: 7h 28min 57s, total: 22h 34min 38s\n",
      "Wall time: 3h 58min 18s\n"
     ]
    }
   ],
   "source": [
    "%%time\n",
    "\n",
    "history = model.fit(train_X, train_y_cat, batch_size=128, epochs=epochs, validation_split=0.2, callbacks=[es, mc])"
   ]
  },
  {
   "cell_type": "code",
   "execution_count": 25,
   "metadata": {},
   "outputs": [
    {
     "name": "stdout",
     "output_type": "stream",
     "text": [
      "Model: \"sequential_2\"\n",
      "_________________________________________________________________\n",
      "Layer (type)                 Output Shape              Param #   \n",
      "=================================================================\n",
      "bidirectional_2 (Bidirection (None, 1100, 512)         528384    \n",
      "_________________________________________________________________\n",
      "dropout_2 (Dropout)          (None, 1100, 512)         0         \n",
      "_________________________________________________________________\n",
      "time_distributed_2 (TimeDist (None, 1100, 5)           2565      \n",
      "_________________________________________________________________\n",
      "activation_2 (Activation)    (None, 1100, 5)           0         \n",
      "=================================================================\n",
      "Total params: 530,949\n",
      "Trainable params: 530,949\n",
      "Non-trainable params: 0\n",
      "_________________________________________________________________\n"
     ]
    }
   ],
   "source": [
    "model.summary()"
   ]
  },
  {
   "cell_type": "code",
   "execution_count": 26,
   "metadata": {},
   "outputs": [
    {
     "data": {
      "image/png": "[encoded data removed]",
      "text/plain": [
       "<Figure size 432x288 with 1 Axes>"
      ]
     },
     "metadata": {
      "needs_background": "light"
     },
     "output_type": "display_data"
    },
    {
     "data": {
      "image/png": "[encoded data removed]",
      "text/plain": [
       "<Figure size 432x288 with 1 Axes>"
      ]
     },
     "metadata": {
      "needs_background": "light"
     },
     "output_type": "display_data"
    }
   ],
   "source": [
    "show_history(history, 'accuracy')"
   ]
  },
  {
   "cell_type": "code",
   "execution_count": 27,
   "metadata": {},
   "outputs": [],
   "source": [
    "model_1 = load_model(models_root+'k02_baseline_best_model.h5')"
   ]
  },
  {
   "cell_type": "code",
   "execution_count": 28,
   "metadata": {},
   "outputs": [
    {
     "name": "stdout",
     "output_type": "stream",
     "text": [
      "CPU times: user 3min 15s, sys: 49.3 s, total: 4min 4s\n",
      "Wall time: 44.6 s\n"
     ]
    }
   ],
   "source": [
    "%%time\n",
    "\n",
    "y_hat = model_1.predict(test_X)"
   ]
  },
  {
   "cell_type": "code",
   "execution_count": 30,
   "metadata": {},
   "outputs": [],
   "source": [
    "predict = np.argmax(y_hat.reshape((-1,5)), axis=1)"
   ]
  },
  {
   "cell_type": "code",
   "execution_count": 31,
   "metadata": {},
   "outputs": [
    {
     "data": {
      "text/html": [
       "<div>\n",
       "<style scoped>\n",
       "    .dataframe tbody tr th:only-of-type {\n",
       "        vertical-align: middle;\n",
       "    }\n",
       "\n",
       "    .dataframe tbody tr th {\n",
       "        vertical-align: top;\n",
       "    }\n",
       "\n",
       "    .dataframe thead th {\n",
       "        text-align: right;\n",
       "    }\n",
       "</style>\n",
       "<table border=\"1\" class=\"dataframe\">\n",
       "  <thead>\n",
       "    <tr style=\"text-align: right;\">\n",
       "      <th></th>\n",
       "      <th>unique_id</th>\n",
       "      <th>label</th>\n",
       "    </tr>\n",
       "  </thead>\n",
       "  <tbody>\n",
       "    <tr>\n",
       "      <th>0</th>\n",
       "      <td>CAX_0</td>\n",
       "      <td>0</td>\n",
       "    </tr>\n",
       "    <tr>\n",
       "      <th>1</th>\n",
       "      <td>CAX_1</td>\n",
       "      <td>0</td>\n",
       "    </tr>\n",
       "    <tr>\n",
       "      <th>2</th>\n",
       "      <td>CAX_2</td>\n",
       "      <td>0</td>\n",
       "    </tr>\n",
       "    <tr>\n",
       "      <th>3</th>\n",
       "      <td>CAX_3</td>\n",
       "      <td>0</td>\n",
       "    </tr>\n",
       "    <tr>\n",
       "      <th>4</th>\n",
       "      <td>CAX_4</td>\n",
       "      <td>0</td>\n",
       "    </tr>\n",
       "    <tr>\n",
       "      <th>5</th>\n",
       "      <td>CAX_5</td>\n",
       "      <td>0</td>\n",
       "    </tr>\n",
       "    <tr>\n",
       "      <th>6</th>\n",
       "      <td>CAX_6</td>\n",
       "      <td>0</td>\n",
       "    </tr>\n",
       "    <tr>\n",
       "      <th>7</th>\n",
       "      <td>CAX_7</td>\n",
       "      <td>0</td>\n",
       "    </tr>\n",
       "    <tr>\n",
       "      <th>8</th>\n",
       "      <td>CAX_8</td>\n",
       "      <td>0</td>\n",
       "    </tr>\n",
       "    <tr>\n",
       "      <th>9</th>\n",
       "      <td>CAX_9</td>\n",
       "      <td>0</td>\n",
       "    </tr>\n",
       "    <tr>\n",
       "      <th>10</th>\n",
       "      <td>CAX_10</td>\n",
       "      <td>0</td>\n",
       "    </tr>\n",
       "    <tr>\n",
       "      <th>11</th>\n",
       "      <td>CAX_11</td>\n",
       "      <td>0</td>\n",
       "    </tr>\n",
       "    <tr>\n",
       "      <th>12</th>\n",
       "      <td>CAX_12</td>\n",
       "      <td>0</td>\n",
       "    </tr>\n",
       "    <tr>\n",
       "      <th>13</th>\n",
       "      <td>CAX_13</td>\n",
       "      <td>0</td>\n",
       "    </tr>\n",
       "    <tr>\n",
       "      <th>14</th>\n",
       "      <td>CAX_14</td>\n",
       "      <td>4</td>\n",
       "    </tr>\n",
       "    <tr>\n",
       "      <th>15</th>\n",
       "      <td>CAX_15</td>\n",
       "      <td>4</td>\n",
       "    </tr>\n",
       "    <tr>\n",
       "      <th>16</th>\n",
       "      <td>CAX_16</td>\n",
       "      <td>4</td>\n",
       "    </tr>\n",
       "    <tr>\n",
       "      <th>17</th>\n",
       "      <td>CAX_17</td>\n",
       "      <td>4</td>\n",
       "    </tr>\n",
       "    <tr>\n",
       "      <th>18</th>\n",
       "      <td>CAX_18</td>\n",
       "      <td>1</td>\n",
       "    </tr>\n",
       "    <tr>\n",
       "      <th>19</th>\n",
       "      <td>CAX_19</td>\n",
       "      <td>1</td>\n",
       "    </tr>\n",
       "  </tbody>\n",
       "</table>\n",
       "</div>"
      ],
      "text/plain": [
       "   unique_id  label\n",
       "0      CAX_0      0\n",
       "1      CAX_1      0\n",
       "2      CAX_2      0\n",
       "3      CAX_3      0\n",
       "4      CAX_4      0\n",
       "5      CAX_5      0\n",
       "6      CAX_6      0\n",
       "7      CAX_7      0\n",
       "8      CAX_8      0\n",
       "9      CAX_9      0\n",
       "10    CAX_10      0\n",
       "11    CAX_11      0\n",
       "12    CAX_12      0\n",
       "13    CAX_13      0\n",
       "14    CAX_14      4\n",
       "15    CAX_15      4\n",
       "16    CAX_16      4\n",
       "17    CAX_17      4\n",
       "18    CAX_18      1\n",
       "19    CAX_19      1"
      ]
     },
     "execution_count": 31,
     "metadata": {},
     "output_type": "execute_result"
    }
   ],
   "source": [
    "submit_df[\"label\"] = predict\n",
    "submit_df.to_csv(root+\"submission.csv\", index=False)\n",
    "submit_df.head(20)"
   ]
  },
  {
   "cell_type": "code",
   "execution_count": 32,
   "metadata": {},
   "outputs": [
    {
     "data": {
      "text/plain": [
       "<BarContainer object of 5 artists>"
      ]
     },
     "execution_count": 32,
     "metadata": {},
     "output_type": "execute_result"
    },
    {
     "data": {
      "image/png": "[encoded data removed]",
      "text/plain": [
       "<Figure size 432x288 with 1 Axes>"
      ]
     },
     "metadata": {
      "needs_background": "light"
     },
     "output_type": "display_data"
    }
   ],
   "source": [
    "# Количество классов для предсказания\n",
    "g = submit_df[\"label\"].value_counts()\n",
    "g = g.sort_index().T\n",
    "plt.bar(g.index, g.values)"
   ]
  },
  {
   "cell_type": "code",
   "execution_count": null,
   "metadata": {},
   "outputs": [],
   "source": []
  },
  {
   "cell_type": "code",
   "execution_count": null,
   "metadata": {},
   "outputs": [],
   "source": []
  },
  {
   "cell_type": "code",
   "execution_count": null,
   "metadata": {},
   "outputs": [],
   "source": []
  },
  {
   "cell_type": "code",
   "execution_count": null,
   "metadata": {},
   "outputs": [],
   "source": []
  },
  {
   "cell_type": "code",
   "execution_count": null,
   "metadata": {},
   "outputs": [],
   "source": []
  }
 ],
 "metadata": {
  "kernelspec": {
   "display_name": "Python 3",
   "language": "python",
   "name": "python3"
  },
  "language_info": {
   "codemirror_mode": {
    "name": "ipython",
    "version": 3
   },
   "file_extension": ".py",
   "mimetype": "text/x-python",
   "name": "python",
   "nbconvert_exporter": "python",
   "pygments_lexer": "ipython3",
   "version": "3.7.4"
  }
 },
 "nbformat": 4,
 "nbformat_minor": 4
}
