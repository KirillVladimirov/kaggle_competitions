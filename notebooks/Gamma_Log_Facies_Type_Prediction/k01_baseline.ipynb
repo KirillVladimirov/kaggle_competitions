{
 "cells": [
  {
   "cell_type": "code",
   "execution_count": 247,
   "metadata": {},
   "outputs": [],
   "source": [
    "from keras.preprocessing.sequence import TimeseriesGenerator\n",
    "import numpy as np\n",
    "\n",
    "import warnings\n",
    "warnings.filterwarnings('ignore')\n",
    "\n",
    "import torch\n",
    "from torch.utils.data import TensorDataset\n",
    "from torch.utils.data import DataLoader\n",
    "from torch.utils.data import Dataset\n",
    "\n",
    "import torch.nn.functional as F\n",
    "import torch.nn as nn\n",
    "from torch.autograd import Variable\n",
    "\n",
    "import torchvision\n",
    "from torchvision import transforms\n",
    "from torchsummary import summary\n",
    "\n",
    "from albumentations import (\n",
    "    ToFloat, \n",
    "    CLAHE, \n",
    "    RandomRotate90, \n",
    "    Transpose, \n",
    "    ShiftScaleRotate, \n",
    "    Blur, \n",
    "    OpticalDistortion, \n",
    "    GridDistortion, \n",
    "    HueSaturationValue, \n",
    "    IAAAdditiveGaussianNoise, \n",
    "    GaussNoise, \n",
    "    MotionBlur, \n",
    "    MedianBlur, \n",
    "    IAAPiecewiseAffine, \n",
    "    IAASharpen, \n",
    "    IAAEmboss, \n",
    "    RandomContrast, \n",
    "    RandomBrightness, \n",
    "    Flip, \n",
    "    OneOf, \n",
    "    Compose\n",
    ")\n",
    "\n",
    "import numpy as np\n",
    "import pandas as pd\n",
    "import matplotlib.pyplot as plt\n",
    "from pylab import rcParams\n",
    "import numbers\n",
    "from sklearn.model_selection import train_test_split\n",
    "\n",
    "from PIL import Image\n",
    "import math\n",
    "from tqdm import tqdm\n",
    "\n",
    "import os\n",
    "from tqdm import tqdm_notebook as tqdm\n",
    "\n",
    "# Ignore  the warnings\n",
    "import warnings\n",
    "warnings.filterwarnings('always')\n",
    "warnings.filterwarnings('ignore')\n",
    "\n",
    "import numpy as np\n",
    "import pandas as pd\n",
    "\n",
    "import warnings\n",
    "import matplotlib.pyplot as plt\n",
    "from matplotlib.pyplot import subplots\n",
    "import matplotlib.patches as patches\n",
    "import seaborn as sns\n",
    "from pylab import rcParams\n",
    "\n",
    "%matplotlib inline \n",
    "plt.style.use('seaborn')\n",
    "sns.set(style='whitegrid',color_codes=True)\n",
    "\n",
    "# classifiaction \n",
    "from sklearn.tree import DecisionTreeClassifier\n",
    "from sklearn.ensemble import RandomForestClassifier \n",
    "from sklearn.ensemble import GradientBoostingClassifier\n",
    "from sklearn.linear_model import LogisticRegression\n",
    "from sklearn.neighbors import KNeighborsClassifier\n",
    "from sklearn.naive_bayes import GaussianNB\n",
    "import xgboost as xgb\n",
    "import catboost as ctb\n",
    "\n",
    "# for classification\n",
    "from sklearn.metrics import accuracy_score\n",
    "\n",
    "# model selection\n",
    "from sklearn.model_selection import train_test_split, cross_val_score, StratifiedKFold\n",
    "from sklearn.model_selection import GridSearchCV\n",
    "\n",
    "# Hp optimization imports\n",
    "from hyperopt import STATUS_OK, Trials, fmin, hp, tpe\n",
    "import mlflow\n",
    "\n",
    "import re\n",
    "import eli5\n",
    "import gc\n",
    "import random    \n",
    "import math\n",
    "import psutil\n",
    "import pickle\n",
    "import datetime\n",
    "from time import time\n",
    "\n",
    "# save/load models\n",
    "from joblib import dump\n",
    "from joblib import load\n",
    "\n",
    "\n",
    "import numpy\n",
    "from keras.optimizers import Adam\n",
    "from keras.datasets import imdb\n",
    "from keras.models import Sequential\n",
    "from keras.layers import Dense\n",
    "from keras.layers import LSTM\n",
    "from keras.layers.embeddings import Embedding\n",
    "from keras.preprocessing import sequence\n",
    "from keras.models import Sequential\n",
    "from keras.layers import Dense, LSTM, InputLayer, Bidirectional, TimeDistributed, Embedding, Activation\n",
    "from keras.optimizers import Adam\n",
    "# fix random seed for reproducibility\n",
    "numpy.random.seed(7)\n",
    "from keras.callbacks.callbacks import EarlyStopping, ModelCheckpoint\n",
    "from sklearn.preprocessing import StandardScaler\n",
    "from sklearn.preprocessing import LabelEncoder, OrdinalEncoder\n",
    "from sklearn.model_selection import StratifiedKFold, KFold, RepeatedKFold, train_test_split, GroupKFold, GroupShuffleSplit\n",
    "\n",
    "from numpy import zeros, newaxis"
   ]
  },
  {
   "cell_type": "code",
   "execution_count": 2,
   "metadata": {},
   "outputs": [],
   "source": [
    "# https://stackabuse.com/solving-sequence-problems-with-lstm-in-keras/\n",
    "# https://stackabuse.com/solving-sequence-problems-with-lstm-in-keras-part-2/"
   ]
  },
  {
   "cell_type": "code",
   "execution_count": 269,
   "metadata": {},
   "outputs": [],
   "source": [
    "from numpy import array\n",
    "from keras.preprocessing.text import one_hot\n",
    "from keras.preprocessing.sequence import pad_sequences\n",
    "from keras.models import Sequential\n",
    "from keras.layers.core import Activation, Dropout, Dense\n",
    "from keras.layers import Flatten, LSTM\n",
    "from keras.layers import GlobalMaxPooling1D\n",
    "from keras.models import Model\n",
    "from keras.layers.embeddings import Embedding\n",
    "from sklearn.model_selection import train_test_split\n",
    "from keras.preprocessing.text import Tokenizer\n",
    "from keras.layers import Input\n",
    "from keras.layers.merge import Concatenate\n",
    "from keras.layers import Bidirectional\n",
    "from keras.models import load_model\n",
    "\n",
    "import pandas as pd\n",
    "import numpy as np\n",
    "import re\n",
    "\n",
    "import matplotlib.pyplot as plt"
   ]
  },
  {
   "cell_type": "code",
   "execution_count": 217,
   "metadata": {},
   "outputs": [],
   "source": [
    "root = \"../../data/raw/Gamma_Log_Facies_Type_Prediction/\"\n",
    "models_root = \"../../models/Gamma_Log_Facies_Type_Prediction/\"\n",
    "RANDOM_STATE = 42\n",
    "np.random.seed(RANDOM_STATE)\n",
    "pd.set_option('max_columns', 150)\n",
    "# rcParams['figure.figsize'] = 16,8"
   ]
  },
  {
   "cell_type": "code",
   "execution_count": 218,
   "metadata": {},
   "outputs": [
    {
     "name": "stdout",
     "output_type": "stream",
     "text": [
      "CPU times: user 3.11 s, sys: 553 ms, total: 3.66 s\n",
      "Wall time: 3.72 s\n"
     ]
    }
   ],
   "source": [
    "%%time\n",
    "full_train_df = pd.read_csv(root + \"Train_File.csv\")\n",
    "full_test_df = pd.read_csv(root + \"Test_File.csv\")\n",
    "submit_df = pd.read_csv(root + \"Submission_File.csv\")\n"
   ]
  },
  {
   "cell_type": "code",
   "execution_count": 219,
   "metadata": {},
   "outputs": [
    {
     "data": {
      "text/plain": [
       "((4400000, 4), (2200000, 4), (2200000, 2))"
      ]
     },
     "execution_count": 219,
     "metadata": {},
     "output_type": "execute_result"
    }
   ],
   "source": [
    "full_train_df.shape, full_test_df.shape, submit_df.shape"
   ]
  },
  {
   "cell_type": "code",
   "execution_count": 223,
   "metadata": {},
   "outputs": [
    {
     "data": {
      "text/html": [
       "<div>\n",
       "<style scoped>\n",
       "    .dataframe tbody tr th:only-of-type {\n",
       "        vertical-align: middle;\n",
       "    }\n",
       "\n",
       "    .dataframe tbody tr th {\n",
       "        vertical-align: top;\n",
       "    }\n",
       "\n",
       "    .dataframe thead th {\n",
       "        text-align: right;\n",
       "    }\n",
       "</style>\n",
       "<table border=\"1\" class=\"dataframe\">\n",
       "  <thead>\n",
       "    <tr style=\"text-align: right;\">\n",
       "      <th></th>\n",
       "      <th>unique_id</th>\n",
       "      <th>row_id</th>\n",
       "      <th>well_id</th>\n",
       "      <th>GR</th>\n",
       "    </tr>\n",
       "  </thead>\n",
       "  <tbody>\n",
       "    <tr>\n",
       "      <th>0</th>\n",
       "      <td>CAX_0</td>\n",
       "      <td>0</td>\n",
       "      <td>5000</td>\n",
       "      <td>113.950000</td>\n",
       "    </tr>\n",
       "    <tr>\n",
       "      <th>1</th>\n",
       "      <td>CAX_1</td>\n",
       "      <td>1</td>\n",
       "      <td>5000</td>\n",
       "      <td>120.896397</td>\n",
       "    </tr>\n",
       "    <tr>\n",
       "      <th>2</th>\n",
       "      <td>CAX_2</td>\n",
       "      <td>2</td>\n",
       "      <td>5000</td>\n",
       "      <td>115.342793</td>\n",
       "    </tr>\n",
       "    <tr>\n",
       "      <th>3</th>\n",
       "      <td>CAX_3</td>\n",
       "      <td>3</td>\n",
       "      <td>5000</td>\n",
       "      <td>118.859190</td>\n",
       "    </tr>\n",
       "    <tr>\n",
       "      <th>4</th>\n",
       "      <td>CAX_4</td>\n",
       "      <td>4</td>\n",
       "      <td>5000</td>\n",
       "      <td>127.735587</td>\n",
       "    </tr>\n",
       "    <tr>\n",
       "      <th>...</th>\n",
       "      <td>...</td>\n",
       "      <td>...</td>\n",
       "      <td>...</td>\n",
       "      <td>...</td>\n",
       "    </tr>\n",
       "    <tr>\n",
       "      <th>2199995</th>\n",
       "      <td>CAX_2199995</td>\n",
       "      <td>1095</td>\n",
       "      <td>6999</td>\n",
       "      <td>145.376324</td>\n",
       "    </tr>\n",
       "    <tr>\n",
       "      <th>2199996</th>\n",
       "      <td>CAX_2199996</td>\n",
       "      <td>1096</td>\n",
       "      <td>6999</td>\n",
       "      <td>140.877243</td>\n",
       "    </tr>\n",
       "    <tr>\n",
       "      <th>2199997</th>\n",
       "      <td>CAX_2199997</td>\n",
       "      <td>1097</td>\n",
       "      <td>6999</td>\n",
       "      <td>111.248162</td>\n",
       "    </tr>\n",
       "    <tr>\n",
       "      <th>2199998</th>\n",
       "      <td>CAX_2199998</td>\n",
       "      <td>1098</td>\n",
       "      <td>6999</td>\n",
       "      <td>148.859081</td>\n",
       "    </tr>\n",
       "    <tr>\n",
       "      <th>2199999</th>\n",
       "      <td>CAX_2199999</td>\n",
       "      <td>1099</td>\n",
       "      <td>6999</td>\n",
       "      <td>120.170000</td>\n",
       "    </tr>\n",
       "  </tbody>\n",
       "</table>\n",
       "<p>2200000 rows × 4 columns</p>\n",
       "</div>"
      ],
      "text/plain": [
       "           unique_id  row_id  well_id          GR\n",
       "0              CAX_0       0     5000  113.950000\n",
       "1              CAX_1       1     5000  120.896397\n",
       "2              CAX_2       2     5000  115.342793\n",
       "3              CAX_3       3     5000  118.859190\n",
       "4              CAX_4       4     5000  127.735587\n",
       "...              ...     ...      ...         ...\n",
       "2199995  CAX_2199995    1095     6999  145.376324\n",
       "2199996  CAX_2199996    1096     6999  140.877243\n",
       "2199997  CAX_2199997    1097     6999  111.248162\n",
       "2199998  CAX_2199998    1098     6999  148.859081\n",
       "2199999  CAX_2199999    1099     6999  120.170000\n",
       "\n",
       "[2200000 rows x 4 columns]"
      ]
     },
     "execution_count": 223,
     "metadata": {},
     "output_type": "execute_result"
    }
   ],
   "source": [
    "full_test_df"
   ]
  },
  {
   "cell_type": "code",
   "execution_count": 224,
   "metadata": {},
   "outputs": [],
   "source": [
    "train = np.array([x.values[:,2:3].T for group, x in full_train_df.groupby('well_id')], dtype='float32')\n",
    "target = np.array([x.values[:,3:].T for group, x in full_train_df.groupby('well_id')], dtype='float32')\n",
    "test = np.array([x.values[:,3:4].T for group, x in full_test_df.groupby('well_id')], dtype='float32')"
   ]
  },
  {
   "cell_type": "code",
   "execution_count": 225,
   "metadata": {},
   "outputs": [
    {
     "data": {
      "text/plain": [
       "((4000, 1, 1100), (4000, 1, 1100), (2000, 1, 1100))"
      ]
     },
     "execution_count": 225,
     "metadata": {},
     "output_type": "execute_result"
    }
   ],
   "source": [
    "train.shape, target.shape, test.shape"
   ]
  },
  {
   "cell_type": "code",
   "execution_count": 226,
   "metadata": {},
   "outputs": [
    {
     "data": {
      "text/plain": [
       "array([[113.95  , 120.8964, 115.3428, ..., 168.1972, 157.1136, 166.81  ]],\n",
       "      dtype=float32)"
      ]
     },
     "execution_count": 226,
     "metadata": {},
     "output_type": "execute_result"
    }
   ],
   "source": [
    "test[0]"
   ]
  },
  {
   "cell_type": "code",
   "execution_count": 93,
   "metadata": {},
   "outputs": [],
   "source": [
    "def to_categorical(sequences, categories):\n",
    "    cat_sequences = []\n",
    "    for s in sequences:\n",
    "        cats = []\n",
    "        for item in s:\n",
    "            cats.append(np.zeros(categories))\n",
    "            cats[-1][item] = 1.0\n",
    "        cat_sequences.append(cats)\n",
    "    return np.array(cat_sequences)"
   ]
  },
  {
   "cell_type": "code",
   "execution_count": 227,
   "metadata": {},
   "outputs": [],
   "source": [
    "train_X = train.reshape(train.shape[0], train.shape[2])\n",
    "train_y = target.reshape(target.shape[0], target.shape[2])\n",
    "test_X = test.reshape(test.shape[0], test.shape[2])"
   ]
  },
  {
   "cell_type": "code",
   "execution_count": 95,
   "metadata": {},
   "outputs": [],
   "source": [
    "def show_history(history, metric='mse'):\n",
    "    plt.plot(history.history[metric])\n",
    "    plt.plot(history.history[f'val_{metric}'])\n",
    "    plt.title('model accuracy')\n",
    "    plt.ylabel('accuracy')\n",
    "    plt.xlabel('epoch')\n",
    "    plt.legend(['train', 'test'], loc='upper left')\n",
    "    plt.show()\n",
    "    # summarize history for loss\n",
    "    plt.plot(history.history['loss'])\n",
    "    plt.plot(history.history['val_loss'])\n",
    "    plt.title('model loss')\n",
    "    plt.ylabel('loss')\n",
    "    plt.xlabel('epoch')\n",
    "    plt.legend(['train', 'test'], loc='upper left')\n",
    "    plt.show()"
   ]
  },
  {
   "cell_type": "code",
   "execution_count": 228,
   "metadata": {},
   "outputs": [
    {
     "data": {
      "text/plain": [
       "((4000, 1100), (4000, 1100), (2000, 1100))"
      ]
     },
     "execution_count": 228,
     "metadata": {},
     "output_type": "execute_result"
    }
   ],
   "source": [
    "train_X.shape, train_y.shape, test_X.shape"
   ]
  },
  {
   "cell_type": "code",
   "execution_count": 229,
   "metadata": {},
   "outputs": [],
   "source": [
    "train_X = train_X[:, :, newaxis]\n",
    "test_X = test_X[:, :, newaxis]"
   ]
  },
  {
   "cell_type": "code",
   "execution_count": 99,
   "metadata": {},
   "outputs": [
    {
     "data": {
      "text/plain": [
       "array([0., 0., 0., ..., 0., 0., 0.], dtype=float32)"
      ]
     },
     "execution_count": 99,
     "metadata": {},
     "output_type": "execute_result"
    }
   ],
   "source": [
    "train_y[0]"
   ]
  },
  {
   "cell_type": "code",
   "execution_count": 100,
   "metadata": {},
   "outputs": [],
   "source": [
    "train_y = train_y.astype(int)"
   ]
  },
  {
   "cell_type": "code",
   "execution_count": 101,
   "metadata": {},
   "outputs": [
    {
     "data": {
      "text/plain": [
       "array([0, 0, 0, ..., 0, 0, 0])"
      ]
     },
     "execution_count": 101,
     "metadata": {},
     "output_type": "execute_result"
    }
   ],
   "source": [
    "train_y[0]"
   ]
  },
  {
   "cell_type": "code",
   "execution_count": 102,
   "metadata": {},
   "outputs": [
    {
     "name": "stdout",
     "output_type": "stream",
     "text": [
      "[[1. 0. 0. 0. 0.]\n",
      " [1. 0. 0. 0. 0.]\n",
      " [1. 0. 0. 0. 0.]\n",
      " ...\n",
      " [1. 0. 0. 0. 0.]\n",
      " [1. 0. 0. 0. 0.]\n",
      " [1. 0. 0. 0. 0.]]\n"
     ]
    }
   ],
   "source": [
    "train_y_cat = to_categorical(train_y, 5)\n",
    "print(train_y_cat[0])"
   ]
  },
  {
   "cell_type": "code",
   "execution_count": 230,
   "metadata": {},
   "outputs": [
    {
     "data": {
      "text/plain": [
       "((4000, 1100, 1), (4000, 1100, 5), (2000, 1100, 1))"
      ]
     },
     "execution_count": 230,
     "metadata": {},
     "output_type": "execute_result"
    }
   ],
   "source": [
    "train_X.shape, train_y_cat.shape, test_X.shape"
   ]
  },
  {
   "cell_type": "code",
   "execution_count": 89,
   "metadata": {},
   "outputs": [],
   "source": []
  },
  {
   "cell_type": "code",
   "execution_count": 82,
   "metadata": {},
   "outputs": [],
   "source": [
    "train_y_cat = train_y_cat[:, :, :, newaxis]"
   ]
  },
  {
   "cell_type": "code",
   "execution_count": 107,
   "metadata": {},
   "outputs": [
    {
     "data": {
      "text/plain": [
       "((4000, 1100, 1), (4000, 1100, 5), (2000, 1100, 1))"
      ]
     },
     "execution_count": 107,
     "metadata": {},
     "output_type": "execute_result"
    }
   ],
   "source": [
    "train_X.shape, train_y_cat.shape, test_X.shape"
   ]
  },
  {
   "cell_type": "code",
   "execution_count": 285,
   "metadata": {},
   "outputs": [],
   "source": [
    "del model"
   ]
  },
  {
   "cell_type": "code",
   "execution_count": 286,
   "metadata": {},
   "outputs": [],
   "source": [
    "# epoch = 40, result = 0.95607\n",
    "\n",
    "model = Sequential()\n",
    "model.add(Bidirectional(LSTM(256, input_shape=(1100, 1), return_sequences=True)))\n",
    "model.add(TimeDistributed(Dense(5)))\n",
    "model.add(Activation('softmax'))\n",
    "\n",
    "learning_rate = 0.001\n",
    "epochs = 40\n",
    "decay_rate = learning_rate / epochs\n",
    "es = EarlyStopping(monitor='val_loss', mode='min', verbose=1, patience=5)\n",
    "mc = ModelCheckpoint('best_model.h5', monitor='val_accuracy', mode='max', verbose=1, save_best_only=True)\n",
    "adam = Adam(learning_rate, decay=decay_rate)\n",
    "model.compile(loss='categorical_crossentropy', optimizer=adam, metrics=['accuracy'])"
   ]
  },
  {
   "cell_type": "code",
   "execution_count": 287,
   "metadata": {},
   "outputs": [
    {
     "ename": "ValueError",
     "evalue": "This model has not yet been built. Build the model first by calling build() or calling fit() with some data. Or specify input_shape or batch_input_shape in the first layer for automatic build. ",
     "output_type": "error",
     "traceback": [
      "\u001b[0;31m---------------------------------------------------------------------------\u001b[0m",
      "\u001b[0;31mValueError\u001b[0m                                Traceback (most recent call last)",
      "\u001b[0;32m<ipython-input-287-5f15418b3570>\u001b[0m in \u001b[0;36m<module>\u001b[0;34m\u001b[0m\n\u001b[0;32m----> 1\u001b[0;31m \u001b[0mmodel\u001b[0m\u001b[0;34m.\u001b[0m\u001b[0msummary\u001b[0m\u001b[0;34m(\u001b[0m\u001b[0;34m)\u001b[0m\u001b[0;34m\u001b[0m\u001b[0;34m\u001b[0m\u001b[0m\n\u001b[0m",
      "\u001b[0;32m~/PycharmProjects/cv_projects/venv/lib/python3.7/site-packages/keras/engine/network.py\u001b[0m in \u001b[0;36msummary\u001b[0;34m(self, line_length, positions, print_fn)\u001b[0m\n\u001b[1;32m   1318\u001b[0m         \u001b[0;32mif\u001b[0m \u001b[0;32mnot\u001b[0m \u001b[0mself\u001b[0m\u001b[0;34m.\u001b[0m\u001b[0mbuilt\u001b[0m\u001b[0;34m:\u001b[0m\u001b[0;34m\u001b[0m\u001b[0;34m\u001b[0m\u001b[0m\n\u001b[1;32m   1319\u001b[0m             raise ValueError(\n\u001b[0;32m-> 1320\u001b[0;31m                 \u001b[0;34m'This model has not yet been built. '\u001b[0m\u001b[0;34m\u001b[0m\u001b[0;34m\u001b[0m\u001b[0m\n\u001b[0m\u001b[1;32m   1321\u001b[0m                 \u001b[0;34m'Build the model first by calling build() '\u001b[0m\u001b[0;34m\u001b[0m\u001b[0;34m\u001b[0m\u001b[0m\n\u001b[1;32m   1322\u001b[0m                 \u001b[0;34m'or calling fit() with some data. '\u001b[0m\u001b[0;34m\u001b[0m\u001b[0;34m\u001b[0m\u001b[0m\n",
      "\u001b[0;31mValueError\u001b[0m: This model has not yet been built. Build the model first by calling build() or calling fit() with some data. Or specify input_shape or batch_input_shape in the first layer for automatic build. "
     ]
    }
   ],
   "source": [
    "model.summary()"
   ]
  },
  {
   "cell_type": "code",
   "execution_count": 288,
   "metadata": {},
   "outputs": [
    {
     "name": "stdout",
     "output_type": "stream",
     "text": [
      "Train on 3200 samples, validate on 800 samples\n",
      "Epoch 1/2\n",
      "3200/3200 [==============================] - 349s 109ms/step - loss: 1.1149 - accuracy: 0.5905 - val_loss: 0.9148 - val_accuracy: 0.6501\n",
      "\n",
      "Epoch 00001: val_accuracy improved from -inf to 0.65012, saving model to best_model.h5\n",
      "Epoch 2/2\n",
      "3200/3200 [==============================] - 383s 120ms/step - loss: 0.8648 - accuracy: 0.6734 - val_loss: 0.7954 - val_accuracy: 0.7081\n",
      "\n",
      "Epoch 00002: val_accuracy improved from 0.65012 to 0.70811, saving model to best_model.h5\n",
      "CPU times: user 29min 3s, sys: 20min 17s, total: 49min 21s\n",
      "Wall time: 12min 17s\n"
     ]
    }
   ],
   "source": [
    "%%time\n",
    "\n",
    "history = model.fit(train_X, train_y_cat, batch_size=256, epochs=2, validation_split=0.2, callbacks=[es, mc])"
   ]
  },
  {
   "cell_type": "code",
   "execution_count": 289,
   "metadata": {},
   "outputs": [],
   "source": [
    "model_1 = load_model('best_model.h5')"
   ]
  },
  {
   "cell_type": "code",
   "execution_count": 258,
   "metadata": {},
   "outputs": [
    {
     "data": {
      "image/png": "[encoded data removed]",
      "text/plain": [
       "<Figure size 576x396 with 1 Axes>"
      ]
     },
     "metadata": {},
     "output_type": "display_data"
    },
    {
     "data": {
      "image/png": "[encoded data removed]",
      "text/plain": [
       "<Figure size 576x396 with 1 Axes>"
      ]
     },
     "metadata": {},
     "output_type": "display_data"
    }
   ],
   "source": [
    "show_history(history, 'accuracy')"
   ]
  },
  {
   "cell_type": "code",
   "execution_count": 290,
   "metadata": {},
   "outputs": [
    {
     "name": "stdout",
     "output_type": "stream",
     "text": [
      "Train on 3200 samples, validate on 800 samples\n",
      "Epoch 1/1\n",
      "3200/3200 [==============================] - 325s 101ms/step - loss: 0.7640 - accuracy: 0.7130 - val_loss: 0.7050 - val_accuracy: 0.7271\n",
      "\n",
      "Epoch 00001: val_accuracy improved from 0.70811 to 0.72713, saving model to best_model.h5\n",
      "CPU times: user 13min 58s, sys: 9min 35s, total: 23min 33s\n",
      "Wall time: 5min 24s\n"
     ]
    }
   ],
   "source": [
    "%%time\n",
    "\n",
    "history = model_1.fit(train_X, train_y_cat, batch_size=256, epochs=1, validation_split=0.2, callbacks=[es, mc])"
   ]
  },
  {
   "cell_type": "code",
   "execution_count": 268,
   "metadata": {},
   "outputs": [
    {
     "data": {
      "image/png": "[encoded data removed]",
      "text/plain": [
       "<Figure size 576x396 with 1 Axes>"
      ]
     },
     "metadata": {},
     "output_type": "display_data"
    },
    {
     "data": {
      "image/png": "[encoded data removed]",
      "text/plain": [
       "<Figure size 576x396 with 1 Axes>"
      ]
     },
     "metadata": {},
     "output_type": "display_data"
    }
   ],
   "source": [
    "show_history(history, 'accuracy')"
   ]
  },
  {
   "cell_type": "code",
   "execution_count": 282,
   "metadata": {},
   "outputs": [
    {
     "ename": "ValueError",
     "evalue": "You are trying to load a weight file containing 2 layers into a model with 0 layers",
     "output_type": "error",
     "traceback": [
      "\u001b[0;31m---------------------------------------------------------------------------\u001b[0m",
      "\u001b[0;31mValueError\u001b[0m                                Traceback (most recent call last)",
      "\u001b[0;32m<ipython-input-282-cba75eeff472>\u001b[0m in \u001b[0;36m<module>\u001b[0;34m\u001b[0m\n\u001b[0;32m----> 1\u001b[0;31m \u001b[0mmodel_1\u001b[0m \u001b[0;34m=\u001b[0m \u001b[0mload_model\u001b[0m\u001b[0;34m(\u001b[0m\u001b[0;34m'best_model.h5'\u001b[0m\u001b[0;34m)\u001b[0m\u001b[0;34m\u001b[0m\u001b[0;34m\u001b[0m\u001b[0m\n\u001b[0m",
      "\u001b[0;32m~/PycharmProjects/cv_projects/venv/lib/python3.7/site-packages/keras/engine/saving.py\u001b[0m in \u001b[0;36mload_wrapper\u001b[0;34m(*args, **kwargs)\u001b[0m\n\u001b[1;32m    490\u001b[0m                 \u001b[0mos\u001b[0m\u001b[0;34m.\u001b[0m\u001b[0mremove\u001b[0m\u001b[0;34m(\u001b[0m\u001b[0mtmp_filepath\u001b[0m\u001b[0;34m)\u001b[0m\u001b[0;34m\u001b[0m\u001b[0;34m\u001b[0m\u001b[0m\n\u001b[1;32m    491\u001b[0m             \u001b[0;32mreturn\u001b[0m \u001b[0mres\u001b[0m\u001b[0;34m\u001b[0m\u001b[0;34m\u001b[0m\u001b[0m\n\u001b[0;32m--> 492\u001b[0;31m         \u001b[0;32mreturn\u001b[0m \u001b[0mload_function\u001b[0m\u001b[0;34m(\u001b[0m\u001b[0;34m*\u001b[0m\u001b[0margs\u001b[0m\u001b[0;34m,\u001b[0m \u001b[0;34m**\u001b[0m\u001b[0mkwargs\u001b[0m\u001b[0;34m)\u001b[0m\u001b[0;34m\u001b[0m\u001b[0;34m\u001b[0m\u001b[0m\n\u001b[0m\u001b[1;32m    493\u001b[0m \u001b[0;34m\u001b[0m\u001b[0m\n\u001b[1;32m    494\u001b[0m     \u001b[0;32mreturn\u001b[0m \u001b[0mload_wrapper\u001b[0m\u001b[0;34m\u001b[0m\u001b[0;34m\u001b[0m\u001b[0m\n",
      "\u001b[0;32m~/PycharmProjects/cv_projects/venv/lib/python3.7/site-packages/keras/engine/saving.py\u001b[0m in \u001b[0;36mload_model\u001b[0;34m(filepath, custom_objects, compile)\u001b[0m\n\u001b[1;32m    582\u001b[0m     \u001b[0;32mif\u001b[0m \u001b[0mH5Dict\u001b[0m\u001b[0;34m.\u001b[0m\u001b[0mis_supported_type\u001b[0m\u001b[0;34m(\u001b[0m\u001b[0mfilepath\u001b[0m\u001b[0;34m)\u001b[0m\u001b[0;34m:\u001b[0m\u001b[0;34m\u001b[0m\u001b[0;34m\u001b[0m\u001b[0m\n\u001b[1;32m    583\u001b[0m         \u001b[0;32mwith\u001b[0m \u001b[0mH5Dict\u001b[0m\u001b[0;34m(\u001b[0m\u001b[0mfilepath\u001b[0m\u001b[0;34m,\u001b[0m \u001b[0mmode\u001b[0m\u001b[0;34m=\u001b[0m\u001b[0;34m'r'\u001b[0m\u001b[0;34m)\u001b[0m \u001b[0;32mas\u001b[0m \u001b[0mh5dict\u001b[0m\u001b[0;34m:\u001b[0m\u001b[0;34m\u001b[0m\u001b[0;34m\u001b[0m\u001b[0m\n\u001b[0;32m--> 584\u001b[0;31m             \u001b[0mmodel\u001b[0m \u001b[0;34m=\u001b[0m \u001b[0m_deserialize_model\u001b[0m\u001b[0;34m(\u001b[0m\u001b[0mh5dict\u001b[0m\u001b[0;34m,\u001b[0m \u001b[0mcustom_objects\u001b[0m\u001b[0;34m,\u001b[0m \u001b[0mcompile\u001b[0m\u001b[0;34m)\u001b[0m\u001b[0;34m\u001b[0m\u001b[0;34m\u001b[0m\u001b[0m\n\u001b[0m\u001b[1;32m    585\u001b[0m     \u001b[0;32melif\u001b[0m \u001b[0mhasattr\u001b[0m\u001b[0;34m(\u001b[0m\u001b[0mfilepath\u001b[0m\u001b[0;34m,\u001b[0m \u001b[0;34m'write'\u001b[0m\u001b[0;34m)\u001b[0m \u001b[0;32mand\u001b[0m \u001b[0mcallable\u001b[0m\u001b[0;34m(\u001b[0m\u001b[0mfilepath\u001b[0m\u001b[0;34m.\u001b[0m\u001b[0mwrite\u001b[0m\u001b[0;34m)\u001b[0m\u001b[0;34m:\u001b[0m\u001b[0;34m\u001b[0m\u001b[0;34m\u001b[0m\u001b[0m\n\u001b[1;32m    586\u001b[0m         \u001b[0;32mdef\u001b[0m \u001b[0mload_function\u001b[0m\u001b[0;34m(\u001b[0m\u001b[0mh5file\u001b[0m\u001b[0;34m)\u001b[0m\u001b[0;34m:\u001b[0m\u001b[0;34m\u001b[0m\u001b[0;34m\u001b[0m\u001b[0m\n",
      "\u001b[0;32m~/PycharmProjects/cv_projects/venv/lib/python3.7/site-packages/keras/engine/saving.py\u001b[0m in \u001b[0;36m_deserialize_model\u001b[0;34m(h5dict, custom_objects, compile)\u001b[0m\n\u001b[1;32m    305\u001b[0m         raise ValueError('You are trying to load a weight file'\n\u001b[1;32m    306\u001b[0m                          \u001b[0;34m' containing {} layers into a model with {} layers'\u001b[0m\u001b[0;34m\u001b[0m\u001b[0;34m\u001b[0m\u001b[0m\n\u001b[0;32m--> 307\u001b[0;31m                          \u001b[0;34m.\u001b[0m\u001b[0mformat\u001b[0m\u001b[0;34m(\u001b[0m\u001b[0mlen\u001b[0m\u001b[0;34m(\u001b[0m\u001b[0mlayer_names\u001b[0m\u001b[0;34m)\u001b[0m\u001b[0;34m,\u001b[0m \u001b[0mlen\u001b[0m\u001b[0;34m(\u001b[0m\u001b[0mfiltered_layers\u001b[0m\u001b[0;34m)\u001b[0m\u001b[0;34m)\u001b[0m\u001b[0;34m\u001b[0m\u001b[0;34m\u001b[0m\u001b[0m\n\u001b[0m\u001b[1;32m    308\u001b[0m                          )\n\u001b[1;32m    309\u001b[0m \u001b[0;34m\u001b[0m\u001b[0m\n",
      "\u001b[0;31mValueError\u001b[0m: You are trying to load a weight file containing 2 layers into a model with 0 layers"
     ]
    }
   ],
   "source": [
    "model_1 = load_model('best_model.h5')"
   ]
  },
  {
   "cell_type": "code",
   "execution_count": 232,
   "metadata": {},
   "outputs": [
    {
     "data": {
      "text/plain": [
       "(2000, 1100, 1)"
      ]
     },
     "execution_count": 232,
     "metadata": {},
     "output_type": "execute_result"
    }
   ],
   "source": [
    "test_X.shape"
   ]
  },
  {
   "cell_type": "code",
   "execution_count": 273,
   "metadata": {},
   "outputs": [
    {
     "name": "stdout",
     "output_type": "stream",
     "text": [
      "CPU times: user 3min 18s, sys: 53.5 s, total: 4min 12s\n",
      "Wall time: 44.4 s\n"
     ]
    }
   ],
   "source": [
    "%%time\n",
    "\n",
    "y_hat = model.predict(test_X)"
   ]
  },
  {
   "cell_type": "code",
   "execution_count": 274,
   "metadata": {},
   "outputs": [],
   "source": [
    "r = y_hat.reshape((-1,5))"
   ]
  },
  {
   "cell_type": "code",
   "execution_count": 276,
   "metadata": {},
   "outputs": [
    {
     "data": {
      "text/plain": [
       "(2200000, 5)"
      ]
     },
     "execution_count": 276,
     "metadata": {},
     "output_type": "execute_result"
    }
   ],
   "source": [
    "r.shape"
   ]
  },
  {
   "cell_type": "code",
   "execution_count": 277,
   "metadata": {},
   "outputs": [],
   "source": [
    "predict = argmax(y_hat.reshape((-1,5)), axis=1)"
   ]
  },
  {
   "cell_type": "code",
   "execution_count": 278,
   "metadata": {},
   "outputs": [
    {
     "data": {
      "text/plain": [
       "(2200000,)"
      ]
     },
     "execution_count": 278,
     "metadata": {},
     "output_type": "execute_result"
    }
   ],
   "source": [
    "predict.shape"
   ]
  },
  {
   "cell_type": "code",
   "execution_count": 279,
   "metadata": {},
   "outputs": [
    {
     "data": {
      "text/plain": [
       "(2200000, 2)"
      ]
     },
     "execution_count": 279,
     "metadata": {},
     "output_type": "execute_result"
    }
   ],
   "source": [
    "submit_df.shape"
   ]
  },
  {
   "cell_type": "code",
   "execution_count": 280,
   "metadata": {},
   "outputs": [
    {
     "data": {
      "text/html": [
       "<div>\n",
       "<style scoped>\n",
       "    .dataframe tbody tr th:only-of-type {\n",
       "        vertical-align: middle;\n",
       "    }\n",
       "\n",
       "    .dataframe tbody tr th {\n",
       "        vertical-align: top;\n",
       "    }\n",
       "\n",
       "    .dataframe thead th {\n",
       "        text-align: right;\n",
       "    }\n",
       "</style>\n",
       "<table border=\"1\" class=\"dataframe\">\n",
       "  <thead>\n",
       "    <tr style=\"text-align: right;\">\n",
       "      <th></th>\n",
       "      <th>unique_id</th>\n",
       "      <th>label</th>\n",
       "    </tr>\n",
       "  </thead>\n",
       "  <tbody>\n",
       "    <tr>\n",
       "      <th>0</th>\n",
       "      <td>CAX_0</td>\n",
       "      <td>0</td>\n",
       "    </tr>\n",
       "    <tr>\n",
       "      <th>1</th>\n",
       "      <td>CAX_1</td>\n",
       "      <td>0</td>\n",
       "    </tr>\n",
       "    <tr>\n",
       "      <th>2</th>\n",
       "      <td>CAX_2</td>\n",
       "      <td>0</td>\n",
       "    </tr>\n",
       "    <tr>\n",
       "      <th>3</th>\n",
       "      <td>CAX_3</td>\n",
       "      <td>0</td>\n",
       "    </tr>\n",
       "    <tr>\n",
       "      <th>4</th>\n",
       "      <td>CAX_4</td>\n",
       "      <td>0</td>\n",
       "    </tr>\n",
       "    <tr>\n",
       "      <th>5</th>\n",
       "      <td>CAX_5</td>\n",
       "      <td>0</td>\n",
       "    </tr>\n",
       "    <tr>\n",
       "      <th>6</th>\n",
       "      <td>CAX_6</td>\n",
       "      <td>0</td>\n",
       "    </tr>\n",
       "    <tr>\n",
       "      <th>7</th>\n",
       "      <td>CAX_7</td>\n",
       "      <td>0</td>\n",
       "    </tr>\n",
       "    <tr>\n",
       "      <th>8</th>\n",
       "      <td>CAX_8</td>\n",
       "      <td>4</td>\n",
       "    </tr>\n",
       "    <tr>\n",
       "      <th>9</th>\n",
       "      <td>CAX_9</td>\n",
       "      <td>4</td>\n",
       "    </tr>\n",
       "    <tr>\n",
       "      <th>10</th>\n",
       "      <td>CAX_10</td>\n",
       "      <td>4</td>\n",
       "    </tr>\n",
       "    <tr>\n",
       "      <th>11</th>\n",
       "      <td>CAX_11</td>\n",
       "      <td>4</td>\n",
       "    </tr>\n",
       "    <tr>\n",
       "      <th>12</th>\n",
       "      <td>CAX_12</td>\n",
       "      <td>4</td>\n",
       "    </tr>\n",
       "    <tr>\n",
       "      <th>13</th>\n",
       "      <td>CAX_13</td>\n",
       "      <td>4</td>\n",
       "    </tr>\n",
       "    <tr>\n",
       "      <th>14</th>\n",
       "      <td>CAX_14</td>\n",
       "      <td>4</td>\n",
       "    </tr>\n",
       "    <tr>\n",
       "      <th>15</th>\n",
       "      <td>CAX_15</td>\n",
       "      <td>0</td>\n",
       "    </tr>\n",
       "    <tr>\n",
       "      <th>16</th>\n",
       "      <td>CAX_16</td>\n",
       "      <td>0</td>\n",
       "    </tr>\n",
       "    <tr>\n",
       "      <th>17</th>\n",
       "      <td>CAX_17</td>\n",
       "      <td>0</td>\n",
       "    </tr>\n",
       "    <tr>\n",
       "      <th>18</th>\n",
       "      <td>CAX_18</td>\n",
       "      <td>3</td>\n",
       "    </tr>\n",
       "    <tr>\n",
       "      <th>19</th>\n",
       "      <td>CAX_19</td>\n",
       "      <td>3</td>\n",
       "    </tr>\n",
       "  </tbody>\n",
       "</table>\n",
       "</div>"
      ],
      "text/plain": [
       "   unique_id  label\n",
       "0      CAX_0      0\n",
       "1      CAX_1      0\n",
       "2      CAX_2      0\n",
       "3      CAX_3      0\n",
       "4      CAX_4      0\n",
       "5      CAX_5      0\n",
       "6      CAX_6      0\n",
       "7      CAX_7      0\n",
       "8      CAX_8      4\n",
       "9      CAX_9      4\n",
       "10    CAX_10      4\n",
       "11    CAX_11      4\n",
       "12    CAX_12      4\n",
       "13    CAX_13      4\n",
       "14    CAX_14      4\n",
       "15    CAX_15      0\n",
       "16    CAX_16      0\n",
       "17    CAX_17      0\n",
       "18    CAX_18      3\n",
       "19    CAX_19      3"
      ]
     },
     "execution_count": 280,
     "metadata": {},
     "output_type": "execute_result"
    }
   ],
   "source": [
    "submit_df[\"label\"] = predict\n",
    "submit_df.to_csv(root+\"submission.csv\", index=False)\n",
    "submit_df.head(20)"
   ]
  },
  {
   "cell_type": "code",
   "execution_count": 281,
   "metadata": {},
   "outputs": [
    {
     "data": {
      "text/plain": [
       "<BarContainer object of 5 artists>"
      ]
     },
     "execution_count": 281,
     "metadata": {},
     "output_type": "execute_result"
    },
    {
     "data": {
      "image/png": "[encoded data removed]",
      "text/plain": [
       "<Figure size 576x396 with 1 Axes>"
      ]
     },
     "metadata": {},
     "output_type": "display_data"
    }
   ],
   "source": [
    "# Количество классов для предсказания\n",
    "g = submit_df[\"label\"].value_counts()\n",
    "g = g.sort_index().T\n",
    "plt.bar(g.index, g.values)"
   ]
  },
  {
   "cell_type": "code",
   "execution_count": 245,
   "metadata": {},
   "outputs": [
    {
     "data": {
      "text/plain": [
       "0    1174060\n",
       "1     270302\n",
       "4     262011\n",
       "2     253240\n",
       "3     240387\n",
       "Name: label, dtype: int64"
      ]
     },
     "execution_count": 245,
     "metadata": {},
     "output_type": "execute_result"
    }
   ],
   "source": [
    "submit_df[\"label\"].value_counts()"
   ]
  },
  {
   "cell_type": "code",
   "execution_count": null,
   "metadata": {},
   "outputs": [],
   "source": []
  },
  {
   "cell_type": "code",
   "execution_count": null,
   "metadata": {},
   "outputs": [],
   "source": []
  },
  {
   "cell_type": "code",
   "execution_count": null,
   "metadata": {},
   "outputs": [],
   "source": []
  },
  {
   "cell_type": "code",
   "execution_count": null,
   "metadata": {},
   "outputs": [],
   "source": []
  },
  {
   "cell_type": "code",
   "execution_count": null,
   "metadata": {},
   "outputs": [],
   "source": []
  },
  {
   "cell_type": "code",
   "execution_count": null,
   "metadata": {},
   "outputs": [],
   "source": []
  },
  {
   "cell_type": "code",
   "execution_count": 130,
   "metadata": {},
   "outputs": [
    {
     "name": "stdout",
     "output_type": "stream",
     "text": [
      "[1 3 2 0 3 2 2 1 0 1]\n",
      "[[0. 1. 0. 0.]\n",
      " [0. 0. 0. 1.]\n",
      " [0. 0. 1. 0.]\n",
      " [1. 0. 0. 0.]\n",
      " [0. 0. 0. 1.]\n",
      " [0. 0. 1. 0.]\n",
      " [0. 0. 1. 0.]\n",
      " [0. 1. 0. 0.]\n",
      " [1. 0. 0. 0.]\n",
      " [0. 1. 0. 0.]]\n",
      "[1 3 2 0 3 2 2 1 0 1]\n"
     ]
    }
   ],
   "source": [
    "from numpy import array\n",
    "from numpy import argmax\n",
    "from keras.utils import to_categorical\n",
    "# define example\n",
    "data = [1, 3, 2, 0, 3, 2, 2, 1, 0, 1]\n",
    "data = array(data)\n",
    "print(data)\n",
    "# one hot encode\n",
    "encoded = to_categorical(data)\n",
    "print(encoded)\n",
    "# invert encoding\n",
    "inverted = argmax(encoded, axis=1)\n",
    "print(inverted)"
   ]
  },
  {
   "cell_type": "code",
   "execution_count": 164,
   "metadata": {},
   "outputs": [
    {
     "data": {
      "text/plain": [
       "(16,)"
      ]
     },
     "execution_count": 164,
     "metadata": {},
     "output_type": "execute_result"
    }
   ],
   "source": [
    "data = [1, 3, 2, 0, 3, 2, 2, 1, 1, 3, 2, 0, 3, 2, 2, 1,]\n",
    "data = array(data)\n",
    "data.shape"
   ]
  },
  {
   "cell_type": "code",
   "execution_count": 166,
   "metadata": {},
   "outputs": [
    {
     "data": {
      "text/plain": [
       "array([[[1, 3],\n",
       "        [2, 0]],\n",
       "\n",
       "       [[3, 2],\n",
       "        [2, 1]],\n",
       "\n",
       "       [[1, 3],\n",
       "        [2, 0]],\n",
       "\n",
       "       [[3, 2],\n",
       "        [2, 1]]])"
      ]
     },
     "execution_count": 166,
     "metadata": {},
     "output_type": "execute_result"
    }
   ],
   "source": [
    "b = data.reshape(4, 2, 2)\n",
    "b"
   ]
  },
  {
   "cell_type": "code",
   "execution_count": 173,
   "metadata": {},
   "outputs": [
    {
     "data": {
      "text/plain": [
       "array([[1, 3],\n",
       "       [2, 0],\n",
       "       [3, 2],\n",
       "       [2, 1],\n",
       "       [1, 3],\n",
       "       [2, 0],\n",
       "       [3, 2],\n",
       "       [2, 1]])"
      ]
     },
     "execution_count": 173,
     "metadata": {},
     "output_type": "execute_result"
    }
   ],
   "source": [
    "b.reshape((-1,2))"
   ]
  },
  {
   "cell_type": "code",
   "execution_count": 176,
   "metadata": {},
   "outputs": [
    {
     "data": {
      "text/plain": [
       "(8,)"
      ]
     },
     "execution_count": 176,
     "metadata": {},
     "output_type": "execute_result"
    }
   ],
   "source": [
    "r = argmax(b.reshape((-1,2)), axis=1)\n",
    "r.shape"
   ]
  },
  {
   "cell_type": "code",
   "execution_count": null,
   "metadata": {},
   "outputs": [],
   "source": []
  },
  {
   "cell_type": "code",
   "execution_count": 137,
   "metadata": {},
   "outputs": [],
   "source": [
    "inverted = argmax(y_hat[0], axis=1)"
   ]
  },
  {
   "cell_type": "code",
   "execution_count": 138,
   "metadata": {},
   "outputs": [
    {
     "data": {
      "text/plain": [
       "array([0, 0, 0, ..., 0, 0, 0])"
      ]
     },
     "execution_count": 138,
     "metadata": {},
     "output_type": "execute_result"
    }
   ],
   "source": [
    "inverted"
   ]
  },
  {
   "cell_type": "code",
   "execution_count": 139,
   "metadata": {},
   "outputs": [
    {
     "data": {
      "text/plain": [
       "(2000, 1100, 5)"
      ]
     },
     "execution_count": 139,
     "metadata": {},
     "output_type": "execute_result"
    }
   ],
   "source": [
    "y_hat.shape"
   ]
  },
  {
   "cell_type": "code",
   "execution_count": 142,
   "metadata": {},
   "outputs": [],
   "source": [
    "def to_label(prediction):\n",
    "    result = []\n",
    "    for i in prediction:\n",
    "        inverted = argmax(y_hat[0], axis=1)\n",
    "        result.append(inverted)\n",
    "    return np.array(result)"
   ]
  },
  {
   "cell_type": "code",
   "execution_count": 143,
   "metadata": {},
   "outputs": [
    {
     "data": {
      "text/plain": [
       "(2000, 1100)"
      ]
     },
     "execution_count": 143,
     "metadata": {},
     "output_type": "execute_result"
    }
   ],
   "source": [
    "pred = to_label(y_hat)\n",
    "pred.shape"
   ]
  },
  {
   "cell_type": "code",
   "execution_count": 149,
   "metadata": {},
   "outputs": [
    {
     "data": {
      "text/plain": [
       "array([0, 0, 0, 0, 0, 0, 0, 0, 0, 0, 0, 0, 0, 0, 0, 0, 0, 0, 0, 0, 0, 0,\n",
       "       0, 0, 0, 0, 0, 0, 0, 0, 0, 0, 0, 0, 0, 0, 0, 0, 0, 0, 0, 0, 0, 0,\n",
       "       0, 0, 0, 0, 0, 0, 0, 0, 0, 0, 0, 0, 0, 0, 0, 0, 0, 0, 0, 0, 0, 0,\n",
       "       0, 0, 0, 0, 0, 0, 0, 0, 0, 0, 0, 0, 0, 0, 0, 0, 0, 0, 0, 0, 0, 0,\n",
       "       0, 0, 0, 0, 0, 0, 0, 0, 0, 0, 0, 0, 0, 0, 0, 0, 0, 0, 0, 0, 0, 0,\n",
       "       0, 0, 0, 0, 0, 0, 0, 0, 0, 0, 0, 0, 0, 0, 0, 0, 0, 0, 0, 0, 0, 0,\n",
       "       0, 0, 0, 0, 0, 0, 0, 0, 0, 0, 0, 0, 0, 0, 0, 0, 0, 0, 0, 0, 0, 0,\n",
       "       0, 0, 0, 0, 0, 0, 0, 0, 0, 0, 0, 0, 0, 0, 0, 0, 0, 0, 0, 0, 0, 0,\n",
       "       0, 0, 0, 0, 0, 0, 0, 0, 0, 0, 0, 0, 0, 0, 0, 0, 0, 0, 0, 0, 0, 0,\n",
       "       0, 0, 0, 0, 0, 0, 0, 0, 0, 0, 0, 0, 0, 0, 0, 0, 0, 0, 0, 0, 0, 0,\n",
       "       0, 0, 0, 0, 0, 0, 0, 0, 0, 0, 0, 0, 0, 0, 0, 0, 0, 0, 0, 0, 0, 0,\n",
       "       0, 0, 0, 0, 0, 0, 0, 0, 0, 0, 0, 0, 0, 0, 0, 0, 0, 0, 0, 0, 0, 0,\n",
       "       0, 0, 0, 0, 0, 0, 0, 0, 0, 0, 0, 0, 0, 0, 0, 0, 0, 0, 0, 0, 0, 0,\n",
       "       0, 0, 0, 0, 0, 0, 0, 0, 0, 0, 0, 0, 0, 0, 0, 0, 0, 0, 0, 0, 0, 0,\n",
       "       0, 0, 0, 0, 0, 0, 0, 0, 0, 0, 0, 0, 0, 0, 0, 0, 0, 0, 0, 0, 0, 0,\n",
       "       0, 0, 0, 0, 0, 0, 0, 0, 0, 0, 0, 0, 0, 0, 0, 0, 0, 0, 0, 0, 0, 0,\n",
       "       0, 0, 0, 0, 0, 0, 0, 0, 0, 0, 0, 0, 0, 0, 0, 0, 0, 0, 0, 0, 0, 0,\n",
       "       0, 0, 0, 0, 0, 0, 0, 0, 0, 0, 0, 0, 0, 0, 0, 0, 0, 0, 0, 0, 0, 0,\n",
       "       0, 0, 0, 0, 0, 0, 0, 0, 0, 0, 0, 0, 0, 0, 0, 0, 0, 0, 0, 0, 0, 0,\n",
       "       0, 0, 0, 0, 0, 0, 0, 0, 0, 0, 0, 0, 0, 0, 0, 0, 0, 0, 0, 0, 0, 0,\n",
       "       0, 0, 0, 0, 0, 0, 0, 0, 0, 0, 0, 0, 0, 0, 0, 0, 0, 0, 0, 0, 0, 0,\n",
       "       0, 0, 0, 0, 0, 0, 0, 0, 0, 0, 0, 0, 0, 0, 0, 0, 0, 0, 0, 0, 0, 0,\n",
       "       0, 0, 0, 0, 0, 0, 0, 0, 0, 0, 0, 0, 0, 0, 0, 0, 0, 0, 0, 0, 0, 0,\n",
       "       0, 0, 0, 0, 0, 0, 0, 0, 0, 0, 0, 0, 0, 0, 0, 0, 0, 0, 0, 0, 0, 0,\n",
       "       0, 0, 0, 0, 0, 0, 0, 0, 0, 0, 0, 0, 0, 0, 0, 0, 0, 0, 0, 0, 0, 0,\n",
       "       0, 0, 0, 0, 0, 0, 0, 0, 0, 0, 0, 0, 0, 0, 0, 0, 0, 0, 0, 0, 0, 0,\n",
       "       0, 0, 0, 0, 0, 0, 0, 0, 0, 0, 0, 0, 0, 0, 0, 0, 0, 0, 0, 0, 0, 0,\n",
       "       0, 0, 0, 0, 0, 0, 0, 0, 0, 0, 0, 0, 0, 0, 0, 0, 0, 0, 0, 0, 0, 0,\n",
       "       0, 0, 0, 0, 0, 0, 0, 0, 0, 0, 0, 0, 0, 0, 0, 0, 0, 0, 0, 0, 0, 0,\n",
       "       0, 0, 0, 0, 0, 0, 0, 0, 0, 0, 0, 0, 0, 0, 0, 0, 0, 0, 0, 0, 0, 0,\n",
       "       0, 0, 0, 0, 0, 0, 0, 0, 0, 0, 0, 0, 0, 0, 0, 0, 0, 0, 0, 0, 0, 0,\n",
       "       0, 0, 0, 0, 0, 0, 0, 0, 0, 0, 0, 0, 0, 0, 0, 0, 0, 0, 0, 0, 0, 0,\n",
       "       0, 0, 0, 0, 0, 0, 0, 0, 0, 0, 0, 0, 0, 0, 0, 0, 0, 0, 0, 0, 0, 0,\n",
       "       0, 0, 0, 0, 0, 0, 0, 0, 0, 0, 0, 0, 0, 0, 0, 0, 0, 0, 0, 0, 0, 0,\n",
       "       0, 0, 0, 0, 0, 0, 0, 0, 0, 0, 0, 0, 0, 0, 0, 0, 0, 0, 0, 0, 0, 0,\n",
       "       0, 0, 0, 0, 0, 0, 0, 0, 0, 0, 0, 0, 0, 0, 0, 0, 0, 0, 0, 0, 0, 0,\n",
       "       0, 0, 0, 0, 0, 0, 0, 0, 0, 0, 0, 0, 0, 0, 0, 0, 0, 0, 0, 0, 0, 0,\n",
       "       0, 0, 0, 0, 0, 0, 0, 0, 0, 0, 0, 0, 0, 0, 0, 0, 0, 0, 0, 0, 0, 0,\n",
       "       0, 0, 0, 0, 0, 0, 0, 0, 0, 0, 0, 0, 0, 0, 0, 0, 0, 0, 0, 0, 0, 0,\n",
       "       0, 0, 0, 0, 0, 0, 0, 0, 0, 0, 0, 0, 0, 0, 0, 0, 0, 0, 0, 0, 0, 0,\n",
       "       0, 0, 0, 0, 0, 0, 0, 0, 0, 0, 0, 0, 0, 0, 0, 0, 0, 0, 0, 0, 0, 0,\n",
       "       0, 0, 0, 0, 0, 0, 0, 0, 0, 0, 0, 0, 0, 0, 0, 0, 0, 0, 0, 0, 0, 0,\n",
       "       0, 0, 0, 0, 0, 0, 0, 0, 0, 0, 0, 0, 0, 0, 0, 0, 0, 0, 0, 0, 0, 0,\n",
       "       0, 0, 0, 0, 0, 0, 0, 0, 0, 0, 0, 0, 0, 0, 0, 0, 0, 0, 0, 0, 0, 0,\n",
       "       0, 0, 0, 0, 0, 0, 0, 0, 0, 0, 0, 0, 0, 0, 0, 0, 0, 0, 0, 0, 0, 0,\n",
       "       0, 0, 0, 0, 0, 0, 0, 0, 0, 0])"
      ]
     },
     "execution_count": 149,
     "metadata": {},
     "output_type": "execute_result"
    }
   ],
   "source": [
    "pred[1000, :1000]"
   ]
  },
  {
   "cell_type": "code",
   "execution_count": null,
   "metadata": {},
   "outputs": [],
   "source": []
  },
  {
   "cell_type": "code",
   "execution_count": null,
   "metadata": {},
   "outputs": [],
   "source": []
  },
  {
   "cell_type": "code",
   "execution_count": null,
   "metadata": {},
   "outputs": [],
   "source": [
    "def logits_to_tokens(sequences, index):\n",
    "    token_sequences = []\n",
    "    for categorical_sequence in sequences:\n",
    "        token_sequence = []\n",
    "        for categorical in categorical_sequence:\n",
    "            token_sequence.append(index[np.argmax(categorical)])\n",
    " \n",
    "        token_sequences.append(token_sequence)\n",
    " \n",
    "    return token_sequences"
   ]
  },
  {
   "cell_type": "code",
   "execution_count": null,
   "metadata": {},
   "outputs": [],
   "source": [
    "print(logits_to_tokens(y_hat, {i: t for t, i in tag2index.items()}))"
   ]
  },
  {
   "cell_type": "code",
   "execution_count": null,
   "metadata": {},
   "outputs": [],
   "source": [
    "submit_df[\"label\"] = y_hat\n",
    "submit_df.to_csv(root+\"submission.csv\", index=False)\n",
    "submit_df.head(20)"
   ]
  },
  {
   "cell_type": "code",
   "execution_count": null,
   "metadata": {},
   "outputs": [],
   "source": [
    "# Количество классов для предсказания\n",
    "g = submit_df[\"label\"].value_counts()\n",
    "g = g.sort_index().T\n",
    "plt.bar(g.index, g.values)"
   ]
  },
  {
   "cell_type": "code",
   "execution_count": null,
   "metadata": {},
   "outputs": [],
   "source": []
  },
  {
   "cell_type": "code",
   "execution_count": null,
   "metadata": {},
   "outputs": [],
   "source": []
  },
  {
   "cell_type": "code",
   "execution_count": null,
   "metadata": {},
   "outputs": [],
   "source": []
  },
  {
   "cell_type": "code",
   "execution_count": null,
   "metadata": {},
   "outputs": [],
   "source": []
  },
  {
   "cell_type": "code",
   "execution_count": null,
   "metadata": {},
   "outputs": [],
   "source": []
  },
  {
   "cell_type": "code",
   "execution_count": null,
   "metadata": {},
   "outputs": [],
   "source": []
  },
  {
   "cell_type": "code",
   "execution_count": null,
   "metadata": {
    "collapsed": true,
    "jupyter": {
     "outputs_hidden": true
    }
   },
   "outputs": [
    {
     "name": "stdout",
     "output_type": "stream",
     "text": [
      "Train on 12 samples, validate on 3 samples\n",
      "Epoch 1/1000\n",
      "12/12 [==============================] - 1s 44ms/step - loss: 463.2425 - val_loss: 1674.6547\n",
      "Epoch 2/1000\n",
      "12/12 [==============================] - 0s 753us/step - loss: 456.5278 - val_loss: 1653.1571\n",
      "Epoch 3/1000\n",
      "12/12 [==============================] - 0s 900us/step - loss: 450.0155 - val_loss: 1632.3947\n",
      "Epoch 4/1000\n",
      "12/12 [==============================] - 0s 887us/step - loss: 444.3854 - val_loss: 1611.3993\n",
      "Epoch 5/1000\n",
      "12/12 [==============================] - 0s 886us/step - loss: 438.1276 - val_loss: 1589.6176\n",
      "Epoch 6/1000\n",
      "12/12 [==============================] - 0s 748us/step - loss: 431.7985 - val_loss: 1566.4176\n",
      "Epoch 7/1000\n",
      "12/12 [==============================] - 0s 765us/step - loss: 425.1114 - val_loss: 1541.1503\n",
      "Epoch 8/1000\n",
      "12/12 [==============================] - 0s 981us/step - loss: 417.4018 - val_loss: 1513.3795\n",
      "Epoch 9/1000\n",
      "12/12 [==============================] - 0s 902us/step - loss: 408.9697 - val_loss: 1482.2115\n",
      "Epoch 10/1000\n",
      "12/12 [==============================] - 0s 834us/step - loss: 400.6110 - val_loss: 1446.2906\n",
      "Epoch 11/1000\n",
      "12/12 [==============================] - 0s 744us/step - loss: 391.5055 - val_loss: 1405.5135\n",
      "Epoch 12/1000\n",
      "12/12 [==============================] - 0s 750us/step - loss: 379.5974 - val_loss: 1361.7604\n",
      "Epoch 13/1000\n",
      "12/12 [==============================] - 0s 724us/step - loss: 367.3957 - val_loss: 1312.3182\n",
      "Epoch 14/1000\n",
      "12/12 [==============================] - 0s 807us/step - loss: 354.9076 - val_loss: 1255.3187\n",
      "Epoch 15/1000\n",
      "12/12 [==============================] - 0s 834us/step - loss: 339.5772 - val_loss: 1192.6044\n",
      "Epoch 16/1000\n",
      "12/12 [==============================] - 0s 630us/step - loss: 322.9595 - val_loss: 1123.3055\n",
      "Epoch 17/1000\n",
      "12/12 [==============================] - 0s 756us/step - loss: 306.1111 - val_loss: 1047.4619\n",
      "Epoch 18/1000\n",
      "12/12 [==============================] - 0s 665us/step - loss: 284.8744 - val_loss: 969.5942\n",
      "Epoch 19/1000\n",
      "12/12 [==============================] - 0s 587us/step - loss: 265.3910 - val_loss: 886.6282\n",
      "Epoch 20/1000\n",
      "12/12 [==============================] - 0s 683us/step - loss: 243.1663 - val_loss: 800.0993\n",
      "Epoch 21/1000\n",
      "12/12 [==============================] - 0s 769us/step - loss: 222.2761 - val_loss: 708.7353\n",
      "Epoch 22/1000\n",
      "12/12 [==============================] - 0s 810us/step - loss: 197.6003 - val_loss: 616.4936\n",
      "Epoch 23/1000\n",
      "12/12 [==============================] - 0s 614us/step - loss: 176.1467 - val_loss: 520.8662\n",
      "Epoch 24/1000\n",
      "12/12 [==============================] - 0s 669us/step - loss: 150.4854 - val_loss: 430.5632\n",
      "Epoch 25/1000\n",
      "12/12 [==============================] - 0s 623us/step - loss: 128.1952 - val_loss: 343.8261\n",
      "Epoch 26/1000\n",
      "12/12 [==============================] - 0s 705us/step - loss: 108.5919 - val_loss: 260.5421\n",
      "Epoch 27/1000\n",
      "12/12 [==============================] - 0s 842us/step - loss: 87.9191 - val_loss: 186.5604\n",
      "Epoch 28/1000\n",
      "12/12 [==============================] - 0s 824us/step - loss: 67.5096 - val_loss: 126.2854\n",
      "Epoch 29/1000\n",
      "12/12 [==============================] - 0s 738us/step - loss: 52.1133 - val_loss: 78.4050\n",
      "Epoch 30/1000\n",
      "12/12 [==============================] - 0s 645us/step - loss: 37.3522 - val_loss: 44.7070\n",
      "Epoch 31/1000\n",
      "12/12 [==============================] - 0s 599us/step - loss: 27.0447 - val_loss: 22.7003\n",
      "Epoch 32/1000\n",
      "12/12 [==============================] - 0s 602us/step - loss: 18.1783 - val_loss: 11.7199\n",
      "Epoch 33/1000\n",
      "12/12 [==============================] - 0s 624us/step - loss: 12.8428 - val_loss: 8.4767\n",
      "Epoch 34/1000\n",
      "12/12 [==============================] - 0s 638us/step - loss: 9.3963 - val_loss: 10.9721\n",
      "Epoch 35/1000\n",
      "12/12 [==============================] - 0s 672us/step - loss: 7.2562 - val_loss: 16.6943\n",
      "Epoch 36/1000\n",
      "12/12 [==============================] - 0s 663us/step - loss: 6.3278 - val_loss: 23.1885\n",
      "Epoch 37/1000\n",
      "12/12 [==============================] - 0s 681us/step - loss: 5.9252 - val_loss: 28.2921\n",
      "Epoch 38/1000\n",
      "12/12 [==============================] - 0s 1ms/step - loss: 5.8168 - val_loss: 31.3954\n",
      "Epoch 39/1000\n",
      "12/12 [==============================] - 0s 1ms/step - loss: 5.8215 - val_loss: 32.1875\n",
      "Epoch 40/1000\n",
      "12/12 [==============================] - 0s 894us/step - loss: 5.7924 - val_loss: 31.6897\n",
      "Epoch 41/1000\n",
      "12/12 [==============================] - 0s 740us/step - loss: 5.7505 - val_loss: 30.0613\n",
      "Epoch 42/1000\n",
      "12/12 [==============================] - 0s 707us/step - loss: 5.7234 - val_loss: 27.2563\n",
      "Epoch 43/1000\n",
      "12/12 [==============================] - 0s 722us/step - loss: 5.5269 - val_loss: 26.1605\n",
      "Epoch 44/1000\n",
      "12/12 [==============================] - 0s 651us/step - loss: 5.4740 - val_loss: 24.1116\n",
      "Epoch 45/1000\n",
      "12/12 [==============================] - 0s 686us/step - loss: 5.4000 - val_loss: 22.2334\n",
      "Epoch 46/1000\n",
      "12/12 [==============================] - 0s 618us/step - loss: 5.3385 - val_loss: 20.8046\n",
      "Epoch 47/1000\n",
      "12/12 [==============================] - 0s 657us/step - loss: 5.2861 - val_loss: 19.6169\n",
      "Epoch 48/1000\n",
      "12/12 [==============================] - 0s 603us/step - loss: 5.2371 - val_loss: 18.8797\n",
      "Epoch 49/1000\n",
      "12/12 [==============================] - 0s 638us/step - loss: 5.2063 - val_loss: 18.1224\n",
      "Epoch 50/1000\n",
      "12/12 [==============================] - 0s 615us/step - loss: 5.1558 - val_loss: 17.8791\n",
      "Epoch 51/1000\n",
      "12/12 [==============================] - 0s 642us/step - loss: 5.1119 - val_loss: 18.1815\n",
      "Epoch 52/1000\n",
      "12/12 [==============================] - 0s 638us/step - loss: 5.0672 - val_loss: 18.3770\n",
      "Epoch 53/1000\n",
      "12/12 [==============================] - 0s 621us/step - loss: 5.0267 - val_loss: 18.5959\n",
      "Epoch 54/1000\n",
      "12/12 [==============================] - 0s 633us/step - loss: 4.9919 - val_loss: 18.1177\n",
      "Epoch 55/1000\n",
      "12/12 [==============================] - 0s 631us/step - loss: 4.9292 - val_loss: 18.1707\n",
      "Epoch 56/1000\n",
      "12/12 [==============================] - 0s 617us/step - loss: 4.8842 - val_loss: 17.8662\n",
      "Epoch 57/1000\n",
      "12/12 [==============================] - 0s 613us/step - loss: 4.8584 - val_loss: 18.1352\n",
      "Epoch 58/1000\n",
      "12/12 [==============================] - 0s 583us/step - loss: 4.7999 - val_loss: 17.8412\n",
      "Epoch 59/1000\n",
      "12/12 [==============================] - 0s 628us/step - loss: 4.7651 - val_loss: 17.0233\n",
      "Epoch 60/1000\n",
      "12/12 [==============================] - 0s 582us/step - loss: 4.7225 - val_loss: 16.5525\n",
      "Epoch 61/1000\n",
      "12/12 [==============================] - 0s 636us/step - loss: 4.6821 - val_loss: 16.8620\n",
      "Epoch 62/1000\n",
      "12/12 [==============================] - 0s 617us/step - loss: 4.6393 - val_loss: 16.7163\n",
      "Epoch 63/1000\n",
      "12/12 [==============================] - 0s 607us/step - loss: 4.5786 - val_loss: 16.1300\n",
      "Epoch 64/1000\n",
      "12/12 [==============================] - 0s 650us/step - loss: 4.5375 - val_loss: 15.7633\n",
      "Epoch 65/1000\n",
      "12/12 [==============================] - 0s 582us/step - loss: 4.4877 - val_loss: 15.5341\n",
      "Epoch 66/1000\n",
      "12/12 [==============================] - 0s 614us/step - loss: 4.4462 - val_loss: 15.2768\n",
      "Epoch 67/1000\n",
      "12/12 [==============================] - 0s 661us/step - loss: 4.4219 - val_loss: 14.4561\n",
      "Epoch 68/1000\n",
      "12/12 [==============================] - 0s 619us/step - loss: 4.3544 - val_loss: 14.2449\n",
      "Epoch 69/1000\n",
      "12/12 [==============================] - 0s 638us/step - loss: 4.3142 - val_loss: 13.9808\n",
      "Epoch 70/1000\n",
      "12/12 [==============================] - 0s 635us/step - loss: 4.2795 - val_loss: 13.5677\n",
      "Epoch 71/1000\n",
      "12/12 [==============================] - 0s 637us/step - loss: 4.2216 - val_loss: 13.8959\n",
      "Epoch 72/1000\n",
      "12/12 [==============================] - 0s 633us/step - loss: 4.1729 - val_loss: 13.8993\n",
      "Epoch 73/1000\n",
      "12/12 [==============================] - 0s 627us/step - loss: 4.1255 - val_loss: 14.0921\n",
      "Epoch 74/1000\n",
      "12/12 [==============================] - 0s 632us/step - loss: 4.0954 - val_loss: 14.1861\n",
      "Epoch 75/1000\n",
      "12/12 [==============================] - 0s 669us/step - loss: 4.0388 - val_loss: 13.7410\n",
      "Epoch 76/1000\n",
      "12/12 [==============================] - 0s 658us/step - loss: 4.0041 - val_loss: 12.8501\n",
      "Epoch 77/1000\n",
      "12/12 [==============================] - 0s 680us/step - loss: 3.9447 - val_loss: 12.5348\n",
      "Epoch 78/1000\n",
      "12/12 [==============================] - 0s 666us/step - loss: 3.8984 - val_loss: 12.2496\n",
      "Epoch 79/1000\n",
      "12/12 [==============================] - 0s 680us/step - loss: 3.8520 - val_loss: 11.8907\n",
      "Epoch 80/1000\n",
      "12/12 [==============================] - 0s 686us/step - loss: 3.8142 - val_loss: 11.8933\n",
      "Epoch 81/1000\n",
      "12/12 [==============================] - 0s 679us/step - loss: 3.7801 - val_loss: 12.0290\n",
      "Epoch 82/1000\n",
      "12/12 [==============================] - 0s 682us/step - loss: 3.7232 - val_loss: 11.5819\n",
      "Epoch 83/1000\n",
      "12/12 [==============================] - 0s 737us/step - loss: 3.6688 - val_loss: 11.1434\n",
      "Epoch 84/1000\n",
      "12/12 [==============================] - 0s 1ms/step - loss: 3.6606 - val_loss: 10.2215\n",
      "Epoch 85/1000\n",
      "12/12 [==============================] - 0s 877us/step - loss: 3.6030 - val_loss: 9.6956\n",
      "Epoch 86/1000\n",
      "12/12 [==============================] - 0s 675us/step - loss: 3.5480 - val_loss: 10.0605\n",
      "Epoch 87/1000\n",
      "12/12 [==============================] - 0s 664us/step - loss: 3.5134 - val_loss: 10.4063\n",
      "Epoch 88/1000\n",
      "12/12 [==============================] - 0s 656us/step - loss: 3.4534 - val_loss: 10.1895\n",
      "Epoch 89/1000\n",
      "12/12 [==============================] - 0s 630us/step - loss: 3.4075 - val_loss: 9.9062\n",
      "Epoch 90/1000\n",
      "12/12 [==============================] - 0s 818us/step - loss: 3.3716 - val_loss: 9.6736\n",
      "Epoch 91/1000\n",
      "12/12 [==============================] - ETA: 0s - loss: 4.999 - 0s 701us/step - loss: 3.3214 - val_loss: 9.3854\n",
      "Epoch 92/1000\n",
      "12/12 [==============================] - 0s 686us/step - loss: 3.2788 - val_loss: 9.0454\n",
      "Epoch 93/1000\n",
      "12/12 [==============================] - 0s 645us/step - loss: 3.2413 - val_loss: 8.7513\n",
      "Epoch 94/1000\n",
      "12/12 [==============================] - 0s 689us/step - loss: 3.1906 - val_loss: 8.7135\n",
      "Epoch 95/1000\n",
      "12/12 [==============================] - 0s 651us/step - loss: 3.1504 - val_loss: 8.5946\n",
      "Epoch 96/1000\n",
      "12/12 [==============================] - 0s 660us/step - loss: 3.1072 - val_loss: 8.2969\n",
      "Epoch 97/1000\n",
      "12/12 [==============================] - 0s 665us/step - loss: 3.0880 - val_loss: 8.4905\n",
      "Epoch 98/1000\n",
      "12/12 [==============================] - 0s 673us/step - loss: 3.0374 - val_loss: 7.8758\n",
      "Epoch 99/1000\n",
      "12/12 [==============================] - 0s 638us/step - loss: 2.9834 - val_loss: 7.5991\n",
      "Epoch 100/1000\n",
      "12/12 [==============================] - 0s 652us/step - loss: 2.9541 - val_loss: 7.6170\n",
      "Epoch 101/1000\n",
      "12/12 [==============================] - 0s 666us/step - loss: 2.9094 - val_loss: 7.3876\n",
      "Epoch 102/1000\n",
      "12/12 [==============================] - 0s 673us/step - loss: 2.8640 - val_loss: 7.3785\n",
      "Epoch 103/1000\n",
      "12/12 [==============================] - 0s 707us/step - loss: 2.8212 - val_loss: 7.1734\n",
      "Epoch 104/1000\n",
      "12/12 [==============================] - 0s 643us/step - loss: 2.7843 - val_loss: 6.8838\n",
      "Epoch 105/1000\n",
      "12/12 [==============================] - 0s 678us/step - loss: 2.7479 - val_loss: 6.8190\n",
      "Epoch 106/1000\n",
      "12/12 [==============================] - 0s 642us/step - loss: 2.7151 - val_loss: 6.9169\n",
      "Epoch 107/1000\n",
      "12/12 [==============================] - 0s 664us/step - loss: 2.6676 - val_loss: 6.5815\n",
      "Epoch 108/1000\n",
      "12/12 [==============================] - 0s 659us/step - loss: 2.6317 - val_loss: 6.5777\n",
      "Epoch 109/1000\n",
      "12/12 [==============================] - 0s 692us/step - loss: 2.5878 - val_loss: 6.4382\n",
      "Epoch 110/1000\n",
      "12/12 [==============================] - 0s 646us/step - loss: 2.5506 - val_loss: 6.2516\n",
      "Epoch 111/1000\n",
      "12/12 [==============================] - 0s 662us/step - loss: 2.5091 - val_loss: 5.9593\n",
      "Epoch 112/1000\n",
      "12/12 [==============================] - 0s 652us/step - loss: 2.4779 - val_loss: 5.6344\n",
      "Epoch 113/1000\n",
      "12/12 [==============================] - 0s 682us/step - loss: 2.4318 - val_loss: 5.4239\n",
      "Epoch 114/1000\n",
      "12/12 [==============================] - 0s 682us/step - loss: 2.3913 - val_loss: 5.3995\n",
      "Epoch 115/1000\n",
      "12/12 [==============================] - 0s 743us/step - loss: 2.3465 - val_loss: 5.4472\n",
      "Epoch 116/1000\n",
      "12/12 [==============================] - 0s 795us/step - loss: 2.3284 - val_loss: 5.7040\n",
      "Epoch 117/1000\n",
      "12/12 [==============================] - 0s 1ms/step - loss: 2.2633 - val_loss: 5.6014\n",
      "Epoch 118/1000\n",
      "12/12 [==============================] - 0s 1ms/step - loss: 2.2322 - val_loss: 5.1073\n",
      "Epoch 119/1000\n",
      "12/12 [==============================] - 0s 806us/step - loss: 2.1755 - val_loss: 4.9727\n",
      "Epoch 120/1000\n",
      "12/12 [==============================] - 0s 668us/step - loss: 2.1524 - val_loss: 4.6390\n",
      "Epoch 121/1000\n",
      "12/12 [==============================] - 0s 660us/step - loss: 2.1054 - val_loss: 4.7666\n",
      "Epoch 122/1000\n",
      "12/12 [==============================] - 0s 724us/step - loss: 2.0632 - val_loss: 4.7632\n",
      "Epoch 123/1000\n",
      "12/12 [==============================] - 0s 646us/step - loss: 2.0070 - val_loss: 4.4956\n",
      "Epoch 124/1000\n",
      "12/12 [==============================] - 0s 658us/step - loss: 1.9663 - val_loss: 4.3426\n",
      "Epoch 125/1000\n",
      "12/12 [==============================] - 0s 693us/step - loss: 1.9232 - val_loss: 4.1583\n",
      "Epoch 126/1000\n",
      "12/12 [==============================] - 0s 697us/step - loss: 1.8853 - val_loss: 3.7645\n",
      "Epoch 127/1000\n",
      "12/12 [==============================] - 0s 695us/step - loss: 1.8358 - val_loss: 3.5978\n",
      "Epoch 128/1000\n",
      "12/12 [==============================] - 0s 632us/step - loss: 1.7896 - val_loss: 3.4483\n",
      "Epoch 129/1000\n",
      "12/12 [==============================] - 0s 611us/step - loss: 1.7435 - val_loss: 3.3438\n",
      "Epoch 130/1000\n",
      "12/12 [==============================] - 0s 647us/step - loss: 1.7099 - val_loss: 3.3731\n",
      "Epoch 131/1000\n",
      "12/12 [==============================] - 0s 657us/step - loss: 1.6607 - val_loss: 3.3443\n",
      "Epoch 132/1000\n",
      "12/12 [==============================] - 0s 699us/step - loss: 1.6198 - val_loss: 3.2771\n",
      "Epoch 133/1000\n",
      "12/12 [==============================] - 0s 613us/step - loss: 1.5619 - val_loss: 3.0341\n",
      "Epoch 134/1000\n",
      "12/12 [==============================] - 0s 640us/step - loss: 1.5196 - val_loss: 2.8199\n",
      "Epoch 135/1000\n",
      "12/12 [==============================] - 0s 730us/step - loss: 1.4768 - val_loss: 2.5547\n",
      "Epoch 136/1000\n",
      "12/12 [==============================] - 0s 828us/step - loss: 1.4352 - val_loss: 2.3312\n",
      "Epoch 137/1000\n",
      "12/12 [==============================] - 0s 732us/step - loss: 1.3922 - val_loss: 2.1265\n",
      "Epoch 138/1000\n",
      "12/12 [==============================] - 0s 802us/step - loss: 1.3425 - val_loss: 2.1766\n",
      "Epoch 139/1000\n",
      "12/12 [==============================] - 0s 834us/step - loss: 1.3011 - val_loss: 2.1908\n",
      "Epoch 140/1000\n",
      "12/12 [==============================] - 0s 704us/step - loss: 1.2539 - val_loss: 2.1178\n",
      "Epoch 141/1000\n",
      "12/12 [==============================] - 0s 617us/step - loss: 1.2124 - val_loss: 1.9811\n",
      "Epoch 142/1000\n",
      "12/12 [==============================] - 0s 643us/step - loss: 1.1744 - val_loss: 1.8826\n",
      "Epoch 143/1000\n",
      "12/12 [==============================] - 0s 588us/step - loss: 1.1446 - val_loss: 1.8803\n",
      "Epoch 144/1000\n",
      "12/12 [==============================] - 0s 614us/step - loss: 1.0954 - val_loss: 1.6657\n",
      "Epoch 145/1000\n",
      "12/12 [==============================] - 0s 617us/step - loss: 1.0623 - val_loss: 1.4192\n",
      "Epoch 146/1000\n",
      "12/12 [==============================] - ETA: 0s - loss: 1.648 - 0s 612us/step - loss: 1.0221 - val_loss: 1.3334\n",
      "Epoch 147/1000\n",
      "12/12 [==============================] - 0s 602us/step - loss: 0.9914 - val_loss: 1.2989\n",
      "Epoch 148/1000\n",
      "12/12 [==============================] - 0s 593us/step - loss: 0.9505 - val_loss: 1.1257\n",
      "Epoch 149/1000\n",
      "12/12 [==============================] - 0s 581us/step - loss: 0.9150 - val_loss: 1.0534\n",
      "Epoch 150/1000\n",
      "12/12 [==============================] - 0s 593us/step - loss: 0.8822 - val_loss: 0.9676\n",
      "Epoch 151/1000\n",
      "12/12 [==============================] - 0s 632us/step - loss: 0.8489 - val_loss: 0.8757\n",
      "Epoch 152/1000\n",
      "12/12 [==============================] - 0s 612us/step - loss: 0.8193 - val_loss: 0.8663\n",
      "Epoch 153/1000\n",
      "12/12 [==============================] - 0s 597us/step - loss: 0.7852 - val_loss: 0.8168\n",
      "Epoch 154/1000\n",
      "12/12 [==============================] - 0s 587us/step - loss: 0.7614 - val_loss: 0.7987\n",
      "Epoch 155/1000\n",
      "12/12 [==============================] - 0s 585us/step - loss: 0.7295 - val_loss: 0.6342\n",
      "Epoch 156/1000\n",
      "12/12 [==============================] - 0s 586us/step - loss: 0.7019 - val_loss: 0.5970\n",
      "Epoch 157/1000\n",
      "12/12 [==============================] - 0s 606us/step - loss: 0.6738 - val_loss: 0.4860\n",
      "Epoch 158/1000\n",
      "12/12 [==============================] - 0s 624us/step - loss: 0.6517 - val_loss: 0.4492\n",
      "Epoch 159/1000\n",
      "12/12 [==============================] - 0s 595us/step - loss: 0.6257 - val_loss: 0.4343\n",
      "Epoch 160/1000\n",
      "12/12 [==============================] - 0s 604us/step - loss: 0.5981 - val_loss: 0.3582\n",
      "Epoch 161/1000\n",
      "12/12 [==============================] - 0s 590us/step - loss: 0.5762 - val_loss: 0.3186\n",
      "Epoch 162/1000\n",
      "12/12 [==============================] - 0s 641us/step - loss: 0.5583 - val_loss: 0.3260\n",
      "Epoch 163/1000\n",
      "12/12 [==============================] - 0s 634us/step - loss: 0.5316 - val_loss: 0.2689\n",
      "Epoch 164/1000\n",
      "12/12 [==============================] - 0s 611us/step - loss: 0.5122 - val_loss: 0.2372\n",
      "Epoch 165/1000\n",
      "12/12 [==============================] - 0s 595us/step - loss: 0.4926 - val_loss: 0.2022\n",
      "Epoch 166/1000\n",
      "12/12 [==============================] - 0s 612us/step - loss: 0.4756 - val_loss: 0.1766\n",
      "Epoch 167/1000\n",
      "12/12 [==============================] - 0s 655us/step - loss: 0.4574 - val_loss: 0.1502\n",
      "Epoch 168/1000\n",
      "12/12 [==============================] - 0s 589us/step - loss: 0.4396 - val_loss: 0.1150\n",
      "Epoch 169/1000\n",
      "12/12 [==============================] - 0s 587us/step - loss: 0.4236 - val_loss: 0.0965\n",
      "Epoch 170/1000\n",
      "12/12 [==============================] - 0s 579us/step - loss: 0.4068 - val_loss: 0.0776\n",
      "Epoch 171/1000\n",
      "12/12 [==============================] - 0s 602us/step - loss: 0.3948 - val_loss: 0.0825\n",
      "Epoch 172/1000\n",
      "12/12 [==============================] - 0s 622us/step - loss: 0.3802 - val_loss: 0.0700\n",
      "Epoch 173/1000\n",
      "12/12 [==============================] - 0s 597us/step - loss: 0.3656 - val_loss: 0.0451\n",
      "Epoch 174/1000\n",
      "12/12 [==============================] - 0s 633us/step - loss: 0.3534 - val_loss: 0.0343\n",
      "Epoch 175/1000\n",
      "12/12 [==============================] - 0s 590us/step - loss: 0.3438 - val_loss: 0.0335\n",
      "Epoch 176/1000\n",
      "12/12 [==============================] - 0s 637us/step - loss: 0.3293 - val_loss: 0.0234\n",
      "Epoch 177/1000\n",
      "12/12 [==============================] - 0s 658us/step - loss: 0.3173 - val_loss: 0.0130\n",
      "Epoch 178/1000\n",
      "12/12 [==============================] - 0s 593us/step - loss: 0.3073 - val_loss: 0.0082\n",
      "Epoch 179/1000\n",
      "12/12 [==============================] - 0s 612us/step - loss: 0.2994 - val_loss: 0.0064\n",
      "Epoch 180/1000\n",
      "12/12 [==============================] - 0s 586us/step - loss: 0.2892 - val_loss: 0.0020\n",
      "Epoch 181/1000\n",
      "12/12 [==============================] - 0s 659us/step - loss: 0.2801 - val_loss: 0.0014\n",
      "Epoch 182/1000\n",
      "12/12 [==============================] - 0s 609us/step - loss: 0.2718 - val_loss: 8.0214e-04\n",
      "Epoch 183/1000\n",
      "12/12 [==============================] - 0s 634us/step - loss: 0.2646 - val_loss: 6.4438e-04\n",
      "Epoch 184/1000\n",
      "12/12 [==============================] - 0s 632us/step - loss: 0.2568 - val_loss: 4.7639e-04\n",
      "Epoch 185/1000\n",
      "12/12 [==============================] - 0s 612us/step - loss: 0.2497 - val_loss: 0.0010\n",
      "Epoch 186/1000\n",
      "12/12 [==============================] - 0s 647us/step - loss: 0.2420 - val_loss: 0.0034\n",
      "Epoch 187/1000\n",
      "12/12 [==============================] - 0s 620us/step - loss: 0.2361 - val_loss: 0.0057\n",
      "Epoch 188/1000\n",
      "12/12 [==============================] - 0s 613us/step - loss: 0.2301 - val_loss: 0.0049\n",
      "Epoch 189/1000\n",
      "12/12 [==============================] - 0s 597us/step - loss: 0.2236 - val_loss: 0.0057\n",
      "Epoch 190/1000\n",
      "12/12 [==============================] - 0s 595us/step - loss: 0.2193 - val_loss: 0.0075\n",
      "Epoch 191/1000\n",
      "12/12 [==============================] - 0s 657us/step - loss: 0.2145 - val_loss: 0.0079\n",
      "Epoch 192/1000\n",
      "12/12 [==============================] - 0s 628us/step - loss: 0.2081 - val_loss: 0.0122\n",
      "Epoch 193/1000\n",
      "12/12 [==============================] - 0s 623us/step - loss: 0.2038 - val_loss: 0.0141\n",
      "Epoch 194/1000\n",
      "12/12 [==============================] - 0s 608us/step - loss: 0.1998 - val_loss: 0.0169\n",
      "Epoch 195/1000\n",
      "12/12 [==============================] - 0s 599us/step - loss: 0.1943 - val_loss: 0.0189\n",
      "Epoch 196/1000\n",
      "12/12 [==============================] - 0s 629us/step - loss: 0.1911 - val_loss: 0.0164\n",
      "Epoch 197/1000\n",
      "12/12 [==============================] - 0s 600us/step - loss: 0.1865 - val_loss: 0.0179\n",
      "Epoch 198/1000\n",
      "12/12 [==============================] - ETA: 0s - loss: 0.009 - 0s 640us/step - loss: 0.1831 - val_loss: 0.0190\n",
      "Epoch 199/1000\n",
      "12/12 [==============================] - 0s 601us/step - loss: 0.1805 - val_loss: 0.0172\n",
      "Epoch 200/1000\n",
      "12/12 [==============================] - 0s 581us/step - loss: 0.1770 - val_loss: 0.0196\n",
      "Epoch 201/1000\n",
      "12/12 [==============================] - 0s 613us/step - loss: 0.1733 - val_loss: 0.0196\n",
      "Epoch 202/1000\n",
      "12/12 [==============================] - 0s 595us/step - loss: 0.1698 - val_loss: 0.0202\n",
      "Epoch 203/1000\n",
      "12/12 [==============================] - 0s 598us/step - loss: 0.1667 - val_loss: 0.0287\n",
      "Epoch 204/1000\n",
      "12/12 [==============================] - 0s 639us/step - loss: 0.1640 - val_loss: 0.0290\n",
      "Epoch 205/1000\n",
      "12/12 [==============================] - 0s 644us/step - loss: 0.1600 - val_loss: 0.0249\n",
      "Epoch 206/1000\n",
      "12/12 [==============================] - 0s 617us/step - loss: 0.1567 - val_loss: 0.0215\n",
      "Epoch 207/1000\n",
      "12/12 [==============================] - 0s 610us/step - loss: 0.1548 - val_loss: 0.0176\n",
      "Epoch 208/1000\n",
      "12/12 [==============================] - 0s 697us/step - loss: 0.1519 - val_loss: 0.0176\n",
      "Epoch 209/1000\n",
      "12/12 [==============================] - 0s 802us/step - loss: 0.1497 - val_loss: 0.0152\n",
      "Epoch 210/1000\n",
      "12/12 [==============================] - 0s 1ms/step - loss: 0.1470 - val_loss: 0.0149\n",
      "Epoch 211/1000\n",
      "12/12 [==============================] - 0s 1ms/step - loss: 0.1439 - val_loss: 0.0155\n",
      "Epoch 212/1000\n",
      "12/12 [==============================] - 0s 1ms/step - loss: 0.1414 - val_loss: 0.0174\n",
      "Epoch 213/1000\n",
      "12/12 [==============================] - 0s 829us/step - loss: 0.1395 - val_loss: 0.0204\n",
      "Epoch 214/1000\n",
      "12/12 [==============================] - 0s 847us/step - loss: 0.1372 - val_loss: 0.0183\n",
      "Epoch 215/1000\n",
      "12/12 [==============================] - 0s 896us/step - loss: 0.1353 - val_loss: 0.0142\n",
      "Epoch 216/1000\n",
      "12/12 [==============================] - 0s 938us/step - loss: 0.1320 - val_loss: 0.0121\n",
      "Epoch 217/1000\n",
      "12/12 [==============================] - 0s 865us/step - loss: 0.1298 - val_loss: 0.0102\n",
      "Epoch 218/1000\n",
      "12/12 [==============================] - 0s 724us/step - loss: 0.1282 - val_loss: 0.0089\n",
      "Epoch 219/1000\n",
      "12/12 [==============================] - 0s 738us/step - loss: 0.1262 - val_loss: 0.0069\n",
      "Epoch 220/1000\n",
      "12/12 [==============================] - 0s 630us/step - loss: 0.1244 - val_loss: 0.0070\n",
      "Epoch 221/1000\n",
      "12/12 [==============================] - 0s 754us/step - loss: 0.1218 - val_loss: 0.0078\n",
      "Epoch 222/1000\n",
      "12/12 [==============================] - 0s 948us/step - loss: 0.1202 - val_loss: 0.0088\n",
      "Epoch 223/1000\n",
      "12/12 [==============================] - 0s 971us/step - loss: 0.1182 - val_loss: 0.0064\n",
      "Epoch 224/1000\n",
      "12/12 [==============================] - 0s 761us/step - loss: 0.1161 - val_loss: 0.0052\n",
      "Epoch 225/1000\n",
      "12/12 [==============================] - 0s 831us/step - loss: 0.1143 - val_loss: 0.0050\n",
      "Epoch 226/1000\n",
      "12/12 [==============================] - 0s 824us/step - loss: 0.1128 - val_loss: 0.0040\n",
      "Epoch 227/1000\n",
      "12/12 [==============================] - 0s 720us/step - loss: 0.1107 - val_loss: 0.0036\n",
      "Epoch 228/1000\n",
      "12/12 [==============================] - 0s 754us/step - loss: 0.1090 - val_loss: 0.0039\n",
      "Epoch 229/1000\n",
      "12/12 [==============================] - 0s 666us/step - loss: 0.1071 - val_loss: 0.0040\n",
      "Epoch 230/1000\n",
      "12/12 [==============================] - 0s 603us/step - loss: 0.1058 - val_loss: 0.0038\n",
      "Epoch 231/1000\n",
      "12/12 [==============================] - 0s 613us/step - loss: 0.1037 - val_loss: 0.0038\n",
      "Epoch 232/1000\n",
      "12/12 [==============================] - 0s 656us/step - loss: 0.1024 - val_loss: 0.0039\n",
      "Epoch 233/1000\n",
      "12/12 [==============================] - 0s 584us/step - loss: 0.1014 - val_loss: 0.0043\n",
      "Epoch 234/1000\n",
      "12/12 [==============================] - 0s 615us/step - loss: 0.0993 - val_loss: 0.0048\n",
      "Epoch 235/1000\n",
      "12/12 [==============================] - 0s 596us/step - loss: 0.0976 - val_loss: 0.0050\n",
      "Epoch 236/1000\n",
      "12/12 [==============================] - 0s 595us/step - loss: 0.0960 - val_loss: 0.0048\n",
      "Epoch 237/1000\n",
      "12/12 [==============================] - 0s 579us/step - loss: 0.0946 - val_loss: 0.0051\n",
      "Epoch 238/1000\n",
      "12/12 [==============================] - 0s 581us/step - loss: 0.0933 - val_loss: 0.0061\n",
      "Epoch 239/1000\n",
      "12/12 [==============================] - 0s 634us/step - loss: 0.0920 - val_loss: 0.0073\n",
      "Epoch 240/1000\n",
      "12/12 [==============================] - 0s 601us/step - loss: 0.0908 - val_loss: 0.0076\n",
      "Epoch 241/1000\n",
      "12/12 [==============================] - 0s 599us/step - loss: 0.0893 - val_loss: 0.0081\n",
      "Epoch 242/1000\n",
      "12/12 [==============================] - 0s 640us/step - loss: 0.0877 - val_loss: 0.0095\n",
      "Epoch 243/1000\n",
      "12/12 [==============================] - 0s 636us/step - loss: 0.0862 - val_loss: 0.0097\n",
      "Epoch 244/1000\n",
      "12/12 [==============================] - 0s 702us/step - loss: 0.0853 - val_loss: 0.0110\n",
      "Epoch 245/1000\n",
      "12/12 [==============================] - 0s 840us/step - loss: 0.0843 - val_loss: 0.0125\n",
      "Epoch 246/1000\n",
      "12/12 [==============================] - 0s 803us/step - loss: 0.0826 - val_loss: 0.0126\n",
      "Epoch 247/1000\n",
      "12/12 [==============================] - 0s 753us/step - loss: 0.0814 - val_loss: 0.0122\n",
      "Epoch 248/1000\n",
      "12/12 [==============================] - 0s 668us/step - loss: 0.0806 - val_loss: 0.0137\n",
      "Epoch 249/1000\n",
      "12/12 [==============================] - 0s 701us/step - loss: 0.0792 - val_loss: 0.0148\n",
      "Epoch 250/1000\n",
      "12/12 [==============================] - 0s 684us/step - loss: 0.0778 - val_loss: 0.0156\n",
      "Epoch 251/1000\n",
      "12/12 [==============================] - 0s 658us/step - loss: 0.0769 - val_loss: 0.0169\n",
      "Epoch 252/1000\n",
      "12/12 [==============================] - 0s 715us/step - loss: 0.0759 - val_loss: 0.0183\n",
      "Epoch 253/1000\n",
      "12/12 [==============================] - 0s 950us/step - loss: 0.0749 - val_loss: 0.0210\n",
      "Epoch 254/1000\n",
      "12/12 [==============================] - 0s 796us/step - loss: 0.0736 - val_loss: 0.0224\n",
      "Epoch 255/1000\n",
      "12/12 [==============================] - 0s 591us/step - loss: 0.0729 - val_loss: 0.0229\n",
      "Epoch 256/1000\n",
      "12/12 [==============================] - 0s 636us/step - loss: 0.0716 - val_loss: 0.0237\n",
      "Epoch 257/1000\n",
      "12/12 [==============================] - 0s 637us/step - loss: 0.0707 - val_loss: 0.0240\n",
      "Epoch 258/1000\n",
      "12/12 [==============================] - 0s 624us/step - loss: 0.0698 - val_loss: 0.0264\n",
      "Epoch 259/1000\n",
      "12/12 [==============================] - 0s 589us/step - loss: 0.0689 - val_loss: 0.0275\n",
      "Epoch 260/1000\n",
      "12/12 [==============================] - 0s 615us/step - loss: 0.0678 - val_loss: 0.0285\n",
      "Epoch 261/1000\n",
      "12/12 [==============================] - 0s 590us/step - loss: 0.0670 - val_loss: 0.0297\n",
      "Epoch 262/1000\n",
      "12/12 [==============================] - 0s 576us/step - loss: 0.0661 - val_loss: 0.0305\n",
      "Epoch 263/1000\n",
      "12/12 [==============================] - 0s 620us/step - loss: 0.0652 - val_loss: 0.0314\n",
      "Epoch 264/1000\n",
      "12/12 [==============================] - 0s 616us/step - loss: 0.0641 - val_loss: 0.0319\n",
      "Epoch 265/1000\n",
      "12/12 [==============================] - 0s 642us/step - loss: 0.0635 - val_loss: 0.0332\n",
      "Epoch 266/1000\n",
      "12/12 [==============================] - 0s 611us/step - loss: 0.0625 - val_loss: 0.0331\n",
      "Epoch 267/1000\n",
      "12/12 [==============================] - 0s 591us/step - loss: 0.0620 - val_loss: 0.0359\n",
      "Epoch 268/1000\n",
      "12/12 [==============================] - 0s 578us/step - loss: 0.0612 - val_loss: 0.0383\n",
      "Epoch 269/1000\n",
      "12/12 [==============================] - 0s 609us/step - loss: 0.0603 - val_loss: 0.0382\n",
      "Epoch 270/1000\n",
      "12/12 [==============================] - 0s 603us/step - loss: 0.0593 - val_loss: 0.0402\n",
      "Epoch 271/1000\n",
      "12/12 [==============================] - 0s 607us/step - loss: 0.0586 - val_loss: 0.0420\n",
      "Epoch 272/1000\n",
      "12/12 [==============================] - 0s 596us/step - loss: 0.0582 - val_loss: 0.0440\n",
      "Epoch 273/1000\n",
      "12/12 [==============================] - 0s 600us/step - loss: 0.0572 - val_loss: 0.0436\n",
      "Epoch 274/1000\n",
      "12/12 [==============================] - 0s 643us/step - loss: 0.0569 - val_loss: 0.0456\n",
      "Epoch 275/1000\n",
      "12/12 [==============================] - 0s 857us/step - loss: 0.0558 - val_loss: 0.0454\n",
      "Epoch 276/1000\n",
      "12/12 [==============================] - 0s 907us/step - loss: 0.0551 - val_loss: 0.0455\n",
      "Epoch 277/1000\n",
      "12/12 [==============================] - 0s 847us/step - loss: 0.0544 - val_loss: 0.0473\n",
      "Epoch 278/1000\n",
      "12/12 [==============================] - 0s 639us/step - loss: 0.0538 - val_loss: 0.0490\n",
      "Epoch 279/1000\n",
      "12/12 [==============================] - 0s 645us/step - loss: 0.0535 - val_loss: 0.0516\n",
      "Epoch 280/1000\n",
      "12/12 [==============================] - 0s 614us/step - loss: 0.0525 - val_loss: 0.0516\n",
      "Epoch 281/1000\n",
      "12/12 [==============================] - 0s 653us/step - loss: 0.0518 - val_loss: 0.0538\n",
      "Epoch 282/1000\n",
      "12/12 [==============================] - 0s 628us/step - loss: 0.0512 - val_loss: 0.0545\n",
      "Epoch 283/1000\n",
      "12/12 [==============================] - 0s 591us/step - loss: 0.0507 - val_loss: 0.0556\n",
      "Epoch 284/1000\n",
      "12/12 [==============================] - 0s 677us/step - loss: 0.0500 - val_loss: 0.0551\n",
      "Epoch 285/1000\n",
      "12/12 [==============================] - 0s 602us/step - loss: 0.0495 - val_loss: 0.0563\n",
      "Epoch 286/1000\n",
      "12/12 [==============================] - 0s 653us/step - loss: 0.0493 - val_loss: 0.0600\n",
      "Epoch 287/1000\n",
      "12/12 [==============================] - 0s 780us/step - loss: 0.0484 - val_loss: 0.0617\n",
      "Epoch 288/1000\n",
      "12/12 [==============================] - 0s 687us/step - loss: 0.0479 - val_loss: 0.0609\n",
      "Epoch 289/1000\n",
      "12/12 [==============================] - 0s 663us/step - loss: 0.0474 - val_loss: 0.0600\n",
      "Epoch 290/1000\n",
      "12/12 [==============================] - 0s 705us/step - loss: 0.0469 - val_loss: 0.0624\n",
      "Epoch 291/1000\n",
      "12/12 [==============================] - 0s 747us/step - loss: 0.0464 - val_loss: 0.0658\n",
      "Epoch 292/1000\n",
      "12/12 [==============================] - 0s 700us/step - loss: 0.0456 - val_loss: 0.0658\n",
      "Epoch 293/1000\n",
      "12/12 [==============================] - 0s 636us/step - loss: 0.0453 - val_loss: 0.0665\n",
      "Epoch 294/1000\n",
      "12/12 [==============================] - 0s 632us/step - loss: 0.0447 - val_loss: 0.0685\n",
      "Epoch 295/1000\n",
      "12/12 [==============================] - 0s 643us/step - loss: 0.0443 - val_loss: 0.0689\n",
      "Epoch 296/1000\n",
      "12/12 [==============================] - 0s 619us/step - loss: 0.0438 - val_loss: 0.0705\n",
      "Epoch 297/1000\n",
      "12/12 [==============================] - 0s 592us/step - loss: 0.0434 - val_loss: 0.0711\n",
      "Epoch 298/1000\n",
      "12/12 [==============================] - 0s 601us/step - loss: 0.0429 - val_loss: 0.0718\n",
      "Epoch 299/1000\n",
      "12/12 [==============================] - 0s 653us/step - loss: 0.0424 - val_loss: 0.0726\n",
      "Epoch 300/1000\n",
      "12/12 [==============================] - 0s 604us/step - loss: 0.0420 - val_loss: 0.0735\n",
      "Epoch 301/1000\n",
      "12/12 [==============================] - 0s 588us/step - loss: 0.0417 - val_loss: 0.0750\n",
      "Epoch 302/1000\n",
      "12/12 [==============================] - 0s 613us/step - loss: 0.0412 - val_loss: 0.0783\n",
      "Epoch 303/1000\n",
      "12/12 [==============================] - 0s 622us/step - loss: 0.0407 - val_loss: 0.0773\n",
      "Epoch 304/1000\n",
      "12/12 [==============================] - 0s 631us/step - loss: 0.0403 - val_loss: 0.0784\n",
      "Epoch 305/1000\n",
      "12/12 [==============================] - 0s 635us/step - loss: 0.0401 - val_loss: 0.0783\n",
      "Epoch 306/1000\n",
      "12/12 [==============================] - 0s 623us/step - loss: 0.0396 - val_loss: 0.0802\n",
      "Epoch 307/1000\n",
      "12/12 [==============================] - 0s 621us/step - loss: 0.0392 - val_loss: 0.0815\n",
      "Epoch 308/1000\n",
      "12/12 [==============================] - 0s 632us/step - loss: 0.0388 - val_loss: 0.0818\n",
      "Epoch 309/1000\n",
      "12/12 [==============================] - 0s 610us/step - loss: 0.0384 - val_loss: 0.0827\n",
      "Epoch 310/1000\n",
      "12/12 [==============================] - 0s 607us/step - loss: 0.0380 - val_loss: 0.0820\n",
      "Epoch 311/1000\n",
      "12/12 [==============================] - 0s 587us/step - loss: 0.0378 - val_loss: 0.0817\n",
      "Epoch 312/1000\n",
      "12/12 [==============================] - 0s 604us/step - loss: 0.0375 - val_loss: 0.0874\n",
      "Epoch 313/1000\n",
      "12/12 [==============================] - 0s 600us/step - loss: 0.0373 - val_loss: 0.0923\n",
      "Epoch 314/1000\n",
      "12/12 [==============================] - 0s 590us/step - loss: 0.0367 - val_loss: 0.0898\n",
      "Epoch 315/1000\n",
      "12/12 [==============================] - 0s 637us/step - loss: 0.0364 - val_loss: 0.0847\n",
      "Epoch 316/1000\n",
      "12/12 [==============================] - 0s 643us/step - loss: 0.0361 - val_loss: 0.0859\n",
      "Epoch 317/1000\n",
      "12/12 [==============================] - 0s 616us/step - loss: 0.0358 - val_loss: 0.0887\n",
      "Epoch 318/1000\n",
      "12/12 [==============================] - 0s 637us/step - loss: 0.0353 - val_loss: 0.0899\n",
      "Epoch 319/1000\n",
      "12/12 [==============================] - 0s 682us/step - loss: 0.0351 - val_loss: 0.0908\n",
      "Epoch 320/1000\n",
      "12/12 [==============================] - 0s 665us/step - loss: 0.0347 - val_loss: 0.0913\n",
      "Epoch 321/1000\n",
      "12/12 [==============================] - 0s 937us/step - loss: 0.0345 - val_loss: 0.0947\n",
      "Epoch 322/1000\n",
      "12/12 [==============================] - 0s 625us/step - loss: 0.0342 - val_loss: 0.0924\n",
      "Epoch 323/1000\n",
      "12/12 [==============================] - 0s 626us/step - loss: 0.0339 - val_loss: 0.0952\n",
      "Epoch 324/1000\n",
      "12/12 [==============================] - 0s 624us/step - loss: 0.0336 - val_loss: 0.0966\n",
      "Epoch 325/1000\n",
      "12/12 [==============================] - 0s 640us/step - loss: 0.0334 - val_loss: 0.0938\n",
      "Epoch 326/1000\n",
      "12/12 [==============================] - 0s 686us/step - loss: 0.0330 - val_loss: 0.0947\n",
      "Epoch 327/1000\n",
      "12/12 [==============================] - 0s 645us/step - loss: 0.0327 - val_loss: 0.0955\n",
      "Epoch 328/1000\n",
      "12/12 [==============================] - 0s 690us/step - loss: 0.0325 - val_loss: 0.0971\n",
      "Epoch 329/1000\n",
      "12/12 [==============================] - 0s 752us/step - loss: 0.0322 - val_loss: 0.1018\n",
      "Epoch 330/1000\n",
      "12/12 [==============================] - 0s 680us/step - loss: 0.0319 - val_loss: 0.0990\n",
      "Epoch 331/1000\n",
      "12/12 [==============================] - 0s 738us/step - loss: 0.0319 - val_loss: 0.1018\n",
      "Epoch 332/1000\n",
      "12/12 [==============================] - 0s 703us/step - loss: 0.0315 - val_loss: 0.1014\n",
      "Epoch 333/1000\n",
      "12/12 [==============================] - 0s 707us/step - loss: 0.0311 - val_loss: 0.0993\n",
      "Epoch 334/1000\n",
      "12/12 [==============================] - 0s 670us/step - loss: 0.0310 - val_loss: 0.0976\n",
      "Epoch 335/1000\n",
      "12/12 [==============================] - 0s 684us/step - loss: 0.0307 - val_loss: 0.0985\n",
      "Epoch 336/1000\n",
      "12/12 [==============================] - 0s 652us/step - loss: 0.0305 - val_loss: 0.0997\n",
      "Epoch 337/1000\n",
      "12/12 [==============================] - 0s 686us/step - loss: 0.0302 - val_loss: 0.1038\n",
      "Epoch 338/1000\n",
      "12/12 [==============================] - 0s 715us/step - loss: 0.0300 - val_loss: 0.1041\n",
      "Epoch 339/1000\n",
      "12/12 [==============================] - 0s 667us/step - loss: 0.0298 - val_loss: 0.1043\n",
      "Epoch 340/1000\n",
      "12/12 [==============================] - 0s 657us/step - loss: 0.0296 - val_loss: 0.1084\n",
      "Epoch 341/1000\n",
      "12/12 [==============================] - 0s 687us/step - loss: 0.0294 - val_loss: 0.1074\n",
      "Epoch 342/1000\n",
      "12/12 [==============================] - 0s 668us/step - loss: 0.0292 - val_loss: 0.1040\n",
      "Epoch 343/1000\n",
      "12/12 [==============================] - 0s 649us/step - loss: 0.0290 - val_loss: 0.1029\n",
      "Epoch 344/1000\n",
      "12/12 [==============================] - 0s 715us/step - loss: 0.0287 - val_loss: 0.1040\n",
      "Epoch 345/1000\n",
      "12/12 [==============================] - 0s 684us/step - loss: 0.0286 - val_loss: 0.1020\n",
      "Epoch 346/1000\n",
      "12/12 [==============================] - 0s 659us/step - loss: 0.0284 - val_loss: 0.1052\n",
      "Epoch 347/1000\n",
      "12/12 [==============================] - 0s 620us/step - loss: 0.0283 - val_loss: 0.1119\n",
      "Epoch 348/1000\n",
      "12/12 [==============================] - 0s 618us/step - loss: 0.0280 - val_loss: 0.1132\n",
      "Epoch 349/1000\n",
      "12/12 [==============================] - 0s 615us/step - loss: 0.0278 - val_loss: 0.1121\n",
      "Epoch 350/1000\n",
      "12/12 [==============================] - 0s 665us/step - loss: 0.0276 - val_loss: 0.1062\n",
      "Epoch 351/1000\n",
      "12/12 [==============================] - 0s 669us/step - loss: 0.0275 - val_loss: 0.1008\n",
      "Epoch 352/1000\n",
      "12/12 [==============================] - 0s 683us/step - loss: 0.0273 - val_loss: 0.1040\n",
      "Epoch 353/1000\n",
      "12/12 [==============================] - 0s 596us/step - loss: 0.0270 - val_loss: 0.1087\n",
      "Epoch 354/1000\n",
      "12/12 [==============================] - 0s 594us/step - loss: 0.0268 - val_loss: 0.1124\n",
      "Epoch 355/1000\n",
      "12/12 [==============================] - 0s 638us/step - loss: 0.0266 - val_loss: 0.1129\n",
      "Epoch 356/1000\n",
      "12/12 [==============================] - 0s 632us/step - loss: 0.0266 - val_loss: 0.1158\n",
      "Epoch 357/1000\n",
      "12/12 [==============================] - 0s 637us/step - loss: 0.0264 - val_loss: 0.1160\n",
      "Epoch 358/1000\n",
      "12/12 [==============================] - 0s 624us/step - loss: 0.0261 - val_loss: 0.1121\n",
      "Epoch 359/1000\n",
      "12/12 [==============================] - 0s 606us/step - loss: 0.0260 - val_loss: 0.1090\n",
      "Epoch 360/1000\n",
      "12/12 [==============================] - 0s 622us/step - loss: 0.0258 - val_loss: 0.1089\n",
      "Epoch 361/1000\n",
      "12/12 [==============================] - 0s 605us/step - loss: 0.0257 - val_loss: 0.1097\n",
      "Epoch 362/1000\n",
      "12/12 [==============================] - 0s 626us/step - loss: 0.0255 - val_loss: 0.1110\n",
      "Epoch 363/1000\n",
      "12/12 [==============================] - 0s 616us/step - loss: 0.0255 - val_loss: 0.1075\n",
      "Epoch 364/1000\n",
      "12/12 [==============================] - 0s 618us/step - loss: 0.0253 - val_loss: 0.1149\n",
      "Epoch 365/1000\n",
      "12/12 [==============================] - 0s 592us/step - loss: 0.0250 - val_loss: 0.1135\n",
      "Epoch 366/1000\n",
      "12/12 [==============================] - 0s 589us/step - loss: 0.0249 - val_loss: 0.1136\n",
      "Epoch 367/1000\n",
      "12/12 [==============================] - 0s 605us/step - loss: 0.0247 - val_loss: 0.1128\n",
      "Epoch 368/1000\n",
      "12/12 [==============================] - 0s 668us/step - loss: 0.0247 - val_loss: 0.1108\n",
      "Epoch 369/1000\n",
      "12/12 [==============================] - 0s 603us/step - loss: 0.0244 - val_loss: 0.1140\n",
      "Epoch 370/1000\n",
      "12/12 [==============================] - 0s 654us/step - loss: 0.0244 - val_loss: 0.1122\n",
      "Epoch 371/1000\n",
      "12/12 [==============================] - 0s 587us/step - loss: 0.0242 - val_loss: 0.1113\n",
      "Epoch 372/1000\n",
      "12/12 [==============================] - 0s 624us/step - loss: 0.0240 - val_loss: 0.1140\n",
      "Epoch 373/1000\n",
      "12/12 [==============================] - 0s 610us/step - loss: 0.0239 - val_loss: 0.1163\n",
      "Epoch 374/1000\n",
      "12/12 [==============================] - 0s 653us/step - loss: 0.0238 - val_loss: 0.1145\n",
      "Epoch 375/1000\n",
      "12/12 [==============================] - 0s 584us/step - loss: 0.0236 - val_loss: 0.1162\n",
      "Epoch 376/1000\n",
      "12/12 [==============================] - 0s 625us/step - loss: 0.0235 - val_loss: 0.1146\n",
      "Epoch 377/1000\n",
      "12/12 [==============================] - 0s 628us/step - loss: 0.0234 - val_loss: 0.1123\n",
      "Epoch 378/1000\n",
      "12/12 [==============================] - 0s 687us/step - loss: 0.0232 - val_loss: 0.1088\n",
      "Epoch 379/1000\n",
      "12/12 [==============================] - 0s 598us/step - loss: 0.0232 - val_loss: 0.1080\n",
      "Epoch 380/1000\n",
      "12/12 [==============================] - 0s 620us/step - loss: 0.0229 - val_loss: 0.1120\n",
      "Epoch 381/1000\n",
      "12/12 [==============================] - 0s 628us/step - loss: 0.0229 - val_loss: 0.1147\n",
      "Epoch 382/1000\n",
      "12/12 [==============================] - 0s 771us/step - loss: 0.0228 - val_loss: 0.1173\n",
      "Epoch 383/1000\n",
      "12/12 [==============================] - ETA: 0s - loss: 0.067 - 0s 706us/step - loss: 0.0226 - val_loss: 0.1145\n",
      "Epoch 384/1000\n",
      "12/12 [==============================] - 0s 793us/step - loss: 0.0225 - val_loss: 0.1127\n",
      "Epoch 385/1000\n",
      "12/12 [==============================] - 0s 795us/step - loss: 0.0224 - val_loss: 0.1096\n",
      "Epoch 386/1000\n",
      "12/12 [==============================] - 0s 741us/step - loss: 0.0223 - val_loss: 0.1166\n",
      "Epoch 387/1000\n",
      "12/12 [==============================] - 0s 638us/step - loss: 0.0221 - val_loss: 0.1146\n",
      "Epoch 388/1000\n",
      "12/12 [==============================] - 0s 661us/step - loss: 0.0220 - val_loss: 0.1155\n",
      "Epoch 389/1000\n",
      "12/12 [==============================] - 0s 617us/step - loss: 0.0220 - val_loss: 0.1117\n",
      "Epoch 390/1000\n",
      "12/12 [==============================] - 0s 613us/step - loss: 0.0218 - val_loss: 0.1152\n",
      "Epoch 391/1000\n",
      "12/12 [==============================] - 0s 666us/step - loss: 0.0217 - val_loss: 0.1176\n",
      "Epoch 392/1000\n",
      "12/12 [==============================] - 0s 699us/step - loss: 0.0215 - val_loss: 0.1160\n",
      "Epoch 393/1000\n",
      "12/12 [==============================] - 0s 648us/step - loss: 0.0214 - val_loss: 0.1113\n",
      "Epoch 394/1000\n",
      "12/12 [==============================] - 0s 648us/step - loss: 0.0213 - val_loss: 0.1121\n",
      "Epoch 395/1000\n",
      "12/12 [==============================] - 0s 622us/step - loss: 0.0212 - val_loss: 0.1097\n",
      "Epoch 396/1000\n",
      "12/12 [==============================] - 0s 664us/step - loss: 0.0212 - val_loss: 0.1072\n",
      "Epoch 397/1000\n",
      "12/12 [==============================] - 0s 677us/step - loss: 0.0210 - val_loss: 0.1086\n",
      "Epoch 398/1000\n",
      "12/12 [==============================] - 0s 669us/step - loss: 0.0211 - val_loss: 0.1173\n",
      "Epoch 399/1000\n",
      "12/12 [==============================] - 0s 703us/step - loss: 0.0209 - val_loss: 0.1171\n",
      "Epoch 400/1000\n",
      "12/12 [==============================] - 0s 749us/step - loss: 0.0209 - val_loss: 0.1084\n",
      "Epoch 401/1000\n",
      "12/12 [==============================] - 0s 788us/step - loss: 0.0206 - val_loss: 0.1095\n",
      "Epoch 402/1000\n",
      "12/12 [==============================] - 0s 883us/step - loss: 0.0205 - val_loss: 0.1098\n",
      "Epoch 403/1000\n",
      "12/12 [==============================] - 0s 814us/step - loss: 0.0204 - val_loss: 0.1099\n",
      "Epoch 404/1000\n",
      "12/12 [==============================] - 0s 688us/step - loss: 0.0203 - val_loss: 0.1109\n",
      "Epoch 405/1000\n",
      "12/12 [==============================] - 0s 694us/step - loss: 0.0202 - val_loss: 0.1057\n",
      "Epoch 406/1000\n",
      "12/12 [==============================] - 0s 689us/step - loss: 0.0202 - val_loss: 0.1096\n",
      "Epoch 407/1000\n",
      "12/12 [==============================] - 0s 671us/step - loss: 0.0200 - val_loss: 0.1101\n",
      "Epoch 408/1000\n",
      "12/12 [==============================] - 0s 690us/step - loss: 0.0200 - val_loss: 0.1113\n",
      "Epoch 409/1000\n",
      "12/12 [==============================] - 0s 690us/step - loss: 0.0199 - val_loss: 0.1060\n",
      "Epoch 410/1000\n",
      "12/12 [==============================] - 0s 678us/step - loss: 0.0198 - val_loss: 0.1041\n",
      "Epoch 411/1000\n",
      "12/12 [==============================] - 0s 678us/step - loss: 0.0198 - val_loss: 0.1123\n",
      "Epoch 412/1000\n",
      "12/12 [==============================] - 0s 658us/step - loss: 0.0195 - val_loss: 0.1109\n",
      "Epoch 413/1000\n",
      "12/12 [==============================] - 0s 709us/step - loss: 0.0195 - val_loss: 0.1078\n",
      "Epoch 414/1000\n",
      "12/12 [==============================] - 0s 649us/step - loss: 0.0194 - val_loss: 0.1031\n",
      "Epoch 415/1000\n",
      "12/12 [==============================] - 0s 661us/step - loss: 0.0193 - val_loss: 0.1035\n",
      "Epoch 416/1000\n",
      "12/12 [==============================] - 0s 667us/step - loss: 0.0191 - val_loss: 0.1060\n",
      "Epoch 417/1000\n",
      "12/12 [==============================] - 0s 688us/step - loss: 0.0191 - val_loss: 0.1092\n",
      "Epoch 418/1000\n",
      "12/12 [==============================] - 0s 646us/step - loss: 0.0191 - val_loss: 0.1078\n",
      "Epoch 419/1000\n",
      "12/12 [==============================] - 0s 649us/step - loss: 0.0189 - val_loss: 0.1079\n",
      "Epoch 420/1000\n",
      "12/12 [==============================] - 0s 637us/step - loss: 0.0188 - val_loss: 0.1084\n",
      "Epoch 421/1000\n",
      "12/12 [==============================] - 0s 683us/step - loss: 0.0188 - val_loss: 0.1057\n",
      "Epoch 422/1000\n",
      "12/12 [==============================] - 0s 626us/step - loss: 0.0187 - val_loss: 0.1029\n",
      "Epoch 423/1000\n",
      "12/12 [==============================] - 0s 637us/step - loss: 0.0185 - val_loss: 0.1033\n",
      "Epoch 424/1000\n",
      "12/12 [==============================] - 0s 579us/step - loss: 0.0185 - val_loss: 0.1040\n",
      "Epoch 425/1000\n",
      "12/12 [==============================] - 0s 605us/step - loss: 0.0185 - val_loss: 0.1033\n",
      "Epoch 426/1000\n",
      "12/12 [==============================] - 0s 768us/step - loss: 0.0183 - val_loss: 0.1073\n",
      "Epoch 427/1000\n",
      "12/12 [==============================] - 0s 660us/step - loss: 0.0183 - val_loss: 0.1048\n",
      "Epoch 428/1000\n",
      "12/12 [==============================] - 0s 727us/step - loss: 0.0182 - val_loss: 0.1034\n",
      "Epoch 429/1000\n",
      "12/12 [==============================] - 0s 589us/step - loss: 0.0181 - val_loss: 0.1048\n",
      "Epoch 430/1000\n",
      "12/12 [==============================] - 0s 596us/step - loss: 0.0180 - val_loss: 0.1071\n",
      "Epoch 431/1000\n",
      "12/12 [==============================] - 0s 625us/step - loss: 0.0179 - val_loss: 0.1051\n",
      "Epoch 432/1000\n",
      "12/12 [==============================] - 0s 622us/step - loss: 0.0178 - val_loss: 0.1010\n",
      "Epoch 433/1000\n",
      "12/12 [==============================] - 0s 590us/step - loss: 0.0177 - val_loss: 0.0997\n",
      "Epoch 434/1000\n",
      "12/12 [==============================] - 0s 566us/step - loss: 0.0177 - val_loss: 0.0993\n",
      "Epoch 435/1000\n",
      "12/12 [==============================] - 0s 594us/step - loss: 0.0176 - val_loss: 0.0964\n",
      "Epoch 436/1000\n",
      "12/12 [==============================] - 0s 814us/step - loss: 0.0176 - val_loss: 0.0979\n",
      "Epoch 437/1000\n",
      "12/12 [==============================] - 0s 741us/step - loss: 0.0174 - val_loss: 0.1013\n",
      "Epoch 438/1000\n",
      "12/12 [==============================] - 0s 603us/step - loss: 0.0174 - val_loss: 0.0983\n",
      "Epoch 439/1000\n",
      "12/12 [==============================] - 0s 618us/step - loss: 0.0175 - val_loss: 0.1041\n",
      "Epoch 440/1000\n",
      "12/12 [==============================] - 0s 645us/step - loss: 0.0173 - val_loss: 0.0994\n",
      "Epoch 441/1000\n",
      "12/12 [==============================] - 0s 586us/step - loss: 0.0174 - val_loss: 0.0902\n",
      "Epoch 442/1000\n",
      "12/12 [==============================] - 0s 625us/step - loss: 0.0171 - val_loss: 0.0932\n",
      "Epoch 443/1000\n",
      "12/12 [==============================] - 0s 592us/step - loss: 0.0170 - val_loss: 0.0962\n",
      "Epoch 444/1000\n",
      "12/12 [==============================] - 0s 664us/step - loss: 0.0170 - val_loss: 0.0985\n",
      "Epoch 445/1000\n",
      "12/12 [==============================] - 0s 571us/step - loss: 0.0168 - val_loss: 0.0978\n",
      "Epoch 446/1000\n",
      "12/12 [==============================] - 0s 637us/step - loss: 0.0169 - val_loss: 0.0951\n",
      "Epoch 447/1000\n",
      "12/12 [==============================] - 0s 705us/step - loss: 0.0167 - val_loss: 0.0927\n",
      "Epoch 448/1000\n",
      "12/12 [==============================] - 0s 638us/step - loss: 0.0166 - val_loss: 0.0964\n",
      "Epoch 449/1000\n",
      "12/12 [==============================] - 0s 646us/step - loss: 0.0166 - val_loss: 0.0958\n",
      "Epoch 450/1000\n",
      "12/12 [==============================] - 0s 636us/step - loss: 0.0166 - val_loss: 0.0924\n",
      "Epoch 451/1000\n",
      "12/12 [==============================] - 0s 659us/step - loss: 0.0165 - val_loss: 0.0942\n",
      "Epoch 452/1000\n",
      "12/12 [==============================] - 0s 680us/step - loss: 0.0164 - val_loss: 0.0945\n",
      "Epoch 453/1000\n",
      "12/12 [==============================] - 0s 608us/step - loss: 0.0164 - val_loss: 0.0912\n",
      "Epoch 454/1000\n",
      "12/12 [==============================] - 0s 694us/step - loss: 0.0163 - val_loss: 0.0939\n",
      "Epoch 455/1000\n",
      "12/12 [==============================] - 0s 668us/step - loss: 0.0162 - val_loss: 0.0939\n",
      "Epoch 456/1000\n",
      "12/12 [==============================] - 0s 657us/step - loss: 0.0162 - val_loss: 0.0942\n",
      "Epoch 457/1000\n",
      "12/12 [==============================] - 0s 602us/step - loss: 0.0162 - val_loss: 0.0841\n",
      "Epoch 458/1000\n",
      "12/12 [==============================] - 0s 673us/step - loss: 0.0161 - val_loss: 0.0862\n",
      "Epoch 459/1000\n",
      "12/12 [==============================] - 0s 615us/step - loss: 0.0159 - val_loss: 0.0892\n",
      "Epoch 460/1000\n",
      "12/12 [==============================] - 0s 624us/step - loss: 0.0158 - val_loss: 0.0879\n",
      "Epoch 461/1000\n",
      "12/12 [==============================] - 0s 615us/step - loss: 0.0157 - val_loss: 0.0849\n",
      "Epoch 462/1000\n",
      "12/12 [==============================] - 0s 609us/step - loss: 0.0157 - val_loss: 0.0865\n",
      "Epoch 463/1000\n",
      "12/12 [==============================] - 0s 613us/step - loss: 0.0156 - val_loss: 0.0862\n",
      "Epoch 464/1000\n",
      "12/12 [==============================] - 0s 606us/step - loss: 0.0155 - val_loss: 0.0851\n",
      "Epoch 465/1000\n",
      "12/12 [==============================] - 0s 590us/step - loss: 0.0155 - val_loss: 0.0862\n",
      "Epoch 466/1000\n",
      "12/12 [==============================] - 0s 616us/step - loss: 0.0154 - val_loss: 0.0856\n",
      "Epoch 467/1000\n",
      "12/12 [==============================] - 0s 583us/step - loss: 0.0154 - val_loss: 0.0856\n",
      "Epoch 468/1000\n",
      "12/12 [==============================] - 0s 603us/step - loss: 0.0154 - val_loss: 0.0816\n",
      "Epoch 469/1000\n",
      "12/12 [==============================] - 0s 576us/step - loss: 0.0153 - val_loss: 0.0853\n",
      "Epoch 470/1000\n",
      "12/12 [==============================] - 0s 623us/step - loss: 0.0152 - val_loss: 0.0847\n",
      "Epoch 471/1000\n",
      "12/12 [==============================] - 0s 727us/step - loss: 0.0153 - val_loss: 0.0884\n",
      "Epoch 472/1000\n",
      "12/12 [==============================] - 0s 806us/step - loss: 0.0151 - val_loss: 0.0854\n",
      "Epoch 473/1000\n",
      "12/12 [==============================] - 0s 807us/step - loss: 0.0149 - val_loss: 0.0781\n",
      "Epoch 474/1000\n",
      "12/12 [==============================] - 0s 801us/step - loss: 0.0150 - val_loss: 0.0796\n",
      "Epoch 475/1000\n",
      "12/12 [==============================] - 0s 712us/step - loss: 0.0149 - val_loss: 0.0805\n",
      "Epoch 476/1000\n",
      "12/12 [==============================] - 0s 693us/step - loss: 0.0148 - val_loss: 0.0784\n",
      "Epoch 477/1000\n",
      "12/12 [==============================] - 0s 595us/step - loss: 0.0147 - val_loss: 0.0794\n",
      "Epoch 478/1000\n",
      "12/12 [==============================] - 0s 588us/step - loss: 0.0147 - val_loss: 0.0800\n",
      "Epoch 479/1000\n",
      "12/12 [==============================] - 0s 633us/step - loss: 0.0145 - val_loss: 0.0763\n",
      "Epoch 480/1000\n",
      "12/12 [==============================] - 0s 601us/step - loss: 0.0145 - val_loss: 0.0775\n",
      "Epoch 481/1000\n",
      "12/12 [==============================] - 0s 619us/step - loss: 0.0145 - val_loss: 0.0740\n",
      "Epoch 482/1000\n",
      "12/12 [==============================] - 0s 632us/step - loss: 0.0144 - val_loss: 0.0754\n",
      "Epoch 483/1000\n",
      "12/12 [==============================] - 0s 654us/step - loss: 0.0144 - val_loss: 0.0787\n",
      "Epoch 484/1000\n",
      "12/12 [==============================] - 0s 583us/step - loss: 0.0144 - val_loss: 0.0808\n",
      "Epoch 485/1000\n",
      "12/12 [==============================] - 0s 646us/step - loss: 0.0142 - val_loss: 0.0787\n",
      "Epoch 486/1000\n",
      "12/12 [==============================] - 0s 620us/step - loss: 0.0141 - val_loss: 0.0737\n",
      "Epoch 487/1000\n",
      "12/12 [==============================] - 0s 645us/step - loss: 0.0141 - val_loss: 0.0709\n",
      "Epoch 488/1000\n",
      "12/12 [==============================] - 0s 600us/step - loss: 0.0142 - val_loss: 0.0670\n",
      "Epoch 489/1000\n",
      "12/12 [==============================] - 0s 792us/step - loss: 0.0143 - val_loss: 0.0760\n",
      "Epoch 490/1000\n",
      "12/12 [==============================] - 0s 761us/step - loss: 0.0139 - val_loss: 0.0763\n",
      "Epoch 491/1000\n",
      "12/12 [==============================] - 0s 698us/step - loss: 0.0139 - val_loss: 0.0728\n",
      "Epoch 492/1000\n",
      "12/12 [==============================] - 0s 675us/step - loss: 0.0138 - val_loss: 0.0731\n",
      "Epoch 493/1000\n",
      "12/12 [==============================] - 0s 606us/step - loss: 0.0137 - val_loss: 0.0703\n",
      "Epoch 494/1000\n",
      "12/12 [==============================] - 0s 619us/step - loss: 0.0137 - val_loss: 0.0700\n",
      "Epoch 495/1000\n",
      "12/12 [==============================] - 0s 844us/step - loss: 0.0137 - val_loss: 0.0711\n",
      "Epoch 496/1000\n",
      "12/12 [==============================] - 0s 684us/step - loss: 0.0136 - val_loss: 0.0667\n",
      "Epoch 497/1000\n",
      "12/12 [==============================] - 0s 642us/step - loss: 0.0135 - val_loss: 0.0681\n",
      "Epoch 498/1000\n",
      "12/12 [==============================] - 0s 603us/step - loss: 0.0135 - val_loss: 0.0709\n",
      "Epoch 499/1000\n",
      "12/12 [==============================] - 0s 565us/step - loss: 0.0135 - val_loss: 0.0693\n",
      "Epoch 500/1000\n",
      "12/12 [==============================] - 0s 584us/step - loss: 0.0134 - val_loss: 0.0713\n",
      "Epoch 501/1000\n",
      "12/12 [==============================] - 0s 588us/step - loss: 0.0133 - val_loss: 0.0694\n",
      "Epoch 502/1000\n",
      "12/12 [==============================] - 0s 618us/step - loss: 0.0133 - val_loss: 0.0627\n",
      "Epoch 503/1000\n",
      "12/12 [==============================] - 0s 578us/step - loss: 0.0134 - val_loss: 0.0578\n",
      "Epoch 504/1000\n",
      "12/12 [==============================] - 0s 611us/step - loss: 0.0132 - val_loss: 0.0607\n",
      "Epoch 505/1000\n",
      "12/12 [==============================] - 0s 629us/step - loss: 0.0130 - val_loss: 0.0654\n",
      "Epoch 506/1000\n",
      "12/12 [==============================] - 0s 623us/step - loss: 0.0130 - val_loss: 0.0684\n",
      "Epoch 507/1000\n",
      "12/12 [==============================] - 0s 616us/step - loss: 0.0133 - val_loss: 0.0727\n",
      "Epoch 508/1000\n",
      "12/12 [==============================] - 0s 630us/step - loss: 0.0130 - val_loss: 0.0678\n",
      "Epoch 509/1000\n",
      "12/12 [==============================] - 0s 777us/step - loss: 0.0129 - val_loss: 0.0614\n",
      "Epoch 510/1000\n",
      "12/12 [==============================] - 0s 781us/step - loss: 0.0129 - val_loss: 0.0566\n",
      "Epoch 511/1000\n",
      "12/12 [==============================] - 0s 842us/step - loss: 0.0128 - val_loss: 0.0573\n",
      "Epoch 512/1000\n",
      "12/12 [==============================] - 0s 671us/step - loss: 0.0129 - val_loss: 0.0658\n",
      "Epoch 513/1000\n",
      "12/12 [==============================] - 0s 672us/step - loss: 0.0127 - val_loss: 0.0626\n",
      "Epoch 514/1000\n",
      "12/12 [==============================] - 0s 603us/step - loss: 0.0126 - val_loss: 0.0615\n",
      "Epoch 515/1000\n",
      "12/12 [==============================] - 0s 655us/step - loss: 0.0125 - val_loss: 0.0605\n",
      "Epoch 516/1000\n",
      "12/12 [==============================] - 0s 636us/step - loss: 0.0127 - val_loss: 0.0568\n",
      "Epoch 517/1000\n",
      "12/12 [==============================] - 0s 613us/step - loss: 0.0124 - val_loss: 0.0601\n",
      "Epoch 518/1000\n",
      "12/12 [==============================] - 0s 899us/step - loss: 0.0124 - val_loss: 0.0633\n",
      "Epoch 519/1000\n",
      "12/12 [==============================] - 0s 1ms/step - loss: 0.0123 - val_loss: 0.0634\n",
      "Epoch 520/1000\n",
      "12/12 [==============================] - 0s 911us/step - loss: 0.0123 - val_loss: 0.0634\n",
      "Epoch 521/1000\n",
      "12/12 [==============================] - 0s 846us/step - loss: 0.0123 - val_loss: 0.0586\n",
      "Epoch 522/1000\n",
      "12/12 [==============================] - 0s 825us/step - loss: 0.0122 - val_loss: 0.0544\n",
      "Epoch 523/1000\n",
      "12/12 [==============================] - 0s 887us/step - loss: 0.0122 - val_loss: 0.0530\n",
      "Epoch 524/1000\n",
      "12/12 [==============================] - 0s 825us/step - loss: 0.0121 - val_loss: 0.0551\n",
      "Epoch 525/1000\n",
      "12/12 [==============================] - 0s 769us/step - loss: 0.0121 - val_loss: 0.0578\n",
      "Epoch 526/1000\n",
      "12/12 [==============================] - 0s 626us/step - loss: 0.0122 - val_loss: 0.0605\n",
      "Epoch 527/1000\n",
      "12/12 [==============================] - 0s 682us/step - loss: 0.0121 - val_loss: 0.0522\n",
      "Epoch 528/1000\n",
      "12/12 [==============================] - 0s 663us/step - loss: 0.0120 - val_loss: 0.0491\n",
      "Epoch 529/1000\n",
      "12/12 [==============================] - 0s 722us/step - loss: 0.0118 - val_loss: 0.0521\n",
      "Epoch 530/1000\n",
      "12/12 [==============================] - 0s 697us/step - loss: 0.0118 - val_loss: 0.0556\n",
      "Epoch 531/1000\n",
      "12/12 [==============================] - 0s 673us/step - loss: 0.0118 - val_loss: 0.0580\n",
      "Epoch 532/1000\n",
      "12/12 [==============================] - 0s 668us/step - loss: 0.0119 - val_loss: 0.0496\n",
      "Epoch 533/1000\n",
      "12/12 [==============================] - 0s 616us/step - loss: 0.0117 - val_loss: 0.0472\n",
      "Epoch 534/1000\n",
      "12/12 [==============================] - 0s 602us/step - loss: 0.0116 - val_loss: 0.0522\n",
      "Epoch 535/1000\n",
      "12/12 [==============================] - 0s 645us/step - loss: 0.0116 - val_loss: 0.0549\n",
      "Epoch 536/1000\n",
      "12/12 [==============================] - 0s 640us/step - loss: 0.0115 - val_loss: 0.0540\n",
      "Epoch 537/1000\n",
      "12/12 [==============================] - 0s 698us/step - loss: 0.0116 - val_loss: 0.0470\n",
      "Epoch 538/1000\n",
      "12/12 [==============================] - 0s 680us/step - loss: 0.0114 - val_loss: 0.0473\n",
      "Epoch 539/1000\n",
      "12/12 [==============================] - 0s 836us/step - loss: 0.0113 - val_loss: 0.0487\n",
      "Epoch 540/1000\n",
      "12/12 [==============================] - 0s 927us/step - loss: 0.0114 - val_loss: 0.0521\n",
      "Epoch 541/1000\n",
      "12/12 [==============================] - 0s 775us/step - loss: 0.0113 - val_loss: 0.0491\n",
      "Epoch 542/1000\n",
      "12/12 [==============================] - 0s 696us/step - loss: 0.0113 - val_loss: 0.0486\n",
      "Epoch 543/1000\n",
      "12/12 [==============================] - 0s 672us/step - loss: 0.0112 - val_loss: 0.0446\n",
      "Epoch 544/1000\n",
      "12/12 [==============================] - 0s 727us/step - loss: 0.0111 - val_loss: 0.0447\n",
      "Epoch 545/1000\n",
      "12/12 [==============================] - 0s 917us/step - loss: 0.0112 - val_loss: 0.0449\n",
      "Epoch 546/1000\n",
      "12/12 [==============================] - 0s 948us/step - loss: 0.0111 - val_loss: 0.0478\n",
      "Epoch 547/1000\n",
      "12/12 [==============================] - 0s 782us/step - loss: 0.0110 - val_loss: 0.0466\n",
      "Epoch 548/1000\n",
      "12/12 [==============================] - 0s 689us/step - loss: 0.0109 - val_loss: 0.0450\n",
      "Epoch 549/1000\n",
      "12/12 [==============================] - 0s 609us/step - loss: 0.0109 - val_loss: 0.0450\n",
      "Epoch 550/1000\n",
      "12/12 [==============================] - 0s 630us/step - loss: 0.0109 - val_loss: 0.0421\n",
      "Epoch 551/1000\n",
      "12/12 [==============================] - 0s 711us/step - loss: 0.0108 - val_loss: 0.0447\n",
      "Epoch 552/1000\n",
      "12/12 [==============================] - 0s 735us/step - loss: 0.0108 - val_loss: 0.0422\n",
      "Epoch 553/1000\n",
      "12/12 [==============================] - 0s 733us/step - loss: 0.0108 - val_loss: 0.0434\n",
      "Epoch 554/1000\n",
      "12/12 [==============================] - 0s 757us/step - loss: 0.0107 - val_loss: 0.0438\n",
      "Epoch 555/1000\n",
      "12/12 [==============================] - 0s 634us/step - loss: 0.0106 - val_loss: 0.0428\n",
      "Epoch 556/1000\n",
      "12/12 [==============================] - 0s 677us/step - loss: 0.0106 - val_loss: 0.0418\n",
      "Epoch 557/1000\n",
      "12/12 [==============================] - 0s 616us/step - loss: 0.0106 - val_loss: 0.0400\n",
      "Epoch 558/1000\n",
      "12/12 [==============================] - 0s 643us/step - loss: 0.0105 - val_loss: 0.0430\n",
      "Epoch 559/1000\n",
      "12/12 [==============================] - 0s 673us/step - loss: 0.0105 - val_loss: 0.0422\n",
      "Epoch 560/1000\n",
      "12/12 [==============================] - 0s 644us/step - loss: 0.0104 - val_loss: 0.0409\n",
      "Epoch 561/1000\n",
      "12/12 [==============================] - 0s 594us/step - loss: 0.0105 - val_loss: 0.0382\n",
      "Epoch 562/1000\n",
      "12/12 [==============================] - 0s 624us/step - loss: 0.0103 - val_loss: 0.0404\n",
      "Epoch 563/1000\n",
      "12/12 [==============================] - 0s 637us/step - loss: 0.0104 - val_loss: 0.0437\n",
      "Epoch 564/1000\n",
      "12/12 [==============================] - 0s 589us/step - loss: 0.0104 - val_loss: 0.0423\n",
      "Epoch 565/1000\n",
      "12/12 [==============================] - 0s 711us/step - loss: 0.0102 - val_loss: 0.0374\n",
      "Epoch 566/1000\n",
      "12/12 [==============================] - 0s 572us/step - loss: 0.0102 - val_loss: 0.0364\n",
      "Epoch 567/1000\n",
      "12/12 [==============================] - 0s 621us/step - loss: 0.0101 - val_loss: 0.0358\n",
      "Epoch 568/1000\n",
      "12/12 [==============================] - 0s 624us/step - loss: 0.0101 - val_loss: 0.0359\n",
      "Epoch 569/1000\n",
      "12/12 [==============================] - 0s 606us/step - loss: 0.0101 - val_loss: 0.0359\n",
      "Epoch 570/1000\n",
      "12/12 [==============================] - 0s 609us/step - loss: 0.0100 - val_loss: 0.0369\n",
      "Epoch 571/1000\n",
      "12/12 [==============================] - 0s 691us/step - loss: 0.0100 - val_loss: 0.0379\n",
      "Epoch 572/1000\n",
      "12/12 [==============================] - 0s 657us/step - loss: 0.0099 - val_loss: 0.0380\n",
      "Epoch 573/1000\n",
      "12/12 [==============================] - 0s 574us/step - loss: 0.0099 - val_loss: 0.0358\n",
      "Epoch 574/1000\n",
      "12/12 [==============================] - 0s 609us/step - loss: 0.0099 - val_loss: 0.0325\n",
      "Epoch 575/1000\n",
      "12/12 [==============================] - 0s 643us/step - loss: 0.0098 - val_loss: 0.0335\n",
      "Epoch 576/1000\n",
      "12/12 [==============================] - 0s 616us/step - loss: 0.0098 - val_loss: 0.0353\n",
      "Epoch 577/1000\n",
      "12/12 [==============================] - 0s 611us/step - loss: 0.0097 - val_loss: 0.0374\n",
      "Epoch 578/1000\n",
      "12/12 [==============================] - 0s 594us/step - loss: 0.0098 - val_loss: 0.0393\n",
      "Epoch 579/1000\n",
      "12/12 [==============================] - 0s 596us/step - loss: 0.0098 - val_loss: 0.0328\n",
      "Epoch 580/1000\n",
      "12/12 [==============================] - 0s 685us/step - loss: 0.0097 - val_loss: 0.0305\n",
      "Epoch 581/1000\n",
      "12/12 [==============================] - 0s 616us/step - loss: 0.0096 - val_loss: 0.0325\n",
      "Epoch 582/1000\n",
      "12/12 [==============================] - 0s 590us/step - loss: 0.0096 - val_loss: 0.0347\n",
      "Epoch 583/1000\n",
      "12/12 [==============================] - 0s 621us/step - loss: 0.0095 - val_loss: 0.0321\n",
      "Epoch 584/1000\n",
      "12/12 [==============================] - 0s 622us/step - loss: 0.0095 - val_loss: 0.0315\n",
      "Epoch 585/1000\n",
      "12/12 [==============================] - 0s 624us/step - loss: 0.0094 - val_loss: 0.0328\n",
      "Epoch 586/1000\n",
      "12/12 [==============================] - 0s 645us/step - loss: 0.0094 - val_loss: 0.0336\n",
      "Epoch 587/1000\n",
      "12/12 [==============================] - 0s 615us/step - loss: 0.0093 - val_loss: 0.0329\n",
      "Epoch 588/1000\n",
      "12/12 [==============================] - 0s 653us/step - loss: 0.0094 - val_loss: 0.0322\n",
      "Epoch 589/1000\n",
      "12/12 [==============================] - 0s 640us/step - loss: 0.0092 - val_loss: 0.0304\n",
      "Epoch 590/1000\n",
      "12/12 [==============================] - 0s 590us/step - loss: 0.0093 - val_loss: 0.0261\n",
      "Epoch 591/1000\n",
      "12/12 [==============================] - 0s 631us/step - loss: 0.0092 - val_loss: 0.0282\n",
      "Epoch 592/1000\n",
      "12/12 [==============================] - 0s 646us/step - loss: 0.0092 - val_loss: 0.0278\n",
      "Epoch 593/1000\n",
      "12/12 [==============================] - 0s 611us/step - loss: 0.0091 - val_loss: 0.0293\n",
      "Epoch 594/1000\n",
      "12/12 [==============================] - 0s 632us/step - loss: 0.0091 - val_loss: 0.0304\n",
      "Epoch 595/1000\n",
      "12/12 [==============================] - 0s 631us/step - loss: 0.0091 - val_loss: 0.0297\n",
      "Epoch 596/1000\n",
      "12/12 [==============================] - 0s 644us/step - loss: 0.0091 - val_loss: 0.0280\n",
      "Epoch 597/1000\n",
      "12/12 [==============================] - 0s 591us/step - loss: 0.0090 - val_loss: 0.0299\n",
      "Epoch 598/1000\n",
      "12/12 [==============================] - 0s 589us/step - loss: 0.0090 - val_loss: 0.0304\n",
      "Epoch 599/1000\n",
      "12/12 [==============================] - 0s 625us/step - loss: 0.0089 - val_loss: 0.0279\n",
      "Epoch 600/1000\n",
      "12/12 [==============================] - 0s 632us/step - loss: 0.0089 - val_loss: 0.0247\n",
      "Epoch 601/1000\n",
      "12/12 [==============================] - 0s 606us/step - loss: 0.0088 - val_loss: 0.0246\n",
      "Epoch 602/1000\n",
      "12/12 [==============================] - 0s 595us/step - loss: 0.0090 - val_loss: 0.0283\n",
      "Epoch 603/1000\n",
      "12/12 [==============================] - 0s 605us/step - loss: 0.0088 - val_loss: 0.0253\n",
      "Epoch 604/1000\n",
      "12/12 [==============================] - 0s 617us/step - loss: 0.0087 - val_loss: 0.0260\n",
      "Epoch 605/1000\n",
      "12/12 [==============================] - 0s 644us/step - loss: 0.0087 - val_loss: 0.0253\n",
      "Epoch 606/1000\n",
      "12/12 [==============================] - 0s 633us/step - loss: 0.0086 - val_loss: 0.0254\n",
      "Epoch 607/1000\n",
      "12/12 [==============================] - 0s 706us/step - loss: 0.0086 - val_loss: 0.0243\n",
      "Epoch 608/1000\n",
      "12/12 [==============================] - 0s 671us/step - loss: 0.0086 - val_loss: 0.0246\n",
      "Epoch 609/1000\n",
      "12/12 [==============================] - 0s 633us/step - loss: 0.0086 - val_loss: 0.0255\n",
      "Epoch 610/1000\n",
      "12/12 [==============================] - 0s 632us/step - loss: 0.0085 - val_loss: 0.0266\n",
      "Epoch 611/1000\n",
      "12/12 [==============================] - 0s 595us/step - loss: 0.0085 - val_loss: 0.0264\n",
      "Epoch 612/1000\n",
      "12/12 [==============================] - 0s 709us/step - loss: 0.0085 - val_loss: 0.0241\n",
      "Epoch 613/1000\n",
      "12/12 [==============================] - 0s 606us/step - loss: 0.0084 - val_loss: 0.0234\n",
      "Epoch 614/1000\n",
      "12/12 [==============================] - 0s 630us/step - loss: 0.0085 - val_loss: 0.0216\n",
      "Epoch 615/1000\n",
      "12/12 [==============================] - 0s 601us/step - loss: 0.0084 - val_loss: 0.0243\n",
      "Epoch 616/1000\n",
      "12/12 [==============================] - 0s 622us/step - loss: 0.0083 - val_loss: 0.0239\n",
      "Epoch 617/1000\n",
      "12/12 [==============================] - 0s 588us/step - loss: 0.0083 - val_loss: 0.0229\n",
      "Epoch 618/1000\n",
      "12/12 [==============================] - 0s 590us/step - loss: 0.0082 - val_loss: 0.0228\n",
      "Epoch 619/1000\n",
      "12/12 [==============================] - 0s 678us/step - loss: 0.0082 - val_loss: 0.0234\n",
      "Epoch 620/1000\n",
      "12/12 [==============================] - 0s 651us/step - loss: 0.0083 - val_loss: 0.0250\n",
      "Epoch 621/1000\n",
      "12/12 [==============================] - 0s 608us/step - loss: 0.0082 - val_loss: 0.0215\n",
      "Epoch 622/1000\n",
      "12/12 [==============================] - 0s 651us/step - loss: 0.0081 - val_loss: 0.0216\n",
      "Epoch 623/1000\n",
      "12/12 [==============================] - 0s 618us/step - loss: 0.0081 - val_loss: 0.0195\n",
      "Epoch 624/1000\n",
      "12/12 [==============================] - 0s 623us/step - loss: 0.0081 - val_loss: 0.0213\n",
      "Epoch 625/1000\n",
      "12/12 [==============================] - 0s 565us/step - loss: 0.0080 - val_loss: 0.0206\n",
      "Epoch 626/1000\n",
      "12/12 [==============================] - 0s 581us/step - loss: 0.0080 - val_loss: 0.0210\n",
      "Epoch 627/1000\n",
      "12/12 [==============================] - 0s 601us/step - loss: 0.0080 - val_loss: 0.0199\n",
      "Epoch 628/1000\n",
      "12/12 [==============================] - 0s 643us/step - loss: 0.0081 - val_loss: 0.0177\n",
      "Epoch 629/1000\n",
      "12/12 [==============================] - 0s 647us/step - loss: 0.0081 - val_loss: 0.0214\n",
      "Epoch 630/1000\n",
      "12/12 [==============================] - 0s 630us/step - loss: 0.0079 - val_loss: 0.0214\n",
      "Epoch 631/1000\n",
      "12/12 [==============================] - 0s 603us/step - loss: 0.0079 - val_loss: 0.0199\n",
      "Epoch 632/1000\n",
      "12/12 [==============================] - 0s 613us/step - loss: 0.0078 - val_loss: 0.0197\n",
      "Epoch 633/1000\n",
      "12/12 [==============================] - 0s 621us/step - loss: 0.0078 - val_loss: 0.0194\n",
      "Epoch 634/1000\n",
      "12/12 [==============================] - 0s 645us/step - loss: 0.0078 - val_loss: 0.0181\n",
      "Epoch 635/1000\n",
      "12/12 [==============================] - 0s 628us/step - loss: 0.0078 - val_loss: 0.0172\n",
      "Epoch 636/1000\n",
      "12/12 [==============================] - 0s 629us/step - loss: 0.0077 - val_loss: 0.0177\n",
      "Epoch 637/1000\n",
      "12/12 [==============================] - 0s 628us/step - loss: 0.0077 - val_loss: 0.0181\n",
      "Epoch 638/1000\n",
      "12/12 [==============================] - 0s 648us/step - loss: 0.0076 - val_loss: 0.0199\n",
      "Epoch 639/1000\n",
      "12/12 [==============================] - 0s 609us/step - loss: 0.0076 - val_loss: 0.0196\n",
      "Epoch 640/1000\n",
      "12/12 [==============================] - 0s 672us/step - loss: 0.0076 - val_loss: 0.0201\n",
      "Epoch 641/1000\n",
      "12/12 [==============================] - 0s 622us/step - loss: 0.0075 - val_loss: 0.0182\n",
      "Epoch 642/1000\n",
      "12/12 [==============================] - 0s 589us/step - loss: 0.0075 - val_loss: 0.0172\n",
      "Epoch 643/1000\n",
      "12/12 [==============================] - 0s 637us/step - loss: 0.0075 - val_loss: 0.0161\n",
      "Epoch 644/1000\n",
      "12/12 [==============================] - 0s 628us/step - loss: 0.0075 - val_loss: 0.0154\n",
      "Epoch 645/1000\n",
      "12/12 [==============================] - 0s 624us/step - loss: 0.0075 - val_loss: 0.0172\n",
      "Epoch 646/1000\n",
      "12/12 [==============================] - 0s 623us/step - loss: 0.0074 - val_loss: 0.0187\n",
      "Epoch 647/1000\n",
      "12/12 [==============================] - 0s 623us/step - loss: 0.0074 - val_loss: 0.0167\n",
      "Epoch 648/1000\n",
      "12/12 [==============================] - 0s 621us/step - loss: 0.0074 - val_loss: 0.0157\n",
      "Epoch 649/1000\n",
      "12/12 [==============================] - 0s 627us/step - loss: 0.0073 - val_loss: 0.0153\n",
      "Epoch 650/1000\n",
      "12/12 [==============================] - 0s 601us/step - loss: 0.0074 - val_loss: 0.0172\n",
      "Epoch 651/1000\n",
      "12/12 [==============================] - 0s 602us/step - loss: 0.0073 - val_loss: 0.0164\n",
      "Epoch 652/1000\n",
      "12/12 [==============================] - 0s 625us/step - loss: 0.0073 - val_loss: 0.0158\n",
      "Epoch 653/1000\n",
      "12/12 [==============================] - 0s 664us/step - loss: 0.0073 - val_loss: 0.0162\n",
      "Epoch 654/1000\n",
      "12/12 [==============================] - 0s 636us/step - loss: 0.0073 - val_loss: 0.0161\n",
      "Epoch 655/1000\n",
      "12/12 [==============================] - 0s 639us/step - loss: 0.0072 - val_loss: 0.0144\n",
      "Epoch 656/1000\n",
      "12/12 [==============================] - 0s 683us/step - loss: 0.0072 - val_loss: 0.0132\n",
      "Epoch 657/1000\n",
      "12/12 [==============================] - 0s 597us/step - loss: 0.0072 - val_loss: 0.0142\n",
      "Epoch 658/1000\n",
      "12/12 [==============================] - 0s 666us/step - loss: 0.0071 - val_loss: 0.0146\n",
      "Epoch 659/1000\n",
      "12/12 [==============================] - 0s 617us/step - loss: 0.0070 - val_loss: 0.0145\n",
      "Epoch 660/1000\n",
      "12/12 [==============================] - 0s 577us/step - loss: 0.0070 - val_loss: 0.0155\n",
      "Epoch 661/1000\n",
      "12/12 [==============================] - 0s 606us/step - loss: 0.0070 - val_loss: 0.0143\n",
      "Epoch 662/1000\n",
      "12/12 [==============================] - 0s 638us/step - loss: 0.0071 - val_loss: 0.0158\n",
      "Epoch 663/1000\n",
      "12/12 [==============================] - 0s 625us/step - loss: 0.0070 - val_loss: 0.0145\n",
      "Epoch 664/1000\n",
      "12/12 [==============================] - 0s 618us/step - loss: 0.0070 - val_loss: 0.0123\n",
      "Epoch 665/1000\n",
      "12/12 [==============================] - 0s 628us/step - loss: 0.0069 - val_loss: 0.0128\n",
      "Epoch 666/1000\n",
      "12/12 [==============================] - 0s 589us/step - loss: 0.0069 - val_loss: 0.0131\n",
      "Epoch 667/1000\n",
      "12/12 [==============================] - 0s 871us/step - loss: 0.0069 - val_loss: 0.0132\n",
      "Epoch 668/1000\n",
      "12/12 [==============================] - 0s 798us/step - loss: 0.0069 - val_loss: 0.0154\n",
      "Epoch 669/1000\n",
      "12/12 [==============================] - 0s 720us/step - loss: 0.0068 - val_loss: 0.0147\n",
      "Epoch 670/1000\n",
      "12/12 [==============================] - 0s 616us/step - loss: 0.0068 - val_loss: 0.0131\n",
      "Epoch 671/1000\n",
      "12/12 [==============================] - 0s 636us/step - loss: 0.0068 - val_loss: 0.0127\n",
      "Epoch 672/1000\n",
      "12/12 [==============================] - 0s 624us/step - loss: 0.0067 - val_loss: 0.0116\n",
      "Epoch 673/1000\n",
      "12/12 [==============================] - 0s 623us/step - loss: 0.0068 - val_loss: 0.0100\n",
      "Epoch 674/1000\n",
      "12/12 [==============================] - 0s 626us/step - loss: 0.0067 - val_loss: 0.0115\n",
      "Epoch 675/1000\n",
      "12/12 [==============================] - 0s 627us/step - loss: 0.0066 - val_loss: 0.0129\n",
      "Epoch 676/1000\n",
      "12/12 [==============================] - 0s 681us/step - loss: 0.0066 - val_loss: 0.0139\n",
      "Epoch 677/1000\n",
      "12/12 [==============================] - 0s 683us/step - loss: 0.0066 - val_loss: 0.0130\n",
      "Epoch 678/1000\n",
      "12/12 [==============================] - 0s 682us/step - loss: 0.0066 - val_loss: 0.0129\n",
      "Epoch 679/1000\n",
      "12/12 [==============================] - 0s 644us/step - loss: 0.0066 - val_loss: 0.0121\n",
      "Epoch 680/1000\n",
      "12/12 [==============================] - 0s 657us/step - loss: 0.0066 - val_loss: 0.0103\n",
      "Epoch 681/1000\n",
      "12/12 [==============================] - 0s 684us/step - loss: 0.0065 - val_loss: 0.0101\n",
      "Epoch 682/1000\n",
      "12/12 [==============================] - 0s 661us/step - loss: 0.0065 - val_loss: 0.0115\n",
      "Epoch 683/1000\n",
      "12/12 [==============================] - 0s 676us/step - loss: 0.0065 - val_loss: 0.0126\n",
      "Epoch 684/1000\n",
      "12/12 [==============================] - 0s 694us/step - loss: 0.0064 - val_loss: 0.0126\n",
      "Epoch 685/1000\n",
      "12/12 [==============================] - 0s 771us/step - loss: 0.0065 - val_loss: 0.0111\n",
      "Epoch 686/1000\n",
      "12/12 [==============================] - 0s 662us/step - loss: 0.0064 - val_loss: 0.0117\n",
      "Epoch 687/1000\n",
      "12/12 [==============================] - 0s 679us/step - loss: 0.0064 - val_loss: 0.0116\n",
      "Epoch 688/1000\n",
      "12/12 [==============================] - 0s 681us/step - loss: 0.0064 - val_loss: 0.0103\n",
      "Epoch 689/1000\n",
      "12/12 [==============================] - 0s 670us/step - loss: 0.0063 - val_loss: 0.0104\n",
      "Epoch 690/1000\n",
      "12/12 [==============================] - 0s 708us/step - loss: 0.0063 - val_loss: 0.0102\n",
      "Epoch 691/1000\n",
      "12/12 [==============================] - 0s 658us/step - loss: 0.0063 - val_loss: 0.0105\n",
      "Epoch 692/1000\n",
      "12/12 [==============================] - 0s 668us/step - loss: 0.0063 - val_loss: 0.0111\n",
      "Epoch 693/1000\n",
      "12/12 [==============================] - 0s 640us/step - loss: 0.0062 - val_loss: 0.0114\n",
      "Epoch 694/1000\n",
      "12/12 [==============================] - 0s 685us/step - loss: 0.0062 - val_loss: 0.0103\n",
      "Epoch 695/1000\n",
      "12/12 [==============================] - 0s 723us/step - loss: 0.0063 - val_loss: 0.0087\n",
      "Epoch 696/1000\n",
      "12/12 [==============================] - 0s 682us/step - loss: 0.0062 - val_loss: 0.0093\n",
      "Epoch 697/1000\n",
      "12/12 [==============================] - 0s 698us/step - loss: 0.0062 - val_loss: 0.0094\n",
      "Epoch 698/1000\n",
      "12/12 [==============================] - 0s 712us/step - loss: 0.0061 - val_loss: 0.0101\n",
      "Epoch 699/1000\n",
      "12/12 [==============================] - 0s 804us/step - loss: 0.0061 - val_loss: 0.0111\n",
      "Epoch 700/1000\n",
      "12/12 [==============================] - 0s 943us/step - loss: 0.0061 - val_loss: 0.0106\n",
      "Epoch 701/1000\n",
      "12/12 [==============================] - 0s 994us/step - loss: 0.0061 - val_loss: 0.0101\n",
      "Epoch 702/1000\n",
      "12/12 [==============================] - 0s 818us/step - loss: 0.0060 - val_loss: 0.0093\n",
      "Epoch 703/1000\n",
      "12/12 [==============================] - 0s 801us/step - loss: 0.0060 - val_loss: 0.0093\n",
      "Epoch 704/1000\n",
      "12/12 [==============================] - 0s 718us/step - loss: 0.0061 - val_loss: 0.0083\n",
      "Epoch 705/1000\n",
      "12/12 [==============================] - 0s 757us/step - loss: 0.0060 - val_loss: 0.0084\n",
      "Epoch 706/1000\n",
      "12/12 [==============================] - 0s 750us/step - loss: 0.0060 - val_loss: 0.0098\n",
      "Epoch 707/1000\n",
      "12/12 [==============================] - 0s 705us/step - loss: 0.0060 - val_loss: 0.0100\n",
      "Epoch 708/1000\n",
      "12/12 [==============================] - 0s 693us/step - loss: 0.0059 - val_loss: 0.0089\n",
      "Epoch 709/1000\n",
      "12/12 [==============================] - 0s 663us/step - loss: 0.0059 - val_loss: 0.0087\n",
      "Epoch 710/1000\n",
      "12/12 [==============================] - 0s 710us/step - loss: 0.0059 - val_loss: 0.0085\n",
      "Epoch 711/1000\n",
      "12/12 [==============================] - 0s 768us/step - loss: 0.0058 - val_loss: 0.0077\n",
      "Epoch 712/1000\n",
      "12/12 [==============================] - 0s 820us/step - loss: 0.0059 - val_loss: 0.0087\n",
      "Epoch 713/1000\n",
      "12/12 [==============================] - 0s 687us/step - loss: 0.0059 - val_loss: 0.0078\n",
      "Epoch 714/1000\n",
      "12/12 [==============================] - 0s 684us/step - loss: 0.0058 - val_loss: 0.0083\n",
      "Epoch 715/1000\n",
      "12/12 [==============================] - 0s 661us/step - loss: 0.0058 - val_loss: 0.0098\n",
      "Epoch 716/1000\n",
      "12/12 [==============================] - 0s 653us/step - loss: 0.0058 - val_loss: 0.0093\n",
      "Epoch 717/1000\n",
      "12/12 [==============================] - 0s 684us/step - loss: 0.0057 - val_loss: 0.0087\n",
      "Epoch 718/1000\n",
      "12/12 [==============================] - 0s 745us/step - loss: 0.0057 - val_loss: 0.0090\n",
      "Epoch 719/1000\n",
      "12/12 [==============================] - 0s 681us/step - loss: 0.0057 - val_loss: 0.0080\n",
      "Epoch 720/1000\n",
      "12/12 [==============================] - 0s 694us/step - loss: 0.0057 - val_loss: 0.0069\n",
      "Epoch 721/1000\n",
      "12/12 [==============================] - 0s 680us/step - loss: 0.0057 - val_loss: 0.0072\n",
      "Epoch 722/1000\n",
      "12/12 [==============================] - 0s 686us/step - loss: 0.0056 - val_loss: 0.0075\n",
      "Epoch 723/1000\n",
      "12/12 [==============================] - 0s 676us/step - loss: 0.0056 - val_loss: 0.0086\n",
      "Epoch 724/1000\n",
      "12/12 [==============================] - 0s 749us/step - loss: 0.0056 - val_loss: 0.0092\n",
      "Epoch 725/1000\n",
      "12/12 [==============================] - 0s 789us/step - loss: 0.0057 - val_loss: 0.0097\n",
      "Epoch 726/1000\n",
      "12/12 [==============================] - 0s 752us/step - loss: 0.0057 - val_loss: 0.0071\n",
      "Epoch 727/1000\n",
      "12/12 [==============================] - 0s 755us/step - loss: 0.0055 - val_loss: 0.0064\n",
      "Epoch 728/1000\n",
      "12/12 [==============================] - 0s 832us/step - loss: 0.0056 - val_loss: 0.0073\n",
      "Epoch 729/1000\n",
      "12/12 [==============================] - 0s 846us/step - loss: 0.0055 - val_loss: 0.0072\n",
      "Epoch 730/1000\n",
      "12/12 [==============================] - 0s 704us/step - loss: 0.0055 - val_loss: 0.0079\n",
      "Epoch 731/1000\n",
      "12/12 [==============================] - 0s 695us/step - loss: 0.0055 - val_loss: 0.0082\n",
      "Epoch 732/1000\n",
      "12/12 [==============================] - 0s 740us/step - loss: 0.0055 - val_loss: 0.0083\n",
      "Epoch 733/1000\n",
      "12/12 [==============================] - 0s 640us/step - loss: 0.0054 - val_loss: 0.0076\n",
      "Epoch 734/1000\n",
      "12/12 [==============================] - 0s 677us/step - loss: 0.0054 - val_loss: 0.0069\n",
      "Epoch 735/1000\n",
      "12/12 [==============================] - 0s 632us/step - loss: 0.0054 - val_loss: 0.0066\n",
      "Epoch 736/1000\n",
      "12/12 [==============================] - 0s 684us/step - loss: 0.0054 - val_loss: 0.0065\n",
      "Epoch 737/1000\n",
      "12/12 [==============================] - 0s 667us/step - loss: 0.0054 - val_loss: 0.0073\n",
      "Epoch 738/1000\n",
      "12/12 [==============================] - 0s 664us/step - loss: 0.0053 - val_loss: 0.0074\n",
      "Epoch 739/1000\n",
      "12/12 [==============================] - 0s 663us/step - loss: 0.0053 - val_loss: 0.0076\n",
      "Epoch 740/1000\n",
      "12/12 [==============================] - 0s 690us/step - loss: 0.0053 - val_loss: 0.0075\n",
      "Epoch 741/1000\n",
      "12/12 [==============================] - 0s 664us/step - loss: 0.0053 - val_loss: 0.0076\n",
      "Epoch 742/1000\n",
      "12/12 [==============================] - 0s 705us/step - loss: 0.0053 - val_loss: 0.0075\n",
      "Epoch 743/1000\n",
      "12/12 [==============================] - 0s 653us/step - loss: 0.0053 - val_loss: 0.0058\n",
      "Epoch 744/1000\n",
      "12/12 [==============================] - 0s 683us/step - loss: 0.0052 - val_loss: 0.0060\n",
      "Epoch 745/1000\n",
      "12/12 [==============================] - 0s 702us/step - loss: 0.0052 - val_loss: 0.0069\n",
      "Epoch 746/1000\n",
      "12/12 [==============================] - 0s 639us/step - loss: 0.0052 - val_loss: 0.0076\n",
      "Epoch 747/1000\n",
      "12/12 [==============================] - 0s 719us/step - loss: 0.0052 - val_loss: 0.0074\n",
      "Epoch 748/1000\n",
      "12/12 [==============================] - 0s 627us/step - loss: 0.0052 - val_loss: 0.0069\n",
      "Epoch 749/1000\n",
      "12/12 [==============================] - 0s 654us/step - loss: 0.0052 - val_loss: 0.0067\n",
      "Epoch 750/1000\n",
      "12/12 [==============================] - 0s 773us/step - loss: 0.0052 - val_loss: 0.0057\n",
      "Epoch 751/1000\n",
      "12/12 [==============================] - 0s 627us/step - loss: 0.0052 - val_loss: 0.0066\n",
      "Epoch 752/1000\n",
      "12/12 [==============================] - 0s 690us/step - loss: 0.0051 - val_loss: 0.0065\n",
      "Epoch 753/1000\n",
      "12/12 [==============================] - 0s 669us/step - loss: 0.0051 - val_loss: 0.0069\n",
      "Epoch 754/1000\n",
      "12/12 [==============================] - 0s 682us/step - loss: 0.0051 - val_loss: 0.0077\n",
      "Epoch 755/1000\n",
      "12/12 [==============================] - 0s 711us/step - loss: 0.0050 - val_loss: 0.0071\n",
      "Epoch 756/1000\n",
      "12/12 [==============================] - 0s 791us/step - loss: 0.0051 - val_loss: 0.0059\n",
      "Epoch 757/1000\n",
      "12/12 [==============================] - 0s 894us/step - loss: 0.0050 - val_loss: 0.0053\n",
      "Epoch 758/1000\n",
      "12/12 [==============================] - 0s 772us/step - loss: 0.0050 - val_loss: 0.0053\n",
      "Epoch 759/1000\n",
      "12/12 [==============================] - 0s 678us/step - loss: 0.0050 - val_loss: 0.0063\n",
      "Epoch 760/1000\n",
      "12/12 [==============================] - 0s 684us/step - loss: 0.0050 - val_loss: 0.0071\n",
      "Epoch 761/1000\n",
      "12/12 [==============================] - 0s 732us/step - loss: 0.0050 - val_loss: 0.0068\n",
      "Epoch 762/1000\n",
      "12/12 [==============================] - 0s 724us/step - loss: 0.0050 - val_loss: 0.0068\n",
      "Epoch 763/1000\n",
      "12/12 [==============================] - 0s 808us/step - loss: 0.0049 - val_loss: 0.0061\n",
      "Epoch 764/1000\n",
      "12/12 [==============================] - 0s 659us/step - loss: 0.0049 - val_loss: 0.0052\n",
      "Epoch 765/1000\n",
      "12/12 [==============================] - 0s 654us/step - loss: 0.0049 - val_loss: 0.0057\n",
      "Epoch 766/1000\n",
      "12/12 [==============================] - 0s 643us/step - loss: 0.0049 - val_loss: 0.0057\n",
      "Epoch 767/1000\n",
      "12/12 [==============================] - 0s 1ms/step - loss: 0.0049 - val_loss: 0.0055\n",
      "Epoch 768/1000\n",
      "12/12 [==============================] - 0s 809us/step - loss: 0.0049 - val_loss: 0.0054\n",
      "Epoch 769/1000\n",
      "12/12 [==============================] - 0s 718us/step - loss: 0.0048 - val_loss: 0.0061\n",
      "Epoch 770/1000\n",
      "12/12 [==============================] - 0s 808us/step - loss: 0.0048 - val_loss: 0.0069\n",
      "Epoch 771/1000\n",
      "12/12 [==============================] - 0s 666us/step - loss: 0.0048 - val_loss: 0.0067\n",
      "Epoch 772/1000\n",
      "12/12 [==============================] - 0s 631us/step - loss: 0.0048 - val_loss: 0.0062\n",
      "Epoch 773/1000\n",
      "12/12 [==============================] - 0s 639us/step - loss: 0.0048 - val_loss: 0.0062\n",
      "Epoch 774/1000\n",
      "12/12 [==============================] - 0s 655us/step - loss: 0.0048 - val_loss: 0.0059\n",
      "Epoch 775/1000\n",
      "12/12 [==============================] - 0s 646us/step - loss: 0.0048 - val_loss: 0.0045\n",
      "Epoch 776/1000\n",
      "12/12 [==============================] - 0s 591us/step - loss: 0.0048 - val_loss: 0.0044\n",
      "Epoch 777/1000\n",
      "12/12 [==============================] - 0s 593us/step - loss: 0.0047 - val_loss: 0.0060\n",
      "Epoch 778/1000\n",
      "12/12 [==============================] - 0s 616us/step - loss: 0.0047 - val_loss: 0.0067\n",
      "Epoch 779/1000\n",
      "12/12 [==============================] - 0s 623us/step - loss: 0.0047 - val_loss: 0.0069\n",
      "Epoch 780/1000\n",
      "12/12 [==============================] - 0s 615us/step - loss: 0.0047 - val_loss: 0.0057\n",
      "Epoch 781/1000\n",
      "12/12 [==============================] - 0s 635us/step - loss: 0.0047 - val_loss: 0.0058\n",
      "Epoch 782/1000\n",
      "12/12 [==============================] - 0s 593us/step - loss: 0.0047 - val_loss: 0.0051\n",
      "Epoch 783/1000\n",
      "12/12 [==============================] - 0s 604us/step - loss: 0.0046 - val_loss: 0.0046\n",
      "Epoch 784/1000\n",
      "12/12 [==============================] - 0s 796us/step - loss: 0.0046 - val_loss: 0.0053\n",
      "Epoch 785/1000\n",
      "12/12 [==============================] - 0s 725us/step - loss: 0.0046 - val_loss: 0.0057\n",
      "Epoch 786/1000\n",
      "12/12 [==============================] - 0s 713us/step - loss: 0.0046 - val_loss: 0.0064\n",
      "Epoch 787/1000\n",
      "12/12 [==============================] - 0s 678us/step - loss: 0.0046 - val_loss: 0.0058\n",
      "Epoch 788/1000\n",
      "12/12 [==============================] - 0s 633us/step - loss: 0.0046 - val_loss: 0.0059\n",
      "Epoch 789/1000\n",
      "12/12 [==============================] - 0s 586us/step - loss: 0.0046 - val_loss: 0.0054\n",
      "Epoch 790/1000\n",
      "12/12 [==============================] - 0s 665us/step - loss: 0.0046 - val_loss: 0.0043\n",
      "Epoch 791/1000\n",
      "12/12 [==============================] - 0s 577us/step - loss: 0.0046 - val_loss: 0.0046\n",
      "Epoch 792/1000\n",
      "12/12 [==============================] - 0s 614us/step - loss: 0.0045 - val_loss: 0.0057\n",
      "Epoch 793/1000\n",
      "12/12 [==============================] - 0s 598us/step - loss: 0.0045 - val_loss: 0.0058\n",
      "Epoch 794/1000\n",
      "12/12 [==============================] - 0s 644us/step - loss: 0.0045 - val_loss: 0.0053\n",
      "Epoch 795/1000\n",
      "12/12 [==============================] - 0s 589us/step - loss: 0.0045 - val_loss: 0.0056\n",
      "Epoch 796/1000\n",
      "12/12 [==============================] - 0s 624us/step - loss: 0.0045 - val_loss: 0.0060\n",
      "Epoch 797/1000\n",
      "12/12 [==============================] - 0s 593us/step - loss: 0.0045 - val_loss: 0.0057\n",
      "Epoch 798/1000\n",
      "12/12 [==============================] - 0s 631us/step - loss: 0.0044 - val_loss: 0.0050\n",
      "Epoch 799/1000\n",
      "12/12 [==============================] - 0s 612us/step - loss: 0.0044 - val_loss: 0.0046\n",
      "Epoch 800/1000\n",
      "12/12 [==============================] - 0s 648us/step - loss: 0.0044 - val_loss: 0.0057\n",
      "Epoch 801/1000\n",
      "12/12 [==============================] - 0s 653us/step - loss: 0.0044 - val_loss: 0.0054\n",
      "Epoch 802/1000\n",
      "12/12 [==============================] - ETA: 0s - loss: 0.001 - 0s 634us/step - loss: 0.0044 - val_loss: 0.0059\n",
      "Epoch 803/1000\n",
      "12/12 [==============================] - 0s 935us/step - loss: 0.0044 - val_loss: 0.0050\n",
      "Epoch 804/1000\n",
      "12/12 [==============================] - 0s 792us/step - loss: 0.0044 - val_loss: 0.0046\n",
      "Epoch 805/1000\n",
      "12/12 [==============================] - 0s 779us/step - loss: 0.0044 - val_loss: 0.0043\n",
      "Epoch 806/1000\n",
      "12/12 [==============================] - 0s 660us/step - loss: 0.0043 - val_loss: 0.0052\n",
      "Epoch 807/1000\n",
      "12/12 [==============================] - 0s 681us/step - loss: 0.0043 - val_loss: 0.0055\n",
      "Epoch 808/1000\n",
      "12/12 [==============================] - 0s 659us/step - loss: 0.0043 - val_loss: 0.0052\n",
      "Epoch 809/1000\n",
      "12/12 [==============================] - 0s 657us/step - loss: 0.0043 - val_loss: 0.0061\n",
      "Epoch 810/1000\n",
      "12/12 [==============================] - 0s 699us/step - loss: 0.0043 - val_loss: 0.0056\n",
      "Epoch 811/1000\n",
      "12/12 [==============================] - 0s 724us/step - loss: 0.0043 - val_loss: 0.0043\n",
      "Epoch 812/1000\n",
      "12/12 [==============================] - 0s 704us/step - loss: 0.0043 - val_loss: 0.0045\n",
      "Epoch 813/1000\n",
      "12/12 [==============================] - 0s 684us/step - loss: 0.0043 - val_loss: 0.0048\n",
      "Epoch 814/1000\n",
      "12/12 [==============================] - 0s 783us/step - loss: 0.0043 - val_loss: 0.0059\n",
      "Epoch 815/1000\n",
      "12/12 [==============================] - 0s 747us/step - loss: 0.0042 - val_loss: 0.0049\n",
      "Epoch 816/1000\n",
      "12/12 [==============================] - 0s 747us/step - loss: 0.0042 - val_loss: 0.0044\n",
      "Epoch 817/1000\n",
      "12/12 [==============================] - 0s 739us/step - loss: 0.0042 - val_loss: 0.0054\n",
      "Epoch 818/1000\n",
      "12/12 [==============================] - 0s 698us/step - loss: 0.0042 - val_loss: 0.0062\n",
      "Epoch 819/1000\n",
      "12/12 [==============================] - 0s 728us/step - loss: 0.0042 - val_loss: 0.0044\n",
      "Epoch 820/1000\n",
      "12/12 [==============================] - 0s 612us/step - loss: 0.0042 - val_loss: 0.0040\n",
      "Epoch 821/1000\n",
      "12/12 [==============================] - 0s 667us/step - loss: 0.0042 - val_loss: 0.0039\n",
      "Epoch 822/1000\n",
      "12/12 [==============================] - 0s 676us/step - loss: 0.0042 - val_loss: 0.0057\n",
      "Epoch 823/1000\n",
      "12/12 [==============================] - 0s 649us/step - loss: 0.0041 - val_loss: 0.0055\n",
      "Epoch 824/1000\n",
      "12/12 [==============================] - 0s 696us/step - loss: 0.0041 - val_loss: 0.0050\n",
      "Epoch 825/1000\n",
      "12/12 [==============================] - 0s 798us/step - loss: 0.0041 - val_loss: 0.0045\n",
      "Epoch 826/1000\n",
      "12/12 [==============================] - 0s 715us/step - loss: 0.0041 - val_loss: 0.0039\n",
      "Epoch 827/1000\n",
      "12/12 [==============================] - 0s 668us/step - loss: 0.0042 - val_loss: 0.0052\n",
      "Epoch 828/1000\n",
      "12/12 [==============================] - 0s 681us/step - loss: 0.0041 - val_loss: 0.0055\n",
      "Epoch 829/1000\n",
      "12/12 [==============================] - 0s 675us/step - loss: 0.0041 - val_loss: 0.0044\n",
      "Epoch 830/1000\n",
      "12/12 [==============================] - 0s 647us/step - loss: 0.0041 - val_loss: 0.0048\n",
      "Epoch 831/1000\n",
      "12/12 [==============================] - 0s 653us/step - loss: 0.0040 - val_loss: 0.0052\n",
      "Epoch 832/1000\n",
      "12/12 [==============================] - 0s 707us/step - loss: 0.0041 - val_loss: 0.0049\n",
      "Epoch 833/1000\n",
      "12/12 [==============================] - 0s 692us/step - loss: 0.0040 - val_loss: 0.0048\n",
      "Epoch 834/1000\n",
      "12/12 [==============================] - 0s 940us/step - loss: 0.0040 - val_loss: 0.0050\n",
      "Epoch 835/1000\n",
      "12/12 [==============================] - 0s 1ms/step - loss: 0.0041 - val_loss: 0.0040\n",
      "Epoch 836/1000\n",
      "12/12 [==============================] - 0s 900us/step - loss: 0.0040 - val_loss: 0.0050\n",
      "Epoch 837/1000\n",
      "12/12 [==============================] - 0s 749us/step - loss: 0.0040 - val_loss: 0.0049\n",
      "Epoch 838/1000\n",
      "12/12 [==============================] - 0s 712us/step - loss: 0.0040 - val_loss: 0.0050\n",
      "Epoch 839/1000\n",
      "12/12 [==============================] - 0s 676us/step - loss: 0.0040 - val_loss: 0.0053\n",
      "Epoch 840/1000\n",
      "12/12 [==============================] - 0s 646us/step - loss: 0.0040 - val_loss: 0.0043\n",
      "Epoch 841/1000\n",
      "12/12 [==============================] - 0s 613us/step - loss: 0.0039 - val_loss: 0.0047\n",
      "Epoch 842/1000\n",
      "12/12 [==============================] - 0s 578us/step - loss: 0.0040 - val_loss: 0.0045\n",
      "Epoch 843/1000\n",
      "12/12 [==============================] - 0s 605us/step - loss: 0.0039 - val_loss: 0.0045\n",
      "Epoch 844/1000\n",
      "12/12 [==============================] - 0s 582us/step - loss: 0.0039 - val_loss: 0.0044\n"
     ]
    }
   ],
   "source": [
    "model = Sequential()\n",
    "model.add(LSTM(50, activation='relu', input_shape=(1, 1)))\n",
    "model.add(Dense(2))\n",
    "model.compile(optimizer='adam', loss='mse')\n",
    "model.fit(X, Y, epochs=1000, validation_split=0.2, batch_size=3)"
   ]
  },
  {
   "cell_type": "code",
   "execution_count": 34,
   "metadata": {},
   "outputs": [
    {
     "name": "stdout",
     "output_type": "stream",
     "text": [
      "[[10.968629 12.037433]]\n"
     ]
    }
   ],
   "source": [
    "test_input = array([10])\n",
    "test_input = test_input.reshape((1, 1, 1))\n",
    "test_output = model.predict(test_input, verbose=0)\n",
    "print(test_output)"
   ]
  },
  {
   "cell_type": "code",
   "execution_count": null,
   "metadata": {},
   "outputs": [],
   "source": []
  },
  {
   "cell_type": "code",
   "execution_count": 44,
   "metadata": {},
   "outputs": [
    {
     "name": "stdout",
     "output_type": "stream",
     "text": [
      "[[10.992625 11.984997]]\n"
     ]
    }
   ],
   "source": [
    "model = Sequential()\n",
    "model.add(LSTM(50, activation='relu', return_sequences=True, input_shape=(1, 1)))\n",
    "model.add(LSTM(50, activation='relu'))\n",
    "model.add(Dense(2))\n",
    "model.compile(optimizer='adam', loss='mse', metrics=['mse'])\n",
    "history = model.fit(X, Y, epochs=1000, validation_split=0.2, verbose=0, batch_size=3)\n",
    "\n",
    "test_output = model.predict(test_input, verbose=0)\n",
    "print(test_output)"
   ]
  },
  {
   "cell_type": "code",
   "execution_count": 47,
   "metadata": {},
   "outputs": [],
   "source": [
    "def show_history(history):\n",
    "    plt.plot(history.history['mse'])\n",
    "    plt.plot(history.history['val_mse'])\n",
    "    plt.title('model accuracy')\n",
    "    plt.ylabel('accuracy')\n",
    "    plt.xlabel('epoch')\n",
    "    plt.legend(['train', 'test'], loc='upper left')\n",
    "    plt.show()\n",
    "    # summarize history for loss\n",
    "    plt.plot(history.history['loss'])\n",
    "    plt.plot(history.history['val_loss'])\n",
    "    plt.title('model loss')\n",
    "    plt.ylabel('loss')\n",
    "    plt.xlabel('epoch')\n",
    "    plt.legend(['train', 'test'], loc='upper left')\n",
    "    plt.show()"
   ]
  },
  {
   "cell_type": "code",
   "execution_count": 48,
   "metadata": {},
   "outputs": [
    {
     "data": {
      "image/png": "[encoded data removed]",
      "text/plain": [
       "<Figure size 576x396 with 1 Axes>"
      ]
     },
     "metadata": {},
     "output_type": "display_data"
    },
    {
     "data": {
      "image/png": "[encoded data removed]",
      "text/plain": [
       "<Figure size 576x396 with 1 Axes>"
      ]
     },
     "metadata": {},
     "output_type": "display_data"
    }
   ],
   "source": [
    "show_history(history)"
   ]
  },
  {
   "cell_type": "code",
   "execution_count": 49,
   "metadata": {},
   "outputs": [
    {
     "name": "stdout",
     "output_type": "stream",
     "text": [
      "[[11.022211 12.012504]]\n"
     ]
    }
   ],
   "source": [
    "from keras.layers import Bidirectional\n",
    "\n",
    "model = Sequential()\n",
    "model.add(Bidirectional(LSTM(50, activation='relu'), input_shape=(1, 1)))\n",
    "model.add(Dense(2))\n",
    "model.compile(optimizer='adam', loss='mse', metrics=['mse'])\n",
    "\n",
    "history = model.fit(X, Y, epochs=1000, validation_split=0.2, verbose=0, batch_size=3)\n",
    "test_output = model.predict(test_input, verbose=0)\n",
    "print(test_output)"
   ]
  },
  {
   "cell_type": "code",
   "execution_count": 50,
   "metadata": {},
   "outputs": [
    {
     "data": {
      "image/png": "[encoded data removed]",
      "text/plain": [
       "<Figure size 576x396 with 1 Axes>"
      ]
     },
     "metadata": {},
     "output_type": "display_data"
    },
    {
     "data": {
      "image/png": "[encoded data removed]",
      "text/plain": [
       "<Figure size 576x396 with 1 Axes>"
      ]
     },
     "metadata": {},
     "output_type": "display_data"
    }
   ],
   "source": [
    "show_history(history)"
   ]
  },
  {
   "cell_type": "code",
   "execution_count": null,
   "metadata": {},
   "outputs": [],
   "source": []
  },
  {
   "cell_type": "code",
   "execution_count": null,
   "metadata": {},
   "outputs": [],
   "source": []
  },
  {
   "cell_type": "code",
   "execution_count": 52,
   "metadata": {},
   "outputs": [],
   "source": [
    "X = []\n",
    "Y = []\n",
    "X = [x for x in range(5, 301, 5)]\n",
    "Y = [y for y in range(20, 316, 5)]"
   ]
  },
  {
   "cell_type": "code",
   "execution_count": 53,
   "metadata": {},
   "outputs": [
    {
     "name": "stdout",
     "output_type": "stream",
     "text": [
      "[5, 10, 15, 20, 25, 30, 35, 40, 45, 50, 55, 60, 65, 70, 75, 80, 85, 90, 95, 100, 105, 110, 115, 120, 125, 130, 135, 140, 145, 150, 155, 160, 165, 170, 175, 180, 185, 190, 195, 200, 205, 210, 215, 220, 225, 230, 235, 240, 245, 250, 255, 260, 265, 270, 275, 280, 285, 290, 295, 300]\n",
      "[20, 25, 30, 35, 40, 45, 50, 55, 60, 65, 70, 75, 80, 85, 90, 95, 100, 105, 110, 115, 120, 125, 130, 135, 140, 145, 150, 155, 160, 165, 170, 175, 180, 185, 190, 195, 200, 205, 210, 215, 220, 225, 230, 235, 240, 245, 250, 255, 260, 265, 270, 275, 280, 285, 290, 295, 300, 305, 310, 315]\n"
     ]
    }
   ],
   "source": [
    "print(X)\n",
    "print(Y)"
   ]
  },
  {
   "cell_type": "code",
   "execution_count": 54,
   "metadata": {},
   "outputs": [],
   "source": [
    "X = np.array(X).reshape(20, 3, 1)\n",
    "Y = np.array(Y).reshape(20, 3, 1)"
   ]
  },
  {
   "cell_type": "code",
   "execution_count": 55,
   "metadata": {
    "collapsed": true,
    "jupyter": {
     "outputs_hidden": true
    }
   },
   "outputs": [
    {
     "name": "stdout",
     "output_type": "stream",
     "text": [
      "[[[  5]\n",
      "  [ 10]\n",
      "  [ 15]]\n",
      "\n",
      " [[ 20]\n",
      "  [ 25]\n",
      "  [ 30]]\n",
      "\n",
      " [[ 35]\n",
      "  [ 40]\n",
      "  [ 45]]\n",
      "\n",
      " [[ 50]\n",
      "  [ 55]\n",
      "  [ 60]]\n",
      "\n",
      " [[ 65]\n",
      "  [ 70]\n",
      "  [ 75]]\n",
      "\n",
      " [[ 80]\n",
      "  [ 85]\n",
      "  [ 90]]\n",
      "\n",
      " [[ 95]\n",
      "  [100]\n",
      "  [105]]\n",
      "\n",
      " [[110]\n",
      "  [115]\n",
      "  [120]]\n",
      "\n",
      " [[125]\n",
      "  [130]\n",
      "  [135]]\n",
      "\n",
      " [[140]\n",
      "  [145]\n",
      "  [150]]\n",
      "\n",
      " [[155]\n",
      "  [160]\n",
      "  [165]]\n",
      "\n",
      " [[170]\n",
      "  [175]\n",
      "  [180]]\n",
      "\n",
      " [[185]\n",
      "  [190]\n",
      "  [195]]\n",
      "\n",
      " [[200]\n",
      "  [205]\n",
      "  [210]]\n",
      "\n",
      " [[215]\n",
      "  [220]\n",
      "  [225]]\n",
      "\n",
      " [[230]\n",
      "  [235]\n",
      "  [240]]\n",
      "\n",
      " [[245]\n",
      "  [250]\n",
      "  [255]]\n",
      "\n",
      " [[260]\n",
      "  [265]\n",
      "  [270]]\n",
      "\n",
      " [[275]\n",
      "  [280]\n",
      "  [285]]\n",
      "\n",
      " [[290]\n",
      "  [295]\n",
      "  [300]]]\n",
      "[[[ 20]\n",
      "  [ 25]\n",
      "  [ 30]]\n",
      "\n",
      " [[ 35]\n",
      "  [ 40]\n",
      "  [ 45]]\n",
      "\n",
      " [[ 50]\n",
      "  [ 55]\n",
      "  [ 60]]\n",
      "\n",
      " [[ 65]\n",
      "  [ 70]\n",
      "  [ 75]]\n",
      "\n",
      " [[ 80]\n",
      "  [ 85]\n",
      "  [ 90]]\n",
      "\n",
      " [[ 95]\n",
      "  [100]\n",
      "  [105]]\n",
      "\n",
      " [[110]\n",
      "  [115]\n",
      "  [120]]\n",
      "\n",
      " [[125]\n",
      "  [130]\n",
      "  [135]]\n",
      "\n",
      " [[140]\n",
      "  [145]\n",
      "  [150]]\n",
      "\n",
      " [[155]\n",
      "  [160]\n",
      "  [165]]\n",
      "\n",
      " [[170]\n",
      "  [175]\n",
      "  [180]]\n",
      "\n",
      " [[185]\n",
      "  [190]\n",
      "  [195]]\n",
      "\n",
      " [[200]\n",
      "  [205]\n",
      "  [210]]\n",
      "\n",
      " [[215]\n",
      "  [220]\n",
      "  [225]]\n",
      "\n",
      " [[230]\n",
      "  [235]\n",
      "  [240]]\n",
      "\n",
      " [[245]\n",
      "  [250]\n",
      "  [255]]\n",
      "\n",
      " [[260]\n",
      "  [265]\n",
      "  [270]]\n",
      "\n",
      " [[275]\n",
      "  [280]\n",
      "  [285]]\n",
      "\n",
      " [[290]\n",
      "  [295]\n",
      "  [300]]\n",
      "\n",
      " [[305]\n",
      "  [310]\n",
      "  [315]]]\n"
     ]
    }
   ],
   "source": [
    "print(X)\n",
    "print(Y)"
   ]
  },
  {
   "cell_type": "code",
   "execution_count": 57,
   "metadata": {},
   "outputs": [
    {
     "name": "stdout",
     "output_type": "stream",
     "text": [
      "Model: \"sequential_8\"\n",
      "_________________________________________________________________\n",
      "Layer (type)                 Output Shape              Param #   \n",
      "=================================================================\n",
      "lstm_13 (LSTM)               (None, 100)               40800     \n",
      "_________________________________________________________________\n",
      "repeat_vector_2 (RepeatVecto (None, 3, 100)            0         \n",
      "_________________________________________________________________\n",
      "lstm_14 (LSTM)               (None, 3, 100)            80400     \n",
      "_________________________________________________________________\n",
      "time_distributed_2 (TimeDist (None, 3, 1)              101       \n",
      "=================================================================\n",
      "Total params: 121,301\n",
      "Trainable params: 121,301\n",
      "Non-trainable params: 0\n",
      "_________________________________________________________________\n",
      "None\n"
     ]
    }
   ],
   "source": [
    "from keras.layers import RepeatVector\n",
    "from keras.layers import TimeDistributed\n",
    "\n",
    "model = Sequential()\n",
    "\n",
    "# encoder layer\n",
    "model.add(LSTM(100, activation='relu', input_shape=(3, 1)))\n",
    "\n",
    "# repeat vector\n",
    "model.add(RepeatVector(3))\n",
    "\n",
    "# decoder layer\n",
    "model.add(LSTM(100, activation='relu', return_sequences=True))\n",
    "\n",
    "model.add(TimeDistributed(Dense(1)))\n",
    "model.compile(optimizer='adam', loss='mse', metrics=['mse'])\n",
    "\n",
    "print(model.summary())"
   ]
  },
  {
   "cell_type": "code",
   "execution_count": 58,
   "metadata": {},
   "outputs": [
    {
     "name": "stdout",
     "output_type": "stream",
     "text": [
      "CPU times: user 1min 8s, sys: 14 s, total: 1min 22s\n",
      "Wall time: 35.4 s\n"
     ]
    }
   ],
   "source": [
    "%%time\n",
    "\n",
    "history = model.fit(X, Y, epochs=1000, validation_split=0.2, verbose=0, batch_size=3)"
   ]
  },
  {
   "cell_type": "code",
   "execution_count": 59,
   "metadata": {},
   "outputs": [
    {
     "data": {
      "image/png": "[encoded data removed]",
      "text/plain": [
       "<Figure size 576x396 with 1 Axes>"
      ]
     },
     "metadata": {},
     "output_type": "display_data"
    },
    {
     "data": {
      "image/png": "[encoded data removed]",
      "text/plain": [
       "<Figure size 576x396 with 1 Axes>"
      ]
     },
     "metadata": {},
     "output_type": "display_data"
    }
   ],
   "source": [
    "show_history(history)"
   ]
  },
  {
   "cell_type": "code",
   "execution_count": 60,
   "metadata": {},
   "outputs": [
    {
     "name": "stdout",
     "output_type": "stream",
     "text": [
      "[[[316.11832]\n",
      "  [322.61804]\n",
      "  [328.87027]]]\n"
     ]
    }
   ],
   "source": [
    "test_input = array([300, 305, 310])\n",
    "test_input = test_input.reshape((1, 3, 1))\n",
    "test_output = model.predict(test_input, verbose=0)\n",
    "print(test_output)"
   ]
  },
  {
   "cell_type": "code",
   "execution_count": 63,
   "metadata": {},
   "outputs": [],
   "source": [
    "from keras.layers import RepeatVector\n",
    "from keras.layers import TimeDistributed\n",
    "\n",
    "model = Sequential()\n",
    "model.add(Bidirectional(LSTM(100, activation='relu', input_shape=(3, 1))))\n",
    "model.add(RepeatVector(3))\n",
    "model.add(Bidirectional(LSTM(100, activation='relu', return_sequences=True)))\n",
    "model.add(TimeDistributed(Dense(1)))\n",
    "model.compile(optimizer='adam', loss='mse', metrics=['mse'])"
   ]
  },
  {
   "cell_type": "code",
   "execution_count": 66,
   "metadata": {},
   "outputs": [
    {
     "name": "stdout",
     "output_type": "stream",
     "text": [
      "CPU times: user 3min 19s, sys: 56.3 s, total: 4min 15s\n",
      "Wall time: 1min 22s\n"
     ]
    }
   ],
   "source": [
    "%%time\n",
    "\n",
    "history = model.fit(X, Y, epochs=1000, validation_split=0.2, verbose=0, batch_size=3)"
   ]
  },
  {
   "cell_type": "code",
   "execution_count": 69,
   "metadata": {},
   "outputs": [
    {
     "name": "stdout",
     "output_type": "stream",
     "text": [
      "Model: \"sequential_11\"\n",
      "_________________________________________________________________\n",
      "Layer (type)                 Output Shape              Param #   \n",
      "=================================================================\n",
      "bidirectional_6 (Bidirection (None, 200)               81600     \n",
      "_________________________________________________________________\n",
      "repeat_vector_5 (RepeatVecto (None, 3, 200)            0         \n",
      "_________________________________________________________________\n",
      "bidirectional_7 (Bidirection (None, 3, 200)            240800    \n",
      "_________________________________________________________________\n",
      "time_distributed_5 (TimeDist (None, 3, 1)              201       \n",
      "=================================================================\n",
      "Total params: 322,601\n",
      "Trainable params: 322,601\n",
      "Non-trainable params: 0\n",
      "_________________________________________________________________\n",
      "None\n"
     ]
    }
   ],
   "source": [
    "print(model.summary())"
   ]
  },
  {
   "cell_type": "code",
   "execution_count": 67,
   "metadata": {},
   "outputs": [
    {
     "data": {
      "image/png": "[encoded data removed]",
      "text/plain": [
       "<Figure size 576x396 with 1 Axes>"
      ]
     },
     "metadata": {},
     "output_type": "display_data"
    },
    {
     "data": {
      "image/png": "[encoded data removed]",
      "text/plain": [
       "<Figure size 576x396 with 1 Axes>"
      ]
     },
     "metadata": {},
     "output_type": "display_data"
    }
   ],
   "source": [
    "show_history(history)"
   ]
  },
  {
   "cell_type": "code",
   "execution_count": 68,
   "metadata": {},
   "outputs": [
    {
     "name": "stdout",
     "output_type": "stream",
     "text": [
      "[[[315.63058]\n",
      "  [321.0173 ]\n",
      "  [326.53473]]]\n"
     ]
    }
   ],
   "source": [
    "test_output = model.predict(test_input, verbose=0)\n",
    "print(test_output)"
   ]
  },
  {
   "cell_type": "code",
   "execution_count": null,
   "metadata": {},
   "outputs": [],
   "source": []
  },
  {
   "cell_type": "code",
   "execution_count": 167,
   "metadata": {},
   "outputs": [
    {
     "data": {
      "text/plain": [
       "((4000, 1, 1100), (4000, 1, 1100), (2000, 1, 1100))"
      ]
     },
     "execution_count": 167,
     "metadata": {},
     "output_type": "execute_result"
    }
   ],
   "source": [
    "train.shape, target.shape, test.shape"
   ]
  },
  {
   "cell_type": "code",
   "execution_count": 109,
   "metadata": {},
   "outputs": [
    {
     "data": {
      "text/plain": [
       "array([122.26   , 112.87276, 120.12551, ..., 157.72449, 159.12724,\n",
       "       137.45   ], dtype=float32)"
      ]
     },
     "execution_count": 109,
     "metadata": {},
     "output_type": "execute_result"
    }
   ],
   "source": [
    "train[1][0]"
   ]
  },
  {
   "cell_type": "code",
   "execution_count": 77,
   "metadata": {},
   "outputs": [
    {
     "data": {
      "text/plain": [
       "array([[0., 0., 0., ..., 0., 0., 0.]], dtype=float32)"
      ]
     },
     "execution_count": 77,
     "metadata": {},
     "output_type": "execute_result"
    }
   ],
   "source": [
    "target[0]"
   ]
  },
  {
   "cell_type": "code",
   "execution_count": 116,
   "metadata": {},
   "outputs": [],
   "source": [
    "z = np.array([[[1, 2, 3, 4]],\n",
    "         [[5, 6, 7, 8]],\n",
    "         [[9, 10, 11, 12]]])"
   ]
  },
  {
   "cell_type": "code",
   "execution_count": 117,
   "metadata": {},
   "outputs": [
    {
     "data": {
      "text/plain": [
       "(3, 1, 4)"
      ]
     },
     "execution_count": 117,
     "metadata": {},
     "output_type": "execute_result"
    }
   ],
   "source": [
    "z.shape"
   ]
  },
  {
   "cell_type": "code",
   "execution_count": 118,
   "metadata": {},
   "outputs": [
    {
     "data": {
      "text/plain": [
       "array([ 1,  2,  3,  4,  5,  6,  7,  8,  9, 10, 11, 12])"
      ]
     },
     "execution_count": 118,
     "metadata": {},
     "output_type": "execute_result"
    }
   ],
   "source": [
    "z.reshape(-1)"
   ]
  },
  {
   "cell_type": "code",
   "execution_count": 119,
   "metadata": {},
   "outputs": [
    {
     "data": {
      "text/plain": [
       "array([[ 1],\n",
       "       [ 2],\n",
       "       [ 3],\n",
       "       [ 4],\n",
       "       [ 5],\n",
       "       [ 6],\n",
       "       [ 7],\n",
       "       [ 8],\n",
       "       [ 9],\n",
       "       [10],\n",
       "       [11],\n",
       "       [12]])"
      ]
     },
     "execution_count": 119,
     "metadata": {},
     "output_type": "execute_result"
    }
   ],
   "source": [
    "z.reshape(-1,1)"
   ]
  },
  {
   "cell_type": "code",
   "execution_count": 120,
   "metadata": {},
   "outputs": [
    {
     "data": {
      "text/plain": [
       "array([[ 1,  2,  3,  4],\n",
       "       [ 5,  6,  7,  8],\n",
       "       [ 9, 10, 11, 12]])"
      ]
     },
     "execution_count": 120,
     "metadata": {},
     "output_type": "execute_result"
    }
   ],
   "source": [
    "z.reshape(3,4)"
   ]
  },
  {
   "cell_type": "code",
   "execution_count": 121,
   "metadata": {},
   "outputs": [
    {
     "data": {
      "text/plain": [
       "(4000, 1, 1100)"
      ]
     },
     "execution_count": 121,
     "metadata": {},
     "output_type": "execute_result"
    }
   ],
   "source": [
    "target.shape"
   ]
  },
  {
   "cell_type": "code",
   "execution_count": 161,
   "metadata": {},
   "outputs": [],
   "source": [
    "train_X = train.reshape(train.shape[0], train.shape[2])\n",
    "train_y = target.reshape(target.shape[0], target.shape[2])\n",
    "test_X = test.reshape(test.shape[0], test.shape[2])"
   ]
  },
  {
   "cell_type": "code",
   "execution_count": 162,
   "metadata": {},
   "outputs": [
    {
     "data": {
      "text/plain": [
       "((4000, 1100), (4000, 1100), (2000, 1100))"
      ]
     },
     "execution_count": 162,
     "metadata": {},
     "output_type": "execute_result"
    }
   ],
   "source": [
    "train_X.shape, train_y.shape, test_X.shape"
   ]
  },
  {
   "cell_type": "code",
   "execution_count": 163,
   "metadata": {},
   "outputs": [
    {
     "data": {
      "text/plain": [
       "<matplotlib.collections.PathCollection at 0x1964f2e90>"
      ]
     },
     "execution_count": 163,
     "metadata": {},
     "output_type": "execute_result"
    },
    {
     "data": {
      "image/png": "[encoded data removed]",
      "text/plain": [
       "<Figure size 576x396 with 1 Axes>"
      ]
     },
     "metadata": {},
     "output_type": "display_data"
    }
   ],
   "source": [
    "plt.scatter(list(range(0, 1100)), train_y[0])"
   ]
  },
  {
   "cell_type": "code",
   "execution_count": 151,
   "metadata": {},
   "outputs": [],
   "source": [
    "def to_categorical(sequences, categories):\n",
    "    cat_sequences = []\n",
    "    for s in sequences:\n",
    "        cats = []\n",
    "        for item in s:\n",
    "            tmp = np.zeros(categories)\n",
    "            tmp[int(item)] = 1.0\n",
    "            cats.append(np.zeros(categories))\n",
    "        cat_sequences.append(cats)\n",
    "    return np.array(cat_sequences)"
   ]
  },
  {
   "cell_type": "code",
   "execution_count": 152,
   "metadata": {},
   "outputs": [
    {
     "name": "stdout",
     "output_type": "stream",
     "text": [
      "[[0. 0. 0. 0. 0.]\n",
      " [0. 0. 0. 0. 0.]\n",
      " [0. 0. 0. 0. 0.]\n",
      " ...\n",
      " [0. 0. 0. 0. 0.]\n",
      " [0. 0. 0. 0. 0.]\n",
      " [0. 0. 0. 0. 0.]]\n"
     ]
    }
   ],
   "source": [
    "cat_train_tags_y = to_categorical(train_y, 5)\n",
    "print(cat_train_tags_y[0])"
   ]
  },
  {
   "cell_type": "code",
   "execution_count": 155,
   "metadata": {},
   "outputs": [
    {
     "data": {
      "text/plain": [
       "(4000, 1100, 5)"
      ]
     },
     "execution_count": 155,
     "metadata": {},
     "output_type": "execute_result"
    }
   ],
   "source": [
    "cat_train_tags_y.shape"
   ]
  },
  {
   "cell_type": "code",
   "execution_count": null,
   "metadata": {},
   "outputs": [],
   "source": []
  },
  {
   "cell_type": "code",
   "execution_count": 168,
   "metadata": {},
   "outputs": [],
   "source": [
    "model = Sequential()\n",
    "model.add(Bidirectional(LSTM(256, return_sequences=True)))\n",
    "model.add(TimeDistributed(Dense(1100)))\n",
    "model.add(Activation('softmax'))\n",
    " \n",
    "model.compile(loss='categorical_crossentropy',\n",
    "              optimizer=Adam(0.001),\n",
    "              metrics=['accuracy'])"
   ]
  },
  {
   "cell_type": "code",
   "execution_count": 169,
   "metadata": {},
   "outputs": [
    {
     "name": "stdout",
     "output_type": "stream",
     "text": [
      "Train on 3200 samples, validate on 800 samples\n",
      "Epoch 1/100\n",
      "3200/3200 [==============================] - 3s 856us/step - loss: 9114.9161 - accuracy: 3.1250e-04 - val_loss: 8986.7647 - val_accuracy: 0.0000e+00\n",
      "Epoch 2/100\n",
      "3200/3200 [==============================] - 2s 488us/step - loss: 9082.1380 - accuracy: 3.1250e-04 - val_loss: 8980.5258 - val_accuracy: 0.0000e+00\n",
      "Epoch 3/100\n",
      "3200/3200 [==============================] - 2s 594us/step - loss: 9078.3561 - accuracy: 6.2500e-04 - val_loss: 8978.6206 - val_accuracy: 0.0000e+00\n",
      "Epoch 4/100\n",
      "3200/3200 [==============================] - 2s 591us/step - loss: 9077.6363 - accuracy: 3.1250e-04 - val_loss: 8976.9646 - val_accuracy: 0.0012\n",
      "Epoch 5/100\n",
      "3200/3200 [==============================] - 2s 548us/step - loss: 9076.7917 - accuracy: 6.2500e-04 - val_loss: 8977.6564 - val_accuracy: 0.0000e+00\n",
      "Epoch 6/100\n",
      "3200/3200 [==============================] - 2s 531us/step - loss: 9076.9489 - accuracy: 0.0000e+00 - val_loss: 8977.5746 - val_accuracy: 0.0025\n",
      "Epoch 7/100\n",
      "3200/3200 [==============================] - 2s 536us/step - loss: 9076.9982 - accuracy: 0.0012 - val_loss: 8977.2259 - val_accuracy: 0.0037\n",
      "Epoch 8/100\n",
      "3200/3200 [==============================] - 2s 546us/step - loss: 9076.7795 - accuracy: 3.1250e-04 - val_loss: 8976.3942 - val_accuracy: 0.0000e+00\n",
      "Epoch 9/100\n",
      "3200/3200 [==============================] - 2s 543us/step - loss: 9076.9123 - accuracy: 3.1250e-04 - val_loss: 8977.5955 - val_accuracy: 0.0000e+00\n",
      "Epoch 10/100\n",
      "3200/3200 [==============================] - 2s 639us/step - loss: 9076.6896 - accuracy: 3.1250e-04 - val_loss: 8977.8422 - val_accuracy: 0.0000e+00\n",
      "Epoch 11/100\n",
      "3200/3200 [==============================] - 2s 643us/step - loss: 9076.9261 - accuracy: 3.1250e-04 - val_loss: 8976.4425 - val_accuracy: 0.0012\n",
      "Epoch 12/100\n",
      "3200/3200 [==============================] - 2s 762us/step - loss: 9076.1930 - accuracy: 3.1250e-04 - val_loss: 8978.0657 - val_accuracy: 0.0000e+00\n",
      "Epoch 13/100\n",
      "3200/3200 [==============================] - 2s 778us/step - loss: 9077.3298 - accuracy: 3.1250e-04 - val_loss: 8976.9377 - val_accuracy: 0.0000e+00\n",
      "Epoch 14/100\n",
      "3200/3200 [==============================] - 3s 799us/step - loss: 9076.8836 - accuracy: 3.1250e-04 - val_loss: 8977.0659 - val_accuracy: 0.0000e+00\n",
      "Epoch 15/100\n",
      "3200/3200 [==============================] - 2s 608us/step - loss: 9076.1711 - accuracy: 0.0016 - val_loss: 8977.2414 - val_accuracy: 0.0000e+00\n",
      "Epoch 16/100\n",
      "3200/3200 [==============================] - 2s 627us/step - loss: 9076.1169 - accuracy: 3.1250e-04 - val_loss: 8976.9795 - val_accuracy: 0.0000e+00\n",
      "Epoch 17/100\n",
      "3200/3200 [==============================] - 2s 622us/step - loss: 9076.6197 - accuracy: 3.1250e-04 - val_loss: 8977.4988 - val_accuracy: 0.0000e+00\n",
      "Epoch 18/100\n",
      "3200/3200 [==============================] - 2s 688us/step - loss: 9076.4955 - accuracy: 0.0000e+00 - val_loss: 8977.4557 - val_accuracy: 0.0000e+00\n",
      "Epoch 19/100\n",
      "3200/3200 [==============================] - 2s 741us/step - loss: 9076.5667 - accuracy: 0.0019 - val_loss: 8976.6648 - val_accuracy: 0.0000e+00\n",
      "Epoch 20/100\n",
      "3200/3200 [==============================] - 2s 642us/step - loss: 9075.9380 - accuracy: 0.0012 - val_loss: 8977.9841 - val_accuracy: 0.0000e+00\n",
      "Epoch 21/100\n",
      "3200/3200 [==============================] - 2s 694us/step - loss: 9076.9365 - accuracy: 3.1250e-04 - val_loss: 8976.3299 - val_accuracy: 0.0000e+00\n",
      "Epoch 22/100\n",
      "3200/3200 [==============================] - 2s 612us/step - loss: 9076.2993 - accuracy: 6.2500e-04 - val_loss: 8976.7309 - val_accuracy: 0.0000e+00\n",
      "Epoch 23/100\n",
      "3200/3200 [==============================] - 2s 640us/step - loss: 9076.3200 - accuracy: 3.1250e-04 - val_loss: 8976.6166 - val_accuracy: 0.0012\n",
      "Epoch 24/100\n",
      "3200/3200 [==============================] - 2s 579us/step - loss: 9076.2049 - accuracy: 3.1250e-04 - val_loss: 8977.1872 - val_accuracy: 0.0012\n",
      "Epoch 25/100\n",
      "3200/3200 [==============================] - 2s 643us/step - loss: 9076.5231 - accuracy: 3.1250e-04 - val_loss: 8977.2131 - val_accuracy: 0.0000e+00\n",
      "Epoch 26/100\n",
      "3200/3200 [==============================] - 2s 618us/step - loss: 9076.2852 - accuracy: 0.0000e+00 - val_loss: 8976.9142 - val_accuracy: 0.0000e+00\n",
      "Epoch 27/100\n",
      "3200/3200 [==============================] - 2s 663us/step - loss: 9076.3985 - accuracy: 0.0000e+00 - val_loss: 8977.3593 - val_accuracy: 0.0000e+00\n",
      "Epoch 28/100\n",
      "3200/3200 [==============================] - 2s 474us/step - loss: 9076.3461 - accuracy: 0.0012 - val_loss: 8977.6238 - val_accuracy: 0.0012\n",
      "Epoch 29/100\n",
      "3200/3200 [==============================] - 2s 594us/step - loss: 9076.2676 - accuracy: 0.0012 - val_loss: 8976.8167 - val_accuracy: 0.0000e+00\n",
      "Epoch 30/100\n",
      "3200/3200 [==============================] - 2s 691us/step - loss: 9076.0795 - accuracy: 3.1250e-04 - val_loss: 8976.6331 - val_accuracy: 0.0000e+00\n",
      "Epoch 31/100\n",
      "3200/3200 [==============================] - 2s 510us/step - loss: 9076.0362 - accuracy: 6.2500e-04 - val_loss: 8978.0267 - val_accuracy: 0.0000e+00\n",
      "Epoch 32/100\n",
      "3200/3200 [==============================] - 2s 540us/step - loss: 9076.0937 - accuracy: 0.0012 - val_loss: 8976.8102 - val_accuracy: 0.0000e+00\n",
      "Epoch 33/100\n",
      "3200/3200 [==============================] - 2s 547us/step - loss: 9076.3383 - accuracy: 3.1250e-04 - val_loss: 8976.2811 - val_accuracy: 0.0000e+00\n",
      "Epoch 34/100\n",
      "3200/3200 [==============================] - 2s 496us/step - loss: 9076.4511 - accuracy: 6.2500e-04 - val_loss: 8976.8681 - val_accuracy: 0.0012\n",
      "Epoch 35/100\n",
      "3200/3200 [==============================] - 2s 604us/step - loss: 9076.2445 - accuracy: 0.0000e+00 - val_loss: 8976.9275 - val_accuracy: 0.0000e+00\n",
      "Epoch 36/100\n",
      "3200/3200 [==============================] - 2s 519us/step - loss: 9076.3984 - accuracy: 0.0000e+00 - val_loss: 8976.5514 - val_accuracy: 0.0000e+00\n",
      "Epoch 37/100\n",
      "3200/3200 [==============================] - 2s 551us/step - loss: 9075.8359 - accuracy: 9.3750e-04 - val_loss: 8976.2524 - val_accuracy: 0.0012\n",
      "Epoch 38/100\n",
      "3200/3200 [==============================] - 2s 524us/step - loss: 9076.2834 - accuracy: 6.2500e-04 - val_loss: 8976.3221 - val_accuracy: 0.0000e+00\n",
      "Epoch 39/100\n",
      "3200/3200 [==============================] - 2s 482us/step - loss: 9076.2168 - accuracy: 0.0000e+00 - val_loss: 8976.7898 - val_accuracy: 0.0000e+00\n",
      "Epoch 40/100\n",
      "3200/3200 [==============================] - 2s 495us/step - loss: 9076.3499 - accuracy: 9.3750e-04 - val_loss: 8977.3245 - val_accuracy: 0.0000e+00\n",
      "Epoch 41/100\n",
      "3200/3200 [==============================] - 2s 492us/step - loss: 9076.3255 - accuracy: 3.1250e-04 - val_loss: 8976.4763 - val_accuracy: 0.0000e+00\n",
      "Epoch 42/100\n",
      "3200/3200 [==============================] - 2s 535us/step - loss: 9076.5725 - accuracy: 9.3750e-04 - val_loss: 8976.8757 - val_accuracy: 0.0012\n",
      "Epoch 43/100\n",
      "3200/3200 [==============================] - 2s 561us/step - loss: 9076.0300 - accuracy: 0.0000e+00 - val_loss: 8976.5664 - val_accuracy: 0.0000e+00\n",
      "Epoch 44/100\n",
      "3200/3200 [==============================] - 1s 458us/step - loss: 9076.2475 - accuracy: 3.1250e-04 - val_loss: 8976.2208 - val_accuracy: 0.0000e+00\n",
      "Epoch 45/100\n",
      "3200/3200 [==============================] - 1s 463us/step - loss: 9075.9016 - accuracy: 9.3750e-04 - val_loss: 8976.8784 - val_accuracy: 0.0000e+00\n",
      "Epoch 46/100\n",
      "3200/3200 [==============================] - 2s 532us/step - loss: 9076.2655 - accuracy: 3.1250e-04 - val_loss: 8976.5298 - val_accuracy: 0.0000e+00\n",
      "Epoch 47/100\n",
      "3200/3200 [==============================] - 1s 466us/step - loss: 9076.4716 - accuracy: 9.3750e-04 - val_loss: 8976.6597 - val_accuracy: 0.0012\n",
      "Epoch 48/100\n",
      "3200/3200 [==============================] - 1s 448us/step - loss: 9076.3718 - accuracy: 3.1250e-04 - val_loss: 8976.6655 - val_accuracy: 0.0000e+00\n",
      "Epoch 49/100\n",
      "3200/3200 [==============================] - 1s 434us/step - loss: 9076.4873 - accuracy: 3.1250e-04 - val_loss: 8976.8659 - val_accuracy: 0.0000e+00\n",
      "Epoch 50/100\n",
      "3200/3200 [==============================] - 1s 454us/step - loss: 9076.2866 - accuracy: 9.3750e-04 - val_loss: 8977.2430 - val_accuracy: 0.0012\n",
      "Epoch 51/100\n",
      "3200/3200 [==============================] - 1s 455us/step - loss: 9076.8928 - accuracy: 9.3750e-04 - val_loss: 8977.5631 - val_accuracy: 0.0012\n",
      "Epoch 52/100\n",
      "3200/3200 [==============================] - 1s 468us/step - loss: 9076.3116 - accuracy: 3.1250e-04 - val_loss: 8976.3084 - val_accuracy: 0.0012\n",
      "Epoch 53/100\n",
      "3200/3200 [==============================] - 1s 461us/step - loss: 9076.3068 - accuracy: 3.1250e-04 - val_loss: 8976.4758 - val_accuracy: 0.0000e+00\n",
      "Epoch 54/100\n",
      "3200/3200 [==============================] - 1s 452us/step - loss: 9076.4117 - accuracy: 3.1250e-04 - val_loss: 8977.3771 - val_accuracy: 0.0012\n",
      "Epoch 55/100\n",
      "3200/3200 [==============================] - 1s 436us/step - loss: 9076.8166 - accuracy: 3.1250e-04 - val_loss: 8977.9391 - val_accuracy: 0.0012\n",
      "Epoch 56/100\n",
      "3200/3200 [==============================] - 1s 434us/step - loss: 9075.9987 - accuracy: 0.0019 - val_loss: 8977.1417 - val_accuracy: 0.0000e+00\n",
      "Epoch 57/100\n",
      "3200/3200 [==============================] - 1s 431us/step - loss: 9076.8350 - accuracy: 0.0012 - val_loss: 8976.5705 - val_accuracy: 0.0000e+00\n",
      "Epoch 58/100\n",
      "3200/3200 [==============================] - 1s 428us/step - loss: 9076.1265 - accuracy: 9.3750e-04 - val_loss: 8976.9073 - val_accuracy: 0.0000e+00\n",
      "Epoch 59/100\n",
      "3200/3200 [==============================] - 1s 429us/step - loss: 9076.8561 - accuracy: 6.2500e-04 - val_loss: 8976.6736 - val_accuracy: 0.0000e+00\n",
      "Epoch 60/100\n",
      "3200/3200 [==============================] - 1s 413us/step - loss: 9076.4078 - accuracy: 6.2500e-04 - val_loss: 8977.0029 - val_accuracy: 0.0025\n",
      "Epoch 61/100\n",
      "3200/3200 [==============================] - 1s 410us/step - loss: 9076.3308 - accuracy: 0.0012 - val_loss: 8976.6884 - val_accuracy: 0.0012\n",
      "Epoch 62/100\n",
      "3200/3200 [==============================] - 1s 420us/step - loss: 9076.1180 - accuracy: 9.3750e-04 - val_loss: 8976.6261 - val_accuracy: 0.0000e+00\n",
      "Epoch 63/100\n",
      "3200/3200 [==============================] - 1s 420us/step - loss: 9076.2612 - accuracy: 3.1250e-04 - val_loss: 8976.9654 - val_accuracy: 0.0000e+00\n",
      "Epoch 64/100\n",
      "3200/3200 [==============================] - 1s 406us/step - loss: 9076.5777 - accuracy: 6.2500e-04 - val_loss: 8977.2368 - val_accuracy: 0.0000e+00\n",
      "Epoch 65/100\n",
      "3200/3200 [==============================] - 1s 418us/step - loss: 9076.1848 - accuracy: 9.3750e-04 - val_loss: 8976.9520 - val_accuracy: 0.0000e+00\n",
      "Epoch 66/100\n",
      "3200/3200 [==============================] - 1s 420us/step - loss: 9076.1012 - accuracy: 0.0000e+00 - val_loss: 8977.0810 - val_accuracy: 0.0012\n",
      "Epoch 67/100\n",
      "3200/3200 [==============================] - 1s 419us/step - loss: 9076.2642 - accuracy: 3.1250e-04 - val_loss: 8976.3028 - val_accuracy: 0.0012\n",
      "Epoch 68/100\n",
      "3200/3200 [==============================] - 1s 394us/step - loss: 9075.9081 - accuracy: 9.3750e-04 - val_loss: 8976.8536 - val_accuracy: 0.0000e+00\n",
      "Epoch 69/100\n",
      "3200/3200 [==============================] - 1s 401us/step - loss: 9076.1509 - accuracy: 3.1250e-04 - val_loss: 8976.7618 - val_accuracy: 0.0000e+00\n",
      "Epoch 70/100\n",
      "3200/3200 [==============================] - 1s 403us/step - loss: 9076.2561 - accuracy: 0.0025 - val_loss: 8977.5522 - val_accuracy: 0.0000e+00\n",
      "Epoch 71/100\n",
      "3200/3200 [==============================] - 1s 400us/step - loss: 9076.5911 - accuracy: 6.2500e-04 - val_loss: 8976.9025 - val_accuracy: 0.0000e+00\n",
      "Epoch 72/100\n",
      "3200/3200 [==============================] - 1s 394us/step - loss: 9076.3970 - accuracy: 0.0012 - val_loss: 8976.5892 - val_accuracy: 0.0000e+00\n",
      "Epoch 73/100\n",
      "3200/3200 [==============================] - 1s 402us/step - loss: 9076.2427 - accuracy: 6.2500e-04 - val_loss: 8976.7529 - val_accuracy: 0.0025\n",
      "Epoch 74/100\n",
      "3200/3200 [==============================] - 1s 394us/step - loss: 9076.1130 - accuracy: 3.1250e-04 - val_loss: 8976.8867 - val_accuracy: 0.0000e+00\n",
      "Epoch 75/100\n",
      "3200/3200 [==============================] - 1s 410us/step - loss: 9076.3769 - accuracy: 0.0000e+00 - val_loss: 8977.9952 - val_accuracy: 0.0012\n",
      "Epoch 76/100\n",
      "3200/3200 [==============================] - 1s 402us/step - loss: 9076.4760 - accuracy: 3.1250e-04 - val_loss: 8976.4638 - val_accuracy: 0.0012\n",
      "Epoch 77/100\n",
      "3200/3200 [==============================] - 1s 399us/step - loss: 9076.5527 - accuracy: 6.2500e-04 - val_loss: 8976.4884 - val_accuracy: 0.0050\n",
      "Epoch 78/100\n",
      "3200/3200 [==============================] - 1s 402us/step - loss: 9076.4746 - accuracy: 9.3750e-04 - val_loss: 8976.8202 - val_accuracy: 0.0000e+00\n",
      "Epoch 79/100\n",
      "3200/3200 [==============================] - 1s 402us/step - loss: 9076.1211 - accuracy: 3.1250e-04 - val_loss: 8977.6167 - val_accuracy: 0.0012\n",
      "Epoch 80/100\n",
      "3200/3200 [==============================] - 1s 399us/step - loss: 9076.4397 - accuracy: 9.3750e-04 - val_loss: 8977.6145 - val_accuracy: 0.0012\n",
      "Epoch 81/100\n",
      "3200/3200 [==============================] - 1s 453us/step - loss: 9076.3337 - accuracy: 3.1250e-04 - val_loss: 8977.5362 - val_accuracy: 0.0012\n",
      "Epoch 82/100\n",
      "3200/3200 [==============================] - 1s 402us/step - loss: 9076.8830 - accuracy: 0.0012 - val_loss: 8976.8738 - val_accuracy: 0.0000e+00\n",
      "Epoch 83/100\n",
      "3200/3200 [==============================] - 1s 395us/step - loss: 9075.7740 - accuracy: 0.0016 - val_loss: 8976.4810 - val_accuracy: 0.0012\n",
      "Epoch 84/100\n",
      "3200/3200 [==============================] - 1s 400us/step - loss: 9076.0413 - accuracy: 9.3750e-04 - val_loss: 8976.8916 - val_accuracy: 0.0000e+00\n",
      "Epoch 85/100\n",
      "3200/3200 [==============================] - 1s 399us/step - loss: 9075.8153 - accuracy: 6.2500e-04 - val_loss: 8976.1347 - val_accuracy: 0.0000e+00\n",
      "Epoch 86/100\n",
      "3200/3200 [==============================] - 1s 406us/step - loss: 9076.2743 - accuracy: 0.0000e+00 - val_loss: 8976.5898 - val_accuracy: 0.0000e+00\n",
      "Epoch 87/100\n",
      "3200/3200 [==============================] - 1s 465us/step - loss: 9076.6510 - accuracy: 0.0012 - val_loss: 8977.2334 - val_accuracy: 0.0000e+00\n",
      "Epoch 88/100\n",
      "3200/3200 [==============================] - 1s 418us/step - loss: 9076.3555 - accuracy: 0.0022 - val_loss: 8977.1168 - val_accuracy: 0.0000e+00\n",
      "Epoch 89/100\n",
      "3200/3200 [==============================] - 1s 414us/step - loss: 9076.3074 - accuracy: 9.3750e-04 - val_loss: 8977.3982 - val_accuracy: 0.0012\n",
      "Epoch 90/100\n",
      "3200/3200 [==============================] - 1s 420us/step - loss: 9075.9457 - accuracy: 3.1250e-04 - val_loss: 8976.9064 - val_accuracy: 0.0012\n",
      "Epoch 91/100\n",
      "3200/3200 [==============================] - 1s 421us/step - loss: 9076.6236 - accuracy: 6.2500e-04 - val_loss: 8976.7121 - val_accuracy: 0.0000e+00\n",
      "Epoch 92/100\n",
      "3200/3200 [==============================] - 1s 418us/step - loss: 9076.3370 - accuracy: 0.0022 - val_loss: 8977.2053 - val_accuracy: 0.0000e+00\n",
      "Epoch 93/100\n",
      "3200/3200 [==============================] - 1s 423us/step - loss: 9076.0857 - accuracy: 0.0000e+00 - val_loss: 8976.1020 - val_accuracy: 0.0000e+00\n",
      "Epoch 94/100\n",
      "3200/3200 [==============================] - 1s 442us/step - loss: 9075.9317 - accuracy: 3.1250e-04 - val_loss: 8976.3001 - val_accuracy: 0.0000e+00\n",
      "Epoch 95/100\n",
      "3200/3200 [==============================] - 1s 427us/step - loss: 9076.3305 - accuracy: 0.0016 - val_loss: 8976.1403 - val_accuracy: 0.0000e+00\n",
      "Epoch 96/100\n",
      "3200/3200 [==============================] - 1s 440us/step - loss: 9076.3919 - accuracy: 0.0000e+00 - val_loss: 8976.5088 - val_accuracy: 0.0025\n",
      "Epoch 97/100\n",
      "3200/3200 [==============================] - 2s 483us/step - loss: 9076.1444 - accuracy: 0.0012 - val_loss: 8977.8226 - val_accuracy: 0.0012\n",
      "Epoch 98/100\n",
      "3200/3200 [==============================] - 2s 511us/step - loss: 9076.6877 - accuracy: 3.1250e-04 - val_loss: 8977.3757 - val_accuracy: 0.0000e+00\n",
      "Epoch 99/100\n",
      "3200/3200 [==============================] - 2s 526us/step - loss: 9076.1470 - accuracy: 3.1250e-04 - val_loss: 8978.2470 - val_accuracy: 0.0000e+00\n",
      "Epoch 100/100\n",
      "3200/3200 [==============================] - 2s 522us/step - loss: 9076.3115 - accuracy: 9.3750e-04 - val_loss: 8976.5201 - val_accuracy: 0.0000e+00\n",
      "CPU times: user 8min 10s, sys: 2min 52s, total: 11min 3s\n",
      "Wall time: 2min 50s\n"
     ]
    }
   ],
   "source": [
    "%%time\n",
    "\n",
    "# history = model.fit(train_X, train_y, epochs=100, validation_split=0.2, verbose=1, batch_size=128)\n",
    "history = model.fit(train, target, epochs=100, validation_split=0.2, verbose=1, batch_size=128)"
   ]
  },
  {
   "cell_type": "code",
   "execution_count": 158,
   "metadata": {},
   "outputs": [
    {
     "ename": "ValueError",
     "evalue": "This model has not yet been built. Build the model first by calling build() or calling fit() with some data. Or specify input_shape or batch_input_shape in the first layer for automatic build. ",
     "output_type": "error",
     "traceback": [
      "\u001b[0;31m---------------------------------------------------------------------------\u001b[0m",
      "\u001b[0;31mValueError\u001b[0m                                Traceback (most recent call last)",
      "\u001b[0;32m<ipython-input-158-5f15418b3570>\u001b[0m in \u001b[0;36m<module>\u001b[0;34m\u001b[0m\n\u001b[0;32m----> 1\u001b[0;31m \u001b[0mmodel\u001b[0m\u001b[0;34m.\u001b[0m\u001b[0msummary\u001b[0m\u001b[0;34m(\u001b[0m\u001b[0;34m)\u001b[0m\u001b[0;34m\u001b[0m\u001b[0;34m\u001b[0m\u001b[0m\n\u001b[0m",
      "\u001b[0;32m~/PycharmProjects/cv_projects/venv/lib/python3.7/site-packages/keras/engine/network.py\u001b[0m in \u001b[0;36msummary\u001b[0;34m(self, line_length, positions, print_fn)\u001b[0m\n\u001b[1;32m   1318\u001b[0m         \u001b[0;32mif\u001b[0m \u001b[0;32mnot\u001b[0m \u001b[0mself\u001b[0m\u001b[0;34m.\u001b[0m\u001b[0mbuilt\u001b[0m\u001b[0;34m:\u001b[0m\u001b[0;34m\u001b[0m\u001b[0;34m\u001b[0m\u001b[0m\n\u001b[1;32m   1319\u001b[0m             raise ValueError(\n\u001b[0;32m-> 1320\u001b[0;31m                 \u001b[0;34m'This model has not yet been built. '\u001b[0m\u001b[0;34m\u001b[0m\u001b[0;34m\u001b[0m\u001b[0m\n\u001b[0m\u001b[1;32m   1321\u001b[0m                 \u001b[0;34m'Build the model first by calling build() '\u001b[0m\u001b[0;34m\u001b[0m\u001b[0;34m\u001b[0m\u001b[0m\n\u001b[1;32m   1322\u001b[0m                 \u001b[0;34m'or calling fit() with some data. '\u001b[0m\u001b[0;34m\u001b[0m\u001b[0;34m\u001b[0m\u001b[0m\n",
      "\u001b[0;31mValueError\u001b[0m: This model has not yet been built. Build the model first by calling build() or calling fit() with some data. Or specify input_shape or batch_input_shape in the first layer for automatic build. "
     ]
    }
   ],
   "source": [
    "model.summary()"
   ]
  },
  {
   "cell_type": "code",
   "execution_count": null,
   "metadata": {},
   "outputs": [],
   "source": []
  },
  {
   "cell_type": "code",
   "execution_count": null,
   "metadata": {},
   "outputs": [],
   "source": []
  },
  {
   "cell_type": "code",
   "execution_count": null,
   "metadata": {},
   "outputs": [],
   "source": []
  },
  {
   "cell_type": "code",
   "execution_count": null,
   "metadata": {},
   "outputs": [],
   "source": []
  },
  {
   "cell_type": "code",
   "execution_count": null,
   "metadata": {},
   "outputs": [],
   "source": []
  },
  {
   "cell_type": "code",
   "execution_count": null,
   "metadata": {},
   "outputs": [],
   "source": []
  },
  {
   "cell_type": "code",
   "execution_count": null,
   "metadata": {},
   "outputs": [],
   "source": []
  },
  {
   "cell_type": "code",
   "execution_count": null,
   "metadata": {},
   "outputs": [],
   "source": []
  },
  {
   "cell_type": "code",
   "execution_count": null,
   "metadata": {},
   "outputs": [],
   "source": []
  },
  {
   "cell_type": "code",
   "execution_count": null,
   "metadata": {},
   "outputs": [],
   "source": []
  },
  {
   "cell_type": "code",
   "execution_count": null,
   "metadata": {},
   "outputs": [],
   "source": []
  },
  {
   "cell_type": "code",
   "execution_count": null,
   "metadata": {},
   "outputs": [],
   "source": []
  },
  {
   "cell_type": "code",
   "execution_count": null,
   "metadata": {},
   "outputs": [],
   "source": []
  },
  {
   "cell_type": "code",
   "execution_count": null,
   "metadata": {},
   "outputs": [],
   "source": []
  },
  {
   "cell_type": "code",
   "execution_count": null,
   "metadata": {},
   "outputs": [],
   "source": []
  },
  {
   "cell_type": "code",
   "execution_count": null,
   "metadata": {},
   "outputs": [],
   "source": []
  },
  {
   "cell_type": "code",
   "execution_count": null,
   "metadata": {},
   "outputs": [],
   "source": []
  },
  {
   "cell_type": "code",
   "execution_count": null,
   "metadata": {},
   "outputs": [],
   "source": []
  },
  {
   "cell_type": "code",
   "execution_count": null,
   "metadata": {},
   "outputs": [],
   "source": []
  },
  {
   "cell_type": "code",
   "execution_count": null,
   "metadata": {},
   "outputs": [],
   "source": []
  },
  {
   "cell_type": "code",
   "execution_count": null,
   "metadata": {},
   "outputs": [],
   "source": []
  },
  {
   "cell_type": "code",
   "execution_count": null,
   "metadata": {},
   "outputs": [],
   "source": []
  },
  {
   "cell_type": "code",
   "execution_count": null,
   "metadata": {},
   "outputs": [],
   "source": []
  },
  {
   "cell_type": "code",
   "execution_count": null,
   "metadata": {},
   "outputs": [],
   "source": []
  },
  {
   "cell_type": "code",
   "execution_count": null,
   "metadata": {},
   "outputs": [],
   "source": []
  }
 ],
 "metadata": {
  "kernelspec": {
   "display_name": "Python 3",
   "language": "python",
   "name": "python3"
  },
  "language_info": {
   "codemirror_mode": {
    "name": "ipython",
    "version": 3
   },
   "file_extension": ".py",
   "mimetype": "text/x-python",
   "name": "python",
   "nbconvert_exporter": "python",
   "pygments_lexer": "ipython3",
   "version": "3.7.4"
  }
 },
 "nbformat": 4,
 "nbformat_minor": 4
}
